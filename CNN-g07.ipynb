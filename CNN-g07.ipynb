{
 "cells": [
  {
   "cell_type": "code",
   "execution_count": 15,
   "metadata": {
    "tags": []
   },
   "outputs": [
    {
     "name": "stdout",
     "output_type": "stream",
     "text": [
      "Defaulting to user installation because normal site-packages is not writeable\n",
      "Requirement already satisfied: pip in /home/jovyan/.local/lib/python3.8/site-packages (24.3.1)\n",
      "Defaulting to user installation because normal site-packages is not writeable\n",
      "Requirement already satisfied: numpy in /usr/local/lib/python3.8/dist-packages (1.23.1)\n",
      "Requirement already satisfied: matplotlib in /usr/local/lib/python3.8/dist-packages (3.7.5)\n",
      "Requirement already satisfied: keras in /home/jovyan/.local/lib/python3.8/site-packages (2.13.1)\n",
      "Requirement already satisfied: tensorflow[and-cuda] in /home/jovyan/.local/lib/python3.8/site-packages (2.13.1)\n",
      "Requirement already satisfied: contourpy>=1.0.1 in /usr/local/lib/python3.8/dist-packages (from matplotlib) (1.1.1)\n",
      "Requirement already satisfied: cycler>=0.10 in /usr/lib/python3/dist-packages (from matplotlib) (0.10.0)\n",
      "Requirement already satisfied: fonttools>=4.22.0 in /usr/local/lib/python3.8/dist-packages (from matplotlib) (4.51.0)\n",
      "Requirement already satisfied: kiwisolver>=1.0.1 in /usr/lib/python3/dist-packages (from matplotlib) (1.0.1)\n",
      "Requirement already satisfied: packaging>=20.0 in /usr/local/lib/python3.8/dist-packages (from matplotlib) (24.0)\n",
      "Requirement already satisfied: pillow>=6.2.0 in /usr/local/lib/python3.8/dist-packages (from matplotlib) (10.3.0)\n",
      "Requirement already satisfied: pyparsing>=2.3.1 in /usr/local/lib/python3.8/dist-packages (from matplotlib) (3.1.2)\n",
      "Requirement already satisfied: python-dateutil>=2.7 in /usr/local/lib/python3.8/dist-packages (from matplotlib) (2.9.0.post0)\n",
      "Requirement already satisfied: importlib-resources>=3.2.0 in /usr/local/lib/python3.8/dist-packages (from matplotlib) (6.4.0)\n"
     ]
    },
    {
     "name": "stderr",
     "output_type": "stream",
     "text": [
      "\u001b[33mWARNING: tensorflow 2.13.1 does not provide the extra 'and-cuda'\u001b[0m\u001b[33m\n"
     ]
    },
    {
     "name": "stdout",
     "output_type": "stream",
     "text": [
      "Requirement already satisfied: absl-py>=1.0.0 in /usr/local/lib/python3.8/dist-packages (from tensorflow[and-cuda]) (2.1.0)\n",
      "Requirement already satisfied: astunparse>=1.6.0 in /usr/local/lib/python3.8/dist-packages (from tensorflow[and-cuda]) (1.6.3)\n",
      "Requirement already satisfied: flatbuffers>=23.1.21 in /usr/local/lib/python3.8/dist-packages (from tensorflow[and-cuda]) (24.3.25)\n",
      "Requirement already satisfied: gast<=0.4.0,>=0.2.1 in /usr/local/lib/python3.8/dist-packages (from tensorflow[and-cuda]) (0.4.0)\n",
      "Requirement already satisfied: google-pasta>=0.1.1 in /usr/local/lib/python3.8/dist-packages (from tensorflow[and-cuda]) (0.2.0)\n",
      "Requirement already satisfied: grpcio<2.0,>=1.24.3 in /usr/local/lib/python3.8/dist-packages (from tensorflow[and-cuda]) (1.62.2)\n",
      "Requirement already satisfied: h5py>=2.9.0 in /usr/local/lib/python3.8/dist-packages (from tensorflow[and-cuda]) (3.11.0)\n",
      "Requirement already satisfied: libclang>=13.0.0 in /usr/local/lib/python3.8/dist-packages (from tensorflow[and-cuda]) (18.1.1)\n",
      "Requirement already satisfied: opt-einsum>=2.3.2 in /usr/local/lib/python3.8/dist-packages (from tensorflow[and-cuda]) (3.3.0)\n",
      "Requirement already satisfied: protobuf!=4.21.0,!=4.21.1,!=4.21.2,!=4.21.3,!=4.21.4,!=4.21.5,<5.0.0dev,>=3.20.3 in /home/jovyan/.local/lib/python3.8/site-packages (from tensorflow[and-cuda]) (4.25.5)\n",
      "Requirement already satisfied: setuptools in /usr/local/lib/python3.8/dist-packages (from tensorflow[and-cuda]) (69.5.1)\n",
      "Requirement already satisfied: six>=1.12.0 in /usr/lib/python3/dist-packages (from tensorflow[and-cuda]) (1.14.0)\n",
      "Requirement already satisfied: tensorboard<2.14,>=2.13 in /home/jovyan/.local/lib/python3.8/site-packages (from tensorflow[and-cuda]) (2.13.0)\n",
      "Requirement already satisfied: tensorflow-estimator<2.14,>=2.13.0 in /home/jovyan/.local/lib/python3.8/site-packages (from tensorflow[and-cuda]) (2.13.0)\n",
      "Requirement already satisfied: termcolor>=1.1.0 in /usr/local/lib/python3.8/dist-packages (from tensorflow[and-cuda]) (2.4.0)\n",
      "Requirement already satisfied: typing-extensions<4.6.0,>=3.6.6 in /home/jovyan/.local/lib/python3.8/site-packages (from tensorflow[and-cuda]) (4.5.0)\n",
      "Requirement already satisfied: wrapt>=1.11.0 in /usr/local/lib/python3.8/dist-packages (from tensorflow[and-cuda]) (1.16.0)\n",
      "Requirement already satisfied: tensorflow-io-gcs-filesystem>=0.23.1 in /usr/local/lib/python3.8/dist-packages (from tensorflow[and-cuda]) (0.34.0)\n",
      "Requirement already satisfied: wheel<1.0,>=0.23.0 in /usr/local/lib/python3.8/dist-packages (from astunparse>=1.6.0->tensorflow[and-cuda]) (0.43.0)\n",
      "Requirement already satisfied: zipp>=3.1.0 in /usr/local/lib/python3.8/dist-packages (from importlib-resources>=3.2.0->matplotlib) (3.18.1)\n",
      "Requirement already satisfied: google-auth<3,>=1.6.3 in /usr/local/lib/python3.8/dist-packages (from tensorboard<2.14,>=2.13->tensorflow[and-cuda]) (2.29.0)\n",
      "Requirement already satisfied: google-auth-oauthlib<1.1,>=0.5 in /home/jovyan/.local/lib/python3.8/site-packages (from tensorboard<2.14,>=2.13->tensorflow[and-cuda]) (1.0.0)\n",
      "Requirement already satisfied: markdown>=2.6.8 in /usr/local/lib/python3.8/dist-packages (from tensorboard<2.14,>=2.13->tensorflow[and-cuda]) (3.6)\n",
      "Requirement already satisfied: requests<3,>=2.21.0 in /usr/local/lib/python3.8/dist-packages (from tensorboard<2.14,>=2.13->tensorflow[and-cuda]) (2.31.0)\n",
      "Requirement already satisfied: tensorboard-data-server<0.8.0,>=0.7.0 in /home/jovyan/.local/lib/python3.8/site-packages (from tensorboard<2.14,>=2.13->tensorflow[and-cuda]) (0.7.2)\n",
      "Requirement already satisfied: werkzeug>=1.0.1 in /usr/local/lib/python3.8/dist-packages (from tensorboard<2.14,>=2.13->tensorflow[and-cuda]) (3.0.2)\n",
      "Requirement already satisfied: cachetools<6.0,>=2.0.0 in /usr/local/lib/python3.8/dist-packages (from google-auth<3,>=1.6.3->tensorboard<2.14,>=2.13->tensorflow[and-cuda]) (5.3.3)\n",
      "Requirement already satisfied: pyasn1-modules>=0.2.1 in /usr/lib/python3/dist-packages (from google-auth<3,>=1.6.3->tensorboard<2.14,>=2.13->tensorflow[and-cuda]) (0.2.1)\n",
      "Requirement already satisfied: rsa<5,>=3.1.4 in /usr/local/lib/python3.8/dist-packages (from google-auth<3,>=1.6.3->tensorboard<2.14,>=2.13->tensorflow[and-cuda]) (4.9)\n",
      "Requirement already satisfied: requests-oauthlib>=0.7.0 in /usr/local/lib/python3.8/dist-packages (from google-auth-oauthlib<1.1,>=0.5->tensorboard<2.14,>=2.13->tensorflow[and-cuda]) (2.0.0)\n",
      "Requirement already satisfied: importlib-metadata>=4.4 in /usr/local/lib/python3.8/dist-packages (from markdown>=2.6.8->tensorboard<2.14,>=2.13->tensorflow[and-cuda]) (7.1.0)\n",
      "Requirement already satisfied: charset-normalizer<4,>=2 in /usr/local/lib/python3.8/dist-packages (from requests<3,>=2.21.0->tensorboard<2.14,>=2.13->tensorflow[and-cuda]) (3.3.2)\n",
      "Requirement already satisfied: idna<4,>=2.5 in /usr/lib/python3/dist-packages (from requests<3,>=2.21.0->tensorboard<2.14,>=2.13->tensorflow[and-cuda]) (2.8)\n",
      "Requirement already satisfied: urllib3<3,>=1.21.1 in /usr/lib/python3/dist-packages (from requests<3,>=2.21.0->tensorboard<2.14,>=2.13->tensorflow[and-cuda]) (1.25.8)\n",
      "Requirement already satisfied: certifi>=2017.4.17 in /usr/lib/python3/dist-packages (from requests<3,>=2.21.0->tensorboard<2.14,>=2.13->tensorflow[and-cuda]) (2019.11.28)\n",
      "Requirement already satisfied: MarkupSafe>=2.1.1 in /usr/local/lib/python3.8/dist-packages (from werkzeug>=1.0.1->tensorboard<2.14,>=2.13->tensorflow[and-cuda]) (2.1.5)\n",
      "Requirement already satisfied: oauthlib>=3.0.0 in /usr/local/lib/python3.8/dist-packages (from requests-oauthlib>=0.7.0->google-auth-oauthlib<1.1,>=0.5->tensorboard<2.14,>=2.13->tensorflow[and-cuda]) (3.2.2)\n",
      "Requirement already satisfied: pyasn1>=0.1.3 in /usr/lib/python3/dist-packages (from rsa<5,>=3.1.4->google-auth<3,>=1.6.3->tensorboard<2.14,>=2.13->tensorflow[and-cuda]) (0.4.2)\n"
     ]
    },
    {
     "name": "stderr",
     "output_type": "stream",
     "text": [
      "\u001b[0m"
     ]
    }
   ],
   "source": [
    "%%bash\n",
    "# create virtual environment, activate it and install packages.\n",
    "pip install --upgrade pip\n",
    "pip install numpy matplotlib keras tensorflow[and-cuda]"
   ]
  },
  {
   "cell_type": "code",
   "execution_count": 20,
   "metadata": {
    "tags": []
   },
   "outputs": [],
   "source": [
    "import matplotlib.pyplot as plt\n",
    "import numpy as np\n",
    "from keras.datasets import cifar10\n",
    "from keras.layers import Conv2D, MaxPooling2D, GlobalAveragePooling2D, Dense, Flatten, BatchNormalization, Add\n",
    "from keras.activations import relu\n",
    "from keras.models import Sequential\n",
    "from keras.utils import to_categorical\n",
    "from keras.regularizers import l2\n",
    "from tensorflow.keras.callbacks import ModelCheckpoint, EarlyStopping, LearningRateScheduler\n",
    "from keras.models import Model\n",
    "from keras.optimizers import Adam, SGD"
   ]
  },
  {
   "cell_type": "code",
   "execution_count": 5,
   "metadata": {
    "tags": []
   },
   "outputs": [
    {
     "name": "stdout",
     "output_type": "stream",
     "text": [
      "(50000, 32, 32, 3)\n"
     ]
    }
   ],
   "source": [
    "#CIFAR-10 dataset\n",
    "(train_images, train_labels), (test_images, test_labels) = cifar10.load_data()\n",
    "print(train_images.shape)\n",
    "train_images = train_images.reshape(train_images.shape[0], 32, 32, 3) #ensure shape 32 W x 32 H x 3 channels for each image\n",
    "test_images = test_images.reshape(test_images.shape[0], 32, 32, 3)\n",
    "\n",
    "#range 0-1\n",
    "train_images = train_images.astype('float32') / 255.0\n",
    "test_images = test_images.astype('float32') / 255.0\n",
    "\n",
    "#One-hot encoding labels\n",
    "train_labels = to_categorical(train_labels, 10)\n",
    "test_labels = to_categorical(test_labels, 10)"
   ]
  },
  {
   "cell_type": "code",
   "execution_count": 18,
   "metadata": {
    "tags": []
   },
   "outputs": [],
   "source": [
    "\n",
    "#1st try LeNet-5 with batch normalization and l2 regularization - about 0.66 test validation with 0.0001 lambda and 0.001 le, I believe\n",
    "'''\n",
    "checkpoint_callback = ModelCheckpoint(\n",
    "    filepath='best_weights.h5',\n",
    "    monitor='val_accuracy',              \n",
    "    save_best_only=True,                 \n",
    "    mode='max',  # Mode for monitoring, 'max' for accuracy\n",
    "    verbose=1                        \n",
    ")\n",
    "'''\n",
    "\"\"\"\n",
    "model = Sequential()\n",
    "l2_lambda = 0.0001\n",
    "model.add(Conv2D(6, kernel_size=(5, 5), activation='relu', input_shape=(32, 32, 3), kernel_regularizer=l2(l2_lambda))) #C1\n",
    "model.add(BatchNormalization())\n",
    "model.add(MaxPooling2D(pool_size=(2, 2))) #S1\n",
    "model.add(Conv2D(16, kernel_size=(5, 5), activation='relu', kernel_regularizer=l2(l2_lambda))) #C2\n",
    "model.add(BatchNormalization())\n",
    "model.add(MaxPooling2D(pool_size=(2, 2))) #S2\n",
    "model.add(Flatten())\n",
    "model.add(Dense(120, activation='relu', kernel_regularizer=l2(l2_lambda)))  # FC1\n",
    "model.add(Dense(84, activation='relu', kernel_regularizer=l2(l2_lambda)))  # FC2\n",
    "model.add(Dense(10, activation='softmax', kernel_regularizer=l2(l2_lambda)))  # FC3\n",
    "#model.summary()\n",
    " \"\"\"\n",
    "\n",
    "#currently trying ResNet18, according to paper: https://arxiv.org/pdf/1512.03385.pdf\n",
    "class ResNetBlock(Model): #inherits from Model class\n",
    "    def __init__(self, n_filters, kernel_size = (3, 3), kernel_init = 'HeNormal', downsample=False, **kwargs):\n",
    "        super().__init__(**kwargs)\n",
    "        self.downsample = downsample\n",
    "        self.kernel_size = kernel_size\n",
    "        self.n_filters = n_filters\n",
    "        self.strides = [2, 1] if downsample else [1, 1] \n",
    "        self.kernel_init = kernel_init\n",
    "    \n",
    "        self.conv1 = Conv2D(self.n_filters, self.kernel_size, strides=self.strides[0], padding='same', activation='relu',\n",
    "                             kernel_initializer=self.kernel_init)\n",
    "        self.bn1 = BatchNormalization() # batch normalization after every convolutional layer\n",
    "        self.conv2 = Conv2D(self.n_filters, self.kernel_size, strides=self.strides[1], padding='same', activation='relu',\n",
    "                             kernel_initializer=self.kernel_init)\n",
    "        self.bn2 = BatchNormalization()\n",
    "        \n",
    "        if self.downsample: # the shortcut connection should also match the dimensions (convolution with a (1,1) kernel and stride of 2)\n",
    "            self.residual_conv = Conv2D(filters=self.n_filters, strides=2, kernel_size=(1, 1), kernel_initializer=self.kernel_init, padding=\"same\")\n",
    "            self.residual_bn = BatchNormalization()\n",
    "        \n",
    "        self.add = Add()\n",
    "\n",
    "    \n",
    "    def call(self, inputs): #forward pass (overriding parent class)\n",
    "        x = self.conv1(inputs)\n",
    "        x = self.bn1(x)\n",
    "        x = self.conv2(x)\n",
    "        x = self.bn2(x)\n",
    "        \n",
    "        if self.downsample: \n",
    "            res = self.residual_conv(inputs)\n",
    "            res = self.residual_bn(res)\n",
    "        else:\n",
    "            res = inputs #no need to change dimensions\n",
    "        \n",
    "        x = self.add([x, res]) #merge block output with shortcut connection (residual path)\n",
    "        # pretty much same as x + residual, simply adding the two tensors\n",
    "        out = relu(x)\n",
    "        return out \n",
    "    \n",
    "class ResNet18(Model):\n",
    "    def __init__(self, n_classes=10, **kwargs): #default 10 classes for CIFAR-10\n",
    "        super().__init__(**kwargs)\n",
    "        self.n_classes = n_classes\n",
    "\n",
    "        #initial part\n",
    "        self.conv1 = Conv2D(kernel_size=(3, 3), strides=1, filters=64, padding='same', activation='relu',\n",
    "                            kernel_initializer='HeNormal')\n",
    "        self.bn1 = BatchNormalization()\n",
    "        \n",
    "        #blocks -> 2 x 2 blocks x 4 stages conv layers\n",
    "        # \"Downsampling is performed by conv3 1, conv4 1, and conv5 1 with a stride of 2.\"\n",
    "        #self.pool1 = MaxPooling2D(pool_size=(3, 3), strides=2, padding='same') -> removing this for cifar-10 \n",
    "        self.conv2_1 = ResNetBlock(n_filters=64) #conv2_x blocks have no downsampling\n",
    "        self.conv2_2 = ResNetBlock(n_filters=64)\n",
    "\n",
    "        self.conv3_1 = ResNetBlock(n_filters=128, downsample=True) #<-\n",
    "        self.conv3_2 = ResNetBlock(n_filters=128)\n",
    "\n",
    "        self.conv4_1 = ResNetBlock(n_filters=256, downsample=True) #<-\n",
    "        self.conv4_2 = ResNetBlock(n_filters=256)\n",
    "        \n",
    "        self.conv5_1 = ResNetBlock(n_filters=512, downsample=True) #<-\n",
    "        self.conv5_2 = ResNetBlock(n_filters=512)\n",
    "\n",
    "        #final part\n",
    "        self.avg_pool = GlobalAveragePooling2D()\n",
    "        self.fc = Dense(self.n_classes, activation='softmax')\n",
    "\n",
    "    def call(self, inputs): #forward pass\n",
    "        x = self.conv1(inputs)\n",
    "        x = self.bn1(x)\n",
    "        #x = self.pool1(x)\n",
    "        for block in [self.conv2_1, self.conv2_2, self.conv3_1, self.conv3_2, self.conv4_1, self.conv4_2, self.conv5_1, self.conv5_2]:\n",
    "            x = block(x)\n",
    "        x = self.avg_pool(x)\n",
    "        out = self.fc(x)\n",
    "        return out  "
   ]
  },
  {
   "cell_type": "code",
   "execution_count": null,
   "metadata": {
    "tags": []
   },
   "outputs": [],
   "source": [
    "model = ResNet18(10)\n",
    "model.build(input_shape=(None, 32, 32, 3)) #Cifar-10\n",
    "#optimizer = Adam(learning_rate=1e-2)\n",
    "opt = SGD(learning_rate=0.1, momentum=0.9, decay=1e-4)\n",
    "model.compile(optimizer=opt, loss='categorical_crossentropy', metrics=['accuracy'])\n",
    "\n",
    "\n",
    "es = EarlyStopping(patience=10, restore_best_weights=True, monitor=\"val_accuracy\")\n",
    "def lr_schedule(epoch, lr):\n",
    "     if epoch < 30:\n",
    "        return lr\n",
    "     else:\n",
    "        new_lr = lr*0.1**(epoch//20)\n",
    "        print(\"Learning rate is\", new_lr)\n",
    "        return new_lr\n",
    "lr_scheduler = LearningRateScheduler(lr_schedule)\n",
    "\n",
    "history = model.fit(train_images,\n",
    "           train_labels,\n",
    "           batch_size=128,\n",
    "           epochs=120,\n",
    "           verbose=1,\n",
    "           validation_data=(test_images, test_labels),\n",
    "           callbacks=[es, lr_scheduler])\n",
    "\n",
    "print(\"Best inference accuracy, after early stopping:\")\n",
    "model.evaluate(test_images, test_labels)\n",
    "model.save_weights(\"model.weights.h5\")\n",
    "model.summary()"
   ]
  }
 ],
 "metadata": {
  "kernelspec": {
   "display_name": "Python",
   "language": "python",
   "name": "python3"
  },
  "language_info": {
   "codemirror_mode": {
    "name": "ipython",
    "version": 3
   },
   "file_extension": ".py",
   "mimetype": "text/x-python",
   "name": "python",
   "nbconvert_exporter": "python",
   "pygments_lexer": "ipython3",
   "version": "3.8.10"
  }
 },
 "nbformat": 4,
 "nbformat_minor": 4
}
