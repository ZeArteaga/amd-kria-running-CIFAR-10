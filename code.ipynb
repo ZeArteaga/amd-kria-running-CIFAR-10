{
 "cells": [
  {
   "cell_type": "markdown",
   "metadata": {},
   "source": [
    "# Libraries importing"
   ]
  },
  {
   "cell_type": "code",
   "execution_count": 1,
   "metadata": {},
   "outputs": [
    {
     "name": "stderr",
     "output_type": "stream",
     "text": [
      "2025-01-11 08:04:36.082724: I tensorflow/core/platform/cpu_feature_guard.cc:186] This TensorFlow binary is optimized with Zen Deep Neural Network Library (ZenDNN) to use available CPU instructions in performance-critical operations.\n",
      "To enable the following instructions: SSE3 SSE4.1 SSE4.2 AVX AVX2 FMA, in other operations, rebuild TensorFlow with the appropriate compiler flags.\n"
     ]
    }
   ],
   "source": [
    "import numpy as np\n",
    "import os\n",
    "import pickle\n",
    "import tensorflow as tf\n",
    "from tensorflow_model_optimization.quantization.keras import vitis_inspect, vitis_quantize\n",
    "from tensorflow_model_optimization.python.core.quantization.keras.vitis.utils import model_utils\n",
    "from tensorflow.keras.models import Sequential\n",
    "from tensorflow.keras.utils import to_categorical\n",
    "from tensorflow.keras.models import Model, load_model\n",
    "from tensorflow.keras.optimizers import Adam, SGD"
   ]
  },
  {
   "cell_type": "markdown",
   "metadata": {},
   "source": [
    "# Function to load the CIFAR10 dataset (after downloading it locally)"
   ]
  },
  {
   "cell_type": "code",
   "execution_count": 2,
   "metadata": {},
   "outputs": [],
   "source": [
    "def load_cifar10(data_dir):\n",
    "    def unpickle(file):\n",
    "        with open(file, 'rb') as fo:\n",
    "            dict = pickle.load(fo, encoding='bytes')\n",
    "        return dict\n",
    "\n",
    "    # Load training data\n",
    "    x_train, y_train = [], []\n",
    "    for i in range(1, 6):  # CIFAR-10 training data consists of 5 batches\n",
    "        batch = unpickle(os.path.join(data_dir, f\"data_batch_{i}\"))\n",
    "        x_train.append(batch[b'data'])\n",
    "        y_train.extend(batch[b'labels'])\n",
    "\n",
    "    x_train = np.vstack(x_train).reshape(-1, 3, 32, 32).transpose(0, 2, 3, 1)\n",
    "    y_train = np.array(y_train)\n",
    "\n",
    "    # Load test data\n",
    "    test_batch = unpickle(os.path.join(data_dir, \"test_batch\"))\n",
    "    x_test = test_batch[b'data'].reshape(-1, 3, 32, 32).transpose(0, 2, 3, 1)\n",
    "    y_test = np.array(test_batch[b'labels'])\n",
    "\n",
    "    return (x_train, y_train), (x_test, y_test)"
   ]
  },
  {
   "cell_type": "markdown",
   "metadata": {},
   "source": [
    "# Actually loading CIFAR10"
   ]
  },
  {
   "cell_type": "code",
   "execution_count": 3,
   "metadata": {},
   "outputs": [
    {
     "name": "stdout",
     "output_type": "stream",
     "text": [
      "(50000, 32, 32, 3)\n",
      "(50000,)\n",
      "(50000, 32, 32, 3)\n",
      "(50000, 10)\n"
     ]
    }
   ],
   "source": [
    "#CIFAR-10 dataset\n",
    "(train_images, train_labels), (test_images, test_labels) = load_cifar10(\"cifar-10-batches-py\")\n",
    "print(train_images.shape)\n",
    "print(train_labels.shape)\n",
    "train_images = train_images.reshape(train_images.shape[0], 32, 32, 3) #ensure shape 32 W x 32 H x 3 channels for each image\n",
    "test_images = test_images.reshape(test_images.shape[0], 32, 32, 3)\n",
    "\n",
    "#range 0-1\n",
    "train_images = train_images.astype('float32') / 255.0\n",
    "test_images = test_images.astype('float32') / 255.0\n",
    "\n",
    "#One-hot encoding labels\n",
    "train_labels = to_categorical(train_labels, 10)\n",
    "test_labels = to_categorical(test_labels, 10)\n",
    "\n",
    "print(train_images.shape)\n",
    "print(train_labels.shape)"
   ]
  },
  {
   "cell_type": "markdown",
   "metadata": {},
   "source": [
    "# Loading a trained model"
   ]
  },
  {
   "cell_type": "code",
   "execution_count": 4,
   "metadata": {
    "scrolled": true
   },
   "outputs": [
    {
     "name": "stdout",
     "output_type": "stream",
     "text": [
      "Model: \"model_3\"\n",
      "__________________________________________________________________________________________________\n",
      " Layer (type)                   Output Shape         Param #     Connected to                     \n",
      "==================================================================================================\n",
      " input_4 (InputLayer)           [(None, 32, 32, 3)]  0           []                               \n",
      "                                                                                                  \n",
      " conv2d_60 (Conv2D)             (None, 32, 32, 64)   1792        ['input_4[0][0]']                \n",
      "                                                                                                  \n",
      " batch_normalization_60 (BatchN  (None, 32, 32, 64)  256         ['conv2d_60[0][0]']              \n",
      " ormalization)                                                                                    \n",
      "                                                                                                  \n",
      " re_lu_51 (ReLU)                (None, 32, 32, 64)   0           ['batch_normalization_60[0][0]'] \n",
      "                                                                                                  \n",
      " conv2d_61 (Conv2D)             (None, 32, 32, 64)   36928       ['re_lu_51[0][0]']               \n",
      "                                                                                                  \n",
      " batch_normalization_61 (BatchN  (None, 32, 32, 64)  256         ['conv2d_61[0][0]']              \n",
      " ormalization)                                                                                    \n",
      "                                                                                                  \n",
      " re_lu_52 (ReLU)                (None, 32, 32, 64)   0           ['batch_normalization_61[0][0]'] \n",
      "                                                                                                  \n",
      " conv2d_62 (Conv2D)             (None, 32, 32, 64)   36928       ['re_lu_52[0][0]']               \n",
      "                                                                                                  \n",
      " batch_normalization_62 (BatchN  (None, 32, 32, 64)  256         ['conv2d_62[0][0]']              \n",
      " ormalization)                                                                                    \n",
      "                                                                                                  \n",
      " add_24 (Add)                   (None, 32, 32, 64)   0           ['batch_normalization_62[0][0]', \n",
      "                                                                  're_lu_51[0][0]']               \n",
      "                                                                                                  \n",
      " re_lu_53 (ReLU)                (None, 32, 32, 64)   0           ['add_24[0][0]']                 \n",
      "                                                                                                  \n",
      " conv2d_63 (Conv2D)             (None, 32, 32, 64)   36928       ['re_lu_53[0][0]']               \n",
      "                                                                                                  \n",
      " batch_normalization_63 (BatchN  (None, 32, 32, 64)  256         ['conv2d_63[0][0]']              \n",
      " ormalization)                                                                                    \n",
      "                                                                                                  \n",
      " re_lu_54 (ReLU)                (None, 32, 32, 64)   0           ['batch_normalization_63[0][0]'] \n",
      "                                                                                                  \n",
      " conv2d_64 (Conv2D)             (None, 32, 32, 64)   36928       ['re_lu_54[0][0]']               \n",
      "                                                                                                  \n",
      " batch_normalization_64 (BatchN  (None, 32, 32, 64)  256         ['conv2d_64[0][0]']              \n",
      " ormalization)                                                                                    \n",
      "                                                                                                  \n",
      " add_25 (Add)                   (None, 32, 32, 64)   0           ['batch_normalization_64[0][0]', \n",
      "                                                                  're_lu_53[0][0]']               \n",
      "                                                                                                  \n",
      " re_lu_55 (ReLU)                (None, 32, 32, 64)   0           ['add_25[0][0]']                 \n",
      "                                                                                                  \n",
      " conv2d_66 (Conv2D)             (None, 16, 16, 128)  73856       ['re_lu_55[0][0]']               \n",
      "                                                                                                  \n",
      " batch_normalization_66 (BatchN  (None, 16, 16, 128)  512        ['conv2d_66[0][0]']              \n",
      " ormalization)                                                                                    \n",
      "                                                                                                  \n",
      " re_lu_56 (ReLU)                (None, 16, 16, 128)  0           ['batch_normalization_66[0][0]'] \n",
      "                                                                                                  \n",
      " conv2d_67 (Conv2D)             (None, 16, 16, 128)  147584      ['re_lu_56[0][0]']               \n",
      "                                                                                                  \n",
      " conv2d_65 (Conv2D)             (None, 16, 16, 128)  8320        ['re_lu_55[0][0]']               \n",
      "                                                                                                  \n",
      " batch_normalization_67 (BatchN  (None, 16, 16, 128)  512        ['conv2d_67[0][0]']              \n",
      " ormalization)                                                                                    \n",
      "                                                                                                  \n",
      " batch_normalization_65 (BatchN  (None, 16, 16, 128)  512        ['conv2d_65[0][0]']              \n",
      " ormalization)                                                                                    \n",
      "                                                                                                  \n",
      " add_26 (Add)                   (None, 16, 16, 128)  0           ['batch_normalization_67[0][0]', \n",
      "                                                                  'batch_normalization_65[0][0]'] \n",
      "                                                                                                  \n",
      " re_lu_57 (ReLU)                (None, 16, 16, 128)  0           ['add_26[0][0]']                 \n",
      "                                                                                                  \n",
      " conv2d_68 (Conv2D)             (None, 16, 16, 128)  147584      ['re_lu_57[0][0]']               \n",
      "                                                                                                  \n",
      " batch_normalization_68 (BatchN  (None, 16, 16, 128)  512        ['conv2d_68[0][0]']              \n",
      " ormalization)                                                                                    \n",
      "                                                                                                  \n",
      " re_lu_58 (ReLU)                (None, 16, 16, 128)  0           ['batch_normalization_68[0][0]'] \n",
      "                                                                                                  \n",
      " conv2d_69 (Conv2D)             (None, 16, 16, 128)  147584      ['re_lu_58[0][0]']               \n",
      "                                                                                                  \n",
      " batch_normalization_69 (BatchN  (None, 16, 16, 128)  512        ['conv2d_69[0][0]']              \n",
      " ormalization)                                                                                    \n",
      "                                                                                                  \n",
      " add_27 (Add)                   (None, 16, 16, 128)  0           ['batch_normalization_69[0][0]', \n",
      "                                                                  're_lu_57[0][0]']               \n",
      "                                                                                                  \n"
     ]
    },
    {
     "name": "stdout",
     "output_type": "stream",
     "text": [
      " re_lu_59 (ReLU)                (None, 16, 16, 128)  0           ['add_27[0][0]']                 \n",
      "                                                                                                  \n",
      " conv2d_71 (Conv2D)             (None, 8, 8, 256)    295168      ['re_lu_59[0][0]']               \n",
      "                                                                                                  \n",
      " batch_normalization_71 (BatchN  (None, 8, 8, 256)   1024        ['conv2d_71[0][0]']              \n",
      " ormalization)                                                                                    \n",
      "                                                                                                  \n",
      " re_lu_60 (ReLU)                (None, 8, 8, 256)    0           ['batch_normalization_71[0][0]'] \n",
      "                                                                                                  \n",
      " conv2d_72 (Conv2D)             (None, 8, 8, 256)    590080      ['re_lu_60[0][0]']               \n",
      "                                                                                                  \n",
      " conv2d_70 (Conv2D)             (None, 8, 8, 256)    33024       ['re_lu_59[0][0]']               \n",
      "                                                                                                  \n",
      " batch_normalization_72 (BatchN  (None, 8, 8, 256)   1024        ['conv2d_72[0][0]']              \n",
      " ormalization)                                                                                    \n",
      "                                                                                                  \n",
      " batch_normalization_70 (BatchN  (None, 8, 8, 256)   1024        ['conv2d_70[0][0]']              \n",
      " ormalization)                                                                                    \n",
      "                                                                                                  \n",
      " add_28 (Add)                   (None, 8, 8, 256)    0           ['batch_normalization_72[0][0]', \n",
      "                                                                  'batch_normalization_70[0][0]'] \n",
      "                                                                                                  \n",
      " re_lu_61 (ReLU)                (None, 8, 8, 256)    0           ['add_28[0][0]']                 \n",
      "                                                                                                  \n",
      " conv2d_73 (Conv2D)             (None, 8, 8, 256)    590080      ['re_lu_61[0][0]']               \n",
      "                                                                                                  \n",
      " batch_normalization_73 (BatchN  (None, 8, 8, 256)   1024        ['conv2d_73[0][0]']              \n",
      " ormalization)                                                                                    \n",
      "                                                                                                  \n",
      " re_lu_62 (ReLU)                (None, 8, 8, 256)    0           ['batch_normalization_73[0][0]'] \n",
      "                                                                                                  \n",
      " conv2d_74 (Conv2D)             (None, 8, 8, 256)    590080      ['re_lu_62[0][0]']               \n",
      "                                                                                                  \n",
      " batch_normalization_74 (BatchN  (None, 8, 8, 256)   1024        ['conv2d_74[0][0]']              \n",
      " ormalization)                                                                                    \n",
      "                                                                                                  \n",
      " add_29 (Add)                   (None, 8, 8, 256)    0           ['batch_normalization_74[0][0]', \n",
      "                                                                  're_lu_61[0][0]']               \n",
      "                                                                                                  \n",
      " re_lu_63 (ReLU)                (None, 8, 8, 256)    0           ['add_29[0][0]']                 \n",
      "                                                                                                  \n",
      " conv2d_76 (Conv2D)             (None, 4, 4, 512)    1180160     ['re_lu_63[0][0]']               \n",
      "                                                                                                  \n",
      " batch_normalization_76 (BatchN  (None, 4, 4, 512)   2048        ['conv2d_76[0][0]']              \n",
      " ormalization)                                                                                    \n",
      "                                                                                                  \n",
      " re_lu_64 (ReLU)                (None, 4, 4, 512)    0           ['batch_normalization_76[0][0]'] \n",
      "                                                                                                  \n",
      " conv2d_77 (Conv2D)             (None, 4, 4, 512)    2359808     ['re_lu_64[0][0]']               \n",
      "                                                                                                  \n",
      " conv2d_75 (Conv2D)             (None, 4, 4, 512)    131584      ['re_lu_63[0][0]']               \n",
      "                                                                                                  \n",
      " batch_normalization_77 (BatchN  (None, 4, 4, 512)   2048        ['conv2d_77[0][0]']              \n",
      " ormalization)                                                                                    \n",
      "                                                                                                  \n",
      " batch_normalization_75 (BatchN  (None, 4, 4, 512)   2048        ['conv2d_75[0][0]']              \n",
      " ormalization)                                                                                    \n",
      "                                                                                                  \n",
      " add_30 (Add)                   (None, 4, 4, 512)    0           ['batch_normalization_77[0][0]', \n",
      "                                                                  'batch_normalization_75[0][0]'] \n",
      "                                                                                                  \n",
      " re_lu_65 (ReLU)                (None, 4, 4, 512)    0           ['add_30[0][0]']                 \n",
      "                                                                                                  \n",
      " conv2d_78 (Conv2D)             (None, 4, 4, 512)    2359808     ['re_lu_65[0][0]']               \n",
      "                                                                                                  \n",
      " batch_normalization_78 (BatchN  (None, 4, 4, 512)   2048        ['conv2d_78[0][0]']              \n",
      " ormalization)                                                                                    \n",
      "                                                                                                  \n",
      " re_lu_66 (ReLU)                (None, 4, 4, 512)    0           ['batch_normalization_78[0][0]'] \n",
      "                                                                                                  \n",
      " conv2d_79 (Conv2D)             (None, 4, 4, 512)    2359808     ['re_lu_66[0][0]']               \n",
      "                                                                                                  \n",
      " batch_normalization_79 (BatchN  (None, 4, 4, 512)   2048        ['conv2d_79[0][0]']              \n",
      " ormalization)                                                                                    \n",
      "                                                                                                  \n",
      " add_31 (Add)                   (None, 4, 4, 512)    0           ['batch_normalization_79[0][0]', \n",
      "                                                                  're_lu_65[0][0]']               \n",
      "                                                                                                  \n",
      " re_lu_67 (ReLU)                (None, 4, 4, 512)    0           ['add_31[0][0]']                 \n",
      "                                                                                                  \n",
      " average_pooling2d_3 (AveragePo  (None, 1, 1, 512)   0           ['re_lu_67[0][0]']               \n",
      " oling2D)                                                                                         \n",
      "                                                                                                  \n"
     ]
    },
    {
     "name": "stdout",
     "output_type": "stream",
     "text": [
      " flatten_3 (Flatten)            (None, 512)          0           ['average_pooling2d_3[0][0]']    \n",
      "                                                                                                  \n",
      " dense_3 (Dense)                (None, 10)           5130        ['flatten_3[0][0]']              \n",
      "                                                                                                  \n",
      "==================================================================================================\n",
      "Total params: 11,188,362\n",
      "Trainable params: 11,178,762\n",
      "Non-trainable params: 9,600\n",
      "__________________________________________________________________________________________________\n"
     ]
    }
   ],
   "source": [
    "input_shape = (None,32, 32, 3)\n",
    "model = load_model('avg_pool_model_9275.h5')\n",
    "model.build(input_shape=input_shape)\n",
    "model.summary()\n",
    "\n",
    "opt = SGD(learning_rate=0.1, momentum=0.9, weight_decay=1e-4)"
   ]
  },
  {
   "cell_type": "markdown",
   "metadata": {},
   "source": [
    "# Inspecting the model"
   ]
  },
  {
   "cell_type": "code",
   "execution_count": 5,
   "metadata": {
    "scrolled": true
   },
   "outputs": [
    {
     "name": "stdout",
     "output_type": "stream",
     "text": [
      "[VAI INFO] Update include_bias_corr: False\n",
      "[VAI INFO] Update include_fast_ft: False\n",
      "[VAI INFO] Update include_cle: False\n",
      "[INFO] Namespace(batchsize=1, inputs_shape=None, layout='NHWC', model_files=['/tmp/root/tensorflow_model_optimization/tmp_sub_graph_quantized_20250111-080442-258485_ogqvwk.h5'], model_type='tensorflow2', named_inputs_shape=None, out_filename='/tmp/root/tensorflow_model_optimization/tmp_sub_graph_xnnc_20250111-080442-258485_ogqvwk.xmodel', proto=None)\n",
      "[INFO] tensorflow2 model: /tmp/root/tensorflow_model_optimization/tmp_sub_graph_quantized_20250111-080442-258485_ogqvwk.h5\n",
      "[INFO] keras version: 2.12.0\n",
      "[INFO] Tensorflow Keras model type: functional\n"
     ]
    },
    {
     "name": "stderr",
     "output_type": "stream",
     "text": [
      "[INFO] parse raw model     :100%|█| 3/3 [00:00<00:00, 15401.36it/s]             \n",
      "[INFO] infer shape (NHWC)  :100%|█| 4/4 [00:00<00:00, 19645.45it/s]             \n",
      "[INFO] perform level-0 opt :100%|█| 1/1 [00:00<00:00, 4072.14it/s]              \n",
      "[INFO] perform level-1 opt :100%|█| 2/2 [00:00<00:00, 8058.22it/s]              \n",
      "[INFO] infer shape (NHWC)  :100%|█| 6/6 [00:00<00:00, 30615.36it/s]             \n",
      "[INFO] generate xmodel     :100%|█| 6/6 [00:00<00:00, 4515.67it/s]              \n",
      "WARNING: Logging before InitGoogleLogging() is written to STDERR\n",
      "I20250111 08:04:43.062860    99 compile_pass_manager.cpp:352] [UNILOG][INFO] Compile mode: dpu\n",
      "I20250111 08:04:43.062878    99 compile_pass_manager.cpp:353] [UNILOG][INFO] Debug mode: null\n",
      "I20250111 08:04:43.062884    99 compile_pass_manager.cpp:357] [UNILOG][INFO] Target architecture: DPUCZDX8G_ISA1_B4096\n",
      "I20250111 08:04:43.063707    99 compile_pass_manager.cpp:465] [UNILOG][INFO] Graph name: model, with op num: 6\n",
      "I20250111 08:04:43.063714    99 compile_pass_manager.cpp:478] [UNILOG][INFO] Begin to compile...\n",
      "I20250111 08:04:43.068387    99 compile_pass_manager.cpp:489] [UNILOG][INFO] Total device subgraph number 3, DPU subgraph number 1\n",
      "I20250111 08:04:43.068408    99 compile_pass_manager.cpp:504] [UNILOG][INFO] Compile done.\n"
     ]
    },
    {
     "name": "stdout",
     "output_type": "stream",
     "text": [
      "[INFO] dump xmodel ...\r\n",
      "[INFO] dump xmodel: /tmp/root/tensorflow_model_optimization/tmp_sub_graph_xnnc_20250111-080442-258485_ogqvwk.xmodel\n",
      "[INFO] Namespace(batchsize=1, inputs_shape=None, layout='NHWC', model_files=['/tmp/root/tensorflow_model_optimization/tmp_sub_graph_quantized_20250111-080442-258845_yqcRpe.h5'], model_type='tensorflow2', named_inputs_shape=None, out_filename='/tmp/root/tensorflow_model_optimization/tmp_sub_graph_xnnc_20250111-080442-258845_yqcRpe.xmodel', proto=None)\n",
      "[INFO] tensorflow2 model: /tmp/root/tensorflow_model_optimization/tmp_sub_graph_quantized_20250111-080442-258845_yqcRpe.h5\n",
      "[INFO] keras version: 2.12.0\n",
      "[INFO] Tensorflow Keras model type: functional\n"
     ]
    },
    {
     "name": "stderr",
     "output_type": "stream",
     "text": [
      "[INFO] parse raw model     :100%|█| 4/4 [00:00<00:00, 22733.36it/s]             \n",
      "[INFO] infer shape (NHWC)  :100%|█| 5/5 [00:00<00:00, 17360.53it/s]             \n",
      "[INFO] perform level-0 opt :100%|█| 1/1 [00:00<00:00, 4624.37it/s]              \n",
      "[INFO] perform level-1 opt :100%|█| 2/2 [00:00<00:00, 14513.16it/s]             \n",
      "[INFO] generate xmodel     :100%|█| 5/5 [00:00<00:00, 5910.80it/s]              "
     ]
    },
    {
     "name": "stdout",
     "output_type": "stream",
     "text": [
      "[INFO] dump xmodel ...\r\n",
      "[INFO] dump xmodel: /tmp/root/tensorflow_model_optimization/tmp_sub_graph_xnnc_20250111-080442-258845_yqcRpe.xmodel\n"
     ]
    },
    {
     "name": "stderr",
     "output_type": "stream",
     "text": [
      "\n",
      "I20250111 08:04:43.186376    99 compile_pass_manager.cpp:352] [UNILOG][INFO] Compile mode: dpu\n",
      "I20250111 08:04:43.186390    99 compile_pass_manager.cpp:353] [UNILOG][INFO] Debug mode: null\n",
      "I20250111 08:04:43.186393    99 compile_pass_manager.cpp:357] [UNILOG][INFO] Target architecture: DPUCZDX8G_ISA1_B4096\n",
      "I20250111 08:04:43.186456    99 compile_pass_manager.cpp:465] [UNILOG][INFO] Graph name: model_1, with op num: 9\n",
      "I20250111 08:04:43.186460    99 compile_pass_manager.cpp:478] [UNILOG][INFO] Begin to compile...\n",
      "I20250111 08:04:43.188781    99 compile_pass_manager.cpp:489] [UNILOG][INFO] Total device subgraph number 3, DPU subgraph number 1\n",
      "I20250111 08:04:43.188798    99 compile_pass_manager.cpp:504] [UNILOG][INFO] Compile done.\n"
     ]
    },
    {
     "name": "stdout",
     "output_type": "stream",
     "text": [
      "[INFO] Namespace(batchsize=1, inputs_shape=None, layout='NHWC', model_files=['/tmp/root/tensorflow_model_optimization/tmp_sub_graph_quantized_20250111-080442-258845_yqcRpe.h5'], model_type='tensorflow2', named_inputs_shape=None, out_filename='/tmp/root/tensorflow_model_optimization/tmp_sub_graph_xnnc_20250111-080442-258845_yqcRpe.xmodel', proto=None)\n",
      "[INFO] tensorflow2 model: /tmp/root/tensorflow_model_optimization/tmp_sub_graph_quantized_20250111-080442-258845_yqcRpe.h5\n",
      "[INFO] keras version: 2.12.0\n",
      "[INFO] Tensorflow Keras model type: functional\n"
     ]
    },
    {
     "name": "stderr",
     "output_type": "stream",
     "text": [
      "[INFO] parse raw model     :100%|█| 4/4 [00:00<00:00, 18098.40it/s]             \n",
      "[INFO] infer shape (NHWC)  :100%|█| 5/5 [00:00<00:00, 12520.31it/s]             \n",
      "[INFO] perform level-0 opt :100%|█| 1/1 [00:00<00:00, 3887.21it/s]              \n",
      "[INFO] perform level-1 opt :100%|█| 2/2 [00:00<00:00, 15224.33it/s]             \n",
      "[INFO] generate xmodel     :100%|█| 5/5 [00:00<00:00, 4694.77it/s]              \n"
     ]
    },
    {
     "name": "stdout",
     "output_type": "stream",
     "text": [
      "[INFO] dump xmodel ...\r\n",
      "[INFO] dump xmodel: /tmp/root/tensorflow_model_optimization/tmp_sub_graph_xnnc_20250111-080442-258845_yqcRpe.xmodel\n"
     ]
    },
    {
     "name": "stderr",
     "output_type": "stream",
     "text": [
      "I20250111 08:04:43.263554    99 compile_pass_manager.cpp:352] [UNILOG][INFO] Compile mode: dpu\n",
      "I20250111 08:04:43.263568    99 compile_pass_manager.cpp:353] [UNILOG][INFO] Debug mode: null\n",
      "I20250111 08:04:43.263571    99 compile_pass_manager.cpp:357] [UNILOG][INFO] Target architecture: DPUCZDX8G_ISA1_B4096\n",
      "I20250111 08:04:43.263633    99 compile_pass_manager.cpp:465] [UNILOG][INFO] Graph name: model_2, with op num: 9\n",
      "I20250111 08:04:43.263635    99 compile_pass_manager.cpp:478] [UNILOG][INFO] Begin to compile...\n",
      "I20250111 08:04:43.267372    99 compile_pass_manager.cpp:489] [UNILOG][INFO] Total device subgraph number 3, DPU subgraph number 1\n",
      "I20250111 08:04:43.267395    99 compile_pass_manager.cpp:504] [UNILOG][INFO] Compile done.\n"
     ]
    },
    {
     "name": "stdout",
     "output_type": "stream",
     "text": [
      "[INFO] Namespace(batchsize=1, inputs_shape=None, layout='NHWC', model_files=['/tmp/root/tensorflow_model_optimization/tmp_sub_graph_quantized_20250111-080442-258845_yqcRpe.h5'], model_type='tensorflow2', named_inputs_shape=None, out_filename='/tmp/root/tensorflow_model_optimization/tmp_sub_graph_xnnc_20250111-080442-258845_yqcRpe.xmodel', proto=None)\n",
      "[INFO] tensorflow2 model: /tmp/root/tensorflow_model_optimization/tmp_sub_graph_quantized_20250111-080442-258845_yqcRpe.h5\n",
      "[INFO] keras version: 2.12.0\n",
      "[INFO] Tensorflow Keras model type: functional\n"
     ]
    },
    {
     "name": "stderr",
     "output_type": "stream",
     "text": [
      "[INFO] parse raw model     :100%|█| 4/4 [00:00<00:00, 12455.25it/s]             \n",
      "[INFO] infer shape (NHWC)  :100%|█| 5/5 [00:00<00:00, 9943.82it/s]              \n",
      "[INFO] perform level-0 opt :100%|█| 1/1 [00:00<00:00, 4573.94it/s]              \n",
      "[INFO] perform level-1 opt :100%|█| 2/2 [00:00<00:00, 14588.88it/s]             \n",
      "[INFO] generate xmodel     :100%|█| 5/5 [00:00<00:00, 4084.83it/s]              \n",
      "I20250111 08:04:43.341255    99 compile_pass_manager.cpp:352] [UNILOG][INFO] Compile mode: dpu\n",
      "I20250111 08:04:43.341269    99 compile_pass_manager.cpp:353] [UNILOG][INFO] Debug mode: null\n",
      "I20250111 08:04:43.341271    99 compile_pass_manager.cpp:357] [UNILOG][INFO] Target architecture: DPUCZDX8G_ISA1_B4096\n",
      "I20250111 08:04:43.341332    99 compile_pass_manager.cpp:465] [UNILOG][INFO] Graph name: model_3, with op num: 9\n",
      "I20250111 08:04:43.341336    99 compile_pass_manager.cpp:478] [UNILOG][INFO] Begin to compile...\n",
      "I20250111 08:04:43.344439    99 compile_pass_manager.cpp:489] [UNILOG][INFO] Total device subgraph number 3, DPU subgraph number 1\n",
      "I20250111 08:04:43.344455    99 compile_pass_manager.cpp:504] [UNILOG][INFO] Compile done.\n"
     ]
    },
    {
     "name": "stdout",
     "output_type": "stream",
     "text": [
      "[INFO] dump xmodel: /tmp/root/tensorflow_model_optimization/tmp_sub_graph_xnnc_20250111-080442-258845_yqcRpe.xmodel\n",
      "[INFO] Namespace(batchsize=1, inputs_shape=None, layout='NHWC', model_files=['/tmp/root/tensorflow_model_optimization/tmp_sub_graph_quantized_20250111-080442-258845_yqcRpe.h5'], model_type='tensorflow2', named_inputs_shape=None, out_filename='/tmp/root/tensorflow_model_optimization/tmp_sub_graph_xnnc_20250111-080442-258845_yqcRpe.xmodel', proto=None)\n",
      "[INFO] tensorflow2 model: /tmp/root/tensorflow_model_optimization/tmp_sub_graph_quantized_20250111-080442-258845_yqcRpe.h5\n",
      "[INFO] keras version: 2.12.0\n",
      "[INFO] Tensorflow Keras model type: functional\n"
     ]
    },
    {
     "name": "stderr",
     "output_type": "stream",
     "text": [
      "[INFO] parse raw model     :100%|█| 4/4 [00:00<00:00, 20092.47it/s]             \n",
      "[INFO] infer shape (NHWC)  :100%|█| 5/5 [00:00<00:00, 17637.95it/s]             \n",
      "[INFO] perform level-0 opt :100%|█| 1/1 [00:00<00:00, 5084.00it/s]              \n",
      "[INFO] perform level-1 opt :100%|█| 2/2 [00:00<00:00, 16352.06it/s]             \n",
      "[INFO] generate xmodel     :100%|█| 5/5 [00:00<00:00, 4496.47it/s]              "
     ]
    },
    {
     "name": "stdout",
     "output_type": "stream",
     "text": [
      "[INFO] dump xmodel ...\r\n",
      "[INFO] dump xmodel: /tmp/root/tensorflow_model_optimization/tmp_sub_graph_xnnc_20250111-080442-258845_yqcRpe.xmodel\n"
     ]
    },
    {
     "name": "stderr",
     "output_type": "stream",
     "text": [
      "\n",
      "I20250111 08:04:43.420120    99 compile_pass_manager.cpp:352] [UNILOG][INFO] Compile mode: dpu\n",
      "I20250111 08:04:43.420135    99 compile_pass_manager.cpp:353] [UNILOG][INFO] Debug mode: null\n",
      "I20250111 08:04:43.420137    99 compile_pass_manager.cpp:357] [UNILOG][INFO] Target architecture: DPUCZDX8G_ISA1_B4096\n",
      "I20250111 08:04:43.420197    99 compile_pass_manager.cpp:465] [UNILOG][INFO] Graph name: model_4, with op num: 9\n",
      "I20250111 08:04:43.420200    99 compile_pass_manager.cpp:478] [UNILOG][INFO] Begin to compile...\n",
      "I20250111 08:04:43.425032    99 compile_pass_manager.cpp:489] [UNILOG][INFO] Total device subgraph number 3, DPU subgraph number 1\n",
      "I20250111 08:04:43.425052    99 compile_pass_manager.cpp:504] [UNILOG][INFO] Compile done.\n"
     ]
    },
    {
     "name": "stdout",
     "output_type": "stream",
     "text": [
      "[INFO] Namespace(batchsize=1, inputs_shape=None, layout='NHWC', model_files=['/tmp/root/tensorflow_model_optimization/tmp_sub_graph_quantized_20250111-080442-258845_yqcRpe.h5'], model_type='tensorflow2', named_inputs_shape=None, out_filename='/tmp/root/tensorflow_model_optimization/tmp_sub_graph_xnnc_20250111-080442-258845_yqcRpe.xmodel', proto=None)\n",
      "[INFO] tensorflow2 model: /tmp/root/tensorflow_model_optimization/tmp_sub_graph_quantized_20250111-080442-258845_yqcRpe.h5\n",
      "[INFO] keras version: 2.12.0\n",
      "[INFO] Tensorflow Keras model type: functional\n"
     ]
    },
    {
     "name": "stderr",
     "output_type": "stream",
     "text": [
      "[INFO] parse raw model     :100%|█| 4/4 [00:00<00:00, 17641.66it/s]             \n",
      "[INFO] infer shape (NHWC)  :100%|█| 5/5 [00:00<00:00, 14433.26it/s]             \n",
      "[INFO] perform level-0 opt :100%|█| 1/1 [00:00<00:00, 4364.52it/s]              \n",
      "[INFO] perform level-1 opt :100%|█| 2/2 [00:00<00:00, 15650.39it/s]             \n",
      "[INFO] generate xmodel     :100%|█| 5/5 [00:00<00:00, 3500.50it/s]              "
     ]
    },
    {
     "name": "stdout",
     "output_type": "stream",
     "text": [
      "[INFO] dump xmodel ...\r\n",
      "[INFO] dump xmodel: /tmp/root/tensorflow_model_optimization/tmp_sub_graph_xnnc_20250111-080442-258845_yqcRpe.xmodel\n"
     ]
    },
    {
     "name": "stderr",
     "output_type": "stream",
     "text": [
      "\n",
      "I20250111 08:04:43.505002    99 compile_pass_manager.cpp:352] [UNILOG][INFO] Compile mode: dpu\n",
      "I20250111 08:04:43.505015    99 compile_pass_manager.cpp:353] [UNILOG][INFO] Debug mode: null\n",
      "I20250111 08:04:43.505018    99 compile_pass_manager.cpp:357] [UNILOG][INFO] Target architecture: DPUCZDX8G_ISA1_B4096\n",
      "I20250111 08:04:43.505077    99 compile_pass_manager.cpp:465] [UNILOG][INFO] Graph name: model_5, with op num: 9\n",
      "I20250111 08:04:43.505081    99 compile_pass_manager.cpp:478] [UNILOG][INFO] Begin to compile...\n",
      "I20250111 08:04:43.510828    99 compile_pass_manager.cpp:489] [UNILOG][INFO] Total device subgraph number 3, DPU subgraph number 1\n",
      "I20250111 08:04:43.510847    99 compile_pass_manager.cpp:504] [UNILOG][INFO] Compile done.\n"
     ]
    },
    {
     "name": "stdout",
     "output_type": "stream",
     "text": [
      "[INFO] Namespace(batchsize=1, inputs_shape=None, layout='NHWC', model_files=['/tmp/root/tensorflow_model_optimization/tmp_sub_graph_quantized_20250111-080442-258845_yqcRpe.h5'], model_type='tensorflow2', named_inputs_shape=None, out_filename='/tmp/root/tensorflow_model_optimization/tmp_sub_graph_xnnc_20250111-080442-258845_yqcRpe.xmodel', proto=None)\n",
      "[INFO] tensorflow2 model: /tmp/root/tensorflow_model_optimization/tmp_sub_graph_quantized_20250111-080442-258845_yqcRpe.h5\n",
      "[INFO] keras version: 2.12.0\n",
      "[INFO] Tensorflow Keras model type: functional\n"
     ]
    },
    {
     "name": "stderr",
     "output_type": "stream",
     "text": [
      "[INFO] parse raw model     :100%|█| 4/4 [00:00<00:00, 22310.13it/s]             \n",
      "[INFO] infer shape (NHWC)  :100%|█| 5/5 [00:00<00:00, 18995.94it/s]             \n",
      "[INFO] perform level-0 opt :100%|█| 1/1 [00:00<00:00, 5096.36it/s]              \n",
      "[INFO] perform level-1 opt :100%|█| 2/2 [00:00<00:00, 12905.55it/s]             \n",
      "[INFO] generate xmodel     :100%|█| 5/5 [00:00<00:00, 2615.23it/s]              "
     ]
    },
    {
     "name": "stdout",
     "output_type": "stream",
     "text": [
      "[INFO] dump xmodel ...\r\n",
      "[INFO] dump xmodel: /tmp/root/tensorflow_model_optimization/tmp_sub_graph_xnnc_20250111-080442-258845_yqcRpe.xmodel\n"
     ]
    },
    {
     "name": "stderr",
     "output_type": "stream",
     "text": [
      "\n",
      "I20250111 08:04:43.591975    99 compile_pass_manager.cpp:352] [UNILOG][INFO] Compile mode: dpu\n",
      "I20250111 08:04:43.591990    99 compile_pass_manager.cpp:353] [UNILOG][INFO] Debug mode: null\n",
      "I20250111 08:04:43.591995    99 compile_pass_manager.cpp:357] [UNILOG][INFO] Target architecture: DPUCZDX8G_ISA1_B4096\n",
      "I20250111 08:04:43.592054    99 compile_pass_manager.cpp:465] [UNILOG][INFO] Graph name: model_6, with op num: 9\n",
      "I20250111 08:04:43.592057    99 compile_pass_manager.cpp:478] [UNILOG][INFO] Begin to compile...\n",
      "I20250111 08:04:43.602044    99 compile_pass_manager.cpp:489] [UNILOG][INFO] Total device subgraph number 3, DPU subgraph number 1\n",
      "I20250111 08:04:43.602079    99 compile_pass_manager.cpp:504] [UNILOG][INFO] Compile done.\n"
     ]
    },
    {
     "name": "stdout",
     "output_type": "stream",
     "text": [
      "[INFO] Namespace(batchsize=1, inputs_shape=None, layout='NHWC', model_files=['/tmp/root/tensorflow_model_optimization/tmp_sub_graph_quantized_20250111-080442-258845_yqcRpe.h5'], model_type='tensorflow2', named_inputs_shape=None, out_filename='/tmp/root/tensorflow_model_optimization/tmp_sub_graph_xnnc_20250111-080442-258845_yqcRpe.xmodel', proto=None)\n",
      "[INFO] tensorflow2 model: /tmp/root/tensorflow_model_optimization/tmp_sub_graph_quantized_20250111-080442-258845_yqcRpe.h5\n",
      "[INFO] keras version: 2.12.0\n",
      "[INFO] Tensorflow Keras model type: functional\n"
     ]
    },
    {
     "name": "stderr",
     "output_type": "stream",
     "text": [
      "[INFO] parse raw model     :100%|█| 4/4 [00:00<00:00, 11765.23it/s]             \n",
      "[INFO] infer shape (NHWC)  :100%|█| 5/5 [00:00<00:00, 13434.67it/s]             \n",
      "[INFO] perform level-0 opt :100%|█| 1/1 [00:00<00:00, 5029.14it/s]              \n",
      "[INFO] perform level-1 opt :100%|█| 2/2 [00:00<00:00, 16810.84it/s]             \n",
      "[INFO] generate xmodel     :100%|█| 5/5 [00:00<00:00, 1463.78it/s]              "
     ]
    },
    {
     "name": "stdout",
     "output_type": "stream",
     "text": [
      "[INFO] dump xmodel ...\r\n",
      "[INFO] dump xmodel: /tmp/root/tensorflow_model_optimization/tmp_sub_graph_xnnc_20250111-080442-258845_yqcRpe.xmodel\n"
     ]
    },
    {
     "name": "stderr",
     "output_type": "stream",
     "text": [
      "\n",
      "I20250111 08:04:43.687513    99 compile_pass_manager.cpp:352] [UNILOG][INFO] Compile mode: dpu\n",
      "I20250111 08:04:43.687528    99 compile_pass_manager.cpp:353] [UNILOG][INFO] Debug mode: null\n",
      "I20250111 08:04:43.687532    99 compile_pass_manager.cpp:357] [UNILOG][INFO] Target architecture: DPUCZDX8G_ISA1_B4096\n",
      "I20250111 08:04:43.687597    99 compile_pass_manager.cpp:465] [UNILOG][INFO] Graph name: model_7, with op num: 9\n",
      "I20250111 08:04:43.687600    99 compile_pass_manager.cpp:478] [UNILOG][INFO] Begin to compile...\n",
      "I20250111 08:04:43.704532    99 compile_pass_manager.cpp:489] [UNILOG][INFO] Total device subgraph number 3, DPU subgraph number 1\n",
      "I20250111 08:04:43.704555    99 compile_pass_manager.cpp:504] [UNILOG][INFO] Compile done.\n"
     ]
    },
    {
     "name": "stdout",
     "output_type": "stream",
     "text": [
      "[INFO] Namespace(batchsize=1, inputs_shape=None, layout='NHWC', model_files=['/tmp/root/tensorflow_model_optimization/tmp_sub_graph_quantized_20250111-080442-258845_yqcRpe.h5'], model_type='tensorflow2', named_inputs_shape=None, out_filename='/tmp/root/tensorflow_model_optimization/tmp_sub_graph_xnnc_20250111-080442-258845_yqcRpe.xmodel', proto=None)\n",
      "[INFO] tensorflow2 model: /tmp/root/tensorflow_model_optimization/tmp_sub_graph_quantized_20250111-080442-258845_yqcRpe.h5\n",
      "[INFO] keras version: 2.12.0\n",
      "[INFO] Tensorflow Keras model type: functional\n"
     ]
    },
    {
     "name": "stderr",
     "output_type": "stream",
     "text": [
      "[INFO] parse raw model     :100%|█| 4/4 [00:00<00:00, 21931.00it/s]             \n",
      "[INFO] infer shape (NHWC)  :100%|█| 5/5 [00:00<00:00, 12842.33it/s]             \n",
      "[INFO] perform level-0 opt :100%|█| 1/1 [00:00<00:00, 5053.38it/s]              \n",
      "[INFO] perform level-1 opt :100%|█| 2/2 [00:00<00:00, 13273.11it/s]             \n",
      "[INFO] generate xmodel     :100%|█| 5/5 [00:00<00:00, 730.00it/s]               \n"
     ]
    },
    {
     "name": "stdout",
     "output_type": "stream",
     "text": [
      "[INFO] dump xmodel ...\r\n",
      "[INFO] dump xmodel: /tmp/root/tensorflow_model_optimization/tmp_sub_graph_xnnc_20250111-080442-258845_yqcRpe.xmodel\n"
     ]
    },
    {
     "name": "stderr",
     "output_type": "stream",
     "text": [
      "I20250111 08:04:43.800544    99 compile_pass_manager.cpp:352] [UNILOG][INFO] Compile mode: dpu\n",
      "I20250111 08:04:43.800559    99 compile_pass_manager.cpp:353] [UNILOG][INFO] Debug mode: null\n",
      "I20250111 08:04:43.800562    99 compile_pass_manager.cpp:357] [UNILOG][INFO] Target architecture: DPUCZDX8G_ISA1_B4096\n",
      "I20250111 08:04:43.800621    99 compile_pass_manager.cpp:465] [UNILOG][INFO] Graph name: model_8, with op num: 9\n",
      "I20250111 08:04:43.800624    99 compile_pass_manager.cpp:478] [UNILOG][INFO] Begin to compile...\n",
      "I20250111 08:04:43.828846    99 compile_pass_manager.cpp:489] [UNILOG][INFO] Total device subgraph number 3, DPU subgraph number 1\n",
      "I20250111 08:04:43.828871    99 compile_pass_manager.cpp:504] [UNILOG][INFO] Compile done.\n"
     ]
    },
    {
     "name": "stdout",
     "output_type": "stream",
     "text": [
      "[INFO] Namespace(batchsize=1, inputs_shape=None, layout='NHWC', model_files=['/tmp/root/tensorflow_model_optimization/tmp_sub_graph_quantized_20250111-080442-258845_yqcRpe.h5'], model_type='tensorflow2', named_inputs_shape=None, out_filename='/tmp/root/tensorflow_model_optimization/tmp_sub_graph_xnnc_20250111-080442-258845_yqcRpe.xmodel', proto=None)\n",
      "[INFO] tensorflow2 model: /tmp/root/tensorflow_model_optimization/tmp_sub_graph_quantized_20250111-080442-258845_yqcRpe.h5\n",
      "[INFO] keras version: 2.12.0\n",
      "[INFO] Tensorflow Keras model type: functional\n"
     ]
    },
    {
     "name": "stderr",
     "output_type": "stream",
     "text": [
      "[INFO] parse raw model     :100%|█| 4/4 [00:00<00:00, 22671.91it/s]             \n",
      "[INFO] infer shape (NHWC)  :100%|█| 5/5 [00:00<00:00, 23484.34it/s]             \n",
      "[INFO] perform level-0 opt :100%|█| 1/1 [00:00<00:00, 4194.30it/s]              \n",
      "[INFO] perform level-1 opt :100%|█| 2/2 [00:00<00:00, 16070.13it/s]             \n",
      "[INFO] generate xmodel     :100%|█| 5/5 [00:00<00:00, 396.57it/s]               "
     ]
    },
    {
     "name": "stdout",
     "output_type": "stream",
     "text": [
      "[INFO] dump xmodel ...\r\n",
      "[INFO] dump xmodel: /tmp/root/tensorflow_model_optimization/tmp_sub_graph_xnnc_20250111-080442-258845_yqcRpe.xmodel\n"
     ]
    },
    {
     "name": "stderr",
     "output_type": "stream",
     "text": [
      "\n",
      "I20250111 08:04:43.953841    99 compile_pass_manager.cpp:352] [UNILOG][INFO] Compile mode: dpu\n",
      "I20250111 08:04:43.953859    99 compile_pass_manager.cpp:353] [UNILOG][INFO] Debug mode: null\n",
      "I20250111 08:04:43.953863    99 compile_pass_manager.cpp:357] [UNILOG][INFO] Target architecture: DPUCZDX8G_ISA1_B4096\n",
      "I20250111 08:04:43.953930    99 compile_pass_manager.cpp:465] [UNILOG][INFO] Graph name: model_9, with op num: 9\n",
      "I20250111 08:04:43.953933    99 compile_pass_manager.cpp:478] [UNILOG][INFO] Begin to compile...\n",
      "I20250111 08:04:44.006033    99 compile_pass_manager.cpp:489] [UNILOG][INFO] Total device subgraph number 3, DPU subgraph number 1\n",
      "I20250111 08:04:44.006057    99 compile_pass_manager.cpp:504] [UNILOG][INFO] Compile done.\n"
     ]
    },
    {
     "name": "stdout",
     "output_type": "stream",
     "text": [
      "[INFO] Namespace(batchsize=1, inputs_shape=None, layout='NHWC', model_files=['/tmp/root/tensorflow_model_optimization/tmp_sub_graph_quantized_20250111-080442-258914_QKDzMH.h5'], model_type='tensorflow2', named_inputs_shape=None, out_filename='/tmp/root/tensorflow_model_optimization/tmp_sub_graph_xnnc_20250111-080442-258914_QKDzMH.xmodel', proto=None)\n",
      "[INFO] tensorflow2 model: /tmp/root/tensorflow_model_optimization/tmp_sub_graph_quantized_20250111-080442-258914_QKDzMH.h5\n",
      "[INFO] keras version: 2.12.0\n",
      "[INFO] Tensorflow Keras model type: functional\n"
     ]
    },
    {
     "name": "stderr",
     "output_type": "stream",
     "text": [
      "[INFO] parse raw model     :100%|█| 3/3 [00:00<00:00, 7186.13it/s]              \n",
      "[INFO] infer shape (NHWC)  :100%|█| 4/4 [00:00<00:00, 8388.61it/s]              \n",
      "[INFO] perform level-0 opt :100%|█| 1/1 [00:00<00:00, 4826.59it/s]              \n",
      "[INFO] perform level-1 opt :100%|█| 2/2 [00:00<00:00, 15563.28it/s]             \n",
      "[INFO] generate xmodel     :100%|█| 4/4 [00:00<00:00, 4490.69it/s]              "
     ]
    },
    {
     "name": "stdout",
     "output_type": "stream",
     "text": [
      "[INFO] dump xmodel ...\r\n",
      "[INFO] dump xmodel: /tmp/root/tensorflow_model_optimization/tmp_sub_graph_xnnc_20250111-080442-258914_QKDzMH.xmodel\n"
     ]
    },
    {
     "name": "stderr",
     "output_type": "stream",
     "text": [
      "\n",
      "I20250111 08:04:44.076546    99 compile_pass_manager.cpp:352] [UNILOG][INFO] Compile mode: dpu\n",
      "I20250111 08:04:44.076558    99 compile_pass_manager.cpp:353] [UNILOG][INFO] Debug mode: null\n",
      "I20250111 08:04:44.076562    99 compile_pass_manager.cpp:357] [UNILOG][INFO] Target architecture: DPUCZDX8G_ISA1_B4096\n",
      "I20250111 08:04:44.076647    99 compile_pass_manager.cpp:465] [UNILOG][INFO] Graph name: model_10, with op num: 8\n",
      "I20250111 08:04:44.076650    99 compile_pass_manager.cpp:478] [UNILOG][INFO] Begin to compile...\n",
      "I20250111 08:04:44.079612    99 compile_pass_manager.cpp:489] [UNILOG][INFO] Total device subgraph number 3, DPU subgraph number 1\n",
      "I20250111 08:04:44.079628    99 compile_pass_manager.cpp:504] [UNILOG][INFO] Compile done.\n"
     ]
    },
    {
     "name": "stdout",
     "output_type": "stream",
     "text": [
      "[INFO] Namespace(batchsize=1, inputs_shape=None, layout='NHWC', model_files=['/tmp/root/tensorflow_model_optimization/tmp_sub_graph_quantized_20250111-080442-258914_QKDzMH.h5'], model_type='tensorflow2', named_inputs_shape=None, out_filename='/tmp/root/tensorflow_model_optimization/tmp_sub_graph_xnnc_20250111-080442-258914_QKDzMH.xmodel', proto=None)\n",
      "[INFO] tensorflow2 model: /tmp/root/tensorflow_model_optimization/tmp_sub_graph_quantized_20250111-080442-258914_QKDzMH.h5\n",
      "[INFO] keras version: 2.12.0\n",
      "[INFO] Tensorflow Keras model type: functional\n"
     ]
    },
    {
     "name": "stderr",
     "output_type": "stream",
     "text": [
      "[INFO] parse raw model     :100%|█| 3/3 [00:00<00:00, 11275.01it/s]             \n",
      "[INFO] infer shape (NHWC)  :100%|█| 4/4 [00:00<00:00, 11008.67it/s]             \n",
      "[INFO] perform level-0 opt :100%|█| 1/1 [00:00<00:00, 6034.97it/s]              \n",
      "[INFO] perform level-1 opt :100%|█| 2/2 [00:00<00:00, 15279.80it/s]             \n",
      "[INFO] generate xmodel     :100%|█| 4/4 [00:00<00:00, 4190.11it/s]              "
     ]
    },
    {
     "name": "stdout",
     "output_type": "stream",
     "text": [
      "[INFO] dump xmodel ...\r\n",
      "[INFO] dump xmodel: /tmp/root/tensorflow_model_optimization/tmp_sub_graph_xnnc_20250111-080442-258914_QKDzMH.xmodel\n"
     ]
    },
    {
     "name": "stderr",
     "output_type": "stream",
     "text": [
      "\n",
      "I20250111 08:04:44.149278    99 compile_pass_manager.cpp:352] [UNILOG][INFO] Compile mode: dpu\n",
      "I20250111 08:04:44.149299    99 compile_pass_manager.cpp:353] [UNILOG][INFO] Debug mode: null\n",
      "I20250111 08:04:44.149305    99 compile_pass_manager.cpp:357] [UNILOG][INFO] Target architecture: DPUCZDX8G_ISA1_B4096\n",
      "I20250111 08:04:44.149386    99 compile_pass_manager.cpp:465] [UNILOG][INFO] Graph name: model_11, with op num: 8\n",
      "I20250111 08:04:44.149392    99 compile_pass_manager.cpp:478] [UNILOG][INFO] Begin to compile...\n",
      "I20250111 08:04:44.152642    99 compile_pass_manager.cpp:489] [UNILOG][INFO] Total device subgraph number 3, DPU subgraph number 1\n",
      "I20250111 08:04:44.152662    99 compile_pass_manager.cpp:504] [UNILOG][INFO] Compile done.\n"
     ]
    },
    {
     "name": "stdout",
     "output_type": "stream",
     "text": [
      "[INFO] Namespace(batchsize=1, inputs_shape=None, layout='NHWC', model_files=['/tmp/root/tensorflow_model_optimization/tmp_sub_graph_quantized_20250111-080442-258914_QKDzMH.h5'], model_type='tensorflow2', named_inputs_shape=None, out_filename='/tmp/root/tensorflow_model_optimization/tmp_sub_graph_xnnc_20250111-080442-258914_QKDzMH.xmodel', proto=None)\n",
      "[INFO] tensorflow2 model: /tmp/root/tensorflow_model_optimization/tmp_sub_graph_quantized_20250111-080442-258914_QKDzMH.h5\n",
      "[INFO] keras version: 2.12.0\n",
      "[INFO] Tensorflow Keras model type: functional\n"
     ]
    },
    {
     "name": "stderr",
     "output_type": "stream",
     "text": [
      "[INFO] parse raw model     :100%|█| 3/3 [00:00<00:00, 12892.33it/s]             \n",
      "[INFO] infer shape (NHWC)  :100%|█| 4/4 [00:00<00:00, 10894.30it/s]             \n",
      "[INFO] perform level-0 opt :100%|█| 1/1 [00:00<00:00, 2042.02it/s]              \n",
      "[INFO] perform level-1 opt :100%|█| 2/2 [00:00<00:00, 13046.05it/s]             \n",
      "[INFO] generate xmodel     :100%|█| 4/4 [00:00<00:00, 2517.59it/s]              "
     ]
    },
    {
     "name": "stdout",
     "output_type": "stream",
     "text": [
      "[INFO] dump xmodel ...\r\n",
      "[INFO] dump xmodel: /tmp/root/tensorflow_model_optimization/tmp_sub_graph_xnnc_20250111-080442-258914_QKDzMH.xmodel\n"
     ]
    },
    {
     "name": "stderr",
     "output_type": "stream",
     "text": [
      "\n",
      "I20250111 08:04:44.223014    99 compile_pass_manager.cpp:352] [UNILOG][INFO] Compile mode: dpu\n",
      "I20250111 08:04:44.223028    99 compile_pass_manager.cpp:353] [UNILOG][INFO] Debug mode: null\n",
      "I20250111 08:04:44.223031    99 compile_pass_manager.cpp:357] [UNILOG][INFO] Target architecture: DPUCZDX8G_ISA1_B4096\n",
      "I20250111 08:04:44.223105    99 compile_pass_manager.cpp:465] [UNILOG][INFO] Graph name: model_12, with op num: 8\n",
      "I20250111 08:04:44.223109    99 compile_pass_manager.cpp:478] [UNILOG][INFO] Begin to compile...\n",
      "I20250111 08:04:44.228519    99 compile_pass_manager.cpp:489] [UNILOG][INFO] Total device subgraph number 3, DPU subgraph number 1\n",
      "I20250111 08:04:44.228536    99 compile_pass_manager.cpp:504] [UNILOG][INFO] Compile done.\n"
     ]
    },
    {
     "name": "stdout",
     "output_type": "stream",
     "text": [
      "[INFO] Namespace(batchsize=1, inputs_shape=None, layout='NHWC', model_files=['/tmp/root/tensorflow_model_optimization/tmp_sub_graph_quantized_20250111-080442-258914_QKDzMH.h5'], model_type='tensorflow2', named_inputs_shape=None, out_filename='/tmp/root/tensorflow_model_optimization/tmp_sub_graph_xnnc_20250111-080442-258914_QKDzMH.xmodel', proto=None)\n",
      "[INFO] tensorflow2 model: /tmp/root/tensorflow_model_optimization/tmp_sub_graph_quantized_20250111-080442-258914_QKDzMH.h5\n",
      "[INFO] keras version: 2.12.0\n",
      "[INFO] Tensorflow Keras model type: functional\n"
     ]
    },
    {
     "name": "stderr",
     "output_type": "stream",
     "text": [
      "[INFO] parse raw model     :100%|█| 3/3 [00:00<00:00, 11397.57it/s]             \n",
      "[INFO] infer shape (NHWC)  :100%|█| 4/4 [00:00<00:00, 9489.38it/s]              \n",
      "[INFO] perform level-0 opt :100%|█| 1/1 [00:00<00:00, 5785.25it/s]              \n",
      "[INFO] perform level-1 opt :100%|█| 2/2 [00:00<00:00, 19195.90it/s]             \n",
      "[INFO] generate xmodel     :100%|█| 4/4 [00:00<00:00, 5170.17it/s]              "
     ]
    },
    {
     "name": "stdout",
     "output_type": "stream",
     "text": [
      "[INFO] dump xmodel ...\r\n",
      "[INFO] dump xmodel: /tmp/root/tensorflow_model_optimization/tmp_sub_graph_xnnc_20250111-080442-258914_QKDzMH.xmodel\n"
     ]
    },
    {
     "name": "stderr",
     "output_type": "stream",
     "text": [
      "\n",
      "I20250111 08:04:44.294726    99 compile_pass_manager.cpp:352] [UNILOG][INFO] Compile mode: dpu\n",
      "I20250111 08:04:44.294740    99 compile_pass_manager.cpp:353] [UNILOG][INFO] Debug mode: null\n",
      "I20250111 08:04:44.294744    99 compile_pass_manager.cpp:357] [UNILOG][INFO] Target architecture: DPUCZDX8G_ISA1_B4096\n",
      "I20250111 08:04:44.294802    99 compile_pass_manager.cpp:465] [UNILOG][INFO] Graph name: model_13, with op num: 8\n",
      "I20250111 08:04:44.294806    99 compile_pass_manager.cpp:478] [UNILOG][INFO] Begin to compile...\n",
      "I20250111 08:04:44.297286    99 compile_pass_manager.cpp:489] [UNILOG][INFO] Total device subgraph number 3, DPU subgraph number 1\n",
      "I20250111 08:04:44.297303    99 compile_pass_manager.cpp:504] [UNILOG][INFO] Compile done.\n"
     ]
    },
    {
     "name": "stdout",
     "output_type": "stream",
     "text": [
      "[INFO] Namespace(batchsize=1, inputs_shape=None, layout='NHWC', model_files=['/tmp/root/tensorflow_model_optimization/tmp_sub_graph_quantized_20250111-080442-258914_QKDzMH.h5'], model_type='tensorflow2', named_inputs_shape=None, out_filename='/tmp/root/tensorflow_model_optimization/tmp_sub_graph_xnnc_20250111-080442-258914_QKDzMH.xmodel', proto=None)\n",
      "[INFO] tensorflow2 model: /tmp/root/tensorflow_model_optimization/tmp_sub_graph_quantized_20250111-080442-258914_QKDzMH.h5\n",
      "[INFO] keras version: 2.12.0\n",
      "[INFO] Tensorflow Keras model type: functional\n"
     ]
    },
    {
     "name": "stderr",
     "output_type": "stream",
     "text": [
      "[INFO] parse raw model     :100%|█| 3/3 [00:00<00:00, 15289.08it/s]             \n",
      "[INFO] infer shape (NHWC)  :100%|█| 4/4 [00:00<00:00, 9794.05it/s]              \n",
      "[INFO] perform level-0 opt :100%|█| 1/1 [00:00<00:00, 6213.78it/s]              \n",
      "[INFO] perform level-1 opt :100%|█| 2/2 [00:00<00:00, 18724.57it/s]             \n",
      "[INFO] generate xmodel     :100%|█| 4/4 [00:00<00:00, 3088.02it/s]              "
     ]
    },
    {
     "name": "stdout",
     "output_type": "stream",
     "text": [
      "[INFO] dump xmodel ...\r\n",
      "[INFO] dump xmodel: /tmp/root/tensorflow_model_optimization/tmp_sub_graph_xnnc_20250111-080442-258914_QKDzMH.xmodel\n"
     ]
    },
    {
     "name": "stderr",
     "output_type": "stream",
     "text": [
      "\n",
      "I20250111 08:04:44.365437    99 compile_pass_manager.cpp:352] [UNILOG][INFO] Compile mode: dpu\n",
      "I20250111 08:04:44.365451    99 compile_pass_manager.cpp:353] [UNILOG][INFO] Debug mode: null\n",
      "I20250111 08:04:44.365455    99 compile_pass_manager.cpp:357] [UNILOG][INFO] Target architecture: DPUCZDX8G_ISA1_B4096\n",
      "I20250111 08:04:44.365514    99 compile_pass_manager.cpp:465] [UNILOG][INFO] Graph name: model_14, with op num: 8\n",
      "I20250111 08:04:44.365517    99 compile_pass_manager.cpp:478] [UNILOG][INFO] Begin to compile...\n",
      "I20250111 08:04:44.371451    99 compile_pass_manager.cpp:489] [UNILOG][INFO] Total device subgraph number 3, DPU subgraph number 1\n",
      "I20250111 08:04:44.371474    99 compile_pass_manager.cpp:504] [UNILOG][INFO] Compile done.\n"
     ]
    },
    {
     "name": "stdout",
     "output_type": "stream",
     "text": [
      "[INFO] Namespace(batchsize=1, inputs_shape=None, layout='NHWC', model_files=['/tmp/root/tensorflow_model_optimization/tmp_sub_graph_quantized_20250111-080442-258914_QKDzMH.h5'], model_type='tensorflow2', named_inputs_shape=None, out_filename='/tmp/root/tensorflow_model_optimization/tmp_sub_graph_xnnc_20250111-080442-258914_QKDzMH.xmodel', proto=None)\n",
      "[INFO] tensorflow2 model: /tmp/root/tensorflow_model_optimization/tmp_sub_graph_quantized_20250111-080442-258914_QKDzMH.h5\n",
      "[INFO] keras version: 2.12.0\n",
      "[INFO] Tensorflow Keras model type: functional\n"
     ]
    },
    {
     "name": "stderr",
     "output_type": "stream",
     "text": [
      "[INFO] parse raw model     :100%|█| 3/3 [00:00<00:00, 17166.32it/s]             \n",
      "[INFO] infer shape (NHWC)  :100%|█| 4/4 [00:00<00:00, 9811.24it/s]              \n",
      "[INFO] perform level-0 opt :100%|█| 1/1 [00:00<00:00, 4364.52it/s]              \n",
      "[INFO] perform level-1 opt :100%|█| 2/2 [00:00<00:00, 18157.16it/s]             \n",
      "[INFO] generate xmodel     :100%|█| 4/4 [00:00<00:00, 1373.94it/s]              "
     ]
    },
    {
     "name": "stdout",
     "output_type": "stream",
     "text": [
      "[INFO] dump xmodel ...\r\n",
      "[INFO] dump xmodel: /tmp/root/tensorflow_model_optimization/tmp_sub_graph_xnnc_20250111-080442-258914_QKDzMH.xmodel\n"
     ]
    },
    {
     "name": "stderr",
     "output_type": "stream",
     "text": [
      "\n",
      "I20250111 08:04:44.449414    99 compile_pass_manager.cpp:352] [UNILOG][INFO] Compile mode: dpu\n",
      "I20250111 08:04:44.449429    99 compile_pass_manager.cpp:353] [UNILOG][INFO] Debug mode: null\n",
      "I20250111 08:04:44.449431    99 compile_pass_manager.cpp:357] [UNILOG][INFO] Target architecture: DPUCZDX8G_ISA1_B4096\n",
      "I20250111 08:04:44.449497    99 compile_pass_manager.cpp:465] [UNILOG][INFO] Graph name: model_15, with op num: 8\n",
      "I20250111 08:04:44.449501    99 compile_pass_manager.cpp:478] [UNILOG][INFO] Begin to compile...\n",
      "I20250111 08:04:44.464969    99 compile_pass_manager.cpp:489] [UNILOG][INFO] Total device subgraph number 3, DPU subgraph number 1\n",
      "I20250111 08:04:44.465021    99 compile_pass_manager.cpp:504] [UNILOG][INFO] Compile done.\n"
     ]
    },
    {
     "name": "stdout",
     "output_type": "stream",
     "text": [
      "[INFO] Namespace(batchsize=1, inputs_shape=None, layout='NHWC', model_files=['/tmp/root/tensorflow_model_optimization/tmp_sub_graph_quantized_20250111-080442-258914_QKDzMH.h5'], model_type='tensorflow2', named_inputs_shape=None, out_filename='/tmp/root/tensorflow_model_optimization/tmp_sub_graph_xnnc_20250111-080442-258914_QKDzMH.xmodel', proto=None)\n",
      "[INFO] tensorflow2 model: /tmp/root/tensorflow_model_optimization/tmp_sub_graph_quantized_20250111-080442-258914_QKDzMH.h5\n",
      "[INFO] keras version: 2.12.0\n",
      "[INFO] Tensorflow Keras model type: functional\n"
     ]
    },
    {
     "name": "stderr",
     "output_type": "stream",
     "text": [
      "[INFO] parse raw model     :100%|█| 3/3 [00:00<00:00, 16111.28it/s]             \n",
      "[INFO] infer shape (NHWC)  :100%|█| 4/4 [00:00<00:00, 14266.34it/s]             \n",
      "[INFO] perform level-0 opt :100%|█| 1/1 [00:00<00:00, 4514.86it/s]              \n",
      "[INFO] perform level-1 opt :100%|█| 2/2 [00:00<00:00, 18641.35it/s]             \n",
      "[INFO] generate xmodel     :100%|█| 4/4 [00:00<00:00, 4263.59it/s]              "
     ]
    },
    {
     "name": "stdout",
     "output_type": "stream",
     "text": [
      "[INFO] dump xmodel ...\r\n",
      "[INFO] dump xmodel: /tmp/root/tensorflow_model_optimization/tmp_sub_graph_xnnc_20250111-080442-258914_QKDzMH.xmodel\n"
     ]
    },
    {
     "name": "stderr",
     "output_type": "stream",
     "text": [
      "\n",
      "I20250111 08:04:44.533943    99 compile_pass_manager.cpp:352] [UNILOG][INFO] Compile mode: dpu\n",
      "I20250111 08:04:44.533957    99 compile_pass_manager.cpp:353] [UNILOG][INFO] Debug mode: null\n",
      "I20250111 08:04:44.533960    99 compile_pass_manager.cpp:357] [UNILOG][INFO] Target architecture: DPUCZDX8G_ISA1_B4096\n",
      "I20250111 08:04:44.534049    99 compile_pass_manager.cpp:465] [UNILOG][INFO] Graph name: model_16, with op num: 8\n",
      "I20250111 08:04:44.534052    99 compile_pass_manager.cpp:478] [UNILOG][INFO] Begin to compile...\n",
      "I20250111 08:04:44.537493    99 compile_pass_manager.cpp:489] [UNILOG][INFO] Total device subgraph number 3, DPU subgraph number 1\n",
      "I20250111 08:04:44.537511    99 compile_pass_manager.cpp:504] [UNILOG][INFO] Compile done.\n"
     ]
    },
    {
     "name": "stdout",
     "output_type": "stream",
     "text": [
      "[INFO] Namespace(batchsize=1, inputs_shape=None, layout='NHWC', model_files=['/tmp/root/tensorflow_model_optimization/tmp_sub_graph_quantized_20250111-080442-258914_QKDzMH.h5'], model_type='tensorflow2', named_inputs_shape=None, out_filename='/tmp/root/tensorflow_model_optimization/tmp_sub_graph_xnnc_20250111-080442-258914_QKDzMH.xmodel', proto=None)\n",
      "[INFO] tensorflow2 model: /tmp/root/tensorflow_model_optimization/tmp_sub_graph_quantized_20250111-080442-258914_QKDzMH.h5\n",
      "[INFO] keras version: 2.12.0\n",
      "[INFO] Tensorflow Keras model type: functional\n"
     ]
    },
    {
     "name": "stderr",
     "output_type": "stream",
     "text": [
      "[INFO] parse raw model     :100%|█| 3/3 [00:00<00:00, 16556.46it/s]             \n",
      "[INFO] infer shape (NHWC)  :100%|█| 4/4 [00:00<00:00, 13617.87it/s]             \n",
      "[INFO] perform level-0 opt :100%|█| 1/1 [00:00<00:00, 5302.53it/s]              \n",
      "[INFO] perform level-1 opt :100%|█| 2/2 [00:00<00:00, 11382.10it/s]             \n",
      "[INFO] generate xmodel     :100%|█| 4/4 [00:00<00:00, 1397.29it/s]              "
     ]
    },
    {
     "name": "stdout",
     "output_type": "stream",
     "text": [
      "[INFO] dump xmodel ...\r\n",
      "[INFO] dump xmodel: /tmp/root/tensorflow_model_optimization/tmp_sub_graph_xnnc_20250111-080442-258914_QKDzMH.xmodel\n"
     ]
    },
    {
     "name": "stderr",
     "output_type": "stream",
     "text": [
      "\n",
      "I20250111 08:04:44.619302    99 compile_pass_manager.cpp:352] [UNILOG][INFO] Compile mode: dpu\n",
      "I20250111 08:04:44.619318    99 compile_pass_manager.cpp:353] [UNILOG][INFO] Debug mode: null\n",
      "I20250111 08:04:44.619321    99 compile_pass_manager.cpp:357] [UNILOG][INFO] Target architecture: DPUCZDX8G_ISA1_B4096\n",
      "I20250111 08:04:44.619385    99 compile_pass_manager.cpp:465] [UNILOG][INFO] Graph name: model_17, with op num: 8\n",
      "I20250111 08:04:44.619387    99 compile_pass_manager.cpp:478] [UNILOG][INFO] Begin to compile...\n",
      "I20250111 08:04:44.634733    99 compile_pass_manager.cpp:489] [UNILOG][INFO] Total device subgraph number 3, DPU subgraph number 1\n",
      "I20250111 08:04:44.634755    99 compile_pass_manager.cpp:504] [UNILOG][INFO] Compile done.\n"
     ]
    },
    {
     "name": "stdout",
     "output_type": "stream",
     "text": [
      "[INFO] Namespace(batchsize=1, inputs_shape=None, layout='NHWC', model_files=['/tmp/root/tensorflow_model_optimization/tmp_sub_graph_quantized_20250111-080442-258914_QKDzMH.h5'], model_type='tensorflow2', named_inputs_shape=None, out_filename='/tmp/root/tensorflow_model_optimization/tmp_sub_graph_xnnc_20250111-080442-258914_QKDzMH.xmodel', proto=None)\n",
      "[INFO] tensorflow2 model: /tmp/root/tensorflow_model_optimization/tmp_sub_graph_quantized_20250111-080442-258914_QKDzMH.h5\n",
      "[INFO] keras version: 2.12.0\n",
      "[INFO] Tensorflow Keras model type: functional\n"
     ]
    },
    {
     "name": "stderr",
     "output_type": "stream",
     "text": [
      "[INFO] parse raw model     :100%|█| 3/3 [00:00<00:00, 15270.52it/s]             \n",
      "[INFO] infer shape (NHWC)  :100%|█| 4/4 [00:00<00:00, 15902.57it/s]             \n",
      "[INFO] perform level-0 opt :100%|█| 1/1 [00:00<00:00, 6000.43it/s]              \n",
      "[INFO] perform level-1 opt :100%|█| 2/2 [00:00<00:00, 17549.39it/s]             \n",
      "[INFO] generate xmodel     :100%|█| 4/4 [00:00<00:00, 260.56it/s]               \n"
     ]
    },
    {
     "name": "stdout",
     "output_type": "stream",
     "text": [
      "[INFO] dump xmodel ...\r\n",
      "[INFO] dump xmodel: /tmp/root/tensorflow_model_optimization/tmp_sub_graph_xnnc_20250111-080442-258914_QKDzMH.xmodel\n"
     ]
    },
    {
     "name": "stderr",
     "output_type": "stream",
     "text": [
      "I20250111 08:04:44.761590    99 compile_pass_manager.cpp:352] [UNILOG][INFO] Compile mode: dpu\n",
      "I20250111 08:04:44.761608    99 compile_pass_manager.cpp:353] [UNILOG][INFO] Debug mode: null\n",
      "I20250111 08:04:44.761611    99 compile_pass_manager.cpp:357] [UNILOG][INFO] Target architecture: DPUCZDX8G_ISA1_B4096\n",
      "I20250111 08:04:44.761667    99 compile_pass_manager.cpp:465] [UNILOG][INFO] Graph name: model_18, with op num: 8\n",
      "I20250111 08:04:44.761675    99 compile_pass_manager.cpp:478] [UNILOG][INFO] Begin to compile...\n",
      "I20250111 08:04:44.812870    99 compile_pass_manager.cpp:489] [UNILOG][INFO] Total device subgraph number 3, DPU subgraph number 1\n",
      "I20250111 08:04:44.812896    99 compile_pass_manager.cpp:504] [UNILOG][INFO] Compile done.\n"
     ]
    },
    {
     "name": "stdout",
     "output_type": "stream",
     "text": [
      "[INFO] Namespace(batchsize=1, inputs_shape=None, layout='NHWC', model_files=['/tmp/root/tensorflow_model_optimization/tmp_sub_graph_quantized_20250111-080442-258914_QKDzMH.h5'], model_type='tensorflow2', named_inputs_shape=None, out_filename='/tmp/root/tensorflow_model_optimization/tmp_sub_graph_xnnc_20250111-080442-258914_QKDzMH.xmodel', proto=None)\n",
      "[INFO] tensorflow2 model: /tmp/root/tensorflow_model_optimization/tmp_sub_graph_quantized_20250111-080442-258914_QKDzMH.h5\n",
      "[INFO] keras version: 2.12.0\n",
      "[INFO] Tensorflow Keras model type: functional\n"
     ]
    },
    {
     "name": "stderr",
     "output_type": "stream",
     "text": [
      "[INFO] parse raw model     :100%|█| 3/3 [00:00<00:00, 14106.40it/s]             \n",
      "[INFO] infer shape (NHWC)  :100%|█| 4/4 [00:00<00:00, 13241.69it/s]             \n",
      "[INFO] perform level-0 opt :100%|█| 1/1 [00:00<00:00, 5714.31it/s]              \n",
      "[INFO] perform level-1 opt :100%|█| 2/2 [00:00<00:00, 17050.02it/s]             \n",
      "[INFO] generate xmodel     :100%|█| 4/4 [00:00<00:00, 2722.25it/s]              "
     ]
    },
    {
     "name": "stdout",
     "output_type": "stream",
     "text": [
      "[INFO] dump xmodel ...\r\n",
      "[INFO] dump xmodel: /tmp/root/tensorflow_model_optimization/tmp_sub_graph_xnnc_20250111-080442-258914_QKDzMH.xmodel\n"
     ]
    },
    {
     "name": "stderr",
     "output_type": "stream",
     "text": [
      "\n",
      "I20250111 08:04:44.892603    99 compile_pass_manager.cpp:352] [UNILOG][INFO] Compile mode: dpu\n",
      "I20250111 08:04:44.892616    99 compile_pass_manager.cpp:353] [UNILOG][INFO] Debug mode: null\n",
      "I20250111 08:04:44.892619    99 compile_pass_manager.cpp:357] [UNILOG][INFO] Target architecture: DPUCZDX8G_ISA1_B4096\n",
      "I20250111 08:04:44.892674    99 compile_pass_manager.cpp:465] [UNILOG][INFO] Graph name: model_19, with op num: 8\n",
      "I20250111 08:04:44.892683    99 compile_pass_manager.cpp:478] [UNILOG][INFO] Begin to compile...\n",
      "I20250111 08:04:44.897828    99 compile_pass_manager.cpp:489] [UNILOG][INFO] Total device subgraph number 3, DPU subgraph number 1\n",
      "I20250111 08:04:44.897846    99 compile_pass_manager.cpp:504] [UNILOG][INFO] Compile done.\n"
     ]
    },
    {
     "name": "stdout",
     "output_type": "stream",
     "text": [
      "[INFO] Namespace(batchsize=1, inputs_shape=None, layout='NHWC', model_files=['/tmp/root/tensorflow_model_optimization/tmp_sub_graph_quantized_20250111-080442-258914_QKDzMH.h5'], model_type='tensorflow2', named_inputs_shape=None, out_filename='/tmp/root/tensorflow_model_optimization/tmp_sub_graph_xnnc_20250111-080442-258914_QKDzMH.xmodel', proto=None)\n",
      "[INFO] tensorflow2 model: /tmp/root/tensorflow_model_optimization/tmp_sub_graph_quantized_20250111-080442-258914_QKDzMH.h5\n",
      "[INFO] keras version: 2.12.0\n",
      "[INFO] Tensorflow Keras model type: functional\n"
     ]
    },
    {
     "name": "stderr",
     "output_type": "stream",
     "text": [
      "[INFO] parse raw model     :100%|█| 3/3 [00:00<00:00, 14364.05it/s]             \n",
      "[INFO] infer shape (NHWC)  :100%|█| 4/4 [00:00<00:00, 24564.01it/s]             \n",
      "[INFO] perform level-0 opt :100%|█| 1/1 [00:00<00:00, 5203.85it/s]              \n",
      "[INFO] perform level-1 opt :100%|█| 2/2 [00:00<00:00, 10292.77it/s]             \n",
      "[INFO] generate xmodel     :100%|█| 4/4 [00:00<00:00, 322.52it/s]               \n",
      "I20250111 08:04:45.018889    99 compile_pass_manager.cpp:352] [UNILOG][INFO] Compile mode: dpu\n",
      "I20250111 08:04:45.018908    99 compile_pass_manager.cpp:353] [UNILOG][INFO] Debug mode: null\n",
      "I20250111 08:04:45.018913    99 compile_pass_manager.cpp:357] [UNILOG][INFO] Target architecture: DPUCZDX8G_ISA1_B4096\n"
     ]
    },
    {
     "name": "stdout",
     "output_type": "stream",
     "text": [
      "[INFO] dump xmodel ...\r\n",
      "[INFO] dump xmodel: /tmp/root/tensorflow_model_optimization/tmp_sub_graph_xnnc_20250111-080442-258914_QKDzMH.xmodel\n"
     ]
    },
    {
     "name": "stderr",
     "output_type": "stream",
     "text": [
      "I20250111 08:04:45.018972    99 compile_pass_manager.cpp:465] [UNILOG][INFO] Graph name: model_20, with op num: 8\n",
      "I20250111 08:04:45.018975    99 compile_pass_manager.cpp:478] [UNILOG][INFO] Begin to compile...\n",
      "I20250111 08:04:45.070922    99 compile_pass_manager.cpp:489] [UNILOG][INFO] Total device subgraph number 3, DPU subgraph number 1\n",
      "I20250111 08:04:45.070946    99 compile_pass_manager.cpp:504] [UNILOG][INFO] Compile done.\n"
     ]
    },
    {
     "name": "stdout",
     "output_type": "stream",
     "text": [
      "[INFO] Namespace(batchsize=1, inputs_shape=None, layout='NHWC', model_files=['/tmp/root/tensorflow_model_optimization/tmp_sub_graph_quantized_20250111-080442-258914_QKDzMH.h5'], model_type='tensorflow2', named_inputs_shape=None, out_filename='/tmp/root/tensorflow_model_optimization/tmp_sub_graph_xnnc_20250111-080442-258914_QKDzMH.xmodel', proto=None)\n",
      "[INFO] tensorflow2 model: /tmp/root/tensorflow_model_optimization/tmp_sub_graph_quantized_20250111-080442-258914_QKDzMH.h5\n",
      "[INFO] keras version: 2.12.0\n",
      "[INFO] Tensorflow Keras model type: functional\n"
     ]
    },
    {
     "name": "stderr",
     "output_type": "stream",
     "text": [
      "[INFO] parse raw model     :100%|█| 3/3 [00:00<00:00, 15630.95it/s]             \n",
      "[INFO] infer shape (NHWC)  :100%|█| 6/6 [00:00<00:00, 38538.78it/s]             \n",
      "[INFO] perform level-0 opt :100%|█| 1/1 [00:00<00:00, 3809.54it/s]              \n",
      "[INFO] perform level-1 opt :100%|█| 2/2 [00:00<00:00, 11865.07it/s]             \n",
      "[INFO] generate xmodel     :100%|█| 6/6 [00:00<00:00, 6466.04it/s]              "
     ]
    },
    {
     "name": "stdout",
     "output_type": "stream",
     "text": [
      "[INFO] dump xmodel ...\r\n",
      "[INFO] dump xmodel: /tmp/root/tensorflow_model_optimization/tmp_sub_graph_xnnc_20250111-080442-258914_QKDzMH.xmodel\n"
     ]
    },
    {
     "name": "stderr",
     "output_type": "stream",
     "text": [
      "\n",
      "I20250111 08:04:45.144151    99 compile_pass_manager.cpp:352] [UNILOG][INFO] Compile mode: dpu\n",
      "I20250111 08:04:45.144163    99 compile_pass_manager.cpp:353] [UNILOG][INFO] Debug mode: null\n",
      "I20250111 08:04:45.144167    99 compile_pass_manager.cpp:357] [UNILOG][INFO] Target architecture: DPUCZDX8G_ISA1_B4096\n",
      "I20250111 08:04:45.144253    99 compile_pass_manager.cpp:465] [UNILOG][INFO] Graph name: model_21, with op num: 8\n",
      "I20250111 08:04:45.144258    99 compile_pass_manager.cpp:478] [UNILOG][INFO] Begin to compile...\n",
      "I20250111 08:04:45.148295    99 compile_pass_manager.cpp:489] [UNILOG][INFO] Total device subgraph number 3, DPU subgraph number 1\n",
      "I20250111 08:04:45.148314    99 compile_pass_manager.cpp:504] [UNILOG][INFO] Compile done.\n"
     ]
    },
    {
     "name": "stdout",
     "output_type": "stream",
     "text": [
      "[INFO] Namespace(batchsize=1, inputs_shape=None, layout='NHWC', model_files=['/tmp/root/tensorflow_model_optimization/tmp_sub_graph_quantized_20250111-080442-259036_AJMGCf.h5'], model_type='tensorflow2', named_inputs_shape=None, out_filename='/tmp/root/tensorflow_model_optimization/tmp_sub_graph_xnnc_20250111-080442-259036_AJMGCf.xmodel', proto=None)\n",
      "[INFO] tensorflow2 model: /tmp/root/tensorflow_model_optimization/tmp_sub_graph_quantized_20250111-080442-259036_AJMGCf.h5\n",
      "[INFO] keras version: 2.12.0\n",
      "[INFO] Tensorflow Keras model type: functional\n"
     ]
    },
    {
     "name": "stderr",
     "output_type": "stream",
     "text": [
      "[INFO] parse raw model     :100%|█| 6/6 [00:00<00:00, 18157.16it/s]             \n",
      "[INFO] infer shape (NHWC)  :100%|█| 7/7 [00:00<00:00, 12765.27it/s]             \n",
      "[INFO] perform level-0 opt :100%|█| 1/1 [00:00<00:00, 3785.47it/s]              \n",
      "[INFO] perform level-1 opt :100%|█| 2/2 [00:00<00:00, 11491.24it/s]             \n",
      "[INFO] generate xmodel     :100%|█| 7/7 [00:00<00:00, 10463.34it/s]             \n",
      "I20250111 08:04:45.273443    99 compile_pass_manager.cpp:352] [UNILOG][INFO] Compile mode: dpu\n",
      "I20250111 08:04:45.273456    99 compile_pass_manager.cpp:353] [UNILOG][INFO] Debug mode: null\n",
      "I20250111 08:04:45.273459    99 compile_pass_manager.cpp:357] [UNILOG][INFO] Target architecture: DPUCZDX8G_ISA1_B4096\n",
      "I20250111 08:04:45.273515    99 compile_pass_manager.cpp:465] [UNILOG][INFO] Graph name: model_22, with op num: 7\n",
      "I20250111 08:04:45.273519    99 compile_pass_manager.cpp:478] [UNILOG][INFO] Begin to compile...\n",
      "I20250111 08:04:45.275290    99 compile_pass_manager.cpp:489] [UNILOG][INFO] Total device subgraph number 4, DPU subgraph number 1\n",
      "I20250111 08:04:45.275308    99 compile_pass_manager.cpp:504] [UNILOG][INFO] Compile done.\n"
     ]
    },
    {
     "name": "stdout",
     "output_type": "stream",
     "text": [
      "[INFO] dump xmodel ...\r\n",
      "[INFO] dump xmodel: /tmp/root/tensorflow_model_optimization/tmp_sub_graph_xnnc_20250111-080442-259036_AJMGCf.xmodel\n",
      "[INFO] Namespace(batchsize=1, inputs_shape=None, layout='NHWC', model_files=['/tmp/root/tensorflow_model_optimization/tmp_sub_graph_quantized_20250111-080442-259036_AJMGCf.h5'], model_type='tensorflow2', named_inputs_shape=None, out_filename='/tmp/root/tensorflow_model_optimization/tmp_sub_graph_xnnc_20250111-080442-259036_AJMGCf.xmodel', proto=None)\n",
      "[INFO] tensorflow2 model: /tmp/root/tensorflow_model_optimization/tmp_sub_graph_quantized_20250111-080442-259036_AJMGCf.h5\n",
      "[INFO] keras version: 2.12.0\n",
      "[INFO] Tensorflow Keras model type: functional\n"
     ]
    },
    {
     "name": "stderr",
     "output_type": "stream",
     "text": [
      "[INFO] parse raw model     :100%|█| 6/6 [00:00<00:00, 20311.40it/s]             \n",
      "[INFO] infer shape (NHWC)  :100%|█| 7/7 [00:00<00:00, 14776.11it/s]             \n",
      "[INFO] perform level-0 opt :100%|█| 1/1 [00:00<00:00, 3744.91it/s]              \n",
      "[INFO] perform level-1 opt :100%|█| 2/2 [00:00<00:00, 11140.25it/s]             \n",
      "[INFO] generate xmodel     :100%|█| 7/7 [00:00<00:00, 10672.53it/s]             \n",
      "I20250111 08:04:45.337635    99 compile_pass_manager.cpp:352] [UNILOG][INFO] Compile mode: dpu\n",
      "I20250111 08:04:45.337649    99 compile_pass_manager.cpp:353] [UNILOG][INFO] Debug mode: null\n",
      "I20250111 08:04:45.337652    99 compile_pass_manager.cpp:357] [UNILOG][INFO] Target architecture: DPUCZDX8G_ISA1_B4096\n",
      "I20250111 08:04:45.337707    99 compile_pass_manager.cpp:465] [UNILOG][INFO] Graph name: model_23, with op num: 7\n",
      "I20250111 08:04:45.337710    99 compile_pass_manager.cpp:478] [UNILOG][INFO] Begin to compile...\n",
      "I20250111 08:04:45.339429    99 compile_pass_manager.cpp:489] [UNILOG][INFO] Total device subgraph number 4, DPU subgraph number 1\n",
      "I20250111 08:04:45.339447    99 compile_pass_manager.cpp:504] [UNILOG][INFO] Compile done.\n"
     ]
    },
    {
     "name": "stdout",
     "output_type": "stream",
     "text": [
      "[INFO] dump xmodel: /tmp/root/tensorflow_model_optimization/tmp_sub_graph_xnnc_20250111-080442-259036_AJMGCf.xmodel\n",
      "[INFO] Namespace(batchsize=1, inputs_shape=None, layout='NHWC', model_files=['/tmp/root/tensorflow_model_optimization/tmp_sub_graph_quantized_20250111-080442-259036_AJMGCf.h5'], model_type='tensorflow2', named_inputs_shape=None, out_filename='/tmp/root/tensorflow_model_optimization/tmp_sub_graph_xnnc_20250111-080442-259036_AJMGCf.xmodel', proto=None)\n",
      "[INFO] tensorflow2 model: /tmp/root/tensorflow_model_optimization/tmp_sub_graph_quantized_20250111-080442-259036_AJMGCf.h5\n",
      "[INFO] keras version: 2.12.0\n",
      "[INFO] Tensorflow Keras model type: functional\n"
     ]
    },
    {
     "name": "stderr",
     "output_type": "stream",
     "text": [
      "[INFO] parse raw model     :100%|█| 6/6 [00:00<00:00, 31655.12it/s]             \n",
      "[INFO] infer shape (NHWC)  :100%|█| 7/7 [00:00<00:00, 22480.96it/s]             \n",
      "[INFO] perform level-0 opt :100%|█| 1/1 [00:00<00:00, 3466.37it/s]              \n",
      "[INFO] perform level-1 opt :100%|█| 2/2 [00:00<00:00, 13774.40it/s]             \n",
      "[INFO] generate xmodel     :100%|█| 7/7 [00:00<00:00, 11459.85it/s]             "
     ]
    },
    {
     "name": "stdout",
     "output_type": "stream",
     "text": [
      "[INFO] dump xmodel ...\r\n",
      "[INFO] dump xmodel: /tmp/root/tensorflow_model_optimization/tmp_sub_graph_xnnc_20250111-080442-259036_AJMGCf.xmodel\n"
     ]
    },
    {
     "name": "stderr",
     "output_type": "stream",
     "text": [
      "\n",
      "I20250111 08:04:45.411650    99 compile_pass_manager.cpp:352] [UNILOG][INFO] Compile mode: dpu\n",
      "I20250111 08:04:45.411664    99 compile_pass_manager.cpp:353] [UNILOG][INFO] Debug mode: null\n",
      "I20250111 08:04:45.411666    99 compile_pass_manager.cpp:357] [UNILOG][INFO] Target architecture: DPUCZDX8G_ISA1_B4096\n",
      "I20250111 08:04:45.411723    99 compile_pass_manager.cpp:465] [UNILOG][INFO] Graph name: model_24, with op num: 7\n",
      "I20250111 08:04:45.411726    99 compile_pass_manager.cpp:478] [UNILOG][INFO] Begin to compile...\n",
      "I20250111 08:04:45.413443    99 compile_pass_manager.cpp:489] [UNILOG][INFO] Total device subgraph number 4, DPU subgraph number 1\n",
      "I20250111 08:04:45.413461    99 compile_pass_manager.cpp:504] [UNILOG][INFO] Compile done.\n"
     ]
    },
    {
     "name": "stdout",
     "output_type": "stream",
     "text": [
      "[INFO] Namespace(batchsize=1, inputs_shape=None, layout='NHWC', model_files=['/tmp/root/tensorflow_model_optimization/tmp_sub_graph_quantized_20250111-080442-259036_AJMGCf.h5'], model_type='tensorflow2', named_inputs_shape=None, out_filename='/tmp/root/tensorflow_model_optimization/tmp_sub_graph_xnnc_20250111-080442-259036_AJMGCf.xmodel', proto=None)\n",
      "[INFO] tensorflow2 model: /tmp/root/tensorflow_model_optimization/tmp_sub_graph_quantized_20250111-080442-259036_AJMGCf.h5\n",
      "[INFO] keras version: 2.12.0\n",
      "[INFO] Tensorflow Keras model type: functional\n"
     ]
    },
    {
     "name": "stderr",
     "output_type": "stream",
     "text": [
      "[INFO] parse raw model     :100%|█| 6/6 [00:00<00:00, 11798.32it/s]             \n",
      "[INFO] infer shape (NHWC)  :100%|█| 7/7 [00:00<00:00, 14850.85it/s]             \n",
      "[INFO] perform level-0 opt :100%|█| 1/1 [00:00<00:00, 3307.81it/s]              \n",
      "[INFO] perform level-1 opt :100%|█| 2/2 [00:00<00:00, 6168.09it/s]              \n",
      "[INFO] generate xmodel     :100%|█| 7/7 [00:00<00:00, 9747.72it/s]              \n",
      "I20250111 08:04:45.481854    99 compile_pass_manager.cpp:352] [UNILOG][INFO] Compile mode: dpu\n",
      "I20250111 08:04:45.481868    99 compile_pass_manager.cpp:353] [UNILOG][INFO] Debug mode: null\n",
      "I20250111 08:04:45.481870    99 compile_pass_manager.cpp:357] [UNILOG][INFO] Target architecture: DPUCZDX8G_ISA1_B4096\n",
      "I20250111 08:04:45.481926    99 compile_pass_manager.cpp:465] [UNILOG][INFO] Graph name: model_25, with op num: 7\n",
      "I20250111 08:04:45.481930    99 compile_pass_manager.cpp:478] [UNILOG][INFO] Begin to compile...\n",
      "I20250111 08:04:45.483604    99 compile_pass_manager.cpp:489] [UNILOG][INFO] Total device subgraph number 4, DPU subgraph number 1\n",
      "I20250111 08:04:45.483621    99 compile_pass_manager.cpp:504] [UNILOG][INFO] Compile done.\n"
     ]
    },
    {
     "name": "stdout",
     "output_type": "stream",
     "text": [
      "[INFO] dump xmodel ...\r\n",
      "[INFO] dump xmodel: /tmp/root/tensorflow_model_optimization/tmp_sub_graph_xnnc_20250111-080442-259036_AJMGCf.xmodel\n",
      "[INFO] Namespace(batchsize=1, inputs_shape=None, layout='NHWC', model_files=['/tmp/root/tensorflow_model_optimization/tmp_sub_graph_quantized_20250111-080442-259036_AJMGCf.h5'], model_type='tensorflow2', named_inputs_shape=None, out_filename='/tmp/root/tensorflow_model_optimization/tmp_sub_graph_xnnc_20250111-080442-259036_AJMGCf.xmodel', proto=None)\n",
      "[INFO] tensorflow2 model: /tmp/root/tensorflow_model_optimization/tmp_sub_graph_quantized_20250111-080442-259036_AJMGCf.h5\n",
      "[INFO] keras version: 2.12.0\n",
      "[INFO] Tensorflow Keras model type: functional\n"
     ]
    },
    {
     "name": "stderr",
     "output_type": "stream",
     "text": [
      "[INFO] parse raw model     :100%|█| 6/6 [00:00<00:00, 20798.20it/s]             \n",
      "[INFO] infer shape (NHWC)  :100%|█| 7/7 [00:00<00:00, 23928.38it/s]             \n",
      "[INFO] perform level-0 opt :100%|█| 1/1 [00:00<00:00, 3738.24it/s]              \n",
      "[INFO] perform level-1 opt :100%|█| 2/2 [00:00<00:00, 14098.50it/s]             \n",
      "[INFO] generate xmodel     :100%|█| 7/7 [00:00<00:00, 11600.21it/s]             "
     ]
    },
    {
     "name": "stdout",
     "output_type": "stream",
     "text": [
      "[INFO] dump xmodel ...\r\n",
      "[INFO] dump xmodel: /tmp/root/tensorflow_model_optimization/tmp_sub_graph_xnnc_20250111-080442-259036_AJMGCf.xmodel\n",
      "[INFO] Namespace(batchsize=1, inputs_shape=None, layout='NHWC', model_files=['/tmp/root/tensorflow_model_optimization/tmp_sub_graph_quantized_20250111-080442-259036_AJMGCf.h5'], model_type='tensorflow2', named_inputs_shape=None, out_filename='/tmp/root/tensorflow_model_optimization/tmp_sub_graph_xnnc_20250111-080442-259036_AJMGCf.xmodel', proto=None)\n",
      "[INFO] tensorflow2 model: /tmp/root/tensorflow_model_optimization/tmp_sub_graph_quantized_20250111-080442-259036_AJMGCf.h5\n",
      "[INFO] keras version: 2.12.0\n",
      "[INFO] Tensorflow Keras model type: functional\n"
     ]
    },
    {
     "name": "stderr",
     "output_type": "stream",
     "text": [
      "\n",
      "I20250111 08:04:45.544761    99 compile_pass_manager.cpp:352] [UNILOG][INFO] Compile mode: dpu\n",
      "I20250111 08:04:45.544775    99 compile_pass_manager.cpp:353] [UNILOG][INFO] Debug mode: null\n",
      "I20250111 08:04:45.544777    99 compile_pass_manager.cpp:357] [UNILOG][INFO] Target architecture: DPUCZDX8G_ISA1_B4096\n",
      "I20250111 08:04:45.544831    99 compile_pass_manager.cpp:465] [UNILOG][INFO] Graph name: model_26, with op num: 7\n",
      "I20250111 08:04:45.544834    99 compile_pass_manager.cpp:478] [UNILOG][INFO] Begin to compile...\n",
      "I20250111 08:04:45.546525    99 compile_pass_manager.cpp:489] [UNILOG][INFO] Total device subgraph number 4, DPU subgraph number 1\n",
      "I20250111 08:04:45.546542    99 compile_pass_manager.cpp:504] [UNILOG][INFO] Compile done.\n",
      "[INFO] parse raw model     :100%|█| 6/6 [00:00<00:00, 36578.23it/s]             \n",
      "[INFO] infer shape (NHWC)  :100%|█| 7/7 [00:00<00:00, 16275.02it/s]             \n",
      "[INFO] perform level-0 opt :100%|█| 1/1 [00:00<00:00, 3771.86it/s]              \n",
      "[INFO] perform level-1 opt :100%|█| 2/2 [00:00<00:00, 11459.85it/s]             \n",
      "[INFO] generate xmodel     :100%|█| 7/7 [00:00<00:00, 11033.49it/s]             \n",
      "I20250111 08:04:45.607857    99 compile_pass_manager.cpp:352] [UNILOG][INFO] Compile mode: dpu\n",
      "I20250111 08:04:45.607872    99 compile_pass_manager.cpp:353] [UNILOG][INFO] Debug mode: null\n",
      "I20250111 08:04:45.607875    99 compile_pass_manager.cpp:357] [UNILOG][INFO] Target architecture: DPUCZDX8G_ISA1_B4096\n",
      "I20250111 08:04:45.607939    99 compile_pass_manager.cpp:465] [UNILOG][INFO] Graph name: model_27, with op num: 7\n",
      "I20250111 08:04:45.607942    99 compile_pass_manager.cpp:478] [UNILOG][INFO] Begin to compile...\n",
      "I20250111 08:04:45.609695    99 compile_pass_manager.cpp:489] [UNILOG][INFO] Total device subgraph number 4, DPU subgraph number 1\n",
      "I20250111 08:04:45.609714    99 compile_pass_manager.cpp:504] [UNILOG][INFO] Compile done.\n"
     ]
    },
    {
     "name": "stdout",
     "output_type": "stream",
     "text": [
      "[INFO] dump xmodel: /tmp/root/tensorflow_model_optimization/tmp_sub_graph_xnnc_20250111-080442-259036_AJMGCf.xmodel\n",
      "[INFO] Namespace(batchsize=1, inputs_shape=None, layout='NHWC', model_files=['/tmp/root/tensorflow_model_optimization/tmp_sub_graph_quantized_20250111-080442-259036_AJMGCf.h5'], model_type='tensorflow2', named_inputs_shape=None, out_filename='/tmp/root/tensorflow_model_optimization/tmp_sub_graph_xnnc_20250111-080442-259036_AJMGCf.xmodel', proto=None)\n",
      "[INFO] tensorflow2 model: /tmp/root/tensorflow_model_optimization/tmp_sub_graph_quantized_20250111-080442-259036_AJMGCf.h5\n",
      "[INFO] keras version: 2.12.0\n",
      "[INFO] Tensorflow Keras model type: functional\n"
     ]
    },
    {
     "name": "stderr",
     "output_type": "stream",
     "text": [
      "[INFO] parse raw model     :100%|█| 6/6 [00:00<00:00, 26857.87it/s]             \n",
      "[INFO] infer shape (NHWC)  :100%|█| 7/7 [00:00<00:00, 19744.54it/s]             \n",
      "[INFO] perform level-0 opt :100%|█| 1/1 [00:00<00:00, 2803.68it/s]              \n",
      "[INFO] perform level-1 opt :100%|█| 2/2 [00:00<00:00, 10070.36it/s]             \n",
      "[INFO] generate xmodel     :100%|█| 7/7 [00:00<00:00, 10580.23it/s]             \n",
      "I20250111 08:04:45.674947    99 compile_pass_manager.cpp:352] [UNILOG][INFO] Compile mode: dpu\n",
      "I20250111 08:04:45.674959    99 compile_pass_manager.cpp:353] [UNILOG][INFO] Debug mode: null\n",
      "I20250111 08:04:45.674962    99 compile_pass_manager.cpp:357] [UNILOG][INFO] Target architecture: DPUCZDX8G_ISA1_B4096\n",
      "I20250111 08:04:45.675017    99 compile_pass_manager.cpp:465] [UNILOG][INFO] Graph name: model_28, with op num: 7\n",
      "I20250111 08:04:45.675020    99 compile_pass_manager.cpp:478] [UNILOG][INFO] Begin to compile...\n",
      "I20250111 08:04:45.676848    99 compile_pass_manager.cpp:489] [UNILOG][INFO] Total device subgraph number 4, DPU subgraph number 1\n",
      "I20250111 08:04:45.676867    99 compile_pass_manager.cpp:504] [UNILOG][INFO] Compile done.\n"
     ]
    },
    {
     "name": "stdout",
     "output_type": "stream",
     "text": [
      "[INFO] dump xmodel: /tmp/root/tensorflow_model_optimization/tmp_sub_graph_xnnc_20250111-080442-259036_AJMGCf.xmodel\n",
      "[INFO] Namespace(batchsize=1, inputs_shape=None, layout='NHWC', model_files=['/tmp/root/tensorflow_model_optimization/tmp_sub_graph_quantized_20250111-080442-259036_AJMGCf.h5'], model_type='tensorflow2', named_inputs_shape=None, out_filename='/tmp/root/tensorflow_model_optimization/tmp_sub_graph_xnnc_20250111-080442-259036_AJMGCf.xmodel', proto=None)\n",
      "[INFO] tensorflow2 model: /tmp/root/tensorflow_model_optimization/tmp_sub_graph_quantized_20250111-080442-259036_AJMGCf.h5\n",
      "[INFO] keras version: 2.12.0\n",
      "[INFO] Tensorflow Keras model type: functional\n"
     ]
    },
    {
     "name": "stderr",
     "output_type": "stream",
     "text": [
      "[INFO] parse raw model     :100%|█| 6/6 [00:00<00:00, 25065.56it/s]             \n",
      "[INFO] infer shape (NHWC)  :100%|█| 7/7 [00:00<00:00, 21107.21it/s]             \n",
      "[INFO] perform level-0 opt :100%|█| 1/1 [00:00<00:00, 2649.59it/s]              \n",
      "[INFO] perform level-1 opt :100%|█| 2/2 [00:00<00:00, 13107.20it/s]             \n",
      "[INFO] generate xmodel     :100%|█| 7/7 [00:00<00:00, 11568.21it/s]             \n"
     ]
    },
    {
     "name": "stdout",
     "output_type": "stream",
     "text": [
      "[INFO] dump xmodel ...\r\n",
      "[INFO] dump xmodel: /tmp/root/tensorflow_model_optimization/tmp_sub_graph_xnnc_20250111-080442-259036_AJMGCf.xmodel\n"
     ]
    },
    {
     "name": "stderr",
     "output_type": "stream",
     "text": [
      "I20250111 08:04:45.742189    99 compile_pass_manager.cpp:352] [UNILOG][INFO] Compile mode: dpu\n",
      "I20250111 08:04:45.742203    99 compile_pass_manager.cpp:353] [UNILOG][INFO] Debug mode: null\n",
      "I20250111 08:04:45.742208    99 compile_pass_manager.cpp:357] [UNILOG][INFO] Target architecture: DPUCZDX8G_ISA1_B4096\n",
      "I20250111 08:04:45.742267    99 compile_pass_manager.cpp:465] [UNILOG][INFO] Graph name: model_29, with op num: 7\n",
      "I20250111 08:04:45.742270    99 compile_pass_manager.cpp:478] [UNILOG][INFO] Begin to compile...\n",
      "I20250111 08:04:45.744439    99 compile_pass_manager.cpp:489] [UNILOG][INFO] Total device subgraph number 4, DPU subgraph number 1\n",
      "I20250111 08:04:45.744457    99 compile_pass_manager.cpp:504] [UNILOG][INFO] Compile done.\n"
     ]
    },
    {
     "name": "stdout",
     "output_type": "stream",
     "text": [
      "[INFO] Namespace(batchsize=1, inputs_shape=None, layout='NHWC', model_files=['/tmp/root/tensorflow_model_optimization/tmp_sub_graph_quantized_20250111-080442-259110_JwFqmT.h5'], model_type='tensorflow2', named_inputs_shape=None, out_filename='/tmp/root/tensorflow_model_optimization/tmp_sub_graph_xnnc_20250111-080442-259110_JwFqmT.xmodel', proto=None)\n",
      "[INFO] tensorflow2 model: /tmp/root/tensorflow_model_optimization/tmp_sub_graph_quantized_20250111-080442-259110_JwFqmT.h5\n",
      "[INFO] keras version: 2.12.0\n",
      "[INFO] Tensorflow Keras model type: functional\n"
     ]
    },
    {
     "name": "stderr",
     "output_type": "stream",
     "text": [
      "[INFO] parse raw model     :100%|█| 3/3 [00:00<00:00, 6739.64it/s]              \n",
      "[INFO] infer shape (NHWC)  :100%|█| 3/3 [00:00<00:00, 21883.33it/s]             \n",
      "[INFO] perform level-0 opt :100%|█| 1/1 [00:00<00:00, 7096.96it/s]              \n",
      "[INFO] perform level-1 opt :100%|█| 2/2 [00:00<00:00, 19108.45it/s]             \n",
      "[INFO] generate xmodel     :100%|█| 3/3 [00:00<00:00, 5530.95it/s]              \n",
      "I20250111 08:04:45.785578    99 compile_pass_manager.cpp:352] [UNILOG][INFO] Compile mode: dpu\n",
      "I20250111 08:04:45.785593    99 compile_pass_manager.cpp:353] [UNILOG][INFO] Debug mode: null\n",
      "I20250111 08:04:45.785596    99 compile_pass_manager.cpp:357] [UNILOG][INFO] Target architecture: DPUCZDX8G_ISA1_B4096\n",
      "I20250111 08:04:45.785656    99 compile_pass_manager.cpp:465] [UNILOG][INFO] Graph name: model_30, with op num: 3\n",
      "I20250111 08:04:45.785660    99 compile_pass_manager.cpp:478] [UNILOG][INFO] Begin to compile...\n",
      "I20250111 08:04:45.787066    99 compile_pass_manager.cpp:489] [UNILOG][INFO] Total device subgraph number 3, DPU subgraph number 1\n",
      "I20250111 08:04:45.787082    99 compile_pass_manager.cpp:504] [UNILOG][INFO] Compile done.\n"
     ]
    },
    {
     "name": "stdout",
     "output_type": "stream",
     "text": [
      "[INFO] dump xmodel: /tmp/root/tensorflow_model_optimization/tmp_sub_graph_xnnc_20250111-080442-259110_JwFqmT.xmodel\n",
      "[VAI INFO] Inspect Results:\n",
      "[MODEL INFO]:\n",
      "________________________________________________________________________________________________________________________\n",
      "Model Name: model_3\n",
      "________________________________________________________________________________________________________________________\n",
      "ID          Name                    Type                    Device      Notes                                           \n",
      "========================================================================================================================\n",
      "0/68        input_1                 InputLayer              INPUT                                                       \n",
      "------------------------------------------------------------------------------------------------------------------------\n",
      "1/68        conv2d_60               Conv2D<linear>          DPU                                                         \n",
      "------------------------------------------------------------------------------------------------------------------------\n",
      "2/68        batch_normalization_60  BatchNormalization      DPU                                                         \n",
      "------------------------------------------------------------------------------------------------------------------------\n",
      "3/68        re_lu_51                ReLU                    DPU                                                         \n",
      "------------------------------------------------------------------------------------------------------------------------\n",
      "4/68        conv2d_61               Conv2D<linear>          DPU                                                         \n",
      "------------------------------------------------------------------------------------------------------------------------\n",
      "5/68        batch_normalization_61  BatchNormalization      DPU                                                         \n",
      "------------------------------------------------------------------------------------------------------------------------\n",
      "6/68        re_lu_52                ReLU                    DPU                                                         \n",
      "------------------------------------------------------------------------------------------------------------------------\n",
      "7/68        conv2d_62               Conv2D<linear>          DPU                                                         \n",
      "------------------------------------------------------------------------------------------------------------------------\n",
      "8/68        batch_normalization_62  BatchNormalization      DPU                                                         \n",
      "------------------------------------------------------------------------------------------------------------------------\n",
      "9/68        add_24                  Add                     DPU                                                         \n",
      "------------------------------------------------------------------------------------------------------------------------\n",
      "10/68       re_lu_53                ReLU                    DPU                                                         \n",
      "------------------------------------------------------------------------------------------------------------------------\n",
      "11/68       conv2d_63               Conv2D<linear>          DPU                                                         \n",
      "------------------------------------------------------------------------------------------------------------------------\n",
      "12/68       batch_normalization_63  BatchNormalization      DPU                                                         \n",
      "------------------------------------------------------------------------------------------------------------------------\n",
      "13/68       re_lu_54                ReLU                    DPU                                                         \n",
      "------------------------------------------------------------------------------------------------------------------------\n",
      "14/68       conv2d_64               Conv2D<linear>          DPU                                                         \n",
      "------------------------------------------------------------------------------------------------------------------------\n",
      "15/68       batch_normalization_64  BatchNormalization      DPU                                                         \n",
      "------------------------------------------------------------------------------------------------------------------------\n",
      "16/68       add_25                  Add                     DPU                                                         \n",
      "------------------------------------------------------------------------------------------------------------------------\n",
      "17/68       re_lu_55                ReLU                    DPU                                                         \n",
      "------------------------------------------------------------------------------------------------------------------------\n",
      "18/68       conv2d_66               Conv2D<linear>          DPU                                                         \n",
      "------------------------------------------------------------------------------------------------------------------------\n",
      "19/68       batch_normalization_66  BatchNormalization      DPU                                                         \n",
      "------------------------------------------------------------------------------------------------------------------------\n",
      "20/68       re_lu_56                ReLU                    DPU                                                         \n",
      "------------------------------------------------------------------------------------------------------------------------\n",
      "21/68       conv2d_67               Conv2D<linear>          DPU                                                         \n",
      "------------------------------------------------------------------------------------------------------------------------\n",
      "22/68       conv2d_65               Conv2D<linear>          DPU                                                         \n",
      "------------------------------------------------------------------------------------------------------------------------\n",
      "23/68       batch_normalization_67  BatchNormalization      DPU                                                         \n",
      "------------------------------------------------------------------------------------------------------------------------\n",
      "24/68       batch_normalization_65  BatchNormalization      DPU                                                         \n",
      "------------------------------------------------------------------------------------------------------------------------\n",
      "25/68       add_26                  Add                     DPU                                                         \n",
      "------------------------------------------------------------------------------------------------------------------------\n",
      "26/68       re_lu_57                ReLU                    DPU                                                         \n",
      "------------------------------------------------------------------------------------------------------------------------\n",
      "27/68       conv2d_68               Conv2D<linear>          DPU                                                         \n",
      "------------------------------------------------------------------------------------------------------------------------\n",
      "28/68       batch_normalization_68  BatchNormalization      DPU                                                         \n",
      "------------------------------------------------------------------------------------------------------------------------\n",
      "29/68       re_lu_58                ReLU                    DPU                                                         \n",
      "------------------------------------------------------------------------------------------------------------------------\n",
      "30/68       conv2d_69               Conv2D<linear>          DPU                                                         \n",
      "------------------------------------------------------------------------------------------------------------------------\n",
      "31/68       batch_normalization_69  BatchNormalization      DPU                                                         \n",
      "------------------------------------------------------------------------------------------------------------------------\n",
      "32/68       add_27                  Add                     DPU                                                         \n",
      "------------------------------------------------------------------------------------------------------------------------\n",
      "33/68       re_lu_59                ReLU                    DPU                                                         \n",
      "------------------------------------------------------------------------------------------------------------------------\n",
      "34/68       conv2d_71               Conv2D<linear>          DPU                                                         \n",
      "------------------------------------------------------------------------------------------------------------------------\n",
      "35/68       batch_normalization_71  BatchNormalization      DPU                                                         \n",
      "------------------------------------------------------------------------------------------------------------------------\n",
      "36/68       re_lu_60                ReLU                    DPU                                                         \n",
      "------------------------------------------------------------------------------------------------------------------------\n",
      "37/68       conv2d_72               Conv2D<linear>          DPU                                                         \n",
      "------------------------------------------------------------------------------------------------------------------------\n",
      "38/68       conv2d_70               Conv2D<linear>          DPU                                                         \n",
      "------------------------------------------------------------------------------------------------------------------------\n",
      "39/68       batch_normalization_72  BatchNormalization      DPU                                                         \n",
      "------------------------------------------------------------------------------------------------------------------------\n",
      "40/68       batch_normalization_70  BatchNormalization      DPU                                                         \n",
      "------------------------------------------------------------------------------------------------------------------------\n",
      "41/68       add_28                  Add                     DPU                                                         \n",
      "------------------------------------------------------------------------------------------------------------------------\n",
      "42/68       re_lu_61                ReLU                    DPU                                                         \n",
      "------------------------------------------------------------------------------------------------------------------------\n",
      "43/68       conv2d_73               Conv2D<linear>          DPU                                                         \n",
      "------------------------------------------------------------------------------------------------------------------------\n",
      "44/68       batch_normalization_73  BatchNormalization      DPU                                                         \n",
      "------------------------------------------------------------------------------------------------------------------------\n",
      "45/68       re_lu_62                ReLU                    DPU                                                         \n",
      "------------------------------------------------------------------------------------------------------------------------\n",
      "46/68       conv2d_74               Conv2D<linear>          DPU                                                         \n",
      "------------------------------------------------------------------------------------------------------------------------\n",
      "47/68       batch_normalization_74  BatchNormalization      DPU                                                         \n",
      "------------------------------------------------------------------------------------------------------------------------\n",
      "48/68       add_29                  Add                     DPU                                                         \n",
      "------------------------------------------------------------------------------------------------------------------------\n",
      "49/68       re_lu_63                ReLU                    DPU                                                         \n",
      "------------------------------------------------------------------------------------------------------------------------\n",
      "50/68       conv2d_76               Conv2D<linear>          DPU                                                         \n",
      "------------------------------------------------------------------------------------------------------------------------\n",
      "51/68       batch_normalization_76  BatchNormalization      DPU                                                         \n",
      "------------------------------------------------------------------------------------------------------------------------\n",
      "52/68       re_lu_64                ReLU                    DPU                                                         \n",
      "------------------------------------------------------------------------------------------------------------------------\n",
      "53/68       conv2d_77               Conv2D<linear>          DPU                                                         \n",
      "------------------------------------------------------------------------------------------------------------------------\n",
      "54/68       conv2d_75               Conv2D<linear>          DPU                                                         \n",
      "------------------------------------------------------------------------------------------------------------------------\n",
      "55/68       batch_normalization_77  BatchNormalization      DPU                                                         \n",
      "------------------------------------------------------------------------------------------------------------------------\n",
      "56/68       batch_normalization_75  BatchNormalization      DPU                                                         \n",
      "------------------------------------------------------------------------------------------------------------------------\n",
      "57/68       add_30                  Add                     DPU                                                         \n",
      "------------------------------------------------------------------------------------------------------------------------\n",
      "58/68       re_lu_65                ReLU                    DPU                                                         \n",
      "------------------------------------------------------------------------------------------------------------------------\n",
      "59/68       conv2d_78               Conv2D<linear>          DPU                                                         \n",
      "------------------------------------------------------------------------------------------------------------------------\n",
      "60/68       batch_normalization_78  BatchNormalization      DPU                                                         \n",
      "------------------------------------------------------------------------------------------------------------------------\n",
      "61/68       re_lu_66                ReLU                    DPU                                                         \n",
      "------------------------------------------------------------------------------------------------------------------------\n",
      "62/68       conv2d_79               Conv2D<linear>          DPU                                                         \n",
      "------------------------------------------------------------------------------------------------------------------------\n",
      "63/68       batch_normalization_79  BatchNormalization      DPU                                                         \n",
      "------------------------------------------------------------------------------------------------------------------------\n",
      "64/68       add_31                  Add                     DPU                                                         \n",
      "------------------------------------------------------------------------------------------------------------------------\n",
      "65/68       re_lu_67                ReLU                    DPU                                                         \n",
      "------------------------------------------------------------------------------------------------------------------------\n",
      "66/68       average_pooling2d_3     AveragePooling2D        DPU                                                         \n",
      "------------------------------------------------------------------------------------------------------------------------\n",
      "67/68       flatten_3               Flatten                 DPU                                                         \n",
      "------------------------------------------------------------------------------------------------------------------------\n",
      "68/68       dense_3                 Dense<softmax>          DPU+CPU     Seperate layer activation `softmax`; `softmax`  \n",
      "                                                                        is not supported by target                      \n",
      "------------------------------------------------------------------------------------------------------------------------\n",
      "========================================================================================================================\n",
      "[SUMMARY INFO]:\n",
      "- [Target Name]: DPUCZDX8G_ISA1_B4096\n",
      "- [Total Layers]: 69\n",
      "- [Layer Types]: InputLayer(1) Conv2D<linear>(20) BatchNormalization(20) ReLU(17) Add(8) AveragePooling2D(1) Flatten(1) Dense<softmax>(1) \n",
      "- [Partition Results]: INPUT(1) DPU(67) DPU+CPU(1) \n",
      "========================================================================================================================\n",
      "[NOTES INFO]:\n",
      "- [68/68] Layer dense_3 (Type:Dense<softmax>, Device:DPU+CPU):\n",
      "    * Seperate layer activation `softmax`\n",
      "    * `softmax` is not supported by target\n",
      "========================================================================================================================\n",
      "[VAI INFO] Start plotting model to inspect/model_plot.svg\n",
      "[VAI INFO] Inspected model has been plotted in: inspect/model_plot.svg.\n",
      "[VAI INFO] Start dumping inspected model to inspect/inspected_model.h5\n"
     ]
    },
    {
     "name": "stdout",
     "output_type": "stream",
     "text": [
      "[VAI INFO] Inspected model has been dumped in: inspect/inspected_model.h5.\n",
      "[VAI INFO] Start dumping inspected results to inspect/inspect_results.txt\n",
      "[VAI INFO] Inspected results has been dumped in: inspect/inspect_results.txt.\n",
      "[VAI INFO] Inspect Finished.\n"
     ]
    },
    {
     "data": {
      "text/plain": [
       "{<keras.engine.input_layer.InputLayer at 0x7cd13fafdfa0>: <tensorflow_model_optimization.python.core.quantization.keras.vitis.vitis_inspect.InspectResult at 0x7cd13e786cd0>,\n",
       " <keras.layers.convolutional.conv2d.Conv2D at 0x7cd13fae0940>: <tensorflow_model_optimization.python.core.quantization.keras.vitis.vitis_inspect.InspectResult at 0x7cd13e786b80>,\n",
       " <keras.layers.normalization.batch_normalization.BatchNormalization at 0x7cd13fae0880>: <tensorflow_model_optimization.python.core.quantization.keras.vitis.vitis_inspect.InspectResult at 0x7cd13e786520>,\n",
       " <keras.layers.activation.relu.ReLU at 0x7cd13fae0340>: <tensorflow_model_optimization.python.core.quantization.keras.vitis.vitis_inspect.InspectResult at 0x7cd13e7869d0>,\n",
       " <keras.layers.convolutional.conv2d.Conv2D at 0x7cd13fac4c70>: <tensorflow_model_optimization.python.core.quantization.keras.vitis.vitis_inspect.InspectResult at 0x7cd13e786760>,\n",
       " <keras.layers.normalization.batch_normalization.BatchNormalization at 0x7cd13fac4a90>: <tensorflow_model_optimization.python.core.quantization.keras.vitis.vitis_inspect.InspectResult at 0x7cd13e786130>,\n",
       " <keras.layers.activation.relu.ReLU at 0x7cd1d7fc3dc0>: <tensorflow_model_optimization.python.core.quantization.keras.vitis.vitis_inspect.InspectResult at 0x7cd13e786fa0>,\n",
       " <keras.layers.convolutional.conv2d.Conv2D at 0x7cd13fac4310>: <tensorflow_model_optimization.python.core.quantization.keras.vitis.vitis_inspect.InspectResult at 0x7cd13e786670>,\n",
       " <keras.layers.normalization.batch_normalization.BatchNormalization at 0x7cd13fb37fd0>: <tensorflow_model_optimization.python.core.quantization.keras.vitis.vitis_inspect.InspectResult at 0x7cd13e786730>,\n",
       " <keras.layers.merging.add.Add at 0x7cd13fb37790>: <tensorflow_model_optimization.python.core.quantization.keras.vitis.vitis_inspect.InspectResult at 0x7cd13e786f40>,\n",
       " <keras.layers.activation.relu.ReLU at 0x7cd13fb38310>: <tensorflow_model_optimization.python.core.quantization.keras.vitis.vitis_inspect.InspectResult at 0x7cd13e786d90>,\n",
       " <keras.layers.convolutional.conv2d.Conv2D at 0x7cd13fb38550>: <tensorflow_model_optimization.python.core.quantization.keras.vitis.vitis_inspect.InspectResult at 0x7cd13e786a00>,\n",
       " <keras.layers.normalization.batch_normalization.BatchNormalization at 0x7cd13fb38700>: <tensorflow_model_optimization.python.core.quantization.keras.vitis.vitis_inspect.InspectResult at 0x7cd13e786100>,\n",
       " <keras.layers.activation.relu.ReLU at 0x7cd13fb38cd0>: <tensorflow_model_optimization.python.core.quantization.keras.vitis.vitis_inspect.InspectResult at 0x7cd13e786ee0>,\n",
       " <keras.layers.convolutional.conv2d.Conv2D at 0x7cd13fb3d340>: <tensorflow_model_optimization.python.core.quantization.keras.vitis.vitis_inspect.InspectResult at 0x7cd13e7c7610>,\n",
       " <keras.layers.normalization.batch_normalization.BatchNormalization at 0x7cd13fb3d4f0>: <tensorflow_model_optimization.python.core.quantization.keras.vitis.vitis_inspect.InspectResult at 0x7cd13e7c7a30>,\n",
       " <keras.layers.merging.add.Add at 0x7cd13fb3dac0>: <tensorflow_model_optimization.python.core.quantization.keras.vitis.vitis_inspect.InspectResult at 0x7cd13e7f37f0>,\n",
       " <keras.layers.activation.relu.ReLU at 0x7cd13fb3b160>: <tensorflow_model_optimization.python.core.quantization.keras.vitis.vitis_inspect.InspectResult at 0x7cd13e7f3fd0>,\n",
       " <keras.layers.convolutional.conv2d.Conv2D at 0x7cd13fb3b3a0>: <tensorflow_model_optimization.python.core.quantization.keras.vitis.vitis_inspect.InspectResult at 0x7cd13e7f3820>,\n",
       " <keras.layers.normalization.batch_normalization.BatchNormalization at 0x7cd13fb3b550>: <tensorflow_model_optimization.python.core.quantization.keras.vitis.vitis_inspect.InspectResult at 0x7cd13e7f33d0>,\n",
       " <keras.layers.activation.relu.ReLU at 0x7cd13fb3bb20>: <tensorflow_model_optimization.python.core.quantization.keras.vitis.vitis_inspect.InspectResult at 0x7cd13e7f3100>,\n",
       " <keras.layers.convolutional.conv2d.Conv2D at 0x7cd13fb3bc40>: <tensorflow_model_optimization.python.core.quantization.keras.vitis.vitis_inspect.InspectResult at 0x7cd13e7f3400>,\n",
       " <keras.layers.convolutional.conv2d.Conv2D at 0x7cd13fb3a340>: <tensorflow_model_optimization.python.core.quantization.keras.vitis.vitis_inspect.InspectResult at 0x7cd13e7ff4c0>,\n",
       " <keras.layers.normalization.batch_normalization.BatchNormalization at 0x7cd13fb3a910>: <tensorflow_model_optimization.python.core.quantization.keras.vitis.vitis_inspect.InspectResult at 0x7cd13fbcce50>,\n",
       " <keras.layers.normalization.batch_normalization.BatchNormalization at 0x7cd13fb3aee0>: <tensorflow_model_optimization.python.core.quantization.keras.vitis.vitis_inspect.InspectResult at 0x7cd13fbcc610>,\n",
       " <keras.layers.merging.add.Add at 0x7cd13fb3c2b0>: <tensorflow_model_optimization.python.core.quantization.keras.vitis.vitis_inspect.InspectResult at 0x7cd13fbcc1f0>,\n",
       " <keras.layers.activation.relu.ReLU at 0x7cd13fb3c910>: <tensorflow_model_optimization.python.core.quantization.keras.vitis.vitis_inspect.InspectResult at 0x7cd13f051dc0>,\n",
       " <keras.layers.convolutional.conv2d.Conv2D at 0x7cd13fb3cb50>: <tensorflow_model_optimization.python.core.quantization.keras.vitis.vitis_inspect.InspectResult at 0x7cd13f051ee0>,\n",
       " <keras.layers.normalization.batch_normalization.BatchNormalization at 0x7cd13fb3cd00>: <tensorflow_model_optimization.python.core.quantization.keras.vitis.vitis_inspect.InspectResult at 0x7cd13f051f10>,\n",
       " <keras.layers.activation.relu.ReLU at 0x7cd13fb3e310>: <tensorflow_model_optimization.python.core.quantization.keras.vitis.vitis_inspect.InspectResult at 0x7cd13f051190>,\n",
       " <keras.layers.convolutional.conv2d.Conv2D at 0x7cd13fb3e940>: <tensorflow_model_optimization.python.core.quantization.keras.vitis.vitis_inspect.InspectResult at 0x7cd13f13bb50>,\n",
       " <keras.layers.normalization.batch_normalization.BatchNormalization at 0x7cd13fb3eaf0>: <tensorflow_model_optimization.python.core.quantization.keras.vitis.vitis_inspect.InspectResult at 0x7cd13f195250>,\n",
       " <keras.layers.merging.add.Add at 0x7cd13fb3efd0>: <tensorflow_model_optimization.python.core.quantization.keras.vitis.vitis_inspect.InspectResult at 0x7cd13f1959a0>,\n",
       " <keras.layers.activation.relu.ReLU at 0x7cd13facf760>: <tensorflow_model_optimization.python.core.quantization.keras.vitis.vitis_inspect.InspectResult at 0x7cd13f195c10>,\n",
       " <keras.layers.convolutional.conv2d.Conv2D at 0x7cd13facf9a0>: <tensorflow_model_optimization.python.core.quantization.keras.vitis.vitis_inspect.InspectResult at 0x7cd13fa7a460>,\n",
       " <keras.layers.normalization.batch_normalization.BatchNormalization at 0x7cd13facfb50>: <tensorflow_model_optimization.python.core.quantization.keras.vitis.vitis_inspect.InspectResult at 0x7cd13f1c78e0>,\n",
       " <keras.layers.activation.relu.ReLU at 0x7cd13facd160>: <tensorflow_model_optimization.python.core.quantization.keras.vitis.vitis_inspect.InspectResult at 0x7cd13f0f4070>,\n",
       " <keras.layers.convolutional.conv2d.Conv2D at 0x7cd13facd790>: <tensorflow_model_optimization.python.core.quantization.keras.vitis.vitis_inspect.InspectResult at 0x7cd13f1158b0>,\n",
       " <keras.layers.convolutional.conv2d.Conv2D at 0x7cd13facd940>: <tensorflow_model_optimization.python.core.quantization.keras.vitis.vitis_inspect.InspectResult at 0x7cd13f16bf40>,\n",
       " <keras.layers.normalization.batch_normalization.BatchNormalization at 0x7cd13facdf10>: <tensorflow_model_optimization.python.core.quantization.keras.vitis.vitis_inspect.InspectResult at 0x7cd13f16bfa0>,\n",
       " <keras.layers.normalization.batch_normalization.BatchNormalization at 0x7cd13fac6520>: <tensorflow_model_optimization.python.core.quantization.keras.vitis.vitis_inspect.InspectResult at 0x7cd13f16b490>,\n",
       " <keras.layers.merging.add.Add at 0x7cd13fac6ac0>: <tensorflow_model_optimization.python.core.quantization.keras.vitis.vitis_inspect.InspectResult at 0x7cd13f16b880>,\n",
       " <keras.layers.activation.relu.ReLU at 0x7cd13fac5160>: <tensorflow_model_optimization.python.core.quantization.keras.vitis.vitis_inspect.InspectResult at 0x7cd13f16b400>,\n",
       " <keras.layers.convolutional.conv2d.Conv2D at 0x7cd13fac53a0>: <tensorflow_model_optimization.python.core.quantization.keras.vitis.vitis_inspect.InspectResult at 0x7cd13f16bcd0>,\n",
       " <keras.layers.normalization.batch_normalization.BatchNormalization at 0x7cd13fac5550>: <tensorflow_model_optimization.python.core.quantization.keras.vitis.vitis_inspect.InspectResult at 0x7cd13f16b7c0>,\n",
       " <keras.layers.activation.relu.ReLU at 0x7cd13fac5b20>: <tensorflow_model_optimization.python.core.quantization.keras.vitis.vitis_inspect.InspectResult at 0x7cd13f16ba60>,\n",
       " <keras.layers.convolutional.conv2d.Conv2D at 0x7cd13fac5c40>: <tensorflow_model_optimization.python.core.quantization.keras.vitis.vitis_inspect.InspectResult at 0x7cd13f16b730>,\n",
       " <keras.layers.normalization.batch_normalization.BatchNormalization at 0x7cd13fad0340>: <tensorflow_model_optimization.python.core.quantization.keras.vitis.vitis_inspect.InspectResult at 0x7cd13f16baf0>,\n",
       " <keras.layers.merging.add.Add at 0x7cd13fad0910>: <tensorflow_model_optimization.python.core.quantization.keras.vitis.vitis_inspect.InspectResult at 0x7cd13f16b8e0>,\n",
       " <keras.layers.activation.relu.ReLU at 0x7cd13fad0f70>: <tensorflow_model_optimization.python.core.quantization.keras.vitis.vitis_inspect.InspectResult at 0x7cd13f16bd00>,\n",
       " <keras.layers.convolutional.conv2d.Conv2D at 0x7cd13fad0fa0>: <tensorflow_model_optimization.python.core.quantization.keras.vitis.vitis_inspect.InspectResult at 0x7cd13f16bc70>,\n",
       " <keras.layers.normalization.batch_normalization.BatchNormalization at 0x7cd13fad73a0>: <tensorflow_model_optimization.python.core.quantization.keras.vitis.vitis_inspect.InspectResult at 0x7cd13f16be80>,\n",
       " <keras.layers.activation.relu.ReLU at 0x7cd13fad7970>: <tensorflow_model_optimization.python.core.quantization.keras.vitis.vitis_inspect.InspectResult at 0x7cd13f16bdf0>,\n",
       " <keras.layers.convolutional.conv2d.Conv2D at 0x7cd13fad7fa0>: <tensorflow_model_optimization.python.core.quantization.keras.vitis.vitis_inspect.InspectResult at 0x7cd13f16b520>,\n",
       " <keras.layers.convolutional.conv2d.Conv2D at 0x7cd13fa9ae50>: <tensorflow_model_optimization.python.core.quantization.keras.vitis.vitis_inspect.InspectResult at 0x7cd13f16b9d0>,\n",
       " <keras.layers.normalization.batch_normalization.BatchNormalization at 0x7cd13fa9a880>: <tensorflow_model_optimization.python.core.quantization.keras.vitis.vitis_inspect.InspectResult at 0x7cd13f16bdc0>,\n",
       " <keras.layers.normalization.batch_normalization.BatchNormalization at 0x7cd13fa9a310>: <tensorflow_model_optimization.python.core.quantization.keras.vitis.vitis_inspect.InspectResult at 0x7cd13f16b340>,\n",
       " <keras.layers.merging.add.Add at 0x7cd13fab2310>: <tensorflow_model_optimization.python.core.quantization.keras.vitis.vitis_inspect.InspectResult at 0x7cd13f16b850>,\n",
       " <keras.layers.activation.relu.ReLU at 0x7cd13fab2970>: <tensorflow_model_optimization.python.core.quantization.keras.vitis.vitis_inspect.InspectResult at 0x7cd13f16be50>,\n",
       " <keras.layers.convolutional.conv2d.Conv2D at 0x7cd13fab2bb0>: <tensorflow_model_optimization.python.core.quantization.keras.vitis.vitis_inspect.InspectResult at 0x7cd13f16b130>,\n",
       " <keras.layers.normalization.batch_normalization.BatchNormalization at 0x7cd13fab2d60>: <tensorflow_model_optimization.python.core.quantization.keras.vitis.vitis_inspect.InspectResult at 0x7cd13f16b910>,\n",
       " <keras.layers.activation.relu.ReLU at 0x7cd13faae370>: <tensorflow_model_optimization.python.core.quantization.keras.vitis.vitis_inspect.InspectResult at 0x7cd13f16bfd0>,\n",
       " <keras.layers.convolutional.conv2d.Conv2D at 0x7cd13faae9a0>: <tensorflow_model_optimization.python.core.quantization.keras.vitis.vitis_inspect.InspectResult at 0x7cd13e742640>,\n",
       " <keras.layers.normalization.batch_normalization.BatchNormalization at 0x7cd13faaeb50>: <tensorflow_model_optimization.python.core.quantization.keras.vitis.vitis_inspect.InspectResult at 0x7cd13e742ac0>,\n",
       " <keras.layers.merging.add.Add at 0x7cd13fab8160>: <tensorflow_model_optimization.python.core.quantization.keras.vitis.vitis_inspect.InspectResult at 0x7cd13e7426d0>,\n",
       " <keras.layers.activation.relu.ReLU at 0x7cd13fab87c0>: <tensorflow_model_optimization.python.core.quantization.keras.vitis.vitis_inspect.InspectResult at 0x7cd13e742df0>,\n",
       " <keras.layers.pooling.average_pooling2d.AveragePooling2D at 0x7cd13fab8a00>: <tensorflow_model_optimization.python.core.quantization.keras.vitis.vitis_inspect.InspectResult at 0x7cd13e742d00>,\n",
       " <keras.layers.reshaping.flatten.Flatten at 0x7cd13fab8df0>: <tensorflow_model_optimization.python.core.quantization.keras.vitis.vitis_inspect.InspectResult at 0x7cd13f17b8b0>,\n",
       " <keras.layers.core.dense.Dense at 0x7cd13fab8d60>: <tensorflow_model_optimization.python.core.quantization.keras.vitis.vitis_inspect.InspectResult at 0x7cd13f17be80>}"
      ]
     },
     "execution_count": 5,
     "metadata": {},
     "output_type": "execute_result"
    }
   ],
   "source": [
    "# The DPU that is featured on the FPGA of the Kria KV260 board.\n",
    "target_dpu = 'DPUCZDX8G_ISA1_B4096'\n",
    "\n",
    "# Inspecting the model we give it as input.\n",
    "# It will list which layers that can be run on the FPGA and which on the CPU. This is Vitis 3.5, Vitis 2.5 did not support pooling for example \n",
    "inspector = vitis_inspect.VitisInspector(target = target_dpu)\n",
    "if not os.path.exists(\"inspect\"):\n",
    "    os.makedirs(\"inspect\")\n",
    "    \n",
    "inspector.inspect_model(model,\n",
    "                        input_shape = input_shape,\n",
    "                        dump_model = True,\n",
    "                        dump_model_file = \"inspect/inspected_model.h5\",\n",
    "                        plot = True,\n",
    "                        plot_file = \"inspect/model_plot.svg\",\n",
    "                        dump_results = True,\n",
    "                        dump_results_file = \"inspect/inspect_results.txt\",\n",
    "                        verbose = False)"
   ]
  },
  {
   "cell_type": "markdown",
   "metadata": {},
   "source": [
    "# Quantize model"
   ]
  },
  {
   "cell_type": "code",
   "execution_count": 6,
   "metadata": {},
   "outputs": [
    {
     "name": "stdout",
     "output_type": "stream",
     "text": [
      "[VAI INFO] Using func format quantizer\n",
      "[VAI INFO] Start CrossLayerEqualization...\n",
      "10/10 [==============================] - 3s 334ms/step\n",
      "[VAI INFO] CrossLayerEqualization Done.\n",
      "[VAI INFO] Start Quantize Calibration...\n"
     ]
    },
    {
     "name": "stderr",
     "output_type": "stream",
     "text": [
      "2025-01-11 08:05:10.273450: I tensorflow/core/common_runtime/executor.cc:1197] [/device:CPU:0] (DEBUG INFO) Executor start aborting (this does not indicate an error and you can ignore this message): INVALID_ARGUMENT: You must feed a value for placeholder tensor 'Placeholder/_0' with dtype float and shape [100,32,32,3]\n",
      "\t [[{{node Placeholder/_0}}]]\n"
     ]
    },
    {
     "name": "stdout",
     "output_type": "stream",
     "text": [
      "100/100 [==============================] - 17s 106ms/step\n",
      "[VAI INFO] Quantize Calibration Done.\n",
      "[VAI INFO] Start Post-Quant Model Refinement...\n",
      "[VAI INFO] Start Quantize Position Ajustment...\n",
      "[VAI INFO] Quantize Position Ajustment Done.\n",
      "1/1 [==============================] - 1s 1s/step\n",
      "[VAI INFO] Post-Quant Model Refninement Done.\n",
      "[VAI INFO] Start Model Finalization...\n",
      "[VAI INFO] Model Finalization Done.\n",
      "[VAI INFO] Quantization Finished.\n",
      "WARNING:tensorflow:Compiled the loaded model, but the compiled metrics have yet to be built. `model.compile_metrics` will be empty until you train or evaluate the model.\n",
      "Quantized model saved successfully.\n"
     ]
    }
   ],
   "source": [
    "# Making calibration data to find the weight distribution\n",
    "calib_data = train_images[:100]\n",
    "\n",
    "# Create a tf.data.Dataset and ensure batch dimension\n",
    "dataset = tf.data.Dataset.from_tensor_slices(calib_data) # convert 100,32,32,3 to a 100 item iterable/list\n",
    "\n",
    "\n",
    "# no need for data normalization because train_images was already normalized earlier\n",
    "dataset = dataset.batch(1)\n",
    "\n",
    "\n",
    "# Quantization\n",
    "try:\n",
    "    quantizer = vitis_quantize.VitisQuantizer(model, target=target_dpu) #int8 according to docs\n",
    "    q_model = quantizer.quantize_model(calib_dataset=dataset, \n",
    "                                       input_shape=input_shape, \n",
    "                                       calib_steps=None) #use all of the dataset\n",
    "    q_model.save(\"quantized_model.h5\")\n",
    "    print(\"Quantized model saved successfully.\")\n",
    "except Exception as e:\n",
    "    print(\"Error during quantization:\", e)"
   ]
  },
  {
   "cell_type": "markdown",
   "metadata": {},
   "source": [
    "# Recompile & evaluate quantized model"
   ]
  },
  {
   "cell_type": "code",
   "execution_count": 7,
   "metadata": {},
   "outputs": [
    {
     "name": "stdout",
     "output_type": "stream",
     "text": [
      "10000/10000 [==============================] - 178s 18ms/step - loss: 0.5071 - accuracy: 0.9232\n"
     ]
    },
    {
     "data": {
      "text/plain": [
       "[0.5070731043815613, 0.9232000112533569]"
      ]
     },
     "execution_count": 7,
     "metadata": {},
     "output_type": "execute_result"
    }
   ],
   "source": [
    "batch_size = 1\n",
    "\n",
    "# Compile with a dummy optimizer, since we are not training \n",
    "q_model.compile(optimizer='sgd',\n",
    "                loss=tf.keras.losses.CategoricalCrossentropy(),\n",
    "                metrics=['accuracy'])\n",
    "\n",
    "q_model.evaluate(test_images, test_labels, batch_size=batch_size)"
   ]
  },
  {
   "cell_type": "markdown",
   "metadata": {},
   "source": [
    "# Compile the DPU"
   ]
  },
  {
   "cell_type": "code",
   "execution_count": 8,
   "metadata": {},
   "outputs": [
    {
     "name": "stdout",
     "output_type": "stream",
     "text": [
      "**************************************************\n",
      "* VITIS_AI Compilation - Xilinx Inc.\n",
      "**************************************************\n",
      "[INFO] Namespace(batchsize=1, inputs_shape=None, layout='NHWC', model_files=['./quantized_model.h5'], model_type='tensorflow2', named_inputs_shape=None, out_filename='/tmp/final_model_0x101000007010407_org.xmodel', proto=None)\n",
      "[INFO] tensorflow2 model: /workspace/amd-kria-running-CIFAR-10-vitis_optimization/amd-kria-running-CIFAR-10/quantized_model.h5\n",
      "[INFO] keras version: 2.12.0\n",
      "[INFO] Tensorflow Keras model type: functional\n",
      "[INFO] parse raw model     :100%|█| 51/51 [00:00<00:00, 33607.15it/s]           \n",
      "[INFO] infer shape (NHWC)  :100%|█| 83/83 [00:00<00:00, 15604.79it/s]           \n",
      "[INFO] perform level-0 opt :100%|█| 1/1 [00:00<00:00, 389.30it/s]               \n",
      "[INFO] perform level-1 opt :100%|█| 2/2 [00:00<00:00, 1479.21it/s]              \n",
      "[INFO] infer shape (NHWC)  :100%|█| 85/85 [00:00<00:00, 19633.01it/s]           \n",
      "[INFO] generate xmodel     :100%|█| 85/85 [00:00<00:00, 686.42it/s]             \n",
      "[INFO] dump xmodel: /tmp/final_model_0x101000007010407_org.xmodel\n",
      "[UNILOG][INFO] Compile mode: dpu\n",
      "[UNILOG][INFO] Debug mode: null\n",
      "[UNILOG][INFO] Target architecture: DPUCZDX8G_ISA1_B4096_0101000007010407\n",
      "[UNILOG][INFO] Graph name: model_3, with op num: 167\n",
      "[UNILOG][INFO] Begin to compile...\n",
      "[UNILOG][INFO] Total device subgraph number 3, DPU subgraph number 1\n",
      "[UNILOG][INFO] Compile done.\n",
      "[UNILOG][INFO] The meta json is saved to \"/workspace/amd-kria-running-CIFAR-10-vitis_optimization/amd-kria-running-CIFAR-10/xmodel/meta.json\"\n",
      "[UNILOG][INFO] The compiled xmodel is saved to \"/workspace/amd-kria-running-CIFAR-10-vitis_optimization/amd-kria-running-CIFAR-10/xmodel/final_model.xmodel\"\n",
      "[UNILOG][INFO] The compiled xmodel's md5sum is 80462467ca9646ba833eb520f218ab0f, and has been saved to \"/workspace/amd-kria-running-CIFAR-10-vitis_optimization/amd-kria-running-CIFAR-10/xmodel/md5sum.txt\"\n"
     ]
    }
   ],
   "source": [
    "!vai_c_tensorflow2 -m \"./quantized_model.h5\" -a \"arch.json\" -o \"xmodel\" -n final_model "
   ]
  },
  {
   "cell_type": "code",
   "execution_count": null,
   "metadata": {},
   "outputs": [],
   "source": []
  }
 ],
 "metadata": {
  "kernelspec": {
   "display_name": "Python 3 (ipykernel)",
   "language": "python",
   "name": "python3"
  },
  "language_info": {
   "codemirror_mode": {
    "name": "ipython",
    "version": 3
   },
   "file_extension": ".py",
   "mimetype": "text/x-python",
   "name": "python",
   "nbconvert_exporter": "python",
   "pygments_lexer": "ipython3",
   "version": "3.8.6"
  }
 },
 "nbformat": 4,
 "nbformat_minor": 2
}
