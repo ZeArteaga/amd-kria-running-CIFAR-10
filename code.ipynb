{
 "cells": [
  {
   "cell_type": "markdown",
   "metadata": {},
   "source": [
    "# Libraries importing"
   ]
  },
  {
   "cell_type": "code",
   "execution_count": 38,
   "metadata": {},
   "outputs": [],
   "source": [
    "import numpy as np\n",
    "import os\n",
    "import pickle\n",
    "import tensorflow as tf\n",
    "from tensorflow_model_optimization.quantization.keras import vitis_inspect, vitis_quantize\n",
    "from tensorflow_model_optimization.python.core.quantization.keras.vitis.utils import model_utils\n",
    "from tensorflow.keras.models import Sequential\n",
    "from tensorflow.keras.utils import to_categorical\n",
    "from tensorflow.keras.models import Model, load_model\n",
    "from tensorflow.keras.optimizers import Adam, SGD"
   ]
  },
  {
   "cell_type": "markdown",
   "metadata": {},
   "source": [
    "# Function to load the CIFAR10 dataset (after downloading it locally)"
   ]
  },
  {
   "cell_type": "code",
   "execution_count": 2,
   "metadata": {},
   "outputs": [],
   "source": [
    "def load_cifar10(data_dir):\n",
    "    def unpickle(file):\n",
    "        with open(file, 'rb') as fo:\n",
    "            dict = pickle.load(fo, encoding='bytes')\n",
    "        return dict\n",
    "\n",
    "    # Load training data\n",
    "    x_train, y_train = [], []\n",
    "    for i in range(1, 6):  # CIFAR-10 training data consists of 5 batches\n",
    "        batch = unpickle(os.path.join(data_dir, f\"data_batch_{i}\"))\n",
    "        x_train.append(batch[b'data'])\n",
    "        y_train.extend(batch[b'labels'])\n",
    "\n",
    "    x_train = np.vstack(x_train).reshape(-1, 3, 32, 32).transpose(0, 2, 3, 1)\n",
    "    y_train = np.array(y_train)\n",
    "\n",
    "    # Load test data\n",
    "    test_batch = unpickle(os.path.join(data_dir, \"test_batch\"))\n",
    "    x_test = test_batch[b'data'].reshape(-1, 3, 32, 32).transpose(0, 2, 3, 1)\n",
    "    y_test = np.array(test_batch[b'labels'])\n",
    "\n",
    "    return (x_train, y_train), (x_test, y_test)"
   ]
  },
  {
   "cell_type": "markdown",
   "metadata": {},
   "source": [
    "# Actually loading CIFAR10"
   ]
  },
  {
   "cell_type": "code",
   "execution_count": 11,
   "metadata": {},
   "outputs": [
    {
     "name": "stdout",
     "output_type": "stream",
     "text": [
      "(50000, 32, 32, 3)\n"
     ]
    }
   ],
   "source": [
    "#CIFAR-10 dataset\n",
    "(train_images, train_labels), (test_images, test_labels) = load_cifar10(\"cifar-10-batches-py\")\n",
    "print(train_images.shape)\n",
    "train_images = train_images.reshape(train_images.shape[0], 32, 32, 3) #ensure shape 32 W x 32 H x 3 channels for each image\n",
    "test_images = test_images.reshape(test_images.shape[0], 32, 32, 3)\n",
    "\n",
    "#range 0-1\n",
    "train_images = train_images.astype('float32') / 255.0\n",
    "test_images = test_images.astype('float32') / 255.0\n",
    "\n",
    "#One-hot encoding labels\n",
    "train_labels = to_categorical(test_images, 10)\n",
    "test_labels = to_categorical(test_labels, 10)"
   ]
  },
  {
   "cell_type": "markdown",
   "metadata": {},
   "source": [
    "# Loading a trained model"
   ]
  },
  {
   "cell_type": "code",
   "execution_count": 26,
   "metadata": {},
   "outputs": [
    {
     "name": "stdout",
     "output_type": "stream",
     "text": [
      "Model: \"model\"\n",
      "__________________________________________________________________________________________________\n",
      " Layer (type)                   Output Shape         Param #     Connected to                     \n",
      "==================================================================================================\n",
      " input_1 (InputLayer)           [(None, 32, 32, 3)]  0           []                               \n",
      "                                                                                                  \n",
      " conv2d (Conv2D)                (None, 32, 32, 64)   1792        ['input_1[0][0]']                \n",
      "                                                                                                  \n",
      " batch_normalization (BatchNorm  (None, 32, 32, 64)  256         ['conv2d[0][0]']                 \n",
      " alization)                                                                                       \n",
      "                                                                                                  \n",
      " re_lu (ReLU)                   (None, 32, 32, 64)   0           ['batch_normalization[0][0]']    \n",
      "                                                                                                  \n",
      " conv2d_1 (Conv2D)              (None, 32, 32, 64)   36928       ['re_lu[0][0]']                  \n",
      "                                                                                                  \n",
      " batch_normalization_1 (BatchNo  (None, 32, 32, 64)  256         ['conv2d_1[0][0]']               \n",
      " rmalization)                                                                                     \n",
      "                                                                                                  \n",
      " re_lu_1 (ReLU)                 (None, 32, 32, 64)   0           ['batch_normalization_1[0][0]']  \n",
      "                                                                                                  \n",
      " conv2d_2 (Conv2D)              (None, 32, 32, 64)   36928       ['re_lu_1[0][0]']                \n",
      "                                                                                                  \n",
      " batch_normalization_2 (BatchNo  (None, 32, 32, 64)  256         ['conv2d_2[0][0]']               \n",
      " rmalization)                                                                                     \n",
      "                                                                                                  \n",
      " add (Add)                      (None, 32, 32, 64)   0           ['batch_normalization_2[0][0]',  \n",
      "                                                                  're_lu[0][0]']                  \n",
      "                                                                                                  \n",
      " re_lu_2 (ReLU)                 (None, 32, 32, 64)   0           ['add[0][0]']                    \n",
      "                                                                                                  \n",
      " conv2d_3 (Conv2D)              (None, 32, 32, 64)   36928       ['re_lu_2[0][0]']                \n",
      "                                                                                                  \n",
      " batch_normalization_3 (BatchNo  (None, 32, 32, 64)  256         ['conv2d_3[0][0]']               \n",
      " rmalization)                                                                                     \n",
      "                                                                                                  \n",
      " re_lu_3 (ReLU)                 (None, 32, 32, 64)   0           ['batch_normalization_3[0][0]']  \n",
      "                                                                                                  \n",
      " conv2d_4 (Conv2D)              (None, 32, 32, 64)   36928       ['re_lu_3[0][0]']                \n",
      "                                                                                                  \n",
      " batch_normalization_4 (BatchNo  (None, 32, 32, 64)  256         ['conv2d_4[0][0]']               \n",
      " rmalization)                                                                                     \n",
      "                                                                                                  \n",
      " add_1 (Add)                    (None, 32, 32, 64)   0           ['batch_normalization_4[0][0]',  \n",
      "                                                                  're_lu_2[0][0]']                \n",
      "                                                                                                  \n",
      " re_lu_4 (ReLU)                 (None, 32, 32, 64)   0           ['add_1[0][0]']                  \n",
      "                                                                                                  \n",
      " conv2d_6 (Conv2D)              (None, 16, 16, 128)  73856       ['re_lu_4[0][0]']                \n",
      "                                                                                                  \n",
      " batch_normalization_6 (BatchNo  (None, 16, 16, 128)  512        ['conv2d_6[0][0]']               \n",
      " rmalization)                                                                                     \n",
      "                                                                                                  \n",
      " re_lu_5 (ReLU)                 (None, 16, 16, 128)  0           ['batch_normalization_6[0][0]']  \n",
      "                                                                                                  \n",
      " conv2d_7 (Conv2D)              (None, 16, 16, 128)  147584      ['re_lu_5[0][0]']                \n",
      "                                                                                                  \n",
      " conv2d_5 (Conv2D)              (None, 16, 16, 128)  8320        ['re_lu_4[0][0]']                \n",
      "                                                                                                  \n",
      " batch_normalization_7 (BatchNo  (None, 16, 16, 128)  512        ['conv2d_7[0][0]']               \n",
      " rmalization)                                                                                     \n",
      "                                                                                                  \n",
      " batch_normalization_5 (BatchNo  (None, 16, 16, 128)  512        ['conv2d_5[0][0]']               \n",
      " rmalization)                                                                                     \n",
      "                                                                                                  \n",
      " add_2 (Add)                    (None, 16, 16, 128)  0           ['batch_normalization_7[0][0]',  \n",
      "                                                                  'batch_normalization_5[0][0]']  \n",
      "                                                                                                  \n",
      " re_lu_6 (ReLU)                 (None, 16, 16, 128)  0           ['add_2[0][0]']                  \n",
      "                                                                                                  \n",
      " conv2d_8 (Conv2D)              (None, 16, 16, 128)  147584      ['re_lu_6[0][0]']                \n",
      "                                                                                                  \n",
      " batch_normalization_8 (BatchNo  (None, 16, 16, 128)  512        ['conv2d_8[0][0]']               \n",
      " rmalization)                                                                                     \n",
      "                                                                                                  \n",
      " re_lu_7 (ReLU)                 (None, 16, 16, 128)  0           ['batch_normalization_8[0][0]']  \n",
      "                                                                                                  \n",
      " conv2d_9 (Conv2D)              (None, 16, 16, 128)  147584      ['re_lu_7[0][0]']                \n",
      "                                                                                                  \n",
      " batch_normalization_9 (BatchNo  (None, 16, 16, 128)  512        ['conv2d_9[0][0]']               \n",
      " rmalization)                                                                                     \n",
      "                                                                                                  \n",
      " add_3 (Add)                    (None, 16, 16, 128)  0           ['batch_normalization_9[0][0]',  \n",
      "                                                                  're_lu_6[0][0]']                \n",
      "                                                                                                  \n",
      " re_lu_8 (ReLU)                 (None, 16, 16, 128)  0           ['add_3[0][0]']                  \n",
      "                                                                                                  \n",
      " conv2d_11 (Conv2D)             (None, 8, 8, 256)    295168      ['re_lu_8[0][0]']                \n",
      "                                                                                                  \n",
      " batch_normalization_11 (BatchN  (None, 8, 8, 256)   1024        ['conv2d_11[0][0]']              \n",
      " ormalization)                                                                                    \n",
      "                                                                                                  \n",
      " re_lu_9 (ReLU)                 (None, 8, 8, 256)    0           ['batch_normalization_11[0][0]'] \n",
      "                                                                                                  \n",
      " conv2d_12 (Conv2D)             (None, 8, 8, 256)    590080      ['re_lu_9[0][0]']                \n",
      "                                                                                                  \n",
      " conv2d_10 (Conv2D)             (None, 8, 8, 256)    33024       ['re_lu_8[0][0]']                \n",
      "                                                                                                  \n",
      " batch_normalization_12 (BatchN  (None, 8, 8, 256)   1024        ['conv2d_12[0][0]']              \n",
      " ormalization)                                                                                    \n",
      "                                                                                                  \n",
      " batch_normalization_10 (BatchN  (None, 8, 8, 256)   1024        ['conv2d_10[0][0]']              \n",
      " ormalization)                                                                                    \n",
      "                                                                                                  \n",
      " add_4 (Add)                    (None, 8, 8, 256)    0           ['batch_normalization_12[0][0]', \n",
      "                                                                  'batch_normalization_10[0][0]'] \n",
      "                                                                                                  \n",
      " re_lu_10 (ReLU)                (None, 8, 8, 256)    0           ['add_4[0][0]']                  \n",
      "                                                                                                  \n",
      " conv2d_13 (Conv2D)             (None, 8, 8, 256)    590080      ['re_lu_10[0][0]']               \n",
      "                                                                                                  \n",
      " batch_normalization_13 (BatchN  (None, 8, 8, 256)   1024        ['conv2d_13[0][0]']              \n",
      " ormalization)                                                                                    \n",
      "                                                                                                  \n",
      " re_lu_11 (ReLU)                (None, 8, 8, 256)    0           ['batch_normalization_13[0][0]'] \n",
      "                                                                                                  \n",
      " conv2d_14 (Conv2D)             (None, 8, 8, 256)    590080      ['re_lu_11[0][0]']               \n",
      "                                                                                                  \n",
      " batch_normalization_14 (BatchN  (None, 8, 8, 256)   1024        ['conv2d_14[0][0]']              \n",
      " ormalization)                                                                                    \n",
      "                                                                                                  \n",
      " add_5 (Add)                    (None, 8, 8, 256)    0           ['batch_normalization_14[0][0]', \n",
      "                                                                  're_lu_10[0][0]']               \n",
      "                                                                                                  \n",
      " re_lu_12 (ReLU)                (None, 8, 8, 256)    0           ['add_5[0][0]']                  \n",
      "                                                                                                  \n",
      " conv2d_16 (Conv2D)             (None, 4, 4, 512)    1180160     ['re_lu_12[0][0]']               \n",
      "                                                                                                  \n",
      " batch_normalization_16 (BatchN  (None, 4, 4, 512)   2048        ['conv2d_16[0][0]']              \n",
      " ormalization)                                                                                    \n",
      "                                                                                                  \n",
      " re_lu_13 (ReLU)                (None, 4, 4, 512)    0           ['batch_normalization_16[0][0]'] \n",
      "                                                                                                  \n",
      " conv2d_17 (Conv2D)             (None, 4, 4, 512)    2359808     ['re_lu_13[0][0]']               \n",
      "                                                                                                  \n",
      " conv2d_15 (Conv2D)             (None, 4, 4, 512)    131584      ['re_lu_12[0][0]']               \n",
      "                                                                                                  \n",
      " batch_normalization_17 (BatchN  (None, 4, 4, 512)   2048        ['conv2d_17[0][0]']              \n",
      " ormalization)                                                                                    \n",
      "                                                                                                  \n",
      " batch_normalization_15 (BatchN  (None, 4, 4, 512)   2048        ['conv2d_15[0][0]']              \n",
      " ormalization)                                                                                    \n",
      "                                                                                                  \n",
      " add_6 (Add)                    (None, 4, 4, 512)    0           ['batch_normalization_17[0][0]', \n",
      "                                                                  'batch_normalization_15[0][0]'] \n",
      "                                                                                                  \n",
      " re_lu_14 (ReLU)                (None, 4, 4, 512)    0           ['add_6[0][0]']                  \n",
      "                                                                                                  \n",
      " conv2d_18 (Conv2D)             (None, 4, 4, 512)    2359808     ['re_lu_14[0][0]']               \n",
      "                                                                                                  \n",
      " batch_normalization_18 (BatchN  (None, 4, 4, 512)   2048        ['conv2d_18[0][0]']              \n",
      " ormalization)                                                                                    \n",
      "                                                                                                  \n",
      " re_lu_15 (ReLU)                (None, 4, 4, 512)    0           ['batch_normalization_18[0][0]'] \n",
      "                                                                                                  \n",
      " conv2d_19 (Conv2D)             (None, 4, 4, 512)    2359808     ['re_lu_15[0][0]']               \n",
      "                                                                                                  \n",
      " batch_normalization_19 (BatchN  (None, 4, 4, 512)   2048        ['conv2d_19[0][0]']              \n",
      " ormalization)                                                                                    \n",
      "                                                                                                  \n",
      " add_7 (Add)                    (None, 4, 4, 512)    0           ['batch_normalization_19[0][0]', \n",
      "                                                                  're_lu_14[0][0]']               \n",
      "                                                                                                  \n",
      " re_lu_16 (ReLU)                (None, 4, 4, 512)    0           ['add_7[0][0]']                  \n",
      "                                                                                                  \n",
      " global_average_pooling2d (Glob  (None, 512)         0           ['re_lu_16[0][0]']               \n",
      " alAveragePooling2D)                                                                              \n",
      "                                                                                                  \n",
      " dense (Dense)                  (None, 10)           5130        ['global_average_pooling2d[0][0]'\n",
      "                                                                 ]                                \n",
      "                                                                                                  \n",
      "==================================================================================================\n",
      "Total params: 11,188,362\n",
      "Trainable params: 11,178,762\n",
      "Non-trainable params: 9,600\n",
      "__________________________________________________________________________________________________\n"
     ]
    }
   ],
   "source": [
    "input_shape = (None, 32, 32, 3)\n",
    "model = load_model('best_model.h5')\n",
    "model.build(input_shape=input_shape)\n",
    "model.summary()\n",
    "\n",
    "opt = SGD(learning_rate=0.1, momentum=0.9, weight_decay=1e-4)"
   ]
  },
  {
   "cell_type": "markdown",
   "metadata": {},
   "source": [
    "# Copying the guide, 17:57 in the video"
   ]
  },
  {
   "cell_type": "code",
   "execution_count": 39,
   "metadata": {},
   "outputs": [
    {
     "name": "stdout",
     "output_type": "stream",
     "text": [
      "[VAI INFO] Update include_bias_corr: False\n",
      "[VAI INFO] Update include_fast_ft: False\n",
      "[VAI INFO] Update include_cle: False\n",
      "[INFO] Namespace(batchsize=1, inputs_shape=None, layout='NHWC', model_files=['/tmp/zeart/tensorflow_model_optimization/tmp_sub_graph_quantized_20241227-095425-034272_WkwFUZ.h5'], model_type='tensorflow2', named_inputs_shape=None, out_filename='/tmp/zeart/tensorflow_model_optimization/tmp_sub_graph_xnnc_20241227-095425-034272_WkwFUZ.xmodel', proto=None)\n",
      "[INFO] tensorflow2 model: /tmp/zeart/tensorflow_model_optimization/tmp_sub_graph_quantized_20241227-095425-034272_WkwFUZ.h5\n",
      "[INFO] keras version: 2.12.0\n",
      "[INFO] Tensorflow Keras model type: functional\n"
     ]
    },
    {
     "name": "stderr",
     "output_type": "stream",
     "text": [
      "[INFO] parse raw model     :100%|███████████████████████████████████████████████████████████████████████████████████████████| 3/3 [00:00<00:00, 6423.13it/s]                  \n",
      "[INFO] infer shape (NHWC)  :100%|███████████████████████████████████████████████████████████████████████████████████████████| 4/4 [00:00<00:00, 16693.75it/s]                 \n",
      "[INFO] perform level-0 opt :100%|███████████████████████████████████████████████████████████████████████████████████████████| 1/1 [00:00<00:00, 3030.57it/s]                  \n",
      "[INFO] perform level-1 opt :100%|███████████████████████████████████████████████████████████████████████████████████████████| 2/2 [00:00<00:00, 2028.68it/s]                  \n",
      "[INFO] infer shape (NHWC)  :100%|███████████████████████████████████████████████████████████████████████████████████████████| 6/6 [00:00<00:00, 6471.03it/s]                  \n",
      "[INFO] generate xmodel     :100%|███████████████████████████████████████████████████████████████████████████████████████████| 6/6 [00:00<00:00, 3177.50it/s]                  "
     ]
    },
    {
     "name": "stdout",
     "output_type": "stream",
     "text": [
      "[INFO] dump xmodel: /tmp/zeart/tensorflow_model_optimization/tmp_sub_graph_xnnc_20241227-095425-034272_WkwFUZ.xmodel\n"
     ]
    },
    {
     "name": "stderr",
     "output_type": "stream",
     "text": [
      "\n",
      "I20241227 09:54:28.328120   109 compile_pass_manager.cpp:352] [UNILOG][INFO] Compile mode: dpu\n",
      "I20241227 09:54:28.328169   109 compile_pass_manager.cpp:353] [UNILOG][INFO] Debug mode: null\n",
      "I20241227 09:54:28.328176   109 compile_pass_manager.cpp:357] [UNILOG][INFO] Target architecture: DPUCZDX8G_ISA1_B4096\n",
      "I20241227 09:54:28.328691   109 compile_pass_manager.cpp:465] [UNILOG][INFO] Graph name: model_248, with op num: 6\n",
      "I20241227 09:54:28.328699   109 compile_pass_manager.cpp:478] [UNILOG][INFO] Begin to compile...\n",
      "I20241227 09:54:28.333644   109 compile_pass_manager.cpp:489] [UNILOG][INFO] Total device subgraph number 3, DPU subgraph number 1\n",
      "I20241227 09:54:28.333714   109 compile_pass_manager.cpp:504] [UNILOG][INFO] Compile done.\n"
     ]
    },
    {
     "name": "stdout",
     "output_type": "stream",
     "text": [
      "[INFO] Namespace(batchsize=1, inputs_shape=None, layout='NHWC', model_files=['/tmp/zeart/tensorflow_model_optimization/tmp_sub_graph_quantized_20241227-095425-035079_atwPEy.h5'], model_type='tensorflow2', named_inputs_shape=None, out_filename='/tmp/zeart/tensorflow_model_optimization/tmp_sub_graph_xnnc_20241227-095425-035079_atwPEy.xmodel', proto=None)\n",
      "[INFO] tensorflow2 model: /tmp/zeart/tensorflow_model_optimization/tmp_sub_graph_quantized_20241227-095425-035079_atwPEy.h5\n",
      "[INFO] keras version: 2.12.0\n",
      "[INFO] Tensorflow Keras model type: functional\n"
     ]
    },
    {
     "name": "stderr",
     "output_type": "stream",
     "text": [
      "[INFO] parse raw model     :100%|███████████████████████████████████████████████████████████████████████████████████████████| 4/4 [00:00<00:00, 10058.28it/s]                 \n",
      "[INFO] infer shape (NHWC)  :100%|███████████████████████████████████████████████████████████████████████████████████████████| 5/5 [00:00<00:00, 3942.02it/s]                  \n",
      "[INFO] perform level-0 opt :100%|███████████████████████████████████████████████████████████████████████████████████████████| 1/1 [00:00<00:00, 1077.95it/s]                  \n",
      "[INFO] perform level-1 opt :100%|███████████████████████████████████████████████████████████████████████████████████████████| 2/2 [00:00<00:00, 3267.86it/s]                  \n",
      "[INFO] generate xmodel     :100%|███████████████████████████████████████████████████████████████████████████████████████████| 5/5 [00:00<00:00, 899.14it/s]                   "
     ]
    },
    {
     "name": "stdout",
     "output_type": "stream",
     "text": [
      "[INFO] dump xmodel: /tmp/zeart/tensorflow_model_optimization/tmp_sub_graph_xnnc_20241227-095425-035079_atwPEy.xmodel\n"
     ]
    },
    {
     "name": "stderr",
     "output_type": "stream",
     "text": [
      "\n",
      "I20241227 09:54:28.652287   109 compile_pass_manager.cpp:352] [UNILOG][INFO] Compile mode: dpu\n",
      "I20241227 09:54:28.652369   109 compile_pass_manager.cpp:353] [UNILOG][INFO] Debug mode: null\n",
      "I20241227 09:54:28.652379   109 compile_pass_manager.cpp:357] [UNILOG][INFO] Target architecture: DPUCZDX8G_ISA1_B4096\n",
      "I20241227 09:54:28.652469   109 compile_pass_manager.cpp:465] [UNILOG][INFO] Graph name: model_249, with op num: 9\n",
      "I20241227 09:54:28.652475   109 compile_pass_manager.cpp:478] [UNILOG][INFO] Begin to compile...\n",
      "I20241227 09:54:28.658494   109 compile_pass_manager.cpp:489] [UNILOG][INFO] Total device subgraph number 3, DPU subgraph number 1\n",
      "I20241227 09:54:28.658568   109 compile_pass_manager.cpp:504] [UNILOG][INFO] Compile done.\n"
     ]
    },
    {
     "name": "stdout",
     "output_type": "stream",
     "text": [
      "[INFO] Namespace(batchsize=1, inputs_shape=None, layout='NHWC', model_files=['/tmp/zeart/tensorflow_model_optimization/tmp_sub_graph_quantized_20241227-095425-035079_atwPEy.h5'], model_type='tensorflow2', named_inputs_shape=None, out_filename='/tmp/zeart/tensorflow_model_optimization/tmp_sub_graph_xnnc_20241227-095425-035079_atwPEy.xmodel', proto=None)\n",
      "[INFO] tensorflow2 model: /tmp/zeart/tensorflow_model_optimization/tmp_sub_graph_quantized_20241227-095425-035079_atwPEy.h5\n",
      "[INFO] keras version: 2.12.0\n",
      "[INFO] Tensorflow Keras model type: functional\n"
     ]
    },
    {
     "name": "stderr",
     "output_type": "stream",
     "text": [
      "[INFO] parse raw model     :100%|███████████████████████████████████████████████████████████████████████████████████████████| 4/4 [00:00<00:00, 1672.87it/s]                  \n",
      "[INFO] infer shape (NHWC)  :100%|███████████████████████████████████████████████████████████████████████████████████████████| 5/5 [00:00<00:00, 9379.03it/s]                  \n",
      "[INFO] perform level-0 opt :100%|███████████████████████████████████████████████████████████████████████████████████████████| 1/1 [00:00<00:00, 2258.65it/s]                  \n",
      "[INFO] perform level-1 opt :100%|███████████████████████████████████████████████████████████████████████████████████████████| 2/2 [00:00<00:00, 3780.36it/s]                  \n",
      "[INFO] generate xmodel     :100%|███████████████████████████████████████████████████████████████████████████████████████████| 5/5 [00:00<00:00, 1199.33it/s]                  "
     ]
    },
    {
     "name": "stdout",
     "output_type": "stream",
     "text": [
      "[INFO] dump xmodel: /tmp/zeart/tensorflow_model_optimization/tmp_sub_graph_xnnc_20241227-095425-035079_atwPEy.xmodel\n"
     ]
    },
    {
     "name": "stderr",
     "output_type": "stream",
     "text": [
      "\n",
      "I20241227 09:54:29.002732   109 compile_pass_manager.cpp:352] [UNILOG][INFO] Compile mode: dpu\n",
      "I20241227 09:54:29.002818   109 compile_pass_manager.cpp:353] [UNILOG][INFO] Debug mode: null\n",
      "I20241227 09:54:29.002831   109 compile_pass_manager.cpp:357] [UNILOG][INFO] Target architecture: DPUCZDX8G_ISA1_B4096\n",
      "I20241227 09:54:29.002969   109 compile_pass_manager.cpp:465] [UNILOG][INFO] Graph name: model_250, with op num: 9\n",
      "I20241227 09:54:29.002979   109 compile_pass_manager.cpp:478] [UNILOG][INFO] Begin to compile...\n",
      "I20241227 09:54:29.015031   109 compile_pass_manager.cpp:489] [UNILOG][INFO] Total device subgraph number 3, DPU subgraph number 1\n",
      "I20241227 09:54:29.015074   109 compile_pass_manager.cpp:504] [UNILOG][INFO] Compile done.\n"
     ]
    },
    {
     "name": "stdout",
     "output_type": "stream",
     "text": [
      "[INFO] Namespace(batchsize=1, inputs_shape=None, layout='NHWC', model_files=['/tmp/zeart/tensorflow_model_optimization/tmp_sub_graph_quantized_20241227-095425-035079_atwPEy.h5'], model_type='tensorflow2', named_inputs_shape=None, out_filename='/tmp/zeart/tensorflow_model_optimization/tmp_sub_graph_xnnc_20241227-095425-035079_atwPEy.xmodel', proto=None)\n",
      "[INFO] tensorflow2 model: /tmp/zeart/tensorflow_model_optimization/tmp_sub_graph_quantized_20241227-095425-035079_atwPEy.h5\n",
      "[INFO] keras version: 2.12.0\n",
      "[INFO] Tensorflow Keras model type: functional\n"
     ]
    },
    {
     "name": "stderr",
     "output_type": "stream",
     "text": [
      "[INFO] parse raw model     :100%|███████████████████████████████████████████████████████████████████████████████████████████| 4/4 [00:00<00:00, 1441.59it/s]                  \n",
      "[INFO] infer shape (NHWC)  :100%|███████████████████████████████████████████████████████████████████████████████████████████| 5/5 [00:00<00:00, 3655.49it/s]                  \n",
      "[INFO] perform level-0 opt :100%|███████████████████████████████████████████████████████████████████████████████████████████| 1/1 [00:00<00:00, 985.50it/s]                   \n",
      "[INFO] perform level-1 opt :100%|███████████████████████████████████████████████████████████████████████████████████████████| 2/2 [00:00<00:00, 6181.73it/s]                  \n",
      "[INFO] generate xmodel     :100%|███████████████████████████████████████████████████████████████████████████████████████████| 5/5 [00:00<00:00, 1343.38it/s]                  "
     ]
    },
    {
     "name": "stdout",
     "output_type": "stream",
     "text": [
      "[INFO] dump xmodel: /tmp/zeart/tensorflow_model_optimization/tmp_sub_graph_xnnc_20241227-095425-035079_atwPEy.xmodel\n"
     ]
    },
    {
     "name": "stderr",
     "output_type": "stream",
     "text": [
      "\n",
      "I20241227 09:54:29.239449   109 compile_pass_manager.cpp:352] [UNILOG][INFO] Compile mode: dpu\n",
      "I20241227 09:54:29.239521   109 compile_pass_manager.cpp:353] [UNILOG][INFO] Debug mode: null\n",
      "I20241227 09:54:29.239528   109 compile_pass_manager.cpp:357] [UNILOG][INFO] Target architecture: DPUCZDX8G_ISA1_B4096\n",
      "I20241227 09:54:29.239601   109 compile_pass_manager.cpp:465] [UNILOG][INFO] Graph name: model_251, with op num: 9\n",
      "I20241227 09:54:29.239606   109 compile_pass_manager.cpp:478] [UNILOG][INFO] Begin to compile...\n",
      "I20241227 09:54:29.247596   109 compile_pass_manager.cpp:489] [UNILOG][INFO] Total device subgraph number 3, DPU subgraph number 1\n",
      "I20241227 09:54:29.247640   109 compile_pass_manager.cpp:504] [UNILOG][INFO] Compile done.\n"
     ]
    },
    {
     "name": "stdout",
     "output_type": "stream",
     "text": [
      "[INFO] Namespace(batchsize=1, inputs_shape=None, layout='NHWC', model_files=['/tmp/zeart/tensorflow_model_optimization/tmp_sub_graph_quantized_20241227-095425-035079_atwPEy.h5'], model_type='tensorflow2', named_inputs_shape=None, out_filename='/tmp/zeart/tensorflow_model_optimization/tmp_sub_graph_xnnc_20241227-095425-035079_atwPEy.xmodel', proto=None)\n",
      "[INFO] tensorflow2 model: /tmp/zeart/tensorflow_model_optimization/tmp_sub_graph_quantized_20241227-095425-035079_atwPEy.h5\n",
      "[INFO] keras version: 2.12.0\n",
      "[INFO] Tensorflow Keras model type: functional\n"
     ]
    },
    {
     "name": "stderr",
     "output_type": "stream",
     "text": [
      "[INFO] parse raw model     :100%|███████████████████████████████████████████████████████████████████████████████████████████| 4/4 [00:00<00:00, 4699.50it/s]                  \n",
      "[INFO] infer shape (NHWC)  :100%|███████████████████████████████████████████████████████████████████████████████████████████| 5/5 [00:00<00:00, 1452.12it/s]                  \n",
      "[INFO] perform level-0 opt :100%|███████████████████████████████████████████████████████████████████████████████████████████| 1/1 [00:00<00:00, 1384.72it/s]                  \n",
      "[INFO] perform level-1 opt :100%|███████████████████████████████████████████████████████████████████████████████████████████| 2/2 [00:00<00:00, 5698.78it/s]                  \n",
      "[INFO] generate xmodel     :100%|███████████████████████████████████████████████████████████████████████████████████████████| 5/5 [00:00<00:00, 673.94it/s]                   "
     ]
    },
    {
     "name": "stdout",
     "output_type": "stream",
     "text": [
      "[INFO] dump xmodel: /tmp/zeart/tensorflow_model_optimization/tmp_sub_graph_xnnc_20241227-095425-035079_atwPEy.xmodel\n"
     ]
    },
    {
     "name": "stderr",
     "output_type": "stream",
     "text": [
      "\n",
      "I20241227 09:54:29.473258   109 compile_pass_manager.cpp:352] [UNILOG][INFO] Compile mode: dpu\n",
      "I20241227 09:54:29.473340   109 compile_pass_manager.cpp:353] [UNILOG][INFO] Debug mode: null\n",
      "I20241227 09:54:29.473351   109 compile_pass_manager.cpp:357] [UNILOG][INFO] Target architecture: DPUCZDX8G_ISA1_B4096\n",
      "I20241227 09:54:29.473520   109 compile_pass_manager.cpp:465] [UNILOG][INFO] Graph name: model_252, with op num: 9\n",
      "I20241227 09:54:29.473533   109 compile_pass_manager.cpp:478] [UNILOG][INFO] Begin to compile...\n",
      "I20241227 09:54:29.488750   109 compile_pass_manager.cpp:489] [UNILOG][INFO] Total device subgraph number 3, DPU subgraph number 1\n",
      "I20241227 09:54:29.488842   109 compile_pass_manager.cpp:504] [UNILOG][INFO] Compile done.\n"
     ]
    },
    {
     "name": "stdout",
     "output_type": "stream",
     "text": [
      "[INFO] Namespace(batchsize=1, inputs_shape=None, layout='NHWC', model_files=['/tmp/zeart/tensorflow_model_optimization/tmp_sub_graph_quantized_20241227-095425-035079_atwPEy.h5'], model_type='tensorflow2', named_inputs_shape=None, out_filename='/tmp/zeart/tensorflow_model_optimization/tmp_sub_graph_xnnc_20241227-095425-035079_atwPEy.xmodel', proto=None)\n",
      "[INFO] tensorflow2 model: /tmp/zeart/tensorflow_model_optimization/tmp_sub_graph_quantized_20241227-095425-035079_atwPEy.h5\n",
      "[INFO] keras version: 2.12.0\n",
      "[INFO] Tensorflow Keras model type: functional\n"
     ]
    },
    {
     "name": "stderr",
     "output_type": "stream",
     "text": [
      "[INFO] parse raw model     :100%|███████████████████████████████████████████████████████████████████████████████████████████| 4/4 [00:00<00:00, 13283.62it/s]                 \n",
      "[INFO] infer shape (NHWC)  :100%|███████████████████████████████████████████████████████████████████████████████████████████| 5/5 [00:00<00:00, 2907.46it/s]                  \n",
      "[INFO] perform level-0 opt :100%|███████████████████████████████████████████████████████████████████████████████████████████| 1/1 [00:00<00:00, 2605.16it/s]                  \n",
      "[INFO] perform level-1 opt :100%|███████████████████████████████████████████████████████████████████████████████████████████| 2/2 [00:00<00:00, 3524.63it/s]                  \n",
      "[INFO] generate xmodel     :100%|███████████████████████████████████████████████████████████████████████████████████████████| 5/5 [00:00<00:00, 506.79it/s]                   "
     ]
    },
    {
     "name": "stdout",
     "output_type": "stream",
     "text": [
      "[INFO] dump xmodel: /tmp/zeart/tensorflow_model_optimization/tmp_sub_graph_xnnc_20241227-095425-035079_atwPEy.xmodel\n"
     ]
    },
    {
     "name": "stderr",
     "output_type": "stream",
     "text": [
      "\n",
      "I20241227 09:54:29.756837   109 compile_pass_manager.cpp:352] [UNILOG][INFO] Compile mode: dpu\n",
      "I20241227 09:54:29.756930   109 compile_pass_manager.cpp:353] [UNILOG][INFO] Debug mode: null\n",
      "I20241227 09:54:29.756943   109 compile_pass_manager.cpp:357] [UNILOG][INFO] Target architecture: DPUCZDX8G_ISA1_B4096\n",
      "I20241227 09:54:29.757081   109 compile_pass_manager.cpp:465] [UNILOG][INFO] Graph name: model_253, with op num: 9\n",
      "I20241227 09:54:29.757097   109 compile_pass_manager.cpp:478] [UNILOG][INFO] Begin to compile...\n",
      "I20241227 09:54:29.769757   109 compile_pass_manager.cpp:489] [UNILOG][INFO] Total device subgraph number 3, DPU subgraph number 1\n",
      "I20241227 09:54:29.769915   109 compile_pass_manager.cpp:504] [UNILOG][INFO] Compile done.\n"
     ]
    },
    {
     "name": "stdout",
     "output_type": "stream",
     "text": [
      "[INFO] Namespace(batchsize=1, inputs_shape=None, layout='NHWC', model_files=['/tmp/zeart/tensorflow_model_optimization/tmp_sub_graph_quantized_20241227-095425-035079_atwPEy.h5'], model_type='tensorflow2', named_inputs_shape=None, out_filename='/tmp/zeart/tensorflow_model_optimization/tmp_sub_graph_xnnc_20241227-095425-035079_atwPEy.xmodel', proto=None)\n",
      "[INFO] tensorflow2 model: /tmp/zeart/tensorflow_model_optimization/tmp_sub_graph_quantized_20241227-095425-035079_atwPEy.h5\n",
      "[INFO] keras version: 2.12.0\n",
      "[INFO] Tensorflow Keras model type: functional\n"
     ]
    },
    {
     "name": "stderr",
     "output_type": "stream",
     "text": [
      "[INFO] parse raw model     :100%|███████████████████████████████████████████████████████████████████████████████████████████| 4/4 [00:00<00:00, 6935.60it/s]                  \n",
      "[INFO] infer shape (NHWC)  :100%|███████████████████████████████████████████████████████████████████████████████████████████| 5/5 [00:00<00:00, 7025.63it/s]                  \n",
      "[INFO] perform level-0 opt :100%|███████████████████████████████████████████████████████████████████████████████████████████| 1/1 [00:00<00:00, 1362.23it/s]                  \n",
      "[INFO] perform level-1 opt :100%|███████████████████████████████████████████████████████████████████████████████████████████| 2/2 [00:00<00:00, 4332.96it/s]                  \n",
      "[INFO] generate xmodel     :100%|███████████████████████████████████████████████████████████████████████████████████████████| 5/5 [00:00<00:00, 244.55it/s]                   "
     ]
    },
    {
     "name": "stdout",
     "output_type": "stream",
     "text": [
      "[INFO] dump xmodel: /tmp/zeart/tensorflow_model_optimization/tmp_sub_graph_xnnc_20241227-095425-035079_atwPEy.xmodel\n"
     ]
    },
    {
     "name": "stderr",
     "output_type": "stream",
     "text": [
      "\n",
      "I20241227 09:54:30.026335   109 compile_pass_manager.cpp:352] [UNILOG][INFO] Compile mode: dpu\n",
      "I20241227 09:54:30.026394   109 compile_pass_manager.cpp:353] [UNILOG][INFO] Debug mode: null\n",
      "I20241227 09:54:30.026403   109 compile_pass_manager.cpp:357] [UNILOG][INFO] Target architecture: DPUCZDX8G_ISA1_B4096\n",
      "I20241227 09:54:30.026484   109 compile_pass_manager.cpp:465] [UNILOG][INFO] Graph name: model_254, with op num: 9\n",
      "I20241227 09:54:30.026494   109 compile_pass_manager.cpp:478] [UNILOG][INFO] Begin to compile...\n",
      "I20241227 09:54:30.046938   109 compile_pass_manager.cpp:489] [UNILOG][INFO] Total device subgraph number 3, DPU subgraph number 1\n",
      "I20241227 09:54:30.046984   109 compile_pass_manager.cpp:504] [UNILOG][INFO] Compile done.\n"
     ]
    },
    {
     "name": "stdout",
     "output_type": "stream",
     "text": [
      "[INFO] Namespace(batchsize=1, inputs_shape=None, layout='NHWC', model_files=['/tmp/zeart/tensorflow_model_optimization/tmp_sub_graph_quantized_20241227-095425-035079_atwPEy.h5'], model_type='tensorflow2', named_inputs_shape=None, out_filename='/tmp/zeart/tensorflow_model_optimization/tmp_sub_graph_xnnc_20241227-095425-035079_atwPEy.xmodel', proto=None)\n",
      "[INFO] tensorflow2 model: /tmp/zeart/tensorflow_model_optimization/tmp_sub_graph_quantized_20241227-095425-035079_atwPEy.h5\n",
      "[INFO] keras version: 2.12.0\n",
      "[INFO] Tensorflow Keras model type: functional\n"
     ]
    },
    {
     "name": "stderr",
     "output_type": "stream",
     "text": [
      "[INFO] parse raw model     :100%|███████████████████████████████████████████████████████████████████████████████████████████| 4/4 [00:00<00:00, 7384.34it/s]                  \n",
      "[INFO] infer shape (NHWC)  :100%|███████████████████████████████████████████████████████████████████████████████████████████| 5/5 [00:00<00:00, 5313.28it/s]                  \n",
      "[INFO] perform level-0 opt :100%|███████████████████████████████████████████████████████████████████████████████████████████| 1/1 [00:00<00:00, 2861.05it/s]                  \n",
      "[INFO] perform level-1 opt :100%|███████████████████████████████████████████████████████████████████████████████████████████| 2/2 [00:00<00:00, 3137.10it/s]                  \n",
      "[INFO] generate xmodel     :100%|███████████████████████████████████████████████████████████████████████████████████████████| 5/5 [00:00<00:00, 575.65it/s]                   "
     ]
    },
    {
     "name": "stdout",
     "output_type": "stream",
     "text": [
      "[INFO] dump xmodel: /tmp/zeart/tensorflow_model_optimization/tmp_sub_graph_xnnc_20241227-095425-035079_atwPEy.xmodel\n"
     ]
    },
    {
     "name": "stderr",
     "output_type": "stream",
     "text": [
      "\n",
      "I20241227 09:54:30.293352   109 compile_pass_manager.cpp:352] [UNILOG][INFO] Compile mode: dpu\n",
      "I20241227 09:54:30.293427   109 compile_pass_manager.cpp:353] [UNILOG][INFO] Debug mode: null\n",
      "I20241227 09:54:30.293435   109 compile_pass_manager.cpp:357] [UNILOG][INFO] Target architecture: DPUCZDX8G_ISA1_B4096\n",
      "I20241227 09:54:30.293503   109 compile_pass_manager.cpp:465] [UNILOG][INFO] Graph name: model_255, with op num: 9\n",
      "I20241227 09:54:30.293507   109 compile_pass_manager.cpp:478] [UNILOG][INFO] Begin to compile...\n",
      "I20241227 09:54:30.324702   109 compile_pass_manager.cpp:489] [UNILOG][INFO] Total device subgraph number 3, DPU subgraph number 1\n",
      "I20241227 09:54:30.324759   109 compile_pass_manager.cpp:504] [UNILOG][INFO] Compile done.\n"
     ]
    },
    {
     "name": "stdout",
     "output_type": "stream",
     "text": [
      "[INFO] Namespace(batchsize=1, inputs_shape=None, layout='NHWC', model_files=['/tmp/zeart/tensorflow_model_optimization/tmp_sub_graph_quantized_20241227-095425-035079_atwPEy.h5'], model_type='tensorflow2', named_inputs_shape=None, out_filename='/tmp/zeart/tensorflow_model_optimization/tmp_sub_graph_xnnc_20241227-095425-035079_atwPEy.xmodel', proto=None)\n",
      "[INFO] tensorflow2 model: /tmp/zeart/tensorflow_model_optimization/tmp_sub_graph_quantized_20241227-095425-035079_atwPEy.h5\n",
      "[INFO] keras version: 2.12.0\n",
      "[INFO] Tensorflow Keras model type: functional\n"
     ]
    },
    {
     "name": "stderr",
     "output_type": "stream",
     "text": [
      "[INFO] parse raw model     :100%|███████████████████████████████████████████████████████████████████████████████████████████| 4/4 [00:00<00:00, 8334.43it/s]                  \n",
      "[INFO] infer shape (NHWC)  :100%|███████████████████████████████████████████████████████████████████████████████████████████| 5/5 [00:00<00:00, 4115.29it/s]                  \n",
      "[INFO] perform level-0 opt :100%|███████████████████████████████████████████████████████████████████████████████████████████| 1/1 [00:00<00:00, 2248.96it/s]                  \n",
      "[INFO] perform level-1 opt :100%|███████████████████████████████████████████████████████████████████████████████████████████| 2/2 [00:00<00:00, 2841.67it/s]                  \n",
      "[INFO] generate xmodel     :100%|███████████████████████████████████████████████████████████████████████████████████████████| 5/5 [00:00<00:00, 90.93it/s]                    "
     ]
    },
    {
     "name": "stdout",
     "output_type": "stream",
     "text": [
      "[INFO] dump xmodel: /tmp/zeart/tensorflow_model_optimization/tmp_sub_graph_xnnc_20241227-095425-035079_atwPEy.xmodel\n"
     ]
    },
    {
     "name": "stderr",
     "output_type": "stream",
     "text": [
      "\n",
      "I20241227 09:54:30.627234   109 compile_pass_manager.cpp:352] [UNILOG][INFO] Compile mode: dpu\n",
      "I20241227 09:54:30.627286   109 compile_pass_manager.cpp:353] [UNILOG][INFO] Debug mode: null\n",
      "I20241227 09:54:30.627301   109 compile_pass_manager.cpp:357] [UNILOG][INFO] Target architecture: DPUCZDX8G_ISA1_B4096\n",
      "I20241227 09:54:30.627832   109 compile_pass_manager.cpp:465] [UNILOG][INFO] Graph name: model_256, with op num: 9\n",
      "I20241227 09:54:30.627847   109 compile_pass_manager.cpp:478] [UNILOG][INFO] Begin to compile...\n",
      "I20241227 09:54:30.672636   109 compile_pass_manager.cpp:489] [UNILOG][INFO] Total device subgraph number 3, DPU subgraph number 1\n",
      "I20241227 09:54:30.672760   109 compile_pass_manager.cpp:504] [UNILOG][INFO] Compile done.\n"
     ]
    },
    {
     "name": "stdout",
     "output_type": "stream",
     "text": [
      "[INFO] Namespace(batchsize=1, inputs_shape=None, layout='NHWC', model_files=['/tmp/zeart/tensorflow_model_optimization/tmp_sub_graph_quantized_20241227-095425-035079_atwPEy.h5'], model_type='tensorflow2', named_inputs_shape=None, out_filename='/tmp/zeart/tensorflow_model_optimization/tmp_sub_graph_xnnc_20241227-095425-035079_atwPEy.xmodel', proto=None)\n",
      "[INFO] tensorflow2 model: /tmp/zeart/tensorflow_model_optimization/tmp_sub_graph_quantized_20241227-095425-035079_atwPEy.h5\n",
      "[INFO] keras version: 2.12.0\n",
      "[INFO] Tensorflow Keras model type: functional\n"
     ]
    },
    {
     "name": "stderr",
     "output_type": "stream",
     "text": [
      "[INFO] parse raw model     :100%|███████████████████████████████████████████████████████████████████████████████████████████| 4/4 [00:00<00:00, 10205.12it/s]                 \n",
      "[INFO] infer shape (NHWC)  :100%|███████████████████████████████████████████████████████████████████████████████████████████| 5/5 [00:00<00:00, 1361.70it/s]                  \n",
      "[INFO] perform level-0 opt :100%|███████████████████████████████████████████████████████████████████████████████████████████| 1/1 [00:00<00:00, 1448.81it/s]                  \n",
      "[INFO] perform level-1 opt :100%|███████████████████████████████████████████████████████████████████████████████████████████| 2/2 [00:00<00:00, 3449.26it/s]                  \n",
      "[INFO] generate xmodel     :100%|███████████████████████████████████████████████████████████████████████████████████████████| 5/5 [00:00<00:00, 40.88it/s]                    \n",
      "I20241227 09:54:31.111404   109 compile_pass_manager.cpp:352] [UNILOG][INFO] Compile mode: dpu\n",
      "I20241227 09:54:31.111503   109 compile_pass_manager.cpp:353] [UNILOG][INFO] Debug mode: null\n",
      "I20241227 09:54:31.111518   109 compile_pass_manager.cpp:357] [UNILOG][INFO] Target architecture: DPUCZDX8G_ISA1_B4096\n",
      "I20241227 09:54:31.111811   109 compile_pass_manager.cpp:465] [UNILOG][INFO] Graph name: model_257, with op num: 9\n",
      "I20241227 09:54:31.111828   109 compile_pass_manager.cpp:478] [UNILOG][INFO] Begin to compile...\n",
      "I20241227 09:54:31.205683   109 compile_pass_manager.cpp:489] [UNILOG][INFO] Total device subgraph number 3, DPU subgraph number 1\n",
      "I20241227 09:54:31.205734   109 compile_pass_manager.cpp:504] [UNILOG][INFO] Compile done.\n"
     ]
    },
    {
     "name": "stdout",
     "output_type": "stream",
     "text": [
      "[INFO] dump xmodel: /tmp/zeart/tensorflow_model_optimization/tmp_sub_graph_xnnc_20241227-095425-035079_atwPEy.xmodel\n",
      "[INFO] Namespace(batchsize=1, inputs_shape=None, layout='NHWC', model_files=['/tmp/zeart/tensorflow_model_optimization/tmp_sub_graph_quantized_20241227-095425-035135_DzUISt.h5'], model_type='tensorflow2', named_inputs_shape=None, out_filename='/tmp/zeart/tensorflow_model_optimization/tmp_sub_graph_xnnc_20241227-095425-035135_DzUISt.xmodel', proto=None)\n",
      "[INFO] tensorflow2 model: /tmp/zeart/tensorflow_model_optimization/tmp_sub_graph_quantized_20241227-095425-035135_DzUISt.h5\n",
      "[INFO] keras version: 2.12.0\n",
      "[INFO] Tensorflow Keras model type: functional\n"
     ]
    },
    {
     "name": "stderr",
     "output_type": "stream",
     "text": [
      "[INFO] parse raw model     :100%|███████████████████████████████████████████████████████████████████████████████████████████| 4/4 [00:00<00:00, 3801.77it/s]                  \n",
      "[INFO] infer shape (NHWC)  :100%|███████████████████████████████████████████████████████████████████████████████████████████| 5/5 [00:00<00:00, 3497.00it/s]                  \n",
      "[INFO] perform level-0 opt :100%|███████████████████████████████████████████████████████████████████████████████████████████| 1/1 [00:00<00:00, 1346.05it/s]                  \n",
      "[INFO] perform level-1 opt :100%|███████████████████████████████████████████████████████████████████████████████████████████| 2/2 [00:00<00:00, 3041.55it/s]                  \n",
      "[INFO] generate xmodel     :100%|███████████████████████████████████████████████████████████████████████████████████████████| 5/5 [00:00<00:00, 838.86it/s]                   \n",
      "I20241227 09:54:31.419363   109 compile_pass_manager.cpp:352] [UNILOG][INFO] Compile mode: dpu\n",
      "I20241227 09:54:31.419416   109 compile_pass_manager.cpp:353] [UNILOG][INFO] Debug mode: null\n",
      "I20241227 09:54:31.419425   109 compile_pass_manager.cpp:357] [UNILOG][INFO] Target architecture: DPUCZDX8G_ISA1_B4096\n",
      "I20241227 09:54:31.419512   109 compile_pass_manager.cpp:465] [UNILOG][INFO] Graph name: model_258, with op num: 9\n",
      "I20241227 09:54:31.419517   109 compile_pass_manager.cpp:478] [UNILOG][INFO] Begin to compile...\n",
      "I20241227 09:54:31.425622   109 compile_pass_manager.cpp:489] [UNILOG][INFO] Total device subgraph number 3, DPU subgraph number 1\n",
      "I20241227 09:54:31.425671   109 compile_pass_manager.cpp:504] [UNILOG][INFO] Compile done.\n"
     ]
    },
    {
     "name": "stdout",
     "output_type": "stream",
     "text": [
      "[INFO] dump xmodel: /tmp/zeart/tensorflow_model_optimization/tmp_sub_graph_xnnc_20241227-095425-035135_DzUISt.xmodel\n",
      "[INFO] Namespace(batchsize=1, inputs_shape=None, layout='NHWC', model_files=['/tmp/zeart/tensorflow_model_optimization/tmp_sub_graph_quantized_20241227-095425-035252_uNpgcx.h5'], model_type='tensorflow2', named_inputs_shape=None, out_filename='/tmp/zeart/tensorflow_model_optimization/tmp_sub_graph_xnnc_20241227-095425-035252_uNpgcx.xmodel', proto=None)\n",
      "[INFO] tensorflow2 model: /tmp/zeart/tensorflow_model_optimization/tmp_sub_graph_quantized_20241227-095425-035252_uNpgcx.h5\n",
      "[INFO] keras version: 2.12.0\n",
      "[INFO] Tensorflow Keras model type: functional\n"
     ]
    },
    {
     "name": "stderr",
     "output_type": "stream",
     "text": [
      "[INFO] parse raw model     :100%|███████████████████████████████████████████████████████████████████████████████████████████| 3/3 [00:00<00:00, 8128.50it/s]                  \n",
      "[INFO] infer shape (NHWC)  :100%|███████████████████████████████████████████████████████████████████████████████████████████| 4/4 [00:00<00:00, 982.85it/s]                   \n",
      "[INFO] perform level-0 opt :100%|███████████████████████████████████████████████████████████████████████████████████████████| 1/1 [00:00<00:00, 2623.08it/s]                  \n",
      "[INFO] perform level-1 opt :100%|███████████████████████████████████████████████████████████████████████████████████████████| 2/2 [00:00<00:00, 3253.92it/s]                  \n",
      "[INFO] generate xmodel     :100%|███████████████████████████████████████████████████████████████████████████████████████████| 4/4 [00:00<00:00, 790.59it/s]                   \n",
      "I20241227 09:54:31.598860   109 compile_pass_manager.cpp:352] [UNILOG][INFO] Compile mode: dpu\n",
      "I20241227 09:54:31.598941   109 compile_pass_manager.cpp:353] [UNILOG][INFO] Debug mode: null\n",
      "I20241227 09:54:31.598953   109 compile_pass_manager.cpp:357] [UNILOG][INFO] Target architecture: DPUCZDX8G_ISA1_B4096\n",
      "I20241227 09:54:31.599071   109 compile_pass_manager.cpp:465] [UNILOG][INFO] Graph name: model_259, with op num: 8\n",
      "I20241227 09:54:31.599085   109 compile_pass_manager.cpp:478] [UNILOG][INFO] Begin to compile...\n",
      "I20241227 09:54:31.609844   109 compile_pass_manager.cpp:489] [UNILOG][INFO] Total device subgraph number 3, DPU subgraph number 1\n",
      "I20241227 09:54:31.609880   109 compile_pass_manager.cpp:504] [UNILOG][INFO] Compile done.\n"
     ]
    },
    {
     "name": "stdout",
     "output_type": "stream",
     "text": [
      "[INFO] dump xmodel: /tmp/zeart/tensorflow_model_optimization/tmp_sub_graph_xnnc_20241227-095425-035252_uNpgcx.xmodel\n",
      "[INFO] Namespace(batchsize=1, inputs_shape=None, layout='NHWC', model_files=['/tmp/zeart/tensorflow_model_optimization/tmp_sub_graph_quantized_20241227-095425-035252_uNpgcx.h5'], model_type='tensorflow2', named_inputs_shape=None, out_filename='/tmp/zeart/tensorflow_model_optimization/tmp_sub_graph_xnnc_20241227-095425-035252_uNpgcx.xmodel', proto=None)\n",
      "[INFO] tensorflow2 model: /tmp/zeart/tensorflow_model_optimization/tmp_sub_graph_quantized_20241227-095425-035252_uNpgcx.h5\n",
      "[INFO] keras version: 2.12.0\n",
      "[INFO] Tensorflow Keras model type: functional\n"
     ]
    },
    {
     "name": "stderr",
     "output_type": "stream",
     "text": [
      "[INFO] parse raw model     :100%|███████████████████████████████████████████████████████████████████████████████████████████| 3/3 [00:00<00:00, 1394.85it/s]                  \n",
      "[INFO] infer shape (NHWC)  :100%|███████████████████████████████████████████████████████████████████████████████████████████| 4/4 [00:00<00:00, 5200.62it/s]                  \n",
      "[INFO] perform level-0 opt :100%|███████████████████████████████████████████████████████████████████████████████████████████| 1/1 [00:00<00:00, 1402.78it/s]                  \n",
      "[INFO] perform level-1 opt :100%|███████████████████████████████████████████████████████████████████████████████████████████| 2/2 [00:00<00:00, 7543.71it/s]                  \n",
      "[INFO] generate xmodel     :100%|███████████████████████████████████████████████████████████████████████████████████████████| 4/4 [00:00<00:00, 678.72it/s]                   \n",
      "I20241227 09:54:31.814903   109 compile_pass_manager.cpp:352] [UNILOG][INFO] Compile mode: dpu\n",
      "I20241227 09:54:31.814982   109 compile_pass_manager.cpp:353] [UNILOG][INFO] Debug mode: null\n",
      "I20241227 09:54:31.814996   109 compile_pass_manager.cpp:357] [UNILOG][INFO] Target architecture: DPUCZDX8G_ISA1_B4096\n",
      "I20241227 09:54:31.815117   109 compile_pass_manager.cpp:465] [UNILOG][INFO] Graph name: model_260, with op num: 8\n",
      "I20241227 09:54:31.815125   109 compile_pass_manager.cpp:478] [UNILOG][INFO] Begin to compile...\n",
      "I20241227 09:54:31.824168   109 compile_pass_manager.cpp:489] [UNILOG][INFO] Total device subgraph number 3, DPU subgraph number 1\n",
      "I20241227 09:54:31.824203   109 compile_pass_manager.cpp:504] [UNILOG][INFO] Compile done.\n"
     ]
    },
    {
     "name": "stdout",
     "output_type": "stream",
     "text": [
      "[INFO] dump xmodel: /tmp/zeart/tensorflow_model_optimization/tmp_sub_graph_xnnc_20241227-095425-035252_uNpgcx.xmodel\n",
      "[INFO] Namespace(batchsize=1, inputs_shape=None, layout='NHWC', model_files=['/tmp/zeart/tensorflow_model_optimization/tmp_sub_graph_quantized_20241227-095425-035252_uNpgcx.h5'], model_type='tensorflow2', named_inputs_shape=None, out_filename='/tmp/zeart/tensorflow_model_optimization/tmp_sub_graph_xnnc_20241227-095425-035252_uNpgcx.xmodel', proto=None)\n",
      "[INFO] tensorflow2 model: /tmp/zeart/tensorflow_model_optimization/tmp_sub_graph_quantized_20241227-095425-035252_uNpgcx.h5\n",
      "[INFO] keras version: 2.12.0\n",
      "[INFO] Tensorflow Keras model type: functional\n"
     ]
    },
    {
     "name": "stderr",
     "output_type": "stream",
     "text": [
      "[INFO] parse raw model     :100%|███████████████████████████████████████████████████████████████████████████████████████████| 3/3 [00:00<00:00, 7485.37it/s]                  \n",
      "[INFO] infer shape (NHWC)  :100%|███████████████████████████████████████████████████████████████████████████████████████████| 4/4 [00:00<00:00, 1300.06it/s]                  \n",
      "[INFO] perform level-0 opt :100%|███████████████████████████████████████████████████████████████████████████████████████████| 1/1 [00:00<00:00, 2102.41it/s]                  \n",
      "[INFO] perform level-1 opt :100%|███████████████████████████████████████████████████████████████████████████████████████████| 2/2 [00:00<00:00, 6311.97it/s]                  \n",
      "[INFO] generate xmodel     :100%|███████████████████████████████████████████████████████████████████████████████████████████| 4/4 [00:00<00:00, 567.37it/s]                   \n"
     ]
    },
    {
     "name": "stdout",
     "output_type": "stream",
     "text": [
      "[INFO] dump xmodel: /tmp/zeart/tensorflow_model_optimization/tmp_sub_graph_xnnc_20241227-095425-035252_uNpgcx.xmodel\n"
     ]
    },
    {
     "name": "stderr",
     "output_type": "stream",
     "text": [
      "I20241227 09:54:32.015693   109 compile_pass_manager.cpp:352] [UNILOG][INFO] Compile mode: dpu\n",
      "I20241227 09:54:32.015760   109 compile_pass_manager.cpp:353] [UNILOG][INFO] Debug mode: null\n",
      "I20241227 09:54:32.015769   109 compile_pass_manager.cpp:357] [UNILOG][INFO] Target architecture: DPUCZDX8G_ISA1_B4096\n",
      "I20241227 09:54:32.015865   109 compile_pass_manager.cpp:465] [UNILOG][INFO] Graph name: model_261, with op num: 8\n",
      "I20241227 09:54:32.015870   109 compile_pass_manager.cpp:478] [UNILOG][INFO] Begin to compile...\n",
      "I20241227 09:54:32.031728   109 compile_pass_manager.cpp:489] [UNILOG][INFO] Total device subgraph number 3, DPU subgraph number 1\n",
      "I20241227 09:54:32.031819   109 compile_pass_manager.cpp:504] [UNILOG][INFO] Compile done.\n"
     ]
    },
    {
     "name": "stdout",
     "output_type": "stream",
     "text": [
      "[INFO] Namespace(batchsize=1, inputs_shape=None, layout='NHWC', model_files=['/tmp/zeart/tensorflow_model_optimization/tmp_sub_graph_quantized_20241227-095425-035252_uNpgcx.h5'], model_type='tensorflow2', named_inputs_shape=None, out_filename='/tmp/zeart/tensorflow_model_optimization/tmp_sub_graph_xnnc_20241227-095425-035252_uNpgcx.xmodel', proto=None)\n",
      "[INFO] tensorflow2 model: /tmp/zeart/tensorflow_model_optimization/tmp_sub_graph_quantized_20241227-095425-035252_uNpgcx.h5\n",
      "[INFO] keras version: 2.12.0\n",
      "[INFO] Tensorflow Keras model type: functional\n"
     ]
    },
    {
     "name": "stderr",
     "output_type": "stream",
     "text": [
      "[INFO] parse raw model     :100%|███████████████████████████████████████████████████████████████████████████████████████████| 3/3 [00:00<00:00, 4444.69it/s]                  \n",
      "[INFO] infer shape (NHWC)  :100%|███████████████████████████████████████████████████████████████████████████████████████████| 4/4 [00:00<00:00, 2887.64it/s]                  \n",
      "[INFO] perform level-0 opt :100%|███████████████████████████████████████████████████████████████████████████████████████████| 1/1 [00:00<00:00, 1964.55it/s]                  \n",
      "[INFO] perform level-1 opt :100%|███████████████████████████████████████████████████████████████████████████████████████████| 2/2 [00:00<00:00, 2307.73it/s]                  \n",
      "[INFO] generate xmodel     :100%|███████████████████████████████████████████████████████████████████████████████████████████| 4/4 [00:00<00:00, 1754.57it/s]                  \n",
      "I20241227 09:54:32.478279   109 compile_pass_manager.cpp:352] [UNILOG][INFO] Compile mode: dpu\n",
      "I20241227 09:54:32.478506   109 compile_pass_manager.cpp:353] [UNILOG][INFO] Debug mode: null\n",
      "I20241227 09:54:32.478533   109 compile_pass_manager.cpp:357] [UNILOG][INFO] Target architecture: DPUCZDX8G_ISA1_B4096\n",
      "I20241227 09:54:32.478886   109 compile_pass_manager.cpp:465] [UNILOG][INFO] Graph name: model_262, with op num: 8\n",
      "I20241227 09:54:32.478909   109 compile_pass_manager.cpp:478] [UNILOG][INFO] Begin to compile...\n",
      "I20241227 09:54:32.483661   109 compile_pass_manager.cpp:489] [UNILOG][INFO] Total device subgraph number 3, DPU subgraph number 1\n",
      "I20241227 09:54:32.483692   109 compile_pass_manager.cpp:504] [UNILOG][INFO] Compile done.\n"
     ]
    },
    {
     "name": "stdout",
     "output_type": "stream",
     "text": [
      "[INFO] dump xmodel: /tmp/zeart/tensorflow_model_optimization/tmp_sub_graph_xnnc_20241227-095425-035252_uNpgcx.xmodel\n",
      "[INFO] Namespace(batchsize=1, inputs_shape=None, layout='NHWC', model_files=['/tmp/zeart/tensorflow_model_optimization/tmp_sub_graph_quantized_20241227-095425-035252_uNpgcx.h5'], model_type='tensorflow2', named_inputs_shape=None, out_filename='/tmp/zeart/tensorflow_model_optimization/tmp_sub_graph_xnnc_20241227-095425-035252_uNpgcx.xmodel', proto=None)\n",
      "[INFO] tensorflow2 model: /tmp/zeart/tensorflow_model_optimization/tmp_sub_graph_quantized_20241227-095425-035252_uNpgcx.h5\n",
      "[INFO] keras version: 2.12.0\n",
      "[INFO] Tensorflow Keras model type: functional\n"
     ]
    },
    {
     "name": "stderr",
     "output_type": "stream",
     "text": [
      "[INFO] parse raw model     :100%|███████████████████████████████████████████████████████████████████████████████████████████| 3/3 [00:00<00:00, 8695.86it/s]                  \n",
      "[INFO] infer shape (NHWC)  :100%|███████████████████████████████████████████████████████████████████████████████████████████| 4/4 [00:00<00:00, 7253.44it/s]                  \n",
      "[INFO] perform level-0 opt :100%|███████████████████████████████████████████████████████████████████████████████████████████| 1/1 [00:00<00:00, 2473.06it/s]                  \n",
      "[INFO] perform level-1 opt :100%|███████████████████████████████████████████████████████████████████████████████████████████| 2/2 [00:00<00:00, 5596.14it/s]                  \n",
      "[INFO] generate xmodel     :100%|███████████████████████████████████████████████████████████████████████████████████████████| 4/4 [00:00<00:00, 814.27it/s]                   "
     ]
    },
    {
     "name": "stdout",
     "output_type": "stream",
     "text": [
      "[INFO] dump xmodel: /tmp/zeart/tensorflow_model_optimization/tmp_sub_graph_xnnc_20241227-095425-035252_uNpgcx.xmodel\n"
     ]
    },
    {
     "name": "stderr",
     "output_type": "stream",
     "text": [
      "\n",
      "I20241227 09:54:32.684715   109 compile_pass_manager.cpp:352] [UNILOG][INFO] Compile mode: dpu\n",
      "I20241227 09:54:32.684760   109 compile_pass_manager.cpp:353] [UNILOG][INFO] Debug mode: null\n",
      "I20241227 09:54:32.684768   109 compile_pass_manager.cpp:357] [UNILOG][INFO] Target architecture: DPUCZDX8G_ISA1_B4096\n",
      "I20241227 09:54:32.684900   109 compile_pass_manager.cpp:465] [UNILOG][INFO] Graph name: model_263, with op num: 8\n",
      "I20241227 09:54:32.684911   109 compile_pass_manager.cpp:478] [UNILOG][INFO] Begin to compile...\n",
      "I20241227 09:54:32.699321   109 compile_pass_manager.cpp:489] [UNILOG][INFO] Total device subgraph number 3, DPU subgraph number 1\n",
      "I20241227 09:54:32.699599   109 compile_pass_manager.cpp:504] [UNILOG][INFO] Compile done.\n"
     ]
    },
    {
     "name": "stdout",
     "output_type": "stream",
     "text": [
      "[INFO] Namespace(batchsize=1, inputs_shape=None, layout='NHWC', model_files=['/tmp/zeart/tensorflow_model_optimization/tmp_sub_graph_quantized_20241227-095425-035252_uNpgcx.h5'], model_type='tensorflow2', named_inputs_shape=None, out_filename='/tmp/zeart/tensorflow_model_optimization/tmp_sub_graph_xnnc_20241227-095425-035252_uNpgcx.xmodel', proto=None)\n",
      "[INFO] tensorflow2 model: /tmp/zeart/tensorflow_model_optimization/tmp_sub_graph_quantized_20241227-095425-035252_uNpgcx.h5\n",
      "[INFO] keras version: 2.12.0\n",
      "[INFO] Tensorflow Keras model type: functional\n"
     ]
    },
    {
     "name": "stderr",
     "output_type": "stream",
     "text": [
      "[INFO] parse raw model     :100%|███████████████████████████████████████████████████████████████████████████████████████████| 3/3 [00:00<00:00, 4634.59it/s]                  \n",
      "[INFO] infer shape (NHWC)  :100%|███████████████████████████████████████████████████████████████████████████████████████████| 4/4 [00:00<00:00, 9305.17it/s]                  \n",
      "[INFO] perform level-0 opt :100%|███████████████████████████████████████████████████████████████████████████████████████████| 1/1 [00:00<00:00, 723.78it/s]                   \n",
      "[INFO] perform level-1 opt :100%|███████████████████████████████████████████████████████████████████████████████████████████| 2/2 [00:00<00:00, 3860.38it/s]                  \n",
      "[INFO] generate xmodel     :100%|███████████████████████████████████████████████████████████████████████████████████████████| 4/4 [00:00<00:00, 323.55it/s]                   "
     ]
    },
    {
     "name": "stdout",
     "output_type": "stream",
     "text": [
      "[INFO] dump xmodel: /tmp/zeart/tensorflow_model_optimization/tmp_sub_graph_xnnc_20241227-095425-035252_uNpgcx.xmodel\n"
     ]
    },
    {
     "name": "stderr",
     "output_type": "stream",
     "text": [
      "\n",
      "I20241227 09:54:32.925738   109 compile_pass_manager.cpp:352] [UNILOG][INFO] Compile mode: dpu\n",
      "I20241227 09:54:32.925815   109 compile_pass_manager.cpp:353] [UNILOG][INFO] Debug mode: null\n",
      "I20241227 09:54:32.925828   109 compile_pass_manager.cpp:357] [UNILOG][INFO] Target architecture: DPUCZDX8G_ISA1_B4096\n",
      "I20241227 09:54:32.925931   109 compile_pass_manager.cpp:465] [UNILOG][INFO] Graph name: model_264, with op num: 8\n",
      "I20241227 09:54:32.925940   109 compile_pass_manager.cpp:478] [UNILOG][INFO] Begin to compile...\n",
      "I20241227 09:54:32.966586   109 compile_pass_manager.cpp:489] [UNILOG][INFO] Total device subgraph number 3, DPU subgraph number 1\n",
      "I20241227 09:54:32.966631   109 compile_pass_manager.cpp:504] [UNILOG][INFO] Compile done.\n"
     ]
    },
    {
     "name": "stdout",
     "output_type": "stream",
     "text": [
      "[INFO] Namespace(batchsize=1, inputs_shape=None, layout='NHWC', model_files=['/tmp/zeart/tensorflow_model_optimization/tmp_sub_graph_quantized_20241227-095425-035252_uNpgcx.h5'], model_type='tensorflow2', named_inputs_shape=None, out_filename='/tmp/zeart/tensorflow_model_optimization/tmp_sub_graph_xnnc_20241227-095425-035252_uNpgcx.xmodel', proto=None)\n",
      "[INFO] tensorflow2 model: /tmp/zeart/tensorflow_model_optimization/tmp_sub_graph_quantized_20241227-095425-035252_uNpgcx.h5\n",
      "[INFO] keras version: 2.12.0\n",
      "[INFO] Tensorflow Keras model type: functional\n"
     ]
    },
    {
     "name": "stderr",
     "output_type": "stream",
     "text": [
      "[INFO] parse raw model     :100%|███████████████████████████████████████████████████████████████████████████████████████████| 3/3 [00:00<00:00, 5007.13it/s]                  \n",
      "[INFO] infer shape (NHWC)  :100%|███████████████████████████████████████████████████████████████████████████████████████████| 4/4 [00:00<00:00, 3578.76it/s]                  \n",
      "[INFO] perform level-0 opt :100%|███████████████████████████████████████████████████████████████████████████████████████████| 1/1 [00:00<00:00, 3127.74it/s]                  \n",
      "[INFO] perform level-1 opt :100%|███████████████████████████████████████████████████████████████████████████████████████████| 2/2 [00:00<00:00, 4490.69it/s]                  \n",
      "[INFO] generate xmodel     :100%|███████████████████████████████████████████████████████████████████████████████████████████| 4/4 [00:00<00:00, 757.03it/s]                   "
     ]
    },
    {
     "name": "stdout",
     "output_type": "stream",
     "text": [
      "[INFO] dump xmodel: /tmp/zeart/tensorflow_model_optimization/tmp_sub_graph_xnnc_20241227-095425-035252_uNpgcx.xmodel\n",
      "[INFO] Namespace(batchsize=1, inputs_shape=None, layout='NHWC', model_files=['/tmp/zeart/tensorflow_model_optimization/tmp_sub_graph_quantized_20241227-095425-035252_uNpgcx.h5'], model_type='tensorflow2', named_inputs_shape=None, out_filename='/tmp/zeart/tensorflow_model_optimization/tmp_sub_graph_xnnc_20241227-095425-035252_uNpgcx.xmodel', proto=None)\n",
      "[INFO] tensorflow2 model: /tmp/zeart/tensorflow_model_optimization/tmp_sub_graph_quantized_20241227-095425-035252_uNpgcx.h5\n",
      "[INFO] keras version: 2.12.0\n",
      "[INFO] Tensorflow Keras model type: functional\n"
     ]
    },
    {
     "name": "stderr",
     "output_type": "stream",
     "text": [
      "\n",
      "I20241227 09:54:33.195816   109 compile_pass_manager.cpp:352] [UNILOG][INFO] Compile mode: dpu\n",
      "I20241227 09:54:33.195930   109 compile_pass_manager.cpp:353] [UNILOG][INFO] Debug mode: null\n",
      "I20241227 09:54:33.195941   109 compile_pass_manager.cpp:357] [UNILOG][INFO] Target architecture: DPUCZDX8G_ISA1_B4096\n",
      "I20241227 09:54:33.196089   109 compile_pass_manager.cpp:465] [UNILOG][INFO] Graph name: model_265, with op num: 8\n",
      "I20241227 09:54:33.196099   109 compile_pass_manager.cpp:478] [UNILOG][INFO] Begin to compile...\n",
      "I20241227 09:54:33.203194   109 compile_pass_manager.cpp:489] [UNILOG][INFO] Total device subgraph number 3, DPU subgraph number 1\n",
      "I20241227 09:54:33.203270   109 compile_pass_manager.cpp:504] [UNILOG][INFO] Compile done.\n",
      "[INFO] parse raw model     :100%|███████████████████████████████████████████████████████████████████████████████████████████| 3/3 [00:00<00:00, 5637.51it/s]                  \n",
      "[INFO] infer shape (NHWC)  :100%|███████████████████████████████████████████████████████████████████████████████████████████| 4/4 [00:00<00:00, 1118.56it/s]                  \n",
      "[INFO] perform level-0 opt :100%|███████████████████████████████████████████████████████████████████████████████████████████| 1/1 [00:00<00:00, 1449.31it/s]                  \n",
      "[INFO] perform level-1 opt :100%|███████████████████████████████████████████████████████████████████████████████████████████| 2/2 [00:00<00:00, 626.72it/s]                   \n",
      "[INFO] generate xmodel     :100%|███████████████████████████████████████████████████████████████████████████████████████████| 4/4 [00:00<00:00, 335.50it/s]                   "
     ]
    },
    {
     "name": "stdout",
     "output_type": "stream",
     "text": [
      "[INFO] dump xmodel ...\r"
     ]
    },
    {
     "name": "stderr",
     "output_type": "stream",
     "text": [
      "\n",
      "I20241227 09:54:33.411723   109 compile_pass_manager.cpp:352] [UNILOG][INFO] Compile mode: dpu\n",
      "I20241227 09:54:33.411775   109 compile_pass_manager.cpp:353] [UNILOG][INFO] Debug mode: null\n",
      "I20241227 09:54:33.411787   109 compile_pass_manager.cpp:357] [UNILOG][INFO] Target architecture: DPUCZDX8G_ISA1_B4096\n",
      "I20241227 09:54:33.412091   109 compile_pass_manager.cpp:465] [UNILOG][INFO] Graph name: model_266, with op num: 8\n",
      "I20241227 09:54:33.412112   109 compile_pass_manager.cpp:478] [UNILOG][INFO] Begin to compile...\n",
      "I20241227 09:54:33.445588   109 compile_pass_manager.cpp:489] [UNILOG][INFO] Total device subgraph number 3, DPU subgraph number 1\n",
      "I20241227 09:54:33.445621   109 compile_pass_manager.cpp:504] [UNILOG][INFO] Compile done.\n"
     ]
    },
    {
     "name": "stdout",
     "output_type": "stream",
     "text": [
      "[INFO] dump xmodel: /tmp/zeart/tensorflow_model_optimization/tmp_sub_graph_xnnc_20241227-095425-035252_uNpgcx.xmodel\n",
      "[INFO] Namespace(batchsize=1, inputs_shape=None, layout='NHWC', model_files=['/tmp/zeart/tensorflow_model_optimization/tmp_sub_graph_quantized_20241227-095425-035252_uNpgcx.h5'], model_type='tensorflow2', named_inputs_shape=None, out_filename='/tmp/zeart/tensorflow_model_optimization/tmp_sub_graph_xnnc_20241227-095425-035252_uNpgcx.xmodel', proto=None)\n",
      "[INFO] tensorflow2 model: /tmp/zeart/tensorflow_model_optimization/tmp_sub_graph_quantized_20241227-095425-035252_uNpgcx.h5\n",
      "[INFO] keras version: 2.12.0\n",
      "[INFO] Tensorflow Keras model type: functional\n"
     ]
    },
    {
     "name": "stderr",
     "output_type": "stream",
     "text": [
      "[INFO] parse raw model     :100%|███████████████████████████████████████████████████████████████████████████████████████████| 3/3 [00:00<00:00, 5456.60it/s]                  \n",
      "[INFO] infer shape (NHWC)  :100%|███████████████████████████████████████████████████████████████████████████████████████████| 4/4 [00:00<00:00, 9305.17it/s]                  \n",
      "[INFO] perform level-0 opt :100%|███████████████████████████████████████████████████████████████████████████████████████████| 1/1 [00:00<00:00, 3368.92it/s]                  \n",
      "[INFO] perform level-1 opt :100%|███████████████████████████████████████████████████████████████████████████████████████████| 2/2 [00:00<00:00, 4128.25it/s]                  \n",
      "[INFO] generate xmodel     :100%|███████████████████████████████████████████████████████████████████████████████████████████| 4/4 [00:00<00:00, 62.51it/s]                    "
     ]
    },
    {
     "name": "stdout",
     "output_type": "stream",
     "text": [
      "[INFO] dump xmodel ...\r"
     ]
    },
    {
     "name": "stderr",
     "output_type": "stream",
     "text": [
      "\n",
      "I20241227 09:54:33.830590   109 compile_pass_manager.cpp:352] [UNILOG][INFO] Compile mode: dpu\n",
      "I20241227 09:54:33.830638   109 compile_pass_manager.cpp:353] [UNILOG][INFO] Debug mode: null\n",
      "I20241227 09:54:33.830647   109 compile_pass_manager.cpp:357] [UNILOG][INFO] Target architecture: DPUCZDX8G_ISA1_B4096\n",
      "I20241227 09:54:33.830730   109 compile_pass_manager.cpp:465] [UNILOG][INFO] Graph name: model_267, with op num: 8\n",
      "I20241227 09:54:33.830735   109 compile_pass_manager.cpp:478] [UNILOG][INFO] Begin to compile...\n",
      "I20241227 09:54:33.915215   109 compile_pass_manager.cpp:489] [UNILOG][INFO] Total device subgraph number 3, DPU subgraph number 1\n",
      "I20241227 09:54:33.915248   109 compile_pass_manager.cpp:504] [UNILOG][INFO] Compile done.\n"
     ]
    },
    {
     "name": "stdout",
     "output_type": "stream",
     "text": [
      "[INFO] dump xmodel: /tmp/zeart/tensorflow_model_optimization/tmp_sub_graph_xnnc_20241227-095425-035252_uNpgcx.xmodel\n",
      "[INFO] Namespace(batchsize=1, inputs_shape=None, layout='NHWC', model_files=['/tmp/zeart/tensorflow_model_optimization/tmp_sub_graph_quantized_20241227-095425-035252_uNpgcx.h5'], model_type='tensorflow2', named_inputs_shape=None, out_filename='/tmp/zeart/tensorflow_model_optimization/tmp_sub_graph_xnnc_20241227-095425-035252_uNpgcx.xmodel', proto=None)\n",
      "[INFO] tensorflow2 model: /tmp/zeart/tensorflow_model_optimization/tmp_sub_graph_quantized_20241227-095425-035252_uNpgcx.h5\n",
      "[INFO] keras version: 2.12.0\n",
      "[INFO] Tensorflow Keras model type: functional\n"
     ]
    },
    {
     "name": "stderr",
     "output_type": "stream",
     "text": [
      "[INFO] parse raw model     :100%|███████████████████████████████████████████████████████████████████████████████████████████| 3/3 [00:00<00:00, 4385.82it/s]                  \n",
      "[INFO] infer shape (NHWC)  :100%|███████████████████████████████████████████████████████████████████████████████████████████| 4/4 [00:00<00:00, 5124.38it/s]                  \n",
      "[INFO] perform level-0 opt :100%|███████████████████████████████████████████████████████████████████████████████████████████| 1/1 [00:00<00:00, 369.87it/s]                   \n",
      "[INFO] perform level-1 opt :100%|███████████████████████████████████████████████████████████████████████████████████████████| 2/2 [00:00<00:00, 1695.70it/s]                  \n",
      "[INFO] generate xmodel     :100%|███████████████████████████████████████████████████████████████████████████████████████████| 4/4 [00:00<00:00, 447.93it/s]                   "
     ]
    },
    {
     "name": "stdout",
     "output_type": "stream",
     "text": [
      "[INFO] dump xmodel: /tmp/zeart/tensorflow_model_optimization/tmp_sub_graph_xnnc_20241227-095425-035252_uNpgcx.xmodel\n"
     ]
    },
    {
     "name": "stderr",
     "output_type": "stream",
     "text": [
      "\n",
      "I20241227 09:54:35.131897   109 compile_pass_manager.cpp:352] [UNILOG][INFO] Compile mode: dpu\n",
      "I20241227 09:54:35.131974   109 compile_pass_manager.cpp:353] [UNILOG][INFO] Debug mode: null\n",
      "I20241227 09:54:35.131984   109 compile_pass_manager.cpp:357] [UNILOG][INFO] Target architecture: DPUCZDX8G_ISA1_B4096\n",
      "I20241227 09:54:35.132108   109 compile_pass_manager.cpp:465] [UNILOG][INFO] Graph name: model_268, with op num: 8\n",
      "I20241227 09:54:35.132117   109 compile_pass_manager.cpp:478] [UNILOG][INFO] Begin to compile...\n",
      "I20241227 09:54:35.152729   109 compile_pass_manager.cpp:489] [UNILOG][INFO] Total device subgraph number 3, DPU subgraph number 1\n",
      "I20241227 09:54:35.152769   109 compile_pass_manager.cpp:504] [UNILOG][INFO] Compile done.\n"
     ]
    },
    {
     "name": "stdout",
     "output_type": "stream",
     "text": [
      "[INFO] Namespace(batchsize=1, inputs_shape=None, layout='NHWC', model_files=['/tmp/zeart/tensorflow_model_optimization/tmp_sub_graph_quantized_20241227-095425-035252_uNpgcx.h5'], model_type='tensorflow2', named_inputs_shape=None, out_filename='/tmp/zeart/tensorflow_model_optimization/tmp_sub_graph_xnnc_20241227-095425-035252_uNpgcx.xmodel', proto=None)\n",
      "[INFO] tensorflow2 model: /tmp/zeart/tensorflow_model_optimization/tmp_sub_graph_quantized_20241227-095425-035252_uNpgcx.h5\n",
      "[INFO] keras version: 2.12.0\n",
      "[INFO] Tensorflow Keras model type: functional\n"
     ]
    },
    {
     "name": "stderr",
     "output_type": "stream",
     "text": [
      "[INFO] parse raw model     :100%|███████████████████████████████████████████████████████████████████████████████████████████| 3/3 [00:00<00:00, 4550.78it/s]                  \n",
      "[INFO] infer shape (NHWC)  :100%|███████████████████████████████████████████████████████████████████████████████████████████| 4/4 [00:00<00:00, 2732.00it/s]                  \n",
      "[INFO] perform level-0 opt :100%|███████████████████████████████████████████████████████████████████████████████████████████| 1/1 [00:00<00:00, 1568.55it/s]                  \n",
      "[INFO] perform level-1 opt :100%|███████████████████████████████████████████████████████████████████████████████████████████| 2/2 [00:00<00:00, 5023.12it/s]                  \n",
      "[INFO] generate xmodel     :100%|███████████████████████████████████████████████████████████████████████████████████████████| 4/4 [00:00<00:00, 63.88it/s]                    "
     ]
    },
    {
     "name": "stdout",
     "output_type": "stream",
     "text": [
      "[INFO] dump xmodel: /tmp/zeart/tensorflow_model_optimization/tmp_sub_graph_xnnc_20241227-095425-035252_uNpgcx.xmodel\n"
     ]
    },
    {
     "name": "stderr",
     "output_type": "stream",
     "text": [
      "\n",
      "I20241227 09:54:35.520591   109 compile_pass_manager.cpp:352] [UNILOG][INFO] Compile mode: dpu\n",
      "I20241227 09:54:35.520634   109 compile_pass_manager.cpp:353] [UNILOG][INFO] Debug mode: null\n",
      "I20241227 09:54:35.520641   109 compile_pass_manager.cpp:357] [UNILOG][INFO] Target architecture: DPUCZDX8G_ISA1_B4096\n",
      "I20241227 09:54:35.520704   109 compile_pass_manager.cpp:465] [UNILOG][INFO] Graph name: model_269, with op num: 8\n",
      "I20241227 09:54:35.520709   109 compile_pass_manager.cpp:478] [UNILOG][INFO] Begin to compile...\n",
      "I20241227 09:54:35.606004   109 compile_pass_manager.cpp:489] [UNILOG][INFO] Total device subgraph number 3, DPU subgraph number 1\n",
      "I20241227 09:54:35.606042   109 compile_pass_manager.cpp:504] [UNILOG][INFO] Compile done.\n"
     ]
    },
    {
     "name": "stdout",
     "output_type": "stream",
     "text": [
      "[INFO] Namespace(batchsize=1, inputs_shape=None, layout='NHWC', model_files=['/tmp/zeart/tensorflow_model_optimization/tmp_sub_graph_quantized_20241227-095425-035252_uNpgcx.h5'], model_type='tensorflow2', named_inputs_shape=None, out_filename='/tmp/zeart/tensorflow_model_optimization/tmp_sub_graph_xnnc_20241227-095425-035252_uNpgcx.xmodel', proto=None)\n",
      "[INFO] tensorflow2 model: /tmp/zeart/tensorflow_model_optimization/tmp_sub_graph_quantized_20241227-095425-035252_uNpgcx.h5\n",
      "[INFO] keras version: 2.12.0\n",
      "[INFO] Tensorflow Keras model type: functional\n"
     ]
    },
    {
     "name": "stderr",
     "output_type": "stream",
     "text": [
      "[INFO] parse raw model     :100%|███████████████████████████████████████████████████████████████████████████████████████████| 3/3 [00:00<00:00, 6986.63it/s]                  \n",
      "[INFO] infer shape (NHWC)  :100%|███████████████████████████████████████████████████████████████████████████████████████████| 6/6 [00:00<00:00, 6996.34it/s]                  \n",
      "[INFO] perform level-0 opt :100%|███████████████████████████████████████████████████████████████████████████████████████████| 1/1 [00:00<00:00, 1045.44it/s]                  \n",
      "[INFO] perform level-1 opt :100%|███████████████████████████████████████████████████████████████████████████████████████████| 2/2 [00:00<00:00, 1145.83it/s]                  \n",
      "[INFO] generate xmodel     :100%|███████████████████████████████████████████████████████████████████████████████████████████| 6/6 [00:00<00:00, 1249.36it/s]                  "
     ]
    },
    {
     "name": "stdout",
     "output_type": "stream",
     "text": [
      "[INFO] dump xmodel: /tmp/zeart/tensorflow_model_optimization/tmp_sub_graph_xnnc_20241227-095425-035252_uNpgcx.xmodel\n"
     ]
    },
    {
     "name": "stderr",
     "output_type": "stream",
     "text": [
      "\n",
      "I20241227 09:54:35.789115   109 compile_pass_manager.cpp:352] [UNILOG][INFO] Compile mode: dpu\n",
      "I20241227 09:54:35.789186   109 compile_pass_manager.cpp:353] [UNILOG][INFO] Debug mode: null\n",
      "I20241227 09:54:35.789196   109 compile_pass_manager.cpp:357] [UNILOG][INFO] Target architecture: DPUCZDX8G_ISA1_B4096\n",
      "I20241227 09:54:35.789345   109 compile_pass_manager.cpp:465] [UNILOG][INFO] Graph name: model_270, with op num: 8\n",
      "I20241227 09:54:35.789361   109 compile_pass_manager.cpp:478] [UNILOG][INFO] Begin to compile...\n",
      "I20241227 09:54:35.805069   109 compile_pass_manager.cpp:489] [UNILOG][INFO] Total device subgraph number 3, DPU subgraph number 1\n",
      "I20241227 09:54:35.805116   109 compile_pass_manager.cpp:504] [UNILOG][INFO] Compile done.\n"
     ]
    },
    {
     "name": "stdout",
     "output_type": "stream",
     "text": [
      "[INFO] Namespace(batchsize=1, inputs_shape=None, layout='NHWC', model_files=['/tmp/zeart/tensorflow_model_optimization/tmp_sub_graph_quantized_20241227-095425-035444_WACYiB.h5'], model_type='tensorflow2', named_inputs_shape=None, out_filename='/tmp/zeart/tensorflow_model_optimization/tmp_sub_graph_xnnc_20241227-095425-035444_WACYiB.xmodel', proto=None)\n",
      "[INFO] tensorflow2 model: /tmp/zeart/tensorflow_model_optimization/tmp_sub_graph_quantized_20241227-095425-035444_WACYiB.h5\n",
      "[INFO] keras version: 2.12.0\n",
      "[INFO] Tensorflow Keras model type: functional\n"
     ]
    },
    {
     "name": "stderr",
     "output_type": "stream",
     "text": [
      "[INFO] parse raw model     :100%|███████████████████████████████████████████████████████████████████████████████████████████| 6/6 [00:00<00:00, 8513.47it/s]                  \n",
      "[INFO] infer shape (NHWC)  :100%|███████████████████████████████████████████████████████████████████████████████████████████| 7/7 [00:00<00:00, 2055.74it/s]                  \n",
      "[INFO] perform level-0 opt :100%|███████████████████████████████████████████████████████████████████████████████████████████| 1/1 [00:00<00:00, 1059.70it/s]                  \n",
      "[INFO] perform level-1 opt :100%|███████████████████████████████████████████████████████████████████████████████████████████| 2/2 [00:00<00:00, 2816.86it/s]                  \n",
      "[INFO] generate xmodel     :100%|███████████████████████████████████████████████████████████████████████████████████████████| 7/7 [00:00<00:00, 1822.25it/s]                  \n",
      "I20241227 09:54:36.060040   109 compile_pass_manager.cpp:352] [UNILOG][INFO] Compile mode: dpu\n",
      "I20241227 09:54:36.060134   109 compile_pass_manager.cpp:353] [UNILOG][INFO] Debug mode: null\n",
      "I20241227 09:54:36.060146   109 compile_pass_manager.cpp:357] [UNILOG][INFO] Target architecture: DPUCZDX8G_ISA1_B4096\n",
      "I20241227 09:54:36.060264   109 compile_pass_manager.cpp:465] [UNILOG][INFO] Graph name: model_271, with op num: 7\n",
      "I20241227 09:54:36.060271   109 compile_pass_manager.cpp:478] [UNILOG][INFO] Begin to compile...\n",
      "I20241227 09:54:36.067577   109 compile_pass_manager.cpp:489] [UNILOG][INFO] Total device subgraph number 4, DPU subgraph number 1\n",
      "I20241227 09:54:36.067615   109 compile_pass_manager.cpp:504] [UNILOG][INFO] Compile done.\n"
     ]
    },
    {
     "name": "stdout",
     "output_type": "stream",
     "text": [
      "[INFO] dump xmodel: /tmp/zeart/tensorflow_model_optimization/tmp_sub_graph_xnnc_20241227-095425-035444_WACYiB.xmodel\n",
      "[INFO] Namespace(batchsize=1, inputs_shape=None, layout='NHWC', model_files=['/tmp/zeart/tensorflow_model_optimization/tmp_sub_graph_quantized_20241227-095425-035444_WACYiB.h5'], model_type='tensorflow2', named_inputs_shape=None, out_filename='/tmp/zeart/tensorflow_model_optimization/tmp_sub_graph_xnnc_20241227-095425-035444_WACYiB.xmodel', proto=None)\n",
      "[INFO] tensorflow2 model: /tmp/zeart/tensorflow_model_optimization/tmp_sub_graph_quantized_20241227-095425-035444_WACYiB.h5\n",
      "[INFO] keras version: 2.12.0\n",
      "[INFO] Tensorflow Keras model type: functional\n"
     ]
    },
    {
     "name": "stderr",
     "output_type": "stream",
     "text": [
      "[INFO] parse raw model     :100%|███████████████████████████████████████████████████████████████████████████████████████████| 6/6 [00:00<00:00, 1888.62it/s]                  \n",
      "[INFO] infer shape (NHWC)  :100%|███████████████████████████████████████████████████████████████████████████████████████████| 7/7 [00:00<00:00, 4661.08it/s]                  \n",
      "[INFO] perform level-0 opt :100%|███████████████████████████████████████████████████████████████████████████████████████████| 1/1 [00:00<00:00, 1245.34it/s]                  \n",
      "[INFO] perform level-1 opt :100%|███████████████████████████████████████████████████████████████████████████████████████████| 2/2 [00:00<00:00, 3167.90it/s]                  \n",
      "[INFO] generate xmodel     :100%|███████████████████████████████████████████████████████████████████████████████████████████| 7/7 [00:00<00:00, 523.47it/s]                   \n"
     ]
    },
    {
     "name": "stdout",
     "output_type": "stream",
     "text": [
      "[INFO] dump xmodel: /tmp/zeart/tensorflow_model_optimization/tmp_sub_graph_xnnc_20241227-095425-035444_WACYiB.xmodel\n"
     ]
    },
    {
     "name": "stderr",
     "output_type": "stream",
     "text": [
      "I20241227 09:54:36.272182   109 compile_pass_manager.cpp:352] [UNILOG][INFO] Compile mode: dpu\n",
      "I20241227 09:54:36.272254   109 compile_pass_manager.cpp:353] [UNILOG][INFO] Debug mode: null\n",
      "I20241227 09:54:36.272267   109 compile_pass_manager.cpp:357] [UNILOG][INFO] Target architecture: DPUCZDX8G_ISA1_B4096\n",
      "I20241227 09:54:36.272415   109 compile_pass_manager.cpp:465] [UNILOG][INFO] Graph name: model_272, with op num: 7\n",
      "I20241227 09:54:36.272428   109 compile_pass_manager.cpp:478] [UNILOG][INFO] Begin to compile...\n",
      "I20241227 09:54:36.281208   109 compile_pass_manager.cpp:489] [UNILOG][INFO] Total device subgraph number 4, DPU subgraph number 1\n",
      "I20241227 09:54:36.281286   109 compile_pass_manager.cpp:504] [UNILOG][INFO] Compile done.\n"
     ]
    },
    {
     "name": "stdout",
     "output_type": "stream",
     "text": [
      "[INFO] Namespace(batchsize=1, inputs_shape=None, layout='NHWC', model_files=['/tmp/zeart/tensorflow_model_optimization/tmp_sub_graph_quantized_20241227-095425-035444_WACYiB.h5'], model_type='tensorflow2', named_inputs_shape=None, out_filename='/tmp/zeart/tensorflow_model_optimization/tmp_sub_graph_xnnc_20241227-095425-035444_WACYiB.xmodel', proto=None)\n",
      "[INFO] tensorflow2 model: /tmp/zeart/tensorflow_model_optimization/tmp_sub_graph_quantized_20241227-095425-035444_WACYiB.h5\n",
      "[INFO] keras version: 2.12.0\n",
      "[INFO] Tensorflow Keras model type: functional\n"
     ]
    },
    {
     "name": "stderr",
     "output_type": "stream",
     "text": [
      "[INFO] parse raw model     :100%|███████████████████████████████████████████████████████████████████████████████████████████| 6/6 [00:00<00:00, 17178.04it/s]                 \n",
      "[INFO] infer shape (NHWC)  :100%|███████████████████████████████████████████████████████████████████████████████████████████| 7/7 [00:00<00:00, 2531.05it/s]                  \n",
      "[INFO] perform level-0 opt :100%|███████████████████████████████████████████████████████████████████████████████████████████| 1/1 [00:00<00:00, 1099.42it/s]                  \n",
      "[INFO] perform level-1 opt :100%|███████████████████████████████████████████████████████████████████████████████████████████| 2/2 [00:00<00:00, 2062.10it/s]                  \n",
      "[INFO] generate xmodel     :100%|███████████████████████████████████████████████████████████████████████████████████████████| 7/7 [00:00<00:00, 2145.74it/s]                  "
     ]
    },
    {
     "name": "stdout",
     "output_type": "stream",
     "text": [
      "[INFO] dump xmodel: /tmp/zeart/tensorflow_model_optimization/tmp_sub_graph_xnnc_20241227-095425-035444_WACYiB.xmodel\n"
     ]
    },
    {
     "name": "stderr",
     "output_type": "stream",
     "text": [
      "\n",
      "I20241227 09:54:36.467299   109 compile_pass_manager.cpp:352] [UNILOG][INFO] Compile mode: dpu\n",
      "I20241227 09:54:36.467351   109 compile_pass_manager.cpp:353] [UNILOG][INFO] Debug mode: null\n",
      "I20241227 09:54:36.467360   109 compile_pass_manager.cpp:357] [UNILOG][INFO] Target architecture: DPUCZDX8G_ISA1_B4096\n",
      "I20241227 09:54:36.467442   109 compile_pass_manager.cpp:465] [UNILOG][INFO] Graph name: model_273, with op num: 7\n",
      "I20241227 09:54:36.467449   109 compile_pass_manager.cpp:478] [UNILOG][INFO] Begin to compile...\n",
      "I20241227 09:54:36.472105   109 compile_pass_manager.cpp:489] [UNILOG][INFO] Total device subgraph number 4, DPU subgraph number 1\n",
      "I20241227 09:54:36.472172   109 compile_pass_manager.cpp:504] [UNILOG][INFO] Compile done.\n"
     ]
    },
    {
     "name": "stdout",
     "output_type": "stream",
     "text": [
      "[INFO] Namespace(batchsize=1, inputs_shape=None, layout='NHWC', model_files=['/tmp/zeart/tensorflow_model_optimization/tmp_sub_graph_quantized_20241227-095425-035444_WACYiB.h5'], model_type='tensorflow2', named_inputs_shape=None, out_filename='/tmp/zeart/tensorflow_model_optimization/tmp_sub_graph_xnnc_20241227-095425-035444_WACYiB.xmodel', proto=None)\n",
      "[INFO] tensorflow2 model: /tmp/zeart/tensorflow_model_optimization/tmp_sub_graph_quantized_20241227-095425-035444_WACYiB.h5\n",
      "[INFO] keras version: 2.12.0\n",
      "[INFO] Tensorflow Keras model type: functional\n"
     ]
    },
    {
     "name": "stderr",
     "output_type": "stream",
     "text": [
      "[INFO] parse raw model     :100%|███████████████████████████████████████████████████████████████████████████████████████████| 6/6 [00:00<00:00, 6820.01it/s]                  \n",
      "[INFO] infer shape (NHWC)  :100%|███████████████████████████████████████████████████████████████████████████████████████████| 7/7 [00:00<00:00, 2838.92it/s]                  \n",
      "[INFO] perform level-0 opt :100%|███████████████████████████████████████████████████████████████████████████████████████████| 1/1 [00:00<00:00, 1414.13it/s]                  \n",
      "[INFO] perform level-1 opt :100%|███████████████████████████████████████████████████████████████████████████████████████████| 2/2 [00:00<00:00, 5433.04it/s]                  \n",
      "[INFO] generate xmodel     :100%|███████████████████████████████████████████████████████████████████████████████████████████| 7/7 [00:00<00:00, 1150.70it/s]                  \n",
      "I20241227 09:54:36.774060   109 compile_pass_manager.cpp:352] [UNILOG][INFO] Compile mode: dpu\n",
      "I20241227 09:54:36.774103   109 compile_pass_manager.cpp:353] [UNILOG][INFO] Debug mode: null\n",
      "I20241227 09:54:36.774111   109 compile_pass_manager.cpp:357] [UNILOG][INFO] Target architecture: DPUCZDX8G_ISA1_B4096\n",
      "I20241227 09:54:36.774233   109 compile_pass_manager.cpp:465] [UNILOG][INFO] Graph name: model_274, with op num: 7\n",
      "I20241227 09:54:36.774245   109 compile_pass_manager.cpp:478] [UNILOG][INFO] Begin to compile...\n",
      "I20241227 09:54:36.780099   109 compile_pass_manager.cpp:489] [UNILOG][INFO] Total device subgraph number 4, DPU subgraph number 1\n",
      "I20241227 09:54:36.780205   109 compile_pass_manager.cpp:504] [UNILOG][INFO] Compile done.\n"
     ]
    },
    {
     "name": "stdout",
     "output_type": "stream",
     "text": [
      "[INFO] dump xmodel: /tmp/zeart/tensorflow_model_optimization/tmp_sub_graph_xnnc_20241227-095425-035444_WACYiB.xmodel\n",
      "[INFO] Namespace(batchsize=1, inputs_shape=None, layout='NHWC', model_files=['/tmp/zeart/tensorflow_model_optimization/tmp_sub_graph_quantized_20241227-095425-035444_WACYiB.h5'], model_type='tensorflow2', named_inputs_shape=None, out_filename='/tmp/zeart/tensorflow_model_optimization/tmp_sub_graph_xnnc_20241227-095425-035444_WACYiB.xmodel', proto=None)\n",
      "[INFO] tensorflow2 model: /tmp/zeart/tensorflow_model_optimization/tmp_sub_graph_quantized_20241227-095425-035444_WACYiB.h5\n",
      "[INFO] keras version: 2.12.0\n",
      "[INFO] Tensorflow Keras model type: functional\n"
     ]
    },
    {
     "name": "stderr",
     "output_type": "stream",
     "text": [
      "[INFO] parse raw model     :100%|███████████████████████████████████████████████████████████████████████████████████████████| 6/6 [00:00<00:00, 5303.65it/s]                  \n",
      "[INFO] infer shape (NHWC)  :100%|███████████████████████████████████████████████████████████████████████████████████████████| 7/7 [00:00<00:00, 3377.44it/s]                  \n",
      "[INFO] perform level-0 opt :100%|███████████████████████████████████████████████████████████████████████████████████████████| 1/1 [00:00<00:00, 409.48it/s]                   \n",
      "[INFO] perform level-1 opt :100%|███████████████████████████████████████████████████████████████████████████████████████████| 2/2 [00:00<00:00, 2316.02it/s]                  \n",
      "[INFO] generate xmodel     :100%|███████████████████████████████████████████████████████████████████████████████████████████| 7/7 [00:00<00:00, 4084.04it/s]                  \n",
      "I20241227 09:54:36.964535   109 compile_pass_manager.cpp:352] [UNILOG][INFO] Compile mode: dpu\n"
     ]
    },
    {
     "name": "stdout",
     "output_type": "stream",
     "text": [
      "[INFO] dump xmodel: /tmp/zeart/tensorflow_model_optimization/tmp_sub_graph_xnnc_20241227-095425-035444_WACYiB.xmodel\n"
     ]
    },
    {
     "name": "stderr",
     "output_type": "stream",
     "text": [
      "I20241227 09:54:36.964692   109 compile_pass_manager.cpp:353] [UNILOG][INFO] Debug mode: null\n",
      "I20241227 09:54:36.964712   109 compile_pass_manager.cpp:357] [UNILOG][INFO] Target architecture: DPUCZDX8G_ISA1_B4096\n",
      "I20241227 09:54:36.964919   109 compile_pass_manager.cpp:465] [UNILOG][INFO] Graph name: model_275, with op num: 7\n",
      "I20241227 09:54:36.964936   109 compile_pass_manager.cpp:478] [UNILOG][INFO] Begin to compile...\n",
      "I20241227 09:54:36.977706   109 compile_pass_manager.cpp:489] [UNILOG][INFO] Total device subgraph number 4, DPU subgraph number 1\n",
      "I20241227 09:54:36.977849   109 compile_pass_manager.cpp:504] [UNILOG][INFO] Compile done.\n"
     ]
    },
    {
     "name": "stdout",
     "output_type": "stream",
     "text": [
      "[INFO] Namespace(batchsize=1, inputs_shape=None, layout='NHWC', model_files=['/tmp/zeart/tensorflow_model_optimization/tmp_sub_graph_quantized_20241227-095425-035444_WACYiB.h5'], model_type='tensorflow2', named_inputs_shape=None, out_filename='/tmp/zeart/tensorflow_model_optimization/tmp_sub_graph_xnnc_20241227-095425-035444_WACYiB.xmodel', proto=None)\n",
      "[INFO] tensorflow2 model: /tmp/zeart/tensorflow_model_optimization/tmp_sub_graph_quantized_20241227-095425-035444_WACYiB.h5\n",
      "[INFO] keras version: 2.12.0\n",
      "[INFO] Tensorflow Keras model type: functional\n"
     ]
    },
    {
     "name": "stderr",
     "output_type": "stream",
     "text": [
      "[INFO] parse raw model     :100%|███████████████████████████████████████████████████████████████████████████████████████████| 6/6 [00:00<00:00, 4489.89it/s]                  \n",
      "[INFO] infer shape (NHWC)  :100%|███████████████████████████████████████████████████████████████████████████████████████████| 7/7 [00:00<00:00, 4367.12it/s]                  \n",
      "[INFO] perform level-0 opt :100%|███████████████████████████████████████████████████████████████████████████████████████████| 1/1 [00:00<00:00, 1108.43it/s]                  \n",
      "[INFO] perform level-1 opt :100%|███████████████████████████████████████████████████████████████████████████████████████████| 2/2 [00:00<00:00, 5472.02it/s]                  \n",
      "[INFO] generate xmodel     :100%|███████████████████████████████████████████████████████████████████████████████████████████| 7/7 [00:00<00:00, 3118.44it/s]                  "
     ]
    },
    {
     "name": "stdout",
     "output_type": "stream",
     "text": [
      "[INFO] dump xmodel: /tmp/zeart/tensorflow_model_optimization/tmp_sub_graph_xnnc_20241227-095425-035444_WACYiB.xmodel\n"
     ]
    },
    {
     "name": "stderr",
     "output_type": "stream",
     "text": [
      "\n",
      "I20241227 09:54:37.208905   109 compile_pass_manager.cpp:352] [UNILOG][INFO] Compile mode: dpu\n",
      "I20241227 09:54:37.208971   109 compile_pass_manager.cpp:353] [UNILOG][INFO] Debug mode: null\n",
      "I20241227 09:54:37.208982   109 compile_pass_manager.cpp:357] [UNILOG][INFO] Target architecture: DPUCZDX8G_ISA1_B4096\n",
      "I20241227 09:54:37.209102   109 compile_pass_manager.cpp:465] [UNILOG][INFO] Graph name: model_276, with op num: 7\n",
      "I20241227 09:54:37.209111   109 compile_pass_manager.cpp:478] [UNILOG][INFO] Begin to compile...\n",
      "I20241227 09:54:37.213299   109 compile_pass_manager.cpp:489] [UNILOG][INFO] Total device subgraph number 4, DPU subgraph number 1\n",
      "I20241227 09:54:37.213335   109 compile_pass_manager.cpp:504] [UNILOG][INFO] Compile done.\n"
     ]
    },
    {
     "name": "stdout",
     "output_type": "stream",
     "text": [
      "[INFO] Namespace(batchsize=1, inputs_shape=None, layout='NHWC', model_files=['/tmp/zeart/tensorflow_model_optimization/tmp_sub_graph_quantized_20241227-095425-035444_WACYiB.h5'], model_type='tensorflow2', named_inputs_shape=None, out_filename='/tmp/zeart/tensorflow_model_optimization/tmp_sub_graph_xnnc_20241227-095425-035444_WACYiB.xmodel', proto=None)\n",
      "[INFO] tensorflow2 model: /tmp/zeart/tensorflow_model_optimization/tmp_sub_graph_quantized_20241227-095425-035444_WACYiB.h5\n",
      "[INFO] keras version: 2.12.0\n",
      "[INFO] Tensorflow Keras model type: functional\n"
     ]
    },
    {
     "name": "stderr",
     "output_type": "stream",
     "text": [
      "[INFO] parse raw model     :100%|███████████████████████████████████████████████████████████████████████████████████████████| 6/6 [00:00<00:00, 6836.68it/s]                  \n",
      "[INFO] infer shape (NHWC)  :100%|███████████████████████████████████████████████████████████████████████████████████████████| 7/7 [00:00<00:00, 3859.11it/s]                  \n",
      "[INFO] perform level-0 opt :100%|███████████████████████████████████████████████████████████████████████████████████████████| 1/1 [00:00<00:00, 1539.76it/s]                  \n",
      "[INFO] perform level-1 opt :100%|███████████████████████████████████████████████████████████████████████████████████████████| 2/2 [00:00<00:00, 3675.99it/s]                  \n",
      "[INFO] generate xmodel     :100%|███████████████████████████████████████████████████████████████████████████████████████████| 7/7 [00:00<00:00, 4230.57it/s]                  \n",
      "I20241227 09:54:37.415491   109 compile_pass_manager.cpp:352] [UNILOG][INFO] Compile mode: dpu\n",
      "I20241227 09:54:37.415549   109 compile_pass_manager.cpp:353] [UNILOG][INFO] Debug mode: null\n",
      "I20241227 09:54:37.415558   109 compile_pass_manager.cpp:357] [UNILOG][INFO] Target architecture: DPUCZDX8G_ISA1_B4096\n",
      "I20241227 09:54:37.415653   109 compile_pass_manager.cpp:465] [UNILOG][INFO] Graph name: model_277, with op num: 7\n",
      "I20241227 09:54:37.415661   109 compile_pass_manager.cpp:478] [UNILOG][INFO] Begin to compile...\n",
      "I20241227 09:54:37.423898   109 compile_pass_manager.cpp:489] [UNILOG][INFO] Total device subgraph number 4, DPU subgraph number 1\n",
      "I20241227 09:54:37.423969   109 compile_pass_manager.cpp:504] [UNILOG][INFO] Compile done.\n"
     ]
    },
    {
     "name": "stdout",
     "output_type": "stream",
     "text": [
      "[INFO] dump xmodel: /tmp/zeart/tensorflow_model_optimization/tmp_sub_graph_xnnc_20241227-095425-035444_WACYiB.xmodel\n",
      "[INFO] Namespace(batchsize=1, inputs_shape=None, layout='NHWC', model_files=['/tmp/zeart/tensorflow_model_optimization/tmp_sub_graph_quantized_20241227-095425-035444_WACYiB.h5'], model_type='tensorflow2', named_inputs_shape=None, out_filename='/tmp/zeart/tensorflow_model_optimization/tmp_sub_graph_xnnc_20241227-095425-035444_WACYiB.xmodel', proto=None)\n",
      "[INFO] tensorflow2 model: /tmp/zeart/tensorflow_model_optimization/tmp_sub_graph_quantized_20241227-095425-035444_WACYiB.h5\n",
      "[INFO] keras version: 2.12.0\n",
      "[INFO] Tensorflow Keras model type: functional\n"
     ]
    },
    {
     "name": "stderr",
     "output_type": "stream",
     "text": [
      "[INFO] parse raw model     :100%|███████████████████████████████████████████████████████████████████████████████████████████| 6/6 [00:00<00:00, 12633.45it/s]                 \n",
      "[INFO] infer shape (NHWC)  :100%|███████████████████████████████████████████████████████████████████████████████████████████| 7/7 [00:00<00:00, 8854.08it/s]                  \n",
      "[INFO] perform level-0 opt :100%|███████████████████████████████████████████████████████████████████████████████████████████| 1/1 [00:00<00:00, 1197.00it/s]                  \n",
      "[INFO] perform level-1 opt :100%|███████████████████████████████████████████████████████████████████████████████████████████| 2/2 [00:00<00:00, 3218.96it/s]                  \n",
      "[INFO] generate xmodel     :100%|███████████████████████████████████████████████████████████████████████████████████████████| 7/7 [00:00<00:00, 3168.59it/s]                  \n",
      "I20241227 09:54:37.593210   109 compile_pass_manager.cpp:352] [UNILOG][INFO] Compile mode: dpu\n",
      "I20241227 09:54:37.593268   109 compile_pass_manager.cpp:353] [UNILOG][INFO] Debug mode: null\n",
      "I20241227 09:54:37.593282   109 compile_pass_manager.cpp:357] [UNILOG][INFO] Target architecture: DPUCZDX8G_ISA1_B4096\n",
      "I20241227 09:54:37.593432   109 compile_pass_manager.cpp:465] [UNILOG][INFO] Graph name: model_278, with op num: 7\n",
      "I20241227 09:54:37.593449   109 compile_pass_manager.cpp:478] [UNILOG][INFO] Begin to compile...\n",
      "I20241227 09:54:37.596632   109 compile_pass_manager.cpp:489] [UNILOG][INFO] Total device subgraph number 4, DPU subgraph number 1\n",
      "I20241227 09:54:37.596670   109 compile_pass_manager.cpp:504] [UNILOG][INFO] Compile done.\n"
     ]
    },
    {
     "name": "stdout",
     "output_type": "stream",
     "text": [
      "[INFO] dump xmodel: /tmp/zeart/tensorflow_model_optimization/tmp_sub_graph_xnnc_20241227-095425-035444_WACYiB.xmodel\n",
      "[VAI INFO] Inspect Results:\n",
      "[MODEL INFO]:\n",
      "________________________________________________________________________________________________________________________\n",
      "Model Name: model\n",
      "________________________________________________________________________________________________________________________\n",
      "ID          Name                    Type                    Device      Notes                                           \n",
      "========================================================================================================================\n",
      "0/67        input_313               InputLayer              INPUT                                                       \n",
      "------------------------------------------------------------------------------------------------------------------------\n",
      "1/67        conv2d                  Conv2D<relu>            DPU                                                         \n",
      "------------------------------------------------------------------------------------------------------------------------\n",
      "2/67        batch_normalization     BatchNormalization      DPU                                                         \n",
      "------------------------------------------------------------------------------------------------------------------------\n",
      "3/67        re_lu                   ReLU                    DPU                                                         \n",
      "------------------------------------------------------------------------------------------------------------------------\n",
      "4/67        conv2d_1                Conv2D<linear>          DPU                                                         \n",
      "------------------------------------------------------------------------------------------------------------------------\n",
      "5/67        batch_normalization_1   BatchNormalization      DPU                                                         \n",
      "------------------------------------------------------------------------------------------------------------------------\n",
      "6/67        re_lu_1                 ReLU                    DPU                                                         \n",
      "------------------------------------------------------------------------------------------------------------------------\n",
      "7/67        conv2d_2                Conv2D<linear>          DPU                                                         \n",
      "------------------------------------------------------------------------------------------------------------------------\n",
      "8/67        batch_normalization_2   BatchNormalization      DPU                                                         \n",
      "------------------------------------------------------------------------------------------------------------------------\n",
      "9/67        add                     Add                     DPU                                                         \n",
      "------------------------------------------------------------------------------------------------------------------------\n",
      "10/67       re_lu_2                 ReLU                    DPU                                                         \n",
      "------------------------------------------------------------------------------------------------------------------------\n",
      "11/67       conv2d_3                Conv2D<linear>          DPU                                                         \n",
      "------------------------------------------------------------------------------------------------------------------------\n",
      "12/67       batch_normalization_3   BatchNormalization      DPU                                                         \n",
      "------------------------------------------------------------------------------------------------------------------------\n",
      "13/67       re_lu_3                 ReLU                    DPU                                                         \n",
      "------------------------------------------------------------------------------------------------------------------------\n",
      "14/67       conv2d_4                Conv2D<linear>          DPU                                                         \n",
      "------------------------------------------------------------------------------------------------------------------------\n",
      "15/67       batch_normalization_4   BatchNormalization      DPU                                                         \n",
      "------------------------------------------------------------------------------------------------------------------------\n",
      "16/67       add_1                   Add                     DPU                                                         \n",
      "------------------------------------------------------------------------------------------------------------------------\n",
      "17/67       re_lu_4                 ReLU                    DPU                                                         \n",
      "------------------------------------------------------------------------------------------------------------------------\n",
      "18/67       conv2d_6                Conv2D<linear>          DPU                                                         \n",
      "------------------------------------------------------------------------------------------------------------------------\n",
      "19/67       batch_normalization_6   BatchNormalization      DPU                                                         \n",
      "------------------------------------------------------------------------------------------------------------------------\n",
      "20/67       re_lu_5                 ReLU                    DPU                                                         \n",
      "------------------------------------------------------------------------------------------------------------------------\n",
      "21/67       conv2d_7                Conv2D<linear>          DPU                                                         \n",
      "------------------------------------------------------------------------------------------------------------------------\n",
      "22/67       conv2d_5                Conv2D<linear>          DPU                                                         \n",
      "------------------------------------------------------------------------------------------------------------------------\n",
      "23/67       batch_normalization_7   BatchNormalization      DPU                                                         \n",
      "------------------------------------------------------------------------------------------------------------------------\n",
      "24/67       batch_normalization_5   BatchNormalization      DPU                                                         \n",
      "------------------------------------------------------------------------------------------------------------------------\n",
      "25/67       add_2                   Add                     DPU                                                         \n",
      "------------------------------------------------------------------------------------------------------------------------\n",
      "26/67       re_lu_6                 ReLU                    DPU                                                         \n",
      "------------------------------------------------------------------------------------------------------------------------\n",
      "27/67       conv2d_8                Conv2D<linear>          DPU                                                         \n",
      "------------------------------------------------------------------------------------------------------------------------\n",
      "28/67       batch_normalization_8   BatchNormalization      DPU                                                         \n",
      "------------------------------------------------------------------------------------------------------------------------\n",
      "29/67       re_lu_7                 ReLU                    DPU                                                         \n",
      "------------------------------------------------------------------------------------------------------------------------\n",
      "30/67       conv2d_9                Conv2D<linear>          DPU                                                         \n",
      "------------------------------------------------------------------------------------------------------------------------\n",
      "31/67       batch_normalization_9   BatchNormalization      DPU                                                         \n",
      "------------------------------------------------------------------------------------------------------------------------\n",
      "32/67       add_3                   Add                     DPU                                                         \n",
      "------------------------------------------------------------------------------------------------------------------------\n",
      "33/67       re_lu_8                 ReLU                    DPU                                                         \n",
      "------------------------------------------------------------------------------------------------------------------------\n",
      "34/67       conv2d_11               Conv2D<linear>          DPU                                                         \n",
      "------------------------------------------------------------------------------------------------------------------------\n",
      "35/67       batch_normalization_11  BatchNormalization      DPU                                                         \n",
      "------------------------------------------------------------------------------------------------------------------------\n",
      "36/67       re_lu_9                 ReLU                    DPU                                                         \n",
      "------------------------------------------------------------------------------------------------------------------------\n",
      "37/67       conv2d_12               Conv2D<linear>          DPU                                                         \n",
      "------------------------------------------------------------------------------------------------------------------------\n",
      "38/67       conv2d_10               Conv2D<linear>          DPU                                                         \n",
      "------------------------------------------------------------------------------------------------------------------------\n",
      "39/67       batch_normalization_12  BatchNormalization      DPU                                                         \n",
      "------------------------------------------------------------------------------------------------------------------------\n",
      "40/67       batch_normalization_10  BatchNormalization      DPU                                                         \n",
      "------------------------------------------------------------------------------------------------------------------------\n",
      "41/67       add_4                   Add                     DPU                                                         \n",
      "------------------------------------------------------------------------------------------------------------------------\n",
      "42/67       re_lu_10                ReLU                    DPU                                                         \n",
      "------------------------------------------------------------------------------------------------------------------------\n",
      "43/67       conv2d_13               Conv2D<linear>          DPU                                                         \n",
      "------------------------------------------------------------------------------------------------------------------------\n",
      "44/67       batch_normalization_13  BatchNormalization      DPU                                                         \n",
      "------------------------------------------------------------------------------------------------------------------------\n",
      "45/67       re_lu_11                ReLU                    DPU                                                         \n",
      "------------------------------------------------------------------------------------------------------------------------\n",
      "46/67       conv2d_14               Conv2D<linear>          DPU                                                         \n",
      "------------------------------------------------------------------------------------------------------------------------\n",
      "47/67       batch_normalization_14  BatchNormalization      DPU                                                         \n",
      "------------------------------------------------------------------------------------------------------------------------\n",
      "48/67       add_5                   Add                     DPU                                                         \n",
      "------------------------------------------------------------------------------------------------------------------------\n",
      "49/67       re_lu_12                ReLU                    DPU                                                         \n",
      "------------------------------------------------------------------------------------------------------------------------\n",
      "50/67       conv2d_16               Conv2D<linear>          DPU                                                         \n",
      "------------------------------------------------------------------------------------------------------------------------\n",
      "51/67       batch_normalization_16  BatchNormalization      DPU                                                         \n",
      "------------------------------------------------------------------------------------------------------------------------\n",
      "52/67       re_lu_13                ReLU                    DPU                                                         \n",
      "------------------------------------------------------------------------------------------------------------------------\n",
      "53/67       conv2d_17               Conv2D<linear>          DPU                                                         \n",
      "------------------------------------------------------------------------------------------------------------------------\n",
      "54/67       conv2d_15               Conv2D<linear>          DPU                                                         \n",
      "------------------------------------------------------------------------------------------------------------------------\n",
      "55/67       batch_normalization_17  BatchNormalization      DPU                                                         \n",
      "------------------------------------------------------------------------------------------------------------------------\n",
      "56/67       batch_normalization_15  BatchNormalization      DPU                                                         \n",
      "------------------------------------------------------------------------------------------------------------------------\n",
      "57/67       add_6                   Add                     DPU                                                         \n",
      "------------------------------------------------------------------------------------------------------------------------\n",
      "58/67       re_lu_14                ReLU                    DPU                                                         \n",
      "------------------------------------------------------------------------------------------------------------------------\n",
      "59/67       conv2d_18               Conv2D<linear>          DPU                                                         \n",
      "------------------------------------------------------------------------------------------------------------------------\n",
      "60/67       batch_normalization_18  BatchNormalization      DPU                                                         \n",
      "------------------------------------------------------------------------------------------------------------------------\n",
      "61/67       re_lu_15                ReLU                    DPU                                                         \n",
      "------------------------------------------------------------------------------------------------------------------------\n",
      "62/67       conv2d_19               Conv2D<linear>          DPU                                                         \n",
      "------------------------------------------------------------------------------------------------------------------------\n",
      "63/67       batch_normalization_19  BatchNormalization      DPU                                                         \n",
      "------------------------------------------------------------------------------------------------------------------------\n",
      "64/67       add_7                   Add                     DPU                                                         \n",
      "------------------------------------------------------------------------------------------------------------------------\n",
      "65/67       re_lu_16                ReLU                    DPU                                                         \n",
      "------------------------------------------------------------------------------------------------------------------------\n",
      "66/67       global_average_pooling2dGlobalAveragePooling2D  DPU                                                         \n",
      "------------------------------------------------------------------------------------------------------------------------\n",
      "67/67       dense                   Dense<softmax>          DPU+CPU     Seperate layer activation `softmax`; `softmax`  \n",
      "                                                                        is not supported by target                      \n",
      "------------------------------------------------------------------------------------------------------------------------\n",
      "========================================================================================================================\n",
      "[SUMMARY INFO]:\n",
      "- [Target Name]: DPUCZDX8G_ISA1_B4096\n",
      "- [Total Layers]: 68\n",
      "- [Layer Types]: InputLayer(1) Conv2D<relu>(1) BatchNormalization(20) ReLU(17) Conv2D<linear>(19) Add(8) GlobalAveragePooling2D(1) Dense<softmax>(1) \n",
      "- [Partition Results]: INPUT(1) DPU(66) DPU+CPU(1) \n",
      "========================================================================================================================\n",
      "[NOTES INFO]:\n",
      "- [67/67] Layer dense (Type:Dense<softmax>, Device:DPU+CPU):\n",
      "    * Seperate layer activation `softmax`\n",
      "    * `softmax` is not supported by target\n",
      "========================================================================================================================\n",
      "[VAI INFO] Start plotting model to inspect/model_plot.svg\n",
      "[VAI INFO] Inspected model has been plotted in: inspect/model_plot.svg.\n",
      "[VAI INFO] Start dumping inspected model to inspect/inspected_model.h5\n",
      "[VAI INFO] Inspected model has been dumped in: inspect/inspected_model.h5.\n",
      "[VAI INFO] Start dumping inspected results to inspect/inspect_results.txt\n",
      "[VAI INFO] Inspected results has been dumped in: inspect/inspect_results.txt.\n",
      "[VAI INFO] Inspect Finished.\n"
     ]
    },
    {
     "data": {
      "text/plain": [
       "{<keras.engine.input_layer.InputLayer at 0x7f006c6c8520>: <tensorflow_model_optimization.python.core.quantization.keras.vitis.vitis_inspect.InspectResult at 0x7f004b9e9e20>,\n",
       " <keras.layers.convolutional.conv2d.Conv2D at 0x7f006c6c8760>: <tensorflow_model_optimization.python.core.quantization.keras.vitis.vitis_inspect.InspectResult at 0x7f004b9b2250>,\n",
       " <keras.layers.normalization.batch_normalization.BatchNormalization at 0x7f006c6c8580>: <tensorflow_model_optimization.python.core.quantization.keras.vitis.vitis_inspect.InspectResult at 0x7f004b9b2eb0>,\n",
       " <keras.layers.activation.relu.ReLU at 0x7f006c31c790>: <tensorflow_model_optimization.python.core.quantization.keras.vitis.vitis_inspect.InspectResult at 0x7f004b9b2490>,\n",
       " <keras.layers.convolutional.conv2d.Conv2D at 0x7f004bb82ac0>: <tensorflow_model_optimization.python.core.quantization.keras.vitis.vitis_inspect.InspectResult at 0x7f004b9b2880>,\n",
       " <keras.layers.normalization.batch_normalization.BatchNormalization at 0x7f004bb829a0>: <tensorflow_model_optimization.python.core.quantization.keras.vitis.vitis_inspect.InspectResult at 0x7f004b9b2fa0>,\n",
       " <keras.layers.activation.relu.ReLU at 0x7f004bb823a0>: <tensorflow_model_optimization.python.core.quantization.keras.vitis.vitis_inspect.InspectResult at 0x7f004b9b2610>,\n",
       " <keras.layers.convolutional.conv2d.Conv2D at 0x7f004bbe9d90>: <tensorflow_model_optimization.python.core.quantization.keras.vitis.vitis_inspect.InspectResult at 0x7f004b9b2e20>,\n",
       " <keras.layers.normalization.batch_normalization.BatchNormalization at 0x7f004bbcfc70>: <tensorflow_model_optimization.python.core.quantization.keras.vitis.vitis_inspect.InspectResult at 0x7f004b9b2760>,\n",
       " <keras.layers.merging.add.Add at 0x7f006cf942b0>: <tensorflow_model_optimization.python.core.quantization.keras.vitis.vitis_inspect.InspectResult at 0x7f004b9b2c10>,\n",
       " <keras.layers.activation.relu.ReLU at 0x7f004bbcf160>: <tensorflow_model_optimization.python.core.quantization.keras.vitis.vitis_inspect.InspectResult at 0x7f004b9b2730>,\n",
       " <keras.layers.convolutional.conv2d.Conv2D at 0x7f004bbc4e50>: <tensorflow_model_optimization.python.core.quantization.keras.vitis.vitis_inspect.InspectResult at 0x7f004b9b2a30>,\n",
       " <keras.layers.normalization.batch_normalization.BatchNormalization at 0x7f004bbc4c70>: <tensorflow_model_optimization.python.core.quantization.keras.vitis.vitis_inspect.InspectResult at 0x7f004b9b2dc0>,\n",
       " <keras.layers.activation.relu.ReLU at 0x7f006cf81f70>: <tensorflow_model_optimization.python.core.quantization.keras.vitis.vitis_inspect.InspectResult at 0x7f004b9b2400>,\n",
       " <keras.layers.convolutional.conv2d.Conv2D at 0x7f004bc08370>: <tensorflow_model_optimization.python.core.quantization.keras.vitis.vitis_inspect.InspectResult at 0x7f004b9b2c70>,\n",
       " <keras.layers.normalization.batch_normalization.BatchNormalization at 0x7f004bc08490>: <tensorflow_model_optimization.python.core.quantization.keras.vitis.vitis_inspect.InspectResult at 0x7f004b9b25b0>,\n",
       " <keras.layers.merging.add.Add at 0x7f004bbc4340>: <tensorflow_model_optimization.python.core.quantization.keras.vitis.vitis_inspect.InspectResult at 0x7f004b9b2df0>,\n",
       " <keras.layers.activation.relu.ReLU at 0x7f006c71ac40>: <tensorflow_model_optimization.python.core.quantization.keras.vitis.vitis_inspect.InspectResult at 0x7f004b9b2640>,\n",
       " <keras.layers.convolutional.conv2d.Conv2D at 0x7f006c71a6d0>: <tensorflow_model_optimization.python.core.quantization.keras.vitis.vitis_inspect.InspectResult at 0x7f004b9b2310>,\n",
       " <keras.layers.normalization.batch_normalization.BatchNormalization at 0x7f006c65fa60>: <tensorflow_model_optimization.python.core.quantization.keras.vitis.vitis_inspect.InspectResult at 0x7f004b9b2550>,\n",
       " <keras.layers.activation.relu.ReLU at 0x7f004bc3f490>: <tensorflow_model_optimization.python.core.quantization.keras.vitis.vitis_inspect.InspectResult at 0x7f004b9b2b50>,\n",
       " <keras.layers.convolutional.conv2d.Conv2D at 0x7f004bc3fac0>: <tensorflow_model_optimization.python.core.quantization.keras.vitis.vitis_inspect.InspectResult at 0x7f004bae0d00>,\n",
       " <keras.layers.convolutional.conv2d.Conv2D at 0x7f004bc3fc70>: <tensorflow_model_optimization.python.core.quantization.keras.vitis.vitis_inspect.InspectResult at 0x7f004b999b50>,\n",
       " <keras.layers.normalization.batch_normalization.BatchNormalization at 0x7f004bc3e280>: <tensorflow_model_optimization.python.core.quantization.keras.vitis.vitis_inspect.InspectResult at 0x7f004b999b80>,\n",
       " <keras.layers.normalization.batch_normalization.BatchNormalization at 0x7f004bc3e850>: <tensorflow_model_optimization.python.core.quantization.keras.vitis.vitis_inspect.InspectResult at 0x7f004b999580>,\n",
       " <keras.layers.merging.add.Add at 0x7f004bc3edf0>: <tensorflow_model_optimization.python.core.quantization.keras.vitis.vitis_inspect.InspectResult at 0x7f004b9ca550>,\n",
       " <keras.layers.activation.relu.ReLU at 0x7f004bc3d490>: <tensorflow_model_optimization.python.core.quantization.keras.vitis.vitis_inspect.InspectResult at 0x7f004b9ca790>,\n",
       " <keras.layers.convolutional.conv2d.Conv2D at 0x7f004bc3d6d0>: <tensorflow_model_optimization.python.core.quantization.keras.vitis.vitis_inspect.InspectResult at 0x7f004ba9d1c0>,\n",
       " <keras.layers.normalization.batch_normalization.BatchNormalization at 0x7f004bc3d880>: <tensorflow_model_optimization.python.core.quantization.keras.vitis.vitis_inspect.InspectResult at 0x7f004ba3f2b0>,\n",
       " <keras.layers.activation.relu.ReLU at 0x7f004bc3de50>: <tensorflow_model_optimization.python.core.quantization.keras.vitis.vitis_inspect.InspectResult at 0x7f006bd61dc0>,\n",
       " <keras.layers.convolutional.conv2d.Conv2D at 0x7f0069dfc4c0>: <tensorflow_model_optimization.python.core.quantization.keras.vitis.vitis_inspect.InspectResult at 0x7f004b95cac0>,\n",
       " <keras.layers.normalization.batch_normalization.BatchNormalization at 0x7f0069dfc670>: <tensorflow_model_optimization.python.core.quantization.keras.vitis.vitis_inspect.InspectResult at 0x7f004b8d4ee0>,\n",
       " <keras.layers.merging.add.Add at 0x7f0069dfcc40>: <tensorflow_model_optimization.python.core.quantization.keras.vitis.vitis_inspect.InspectResult at 0x7f004b906190>,\n",
       " <keras.layers.activation.relu.ReLU at 0x7f0069e012e0>: <tensorflow_model_optimization.python.core.quantization.keras.vitis.vitis_inspect.InspectResult at 0x7f004b906280>,\n",
       " <keras.layers.convolutional.conv2d.Conv2D at 0x7f0069e01520>: <tensorflow_model_optimization.python.core.quantization.keras.vitis.vitis_inspect.InspectResult at 0x7f004b906430>,\n",
       " <keras.layers.normalization.batch_normalization.BatchNormalization at 0x7f0069e016d0>: <tensorflow_model_optimization.python.core.quantization.keras.vitis.vitis_inspect.InspectResult at 0x7f004b996be0>,\n",
       " <keras.layers.activation.relu.ReLU at 0x7f0069e01ca0>: <tensorflow_model_optimization.python.core.quantization.keras.vitis.vitis_inspect.InspectResult at 0x7f004b87e550>,\n",
       " <keras.layers.convolutional.conv2d.Conv2D at 0x7f0069e00310>: <tensorflow_model_optimization.python.core.quantization.keras.vitis.vitis_inspect.InspectResult at 0x7f004b87e9a0>,\n",
       " <keras.layers.convolutional.conv2d.Conv2D at 0x7f0069e004c0>: <tensorflow_model_optimization.python.core.quantization.keras.vitis.vitis_inspect.InspectResult at 0x7f004b9c05e0>,\n",
       " <keras.layers.normalization.batch_normalization.BatchNormalization at 0x7f0069e00a90>: <tensorflow_model_optimization.python.core.quantization.keras.vitis.vitis_inspect.InspectResult at 0x7f004b954ca0>,\n",
       " <keras.layers.normalization.batch_normalization.BatchNormalization at 0x7f0069e00fa0>: <tensorflow_model_optimization.python.core.quantization.keras.vitis.vitis_inspect.InspectResult at 0x7f004b9543a0>,\n",
       " <keras.layers.merging.add.Add at 0x7f0069dfd640>: <tensorflow_model_optimization.python.core.quantization.keras.vitis.vitis_inspect.InspectResult at 0x7f004b8f85b0>,\n",
       " <keras.layers.activation.relu.ReLU at 0x7f0069dfdca0>: <tensorflow_model_optimization.python.core.quantization.keras.vitis.vitis_inspect.InspectResult at 0x7f004b8f8640>,\n",
       " <keras.layers.convolutional.conv2d.Conv2D at 0x7f0069dfdee0>: <tensorflow_model_optimization.python.core.quantization.keras.vitis.vitis_inspect.InspectResult at 0x7f004b8f8d90>,\n",
       " <keras.layers.normalization.batch_normalization.BatchNormalization at 0x7f0069dfdfd0>: <tensorflow_model_optimization.python.core.quantization.keras.vitis.vitis_inspect.InspectResult at 0x7f004b8f8df0>,\n",
       " <keras.layers.activation.relu.ReLU at 0x7f0069dff6a0>: <tensorflow_model_optimization.python.core.quantization.keras.vitis.vitis_inspect.InspectResult at 0x7f004b8f8610>,\n",
       " <keras.layers.convolutional.conv2d.Conv2D at 0x7f0069dffcd0>: <tensorflow_model_optimization.python.core.quantization.keras.vitis.vitis_inspect.InspectResult at 0x7f004b8f8670>,\n",
       " <keras.layers.normalization.batch_normalization.BatchNormalization at 0x7f0069dffe80>: <tensorflow_model_optimization.python.core.quantization.keras.vitis.vitis_inspect.InspectResult at 0x7f004b8f8550>,\n",
       " <keras.layers.merging.add.Add at 0x7f004bbfd490>: <tensorflow_model_optimization.python.core.quantization.keras.vitis.vitis_inspect.InspectResult at 0x7f004b8f8fa0>,\n",
       " <keras.layers.activation.relu.ReLU at 0x7f004bbfdaf0>: <tensorflow_model_optimization.python.core.quantization.keras.vitis.vitis_inspect.InspectResult at 0x7f004b8f8340>,\n",
       " <keras.layers.convolutional.conv2d.Conv2D at 0x7f004bbfdd30>: <tensorflow_model_optimization.python.core.quantization.keras.vitis.vitis_inspect.InspectResult at 0x7f004b8f8070>,\n",
       " <keras.layers.normalization.batch_normalization.BatchNormalization at 0x7f004bbfdee0>: <tensorflow_model_optimization.python.core.quantization.keras.vitis.vitis_inspect.InspectResult at 0x7f004b8bdd30>,\n",
       " <keras.layers.activation.relu.ReLU at 0x7f004bbf74f0>: <tensorflow_model_optimization.python.core.quantization.keras.vitis.vitis_inspect.InspectResult at 0x7f004b8bdc10>,\n",
       " <keras.layers.convolutional.conv2d.Conv2D at 0x7f004bbf7b20>: <tensorflow_model_optimization.python.core.quantization.keras.vitis.vitis_inspect.InspectResult at 0x7f004b8bdc40>,\n",
       " <keras.layers.convolutional.conv2d.Conv2D at 0x7f004bbf7cd0>: <tensorflow_model_optimization.python.core.quantization.keras.vitis.vitis_inspect.InspectResult at 0x7f004b8bdfd0>,\n",
       " <keras.layers.normalization.batch_normalization.BatchNormalization at 0x7f004bbca2e0>: <tensorflow_model_optimization.python.core.quantization.keras.vitis.vitis_inspect.InspectResult at 0x7f004b8bdca0>,\n",
       " <keras.layers.normalization.batch_normalization.BatchNormalization at 0x7f004bbca8b0>: <tensorflow_model_optimization.python.core.quantization.keras.vitis.vitis_inspect.InspectResult at 0x7f004b8bddc0>,\n",
       " <keras.layers.merging.add.Add at 0x7f004bbcae50>: <tensorflow_model_optimization.python.core.quantization.keras.vitis.vitis_inspect.InspectResult at 0x7f004b8bdf10>,\n",
       " <keras.layers.activation.relu.ReLU at 0x7f004bbff4f0>: <tensorflow_model_optimization.python.core.quantization.keras.vitis.vitis_inspect.InspectResult at 0x7f004b8bd730>,\n",
       " <keras.layers.convolutional.conv2d.Conv2D at 0x7f004bbff730>: <tensorflow_model_optimization.python.core.quantization.keras.vitis.vitis_inspect.InspectResult at 0x7f004b8bdeb0>,\n",
       " <keras.layers.normalization.batch_normalization.BatchNormalization at 0x7f004bbff8e0>: <tensorflow_model_optimization.python.core.quantization.keras.vitis.vitis_inspect.InspectResult at 0x7f004b8bd400>,\n",
       " <keras.layers.activation.relu.ReLU at 0x7f004bbffeb0>: <tensorflow_model_optimization.python.core.quantization.keras.vitis.vitis_inspect.InspectResult at 0x7f004b8bd610>,\n",
       " <keras.layers.convolutional.conv2d.Conv2D at 0x7f004bbf5520>: <tensorflow_model_optimization.python.core.quantization.keras.vitis.vitis_inspect.InspectResult at 0x7f004b8bd9a0>,\n",
       " <keras.layers.normalization.batch_normalization.BatchNormalization at 0x7f004bbf56d0>: <tensorflow_model_optimization.python.core.quantization.keras.vitis.vitis_inspect.InspectResult at 0x7f004b8bd550>,\n",
       " <keras.layers.merging.add.Add at 0x7f004bbf5ca0>: <tensorflow_model_optimization.python.core.quantization.keras.vitis.vitis_inspect.InspectResult at 0x7f004b8bd940>,\n",
       " <keras.layers.activation.relu.ReLU at 0x7f004bbf4340>: <tensorflow_model_optimization.python.core.quantization.keras.vitis.vitis_inspect.InspectResult at 0x7f004b8bd880>,\n",
       " <keras.layers.pooling.global_average_pooling2d.GlobalAveragePooling2D at 0x7f004bbf4250>: <tensorflow_model_optimization.python.core.quantization.keras.vitis.vitis_inspect.InspectResult at 0x7f004b8bda60>,\n",
       " <keras.layers.core.dense.Dense at 0x7f004bbf4580>: <tensorflow_model_optimization.python.core.quantization.keras.vitis.vitis_inspect.InspectResult at 0x7f004b8bdd00>}"
      ]
     },
     "execution_count": 39,
     "metadata": {},
     "output_type": "execute_result"
    }
   ],
   "source": [
    "target_dpu = 'DPUCZDX8G_ISA1_B4096'\n",
    "inspector = vitis_inspect.VitisInspector(target = target_dpu)\n",
    "\n",
    "if not os.path.exists(\"inspect\"):\n",
    "    os.makedirs(\"inspect\")\n",
    "\n",
    "inspector.inspect_model(model,\n",
    "                        input_shape = input_shape,\n",
    "                        dump_model = True,\n",
    "                        dump_model_file = \"inspect/inspected_model.h5\",\n",
    "                        plot = True,\n",
    "                        plot_file = \"inspect/model_plot.svg\",\n",
    "                        dump_results = True,\n",
    "                        dump_results_file = \"inspect/inspect_results.txt\",\n",
    "                        verbose = 0)"
   ]
  },
  {
   "cell_type": "markdown",
   "metadata": {},
   "source": [
    "# Quantize model"
   ]
  },
  {
   "cell_type": "code",
   "execution_count": null,
   "metadata": {},
   "outputs": [
    {
     "name": "stdout",
     "output_type": "stream",
     "text": [
      "[VAI INFO] Using func format quantizer\n",
      "[VAI INFO] Quantizing without specific `target`.\n",
      "[VAI INFO] Start CrossLayerEqualization...\n",
      "10/10 [==============================] - 11s 1s/step\n",
      "[VAI INFO] CrossLayerEqualization Done.\n",
      "[VAI INFO] Start Quantize Calibration...\n"
     ]
    },
    {
     "name": "stderr",
     "output_type": "stream",
     "text": [
      "2024-12-27 10:38:33.330936: I tensorflow/core/common_runtime/executor.cc:1197] [/device:CPU:0] (DEBUG INFO) Executor start aborting (this does not indicate an error and you can ignore this message): INVALID_ARGUMENT: You must feed a value for placeholder tensor 'Placeholder/_0' with dtype float and shape [100,32,32,3]\n",
      "\t [[{{node Placeholder/_0}}]]\n"
     ]
    },
    {
     "name": "stdout",
     "output_type": "stream",
     "text": [
      "20/20 [==============================] - 41s 847ms/step\n",
      "[VAI INFO] Quantize Calibration Done.\n",
      "[VAI INFO] Start Post-Quant Model Refinement...\n",
      "[VAI INFO] Start Quantize Position Ajustment...\n",
      "[VAI INFO] Quantize Position Ajustment Done.\n",
      "1/1 [==============================] - 2s 2s/step\n",
      "[VAI INFO] Post-Quant Model Refninement Done.\n",
      "[VAI INFO] Start Model Finalization...\n",
      "[VAI INFO] Model Finalization Done.\n",
      "[VAI INFO] Quantization Finished.\n",
      "Quantized model saved successfully.\n"
     ]
    }
   ],
   "source": [
    "calib_data = train_images[:100]\n",
    "# Create a tf.data.Dataset and ensure batch dimension\n",
    "dataset = tf.data.Dataset.from_tensor_slices(calib_data) # convert 100,32,32,3 to a 100 item iterable/list\n",
    "\"\"\" for item in dataset:\n",
    "    print(item) \"\"\"\n",
    "# no need for data calibration because train_images was already calibrated earlier\n",
    "dataset = dataset.batch(5) # group 5 images each time to check activation and weight distribution\n",
    "\n",
    "# Inspect calibration data\n",
    "\"\"\" for sample in dataset.take(100):\n",
    "    print(\"Calibration sample shape:\", sample.shape)\n",
    "    print(\"Sample data range:\", sample.numpy().min(), sample.numpy().max()) \"\"\"\n",
    "\n",
    "# Quantization\n",
    "try:\n",
    "    quantizer = vitis_quantize.VitisQuantizer(model, target=target_dpu) #int8 accordiing to docs\n",
    "    q_model = quantizer.quantize_model(calib_dataset=dataset, \n",
    "                                       input_shape=input_shape, \n",
    "                                       calib_steps=None) #use all of the dataset\n",
    "    q_model.save(\"quantized_model.h5\")\n",
    "    print(\"Quantized model saved successfully.\")\n",
    "except Exception as e:\n",
    "    print(\"Error during quantization:\", e)"
   ]
  },
  {
   "cell_type": "markdown",
   "metadata": {},
   "source": [
    "# Recompile & evaluate quantized model"
   ]
  },
  {
   "cell_type": "code",
   "execution_count": 28,
   "metadata": {},
   "outputs": [
    {
     "name": "stderr",
     "output_type": "stream",
     "text": [
      "2024-12-27 06:51:46.857828: W tensorflow/tsl/framework/cpu_allocator_impl.cc:83] Allocation of 122880000 exceeds 10% of free system memory.\n"
     ]
    },
    {
     "name": "stdout",
     "output_type": "stream",
     "text": [
      " 8/79 [==>...........................] - ETA: 1:45 - loss: 7.1162 - acc: 0.1123"
     ]
    },
    {
     "ename": "KeyboardInterrupt",
     "evalue": "",
     "output_type": "error",
     "traceback": [
      "\u001b[0;31m---------------------------------------------------------------------------\u001b[0m",
      "\u001b[0;31mKeyboardInterrupt\u001b[0m                         Traceback (most recent call last)",
      "Cell \u001b[0;32mIn[28], line 15\u001b[0m\n\u001b[1;32m      5\u001b[0m epsilon \u001b[38;5;241m=\u001b[39m \u001b[38;5;241m1e-08\u001b[39m\n\u001b[1;32m      7\u001b[0m q_model\u001b[38;5;241m.\u001b[39mcompile(\n\u001b[1;32m      8\u001b[0m     optimizer \u001b[38;5;241m=\u001b[39m tf\u001b[38;5;241m.\u001b[39mkeras\u001b[38;5;241m.\u001b[39moptimizers\u001b[38;5;241m.\u001b[39mRMSprop(\n\u001b[1;32m      9\u001b[0m         learning_rate \u001b[38;5;241m=\u001b[39m learning_rate,\n\u001b[0;32m   (...)\u001b[0m\n\u001b[1;32m     12\u001b[0m     loss \u001b[38;5;241m=\u001b[39m tf\u001b[38;5;241m.\u001b[39mkeras\u001b[38;5;241m.\u001b[39mlosses\u001b[38;5;241m.\u001b[39mCategoricalCrossentropy(reduction \u001b[38;5;241m=\u001b[39m tf\u001b[38;5;241m.\u001b[39mkeras\u001b[38;5;241m.\u001b[39mlosses\u001b[38;5;241m.\u001b[39mReduction\u001b[38;5;241m.\u001b[39mSUM_OVER_BATCH_SIZE),\n\u001b[1;32m     13\u001b[0m     metrics \u001b[38;5;241m=\u001b[39m [\u001b[38;5;124m'\u001b[39m\u001b[38;5;124macc\u001b[39m\u001b[38;5;124m'\u001b[39m])\n\u001b[0;32m---> 15\u001b[0m \u001b[43mq_model\u001b[49m\u001b[38;5;241;43m.\u001b[39;49m\u001b[43mevaluate\u001b[49m\u001b[43m(\u001b[49m\u001b[43mtest_images\u001b[49m\u001b[43m,\u001b[49m\u001b[43m \u001b[49m\u001b[43mtest_labels\u001b[49m\u001b[43m,\u001b[49m\u001b[43m \u001b[49m\u001b[43mbatch_size\u001b[49m\u001b[43m \u001b[49m\u001b[38;5;241;43m=\u001b[39;49m\u001b[43m \u001b[49m\u001b[43mbatch_size\u001b[49m\u001b[43m)\u001b[49m\n\u001b[1;32m     17\u001b[0m \u001b[38;5;66;03m# quantizer.dump_model(q_model, dataset = test_images, dump_float = True)\u001b[39;00m\n",
      "File \u001b[0;32m/opt/vitis_ai/conda/envs/vitis-ai-tensorflow2/lib/python3.8/site-packages/keras/utils/traceback_utils.py:65\u001b[0m, in \u001b[0;36mfilter_traceback.<locals>.error_handler\u001b[0;34m(*args, **kwargs)\u001b[0m\n\u001b[1;32m     63\u001b[0m filtered_tb \u001b[38;5;241m=\u001b[39m \u001b[38;5;28;01mNone\u001b[39;00m\n\u001b[1;32m     64\u001b[0m \u001b[38;5;28;01mtry\u001b[39;00m:\n\u001b[0;32m---> 65\u001b[0m     \u001b[38;5;28;01mreturn\u001b[39;00m \u001b[43mfn\u001b[49m\u001b[43m(\u001b[49m\u001b[38;5;241;43m*\u001b[39;49m\u001b[43margs\u001b[49m\u001b[43m,\u001b[49m\u001b[43m \u001b[49m\u001b[38;5;241;43m*\u001b[39;49m\u001b[38;5;241;43m*\u001b[39;49m\u001b[43mkwargs\u001b[49m\u001b[43m)\u001b[49m\n\u001b[1;32m     66\u001b[0m \u001b[38;5;28;01mexcept\u001b[39;00m \u001b[38;5;167;01mException\u001b[39;00m \u001b[38;5;28;01mas\u001b[39;00m e:\n\u001b[1;32m     67\u001b[0m     filtered_tb \u001b[38;5;241m=\u001b[39m _process_traceback_frames(e\u001b[38;5;241m.\u001b[39m__traceback__)\n",
      "File \u001b[0;32m/opt/vitis_ai/conda/envs/vitis-ai-tensorflow2/lib/python3.8/site-packages/keras/engine/training.py:2072\u001b[0m, in \u001b[0;36mModel.evaluate\u001b[0;34m(self, x, y, batch_size, verbose, sample_weight, steps, callbacks, max_queue_size, workers, use_multiprocessing, return_dict, **kwargs)\u001b[0m\n\u001b[1;32m   2068\u001b[0m \u001b[38;5;28;01mwith\u001b[39;00m tf\u001b[38;5;241m.\u001b[39mprofiler\u001b[38;5;241m.\u001b[39mexperimental\u001b[38;5;241m.\u001b[39mTrace(\n\u001b[1;32m   2069\u001b[0m     \u001b[38;5;124m\"\u001b[39m\u001b[38;5;124mtest\u001b[39m\u001b[38;5;124m\"\u001b[39m, step_num\u001b[38;5;241m=\u001b[39mstep, _r\u001b[38;5;241m=\u001b[39m\u001b[38;5;241m1\u001b[39m\n\u001b[1;32m   2070\u001b[0m ):\n\u001b[1;32m   2071\u001b[0m     callbacks\u001b[38;5;241m.\u001b[39mon_test_batch_begin(step)\n\u001b[0;32m-> 2072\u001b[0m     tmp_logs \u001b[38;5;241m=\u001b[39m \u001b[38;5;28;43mself\u001b[39;49m\u001b[38;5;241;43m.\u001b[39;49m\u001b[43mtest_function\u001b[49m\u001b[43m(\u001b[49m\u001b[43miterator\u001b[49m\u001b[43m)\u001b[49m\n\u001b[1;32m   2073\u001b[0m     \u001b[38;5;28;01mif\u001b[39;00m data_handler\u001b[38;5;241m.\u001b[39mshould_sync:\n\u001b[1;32m   2074\u001b[0m         context\u001b[38;5;241m.\u001b[39masync_wait()\n",
      "File \u001b[0;32m/opt/vitis_ai/conda/envs/vitis-ai-tensorflow2/lib/python3.8/site-packages/tensorflow/python/util/traceback_utils.py:150\u001b[0m, in \u001b[0;36mfilter_traceback.<locals>.error_handler\u001b[0;34m(*args, **kwargs)\u001b[0m\n\u001b[1;32m    148\u001b[0m filtered_tb \u001b[38;5;241m=\u001b[39m \u001b[38;5;28;01mNone\u001b[39;00m\n\u001b[1;32m    149\u001b[0m \u001b[38;5;28;01mtry\u001b[39;00m:\n\u001b[0;32m--> 150\u001b[0m   \u001b[38;5;28;01mreturn\u001b[39;00m \u001b[43mfn\u001b[49m\u001b[43m(\u001b[49m\u001b[38;5;241;43m*\u001b[39;49m\u001b[43margs\u001b[49m\u001b[43m,\u001b[49m\u001b[43m \u001b[49m\u001b[38;5;241;43m*\u001b[39;49m\u001b[38;5;241;43m*\u001b[39;49m\u001b[43mkwargs\u001b[49m\u001b[43m)\u001b[49m\n\u001b[1;32m    151\u001b[0m \u001b[38;5;28;01mexcept\u001b[39;00m \u001b[38;5;167;01mException\u001b[39;00m \u001b[38;5;28;01mas\u001b[39;00m e:\n\u001b[1;32m    152\u001b[0m   filtered_tb \u001b[38;5;241m=\u001b[39m _process_traceback_frames(e\u001b[38;5;241m.\u001b[39m__traceback__)\n",
      "File \u001b[0;32m/opt/vitis_ai/conda/envs/vitis-ai-tensorflow2/lib/python3.8/site-packages/tensorflow/python/eager/polymorphic_function/polymorphic_function.py:894\u001b[0m, in \u001b[0;36mFunction.__call__\u001b[0;34m(self, *args, **kwds)\u001b[0m\n\u001b[1;32m    891\u001b[0m compiler \u001b[38;5;241m=\u001b[39m \u001b[38;5;124m\"\u001b[39m\u001b[38;5;124mxla\u001b[39m\u001b[38;5;124m\"\u001b[39m \u001b[38;5;28;01mif\u001b[39;00m \u001b[38;5;28mself\u001b[39m\u001b[38;5;241m.\u001b[39m_jit_compile \u001b[38;5;28;01melse\u001b[39;00m \u001b[38;5;124m\"\u001b[39m\u001b[38;5;124mnonXla\u001b[39m\u001b[38;5;124m\"\u001b[39m\n\u001b[1;32m    893\u001b[0m \u001b[38;5;28;01mwith\u001b[39;00m OptionalXlaContext(\u001b[38;5;28mself\u001b[39m\u001b[38;5;241m.\u001b[39m_jit_compile):\n\u001b[0;32m--> 894\u001b[0m   result \u001b[38;5;241m=\u001b[39m \u001b[38;5;28;43mself\u001b[39;49m\u001b[38;5;241;43m.\u001b[39;49m\u001b[43m_call\u001b[49m\u001b[43m(\u001b[49m\u001b[38;5;241;43m*\u001b[39;49m\u001b[43margs\u001b[49m\u001b[43m,\u001b[49m\u001b[43m \u001b[49m\u001b[38;5;241;43m*\u001b[39;49m\u001b[38;5;241;43m*\u001b[39;49m\u001b[43mkwds\u001b[49m\u001b[43m)\u001b[49m\n\u001b[1;32m    896\u001b[0m new_tracing_count \u001b[38;5;241m=\u001b[39m \u001b[38;5;28mself\u001b[39m\u001b[38;5;241m.\u001b[39mexperimental_get_tracing_count()\n\u001b[1;32m    897\u001b[0m without_tracing \u001b[38;5;241m=\u001b[39m (tracing_count \u001b[38;5;241m==\u001b[39m new_tracing_count)\n",
      "File \u001b[0;32m/opt/vitis_ai/conda/envs/vitis-ai-tensorflow2/lib/python3.8/site-packages/tensorflow/python/eager/polymorphic_function/polymorphic_function.py:926\u001b[0m, in \u001b[0;36mFunction._call\u001b[0;34m(self, *args, **kwds)\u001b[0m\n\u001b[1;32m    923\u001b[0m   \u001b[38;5;28mself\u001b[39m\u001b[38;5;241m.\u001b[39m_lock\u001b[38;5;241m.\u001b[39mrelease()\n\u001b[1;32m    924\u001b[0m   \u001b[38;5;66;03m# In this case we have created variables on the first call, so we run the\u001b[39;00m\n\u001b[1;32m    925\u001b[0m   \u001b[38;5;66;03m# defunned version which is guaranteed to never create variables.\u001b[39;00m\n\u001b[0;32m--> 926\u001b[0m   \u001b[38;5;28;01mreturn\u001b[39;00m \u001b[38;5;28;43mself\u001b[39;49m\u001b[38;5;241;43m.\u001b[39;49m\u001b[43m_no_variable_creation_fn\u001b[49m\u001b[43m(\u001b[49m\u001b[38;5;241;43m*\u001b[39;49m\u001b[43margs\u001b[49m\u001b[43m,\u001b[49m\u001b[43m \u001b[49m\u001b[38;5;241;43m*\u001b[39;49m\u001b[38;5;241;43m*\u001b[39;49m\u001b[43mkwds\u001b[49m\u001b[43m)\u001b[49m  \u001b[38;5;66;03m# pylint: disable=not-callable\u001b[39;00m\n\u001b[1;32m    927\u001b[0m \u001b[38;5;28;01melif\u001b[39;00m \u001b[38;5;28mself\u001b[39m\u001b[38;5;241m.\u001b[39m_variable_creation_fn \u001b[38;5;129;01mis\u001b[39;00m \u001b[38;5;129;01mnot\u001b[39;00m \u001b[38;5;28;01mNone\u001b[39;00m:\n\u001b[1;32m    928\u001b[0m   \u001b[38;5;66;03m# Release the lock early so that multiple threads can perform the call\u001b[39;00m\n\u001b[1;32m    929\u001b[0m   \u001b[38;5;66;03m# in parallel.\u001b[39;00m\n\u001b[1;32m    930\u001b[0m   \u001b[38;5;28mself\u001b[39m\u001b[38;5;241m.\u001b[39m_lock\u001b[38;5;241m.\u001b[39mrelease()\n",
      "File \u001b[0;32m/opt/vitis_ai/conda/envs/vitis-ai-tensorflow2/lib/python3.8/site-packages/tensorflow/python/eager/polymorphic_function/tracing_compiler.py:143\u001b[0m, in \u001b[0;36mTracingCompiler.__call__\u001b[0;34m(self, *args, **kwargs)\u001b[0m\n\u001b[1;32m    140\u001b[0m \u001b[38;5;28;01mwith\u001b[39;00m \u001b[38;5;28mself\u001b[39m\u001b[38;5;241m.\u001b[39m_lock:\n\u001b[1;32m    141\u001b[0m   (concrete_function,\n\u001b[1;32m    142\u001b[0m    filtered_flat_args) \u001b[38;5;241m=\u001b[39m \u001b[38;5;28mself\u001b[39m\u001b[38;5;241m.\u001b[39m_maybe_define_function(args, kwargs)\n\u001b[0;32m--> 143\u001b[0m \u001b[38;5;28;01mreturn\u001b[39;00m \u001b[43mconcrete_function\u001b[49m\u001b[38;5;241;43m.\u001b[39;49m\u001b[43m_call_flat\u001b[49m\u001b[43m(\u001b[49m\n\u001b[1;32m    144\u001b[0m \u001b[43m    \u001b[49m\u001b[43mfiltered_flat_args\u001b[49m\u001b[43m,\u001b[49m\u001b[43m \u001b[49m\u001b[43mcaptured_inputs\u001b[49m\u001b[38;5;241;43m=\u001b[39;49m\u001b[43mconcrete_function\u001b[49m\u001b[38;5;241;43m.\u001b[39;49m\u001b[43mcaptured_inputs\u001b[49m\u001b[43m)\u001b[49m\n",
      "File \u001b[0;32m/opt/vitis_ai/conda/envs/vitis-ai-tensorflow2/lib/python3.8/site-packages/tensorflow/python/eager/polymorphic_function/monomorphic_function.py:1757\u001b[0m, in \u001b[0;36mConcreteFunction._call_flat\u001b[0;34m(self, args, captured_inputs, cancellation_manager)\u001b[0m\n\u001b[1;32m   1753\u001b[0m possible_gradient_type \u001b[38;5;241m=\u001b[39m gradients_util\u001b[38;5;241m.\u001b[39mPossibleTapeGradientTypes(args)\n\u001b[1;32m   1754\u001b[0m \u001b[38;5;28;01mif\u001b[39;00m (possible_gradient_type \u001b[38;5;241m==\u001b[39m gradients_util\u001b[38;5;241m.\u001b[39mPOSSIBLE_GRADIENT_TYPES_NONE\n\u001b[1;32m   1755\u001b[0m     \u001b[38;5;129;01mand\u001b[39;00m executing_eagerly):\n\u001b[1;32m   1756\u001b[0m   \u001b[38;5;66;03m# No tape is watching; skip to running the function.\u001b[39;00m\n\u001b[0;32m-> 1757\u001b[0m   \u001b[38;5;28;01mreturn\u001b[39;00m \u001b[38;5;28mself\u001b[39m\u001b[38;5;241m.\u001b[39m_build_call_outputs(\u001b[38;5;28;43mself\u001b[39;49m\u001b[38;5;241;43m.\u001b[39;49m\u001b[43m_inference_function\u001b[49m\u001b[38;5;241;43m.\u001b[39;49m\u001b[43mcall\u001b[49m\u001b[43m(\u001b[49m\n\u001b[1;32m   1758\u001b[0m \u001b[43m      \u001b[49m\u001b[43mctx\u001b[49m\u001b[43m,\u001b[49m\u001b[43m \u001b[49m\u001b[43margs\u001b[49m\u001b[43m,\u001b[49m\u001b[43m \u001b[49m\u001b[43mcancellation_manager\u001b[49m\u001b[38;5;241;43m=\u001b[39;49m\u001b[43mcancellation_manager\u001b[49m\u001b[43m)\u001b[49m)\n\u001b[1;32m   1759\u001b[0m forward_backward \u001b[38;5;241m=\u001b[39m \u001b[38;5;28mself\u001b[39m\u001b[38;5;241m.\u001b[39m_select_forward_and_backward_functions(\n\u001b[1;32m   1760\u001b[0m     args,\n\u001b[1;32m   1761\u001b[0m     possible_gradient_type,\n\u001b[1;32m   1762\u001b[0m     executing_eagerly)\n\u001b[1;32m   1763\u001b[0m forward_function, args_with_tangents \u001b[38;5;241m=\u001b[39m forward_backward\u001b[38;5;241m.\u001b[39mforward()\n",
      "File \u001b[0;32m/opt/vitis_ai/conda/envs/vitis-ai-tensorflow2/lib/python3.8/site-packages/tensorflow/python/eager/polymorphic_function/monomorphic_function.py:381\u001b[0m, in \u001b[0;36m_EagerDefinedFunction.call\u001b[0;34m(self, ctx, args, cancellation_manager)\u001b[0m\n\u001b[1;32m    379\u001b[0m \u001b[38;5;28;01mwith\u001b[39;00m _InterpolateFunctionError(\u001b[38;5;28mself\u001b[39m):\n\u001b[1;32m    380\u001b[0m   \u001b[38;5;28;01mif\u001b[39;00m cancellation_manager \u001b[38;5;129;01mis\u001b[39;00m \u001b[38;5;28;01mNone\u001b[39;00m:\n\u001b[0;32m--> 381\u001b[0m     outputs \u001b[38;5;241m=\u001b[39m \u001b[43mexecute\u001b[49m\u001b[38;5;241;43m.\u001b[39;49m\u001b[43mexecute\u001b[49m\u001b[43m(\u001b[49m\n\u001b[1;32m    382\u001b[0m \u001b[43m        \u001b[49m\u001b[38;5;28;43mstr\u001b[39;49m\u001b[43m(\u001b[49m\u001b[38;5;28;43mself\u001b[39;49m\u001b[38;5;241;43m.\u001b[39;49m\u001b[43msignature\u001b[49m\u001b[38;5;241;43m.\u001b[39;49m\u001b[43mname\u001b[49m\u001b[43m)\u001b[49m\u001b[43m,\u001b[49m\n\u001b[1;32m    383\u001b[0m \u001b[43m        \u001b[49m\u001b[43mnum_outputs\u001b[49m\u001b[38;5;241;43m=\u001b[39;49m\u001b[38;5;28;43mself\u001b[39;49m\u001b[38;5;241;43m.\u001b[39;49m\u001b[43m_num_outputs\u001b[49m\u001b[43m,\u001b[49m\n\u001b[1;32m    384\u001b[0m \u001b[43m        \u001b[49m\u001b[43minputs\u001b[49m\u001b[38;5;241;43m=\u001b[39;49m\u001b[43margs\u001b[49m\u001b[43m,\u001b[49m\n\u001b[1;32m    385\u001b[0m \u001b[43m        \u001b[49m\u001b[43mattrs\u001b[49m\u001b[38;5;241;43m=\u001b[39;49m\u001b[43mattrs\u001b[49m\u001b[43m,\u001b[49m\n\u001b[1;32m    386\u001b[0m \u001b[43m        \u001b[49m\u001b[43mctx\u001b[49m\u001b[38;5;241;43m=\u001b[39;49m\u001b[43mctx\u001b[49m\u001b[43m)\u001b[49m\n\u001b[1;32m    387\u001b[0m   \u001b[38;5;28;01melse\u001b[39;00m:\n\u001b[1;32m    388\u001b[0m     outputs \u001b[38;5;241m=\u001b[39m execute\u001b[38;5;241m.\u001b[39mexecute_with_cancellation(\n\u001b[1;32m    389\u001b[0m         \u001b[38;5;28mstr\u001b[39m(\u001b[38;5;28mself\u001b[39m\u001b[38;5;241m.\u001b[39msignature\u001b[38;5;241m.\u001b[39mname),\n\u001b[1;32m    390\u001b[0m         num_outputs\u001b[38;5;241m=\u001b[39m\u001b[38;5;28mself\u001b[39m\u001b[38;5;241m.\u001b[39m_num_outputs,\n\u001b[0;32m   (...)\u001b[0m\n\u001b[1;32m    393\u001b[0m         ctx\u001b[38;5;241m=\u001b[39mctx,\n\u001b[1;32m    394\u001b[0m         cancellation_manager\u001b[38;5;241m=\u001b[39mcancellation_manager)\n",
      "File \u001b[0;32m/opt/vitis_ai/conda/envs/vitis-ai-tensorflow2/lib/python3.8/site-packages/tensorflow/python/eager/execute.py:52\u001b[0m, in \u001b[0;36mquick_execute\u001b[0;34m(op_name, num_outputs, inputs, attrs, ctx, name)\u001b[0m\n\u001b[1;32m     50\u001b[0m \u001b[38;5;28;01mtry\u001b[39;00m:\n\u001b[1;32m     51\u001b[0m   ctx\u001b[38;5;241m.\u001b[39mensure_initialized()\n\u001b[0;32m---> 52\u001b[0m   tensors \u001b[38;5;241m=\u001b[39m \u001b[43mpywrap_tfe\u001b[49m\u001b[38;5;241;43m.\u001b[39;49m\u001b[43mTFE_Py_Execute\u001b[49m\u001b[43m(\u001b[49m\u001b[43mctx\u001b[49m\u001b[38;5;241;43m.\u001b[39;49m\u001b[43m_handle\u001b[49m\u001b[43m,\u001b[49m\u001b[43m \u001b[49m\u001b[43mdevice_name\u001b[49m\u001b[43m,\u001b[49m\u001b[43m \u001b[49m\u001b[43mop_name\u001b[49m\u001b[43m,\u001b[49m\n\u001b[1;32m     53\u001b[0m \u001b[43m                                      \u001b[49m\u001b[43minputs\u001b[49m\u001b[43m,\u001b[49m\u001b[43m \u001b[49m\u001b[43mattrs\u001b[49m\u001b[43m,\u001b[49m\u001b[43m \u001b[49m\u001b[43mnum_outputs\u001b[49m\u001b[43m)\u001b[49m\n\u001b[1;32m     54\u001b[0m \u001b[38;5;28;01mexcept\u001b[39;00m core\u001b[38;5;241m.\u001b[39m_NotOkStatusException \u001b[38;5;28;01mas\u001b[39;00m e:\n\u001b[1;32m     55\u001b[0m   \u001b[38;5;28;01mif\u001b[39;00m name \u001b[38;5;129;01mis\u001b[39;00m \u001b[38;5;129;01mnot\u001b[39;00m \u001b[38;5;28;01mNone\u001b[39;00m:\n",
      "\u001b[0;31mKeyboardInterrupt\u001b[0m: "
     ]
    }
   ],
   "source": [
    "batch_size = 128\n",
    "\n",
    "#i dont think we need this - Zé \n",
    "\n",
    "#learning_rate = 0.0001\n",
    "#momentum = 0\n",
    "#epsilon = 1e-08\n",
    "\n",
    "\"\"\" q_model.compile(\n",
    "    optimizer = tf.keras.optimizers.RMSprop(\n",
    "        learning_rate = learning_rate,\n",
    "        momentum = momentum,\n",
    "        epsilon = epsilon),\n",
    "    loss = tf.keras.losses.CategoricalCrossentropy(reduction = tf.keras.losses.Reduction.SUM_OVER_BATCH_SIZE),\n",
    "    metrics = ['acc'])\n",
    " \"\"\"\n",
    "\n",
    "# Instead:\n",
    "#compile with a dummy optimizer, since we are not training \n",
    "q_model.compile(optimizer='sgd',\n",
    "                loss=tf.keras.losses.CategoricalCrossentropy(),\n",
    "                metrics=['accuracy'])\n",
    "\n",
    "q_model.evaluate(test_images, test_labels, batch_size=batch_size)\n",
    "\n",
    "# quantizer.dump_model(q_model, dataset = test_images, dump_float = True)"
   ]
  },
  {
   "cell_type": "markdown",
   "metadata": {},
   "source": [
    "# Compile the DPU"
   ]
  },
  {
   "cell_type": "code",
   "execution_count": null,
   "metadata": {},
   "outputs": [
    {
     "name": "stdout",
     "output_type": "stream",
     "text": [
      "/bin/bash: vai_c_tensorflow2: command not found\n"
     ]
    }
   ],
   "source": [
    "vai_c_tensorflow2 -m \"/home/s3515850/EAI/.venv/quantized_model.h5\" -a \"/opt/vitis_ai/compiler/arch/DPUCZDX8G/KV260/arch.json\" -o \"/home/s3515850/EAI/.venv/xmodel\" -n kria_model"
   ]
  }
 ],
 "metadata": {
  "kernelspec": {
   "display_name": "Python 3 (ipykernel)",
   "language": "python",
   "name": "python3"
  },
  "language_info": {
   "codemirror_mode": {
    "name": "ipython",
    "version": 3
   },
   "file_extension": ".py",
   "mimetype": "text/x-python",
   "name": "python",
   "nbconvert_exporter": "python",
   "pygments_lexer": "ipython3",
   "version": "3.8.6"
  }
 },
 "nbformat": 4,
 "nbformat_minor": 2
}
