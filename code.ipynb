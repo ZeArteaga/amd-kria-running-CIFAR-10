{
 "cells": [
  {
   "cell_type": "markdown",
   "metadata": {},
   "source": [
    "# Libraries importing"
   ]
  },
  {
   "cell_type": "code",
   "execution_count": 1,
   "metadata": {},
   "outputs": [
    {
     "name": "stderr",
     "output_type": "stream",
     "text": [
      "2025-01-08 08:11:00.259034: I tensorflow/core/platform/cpu_feature_guard.cc:186] This TensorFlow binary is optimized with Zen Deep Neural Network Library (ZenDNN) to use available CPU instructions in performance-critical operations.\n",
      "To enable the following instructions: SSE3 SSE4.1 SSE4.2 AVX AVX2 FMA, in other operations, rebuild TensorFlow with the appropriate compiler flags.\n"
     ]
    }
   ],
   "source": [
    "import numpy as np\n",
    "import os\n",
    "import pickle\n",
    "import tensorflow as tf\n",
    "from tensorflow_model_optimization.quantization.keras import vitis_inspect, vitis_quantize\n",
    "from tensorflow_model_optimization.python.core.quantization.keras.vitis.utils import model_utils\n",
    "from tensorflow.keras.models import Sequential\n",
    "from tensorflow.keras.utils import to_categorical\n",
    "from tensorflow.keras.models import Model, load_model\n",
    "from tensorflow.keras.optimizers import Adam, SGD"
   ]
  },
  {
   "cell_type": "markdown",
   "metadata": {},
   "source": [
    "# Function to load the CIFAR10 dataset (after downloading it locally)"
   ]
  },
  {
   "cell_type": "code",
   "execution_count": 2,
   "metadata": {},
   "outputs": [],
   "source": [
    "def load_cifar10(data_dir):\n",
    "    def unpickle(file):\n",
    "        with open(file, 'rb') as fo:\n",
    "            dict = pickle.load(fo, encoding='bytes')\n",
    "        return dict\n",
    "\n",
    "    # Load training data\n",
    "    x_train, y_train = [], []\n",
    "    for i in range(1, 6):  # CIFAR-10 training data consists of 5 batches\n",
    "        batch = unpickle(os.path.join(data_dir, f\"data_batch_{i}\"))\n",
    "        x_train.append(batch[b'data'])\n",
    "        y_train.extend(batch[b'labels'])\n",
    "\n",
    "    x_train = np.vstack(x_train).reshape(-1, 3, 32, 32).transpose(0, 2, 3, 1)\n",
    "    y_train = np.array(y_train)\n",
    "\n",
    "    # Load test data\n",
    "    test_batch = unpickle(os.path.join(data_dir, \"test_batch\"))\n",
    "    x_test = test_batch[b'data'].reshape(-1, 3, 32, 32).transpose(0, 2, 3, 1)\n",
    "    y_test = np.array(test_batch[b'labels'])\n",
    "\n",
    "    return (x_train, y_train), (x_test, y_test)"
   ]
  },
  {
   "cell_type": "markdown",
   "metadata": {},
   "source": [
    "# Actually loading CIFAR10"
   ]
  },
  {
   "cell_type": "code",
   "execution_count": 3,
   "metadata": {},
   "outputs": [
    {
     "name": "stdout",
     "output_type": "stream",
     "text": [
      "(50000, 32, 32, 3)\n",
      "(50000,)\n",
      "(50000, 32, 32, 3)\n",
      "(50000, 10)\n"
     ]
    }
   ],
   "source": [
    "#CIFAR-10 dataset\n",
    "(train_images, train_labels), (test_images, test_labels) = load_cifar10(\"cifar-10-batches-py\")\n",
    "print(train_images.shape)\n",
    "print(train_labels.shape)\n",
    "train_images = train_images.reshape(train_images.shape[0], 32, 32, 3) #ensure shape 32 W x 32 H x 3 channels for each image\n",
    "test_images = test_images.reshape(test_images.shape[0], 32, 32, 3)\n",
    "\n",
    "#range 0-1\n",
    "train_images = train_images.astype('float32') / 255.0\n",
    "test_images = test_images.astype('float32') / 255.0\n",
    "\n",
    "#One-hot encoding labels\n",
    "train_labels = to_categorical(train_labels, 10)\n",
    "test_labels = to_categorical(test_labels, 10)\n",
    "\n",
    "print(train_images.shape)\n",
    "print(train_labels.shape)"
   ]
  },
  {
   "cell_type": "markdown",
   "metadata": {},
   "source": [
    "# Loading a trained model"
   ]
  },
  {
   "cell_type": "code",
   "execution_count": 10,
   "metadata": {},
   "outputs": [
    {
     "name": "stdout",
     "output_type": "stream",
     "text": [
      "Model: \"model_3\"\n",
      "__________________________________________________________________________________________________\n",
      " Layer (type)                   Output Shape         Param #     Connected to                     \n",
      "==================================================================================================\n",
      " input_4 (InputLayer)           [(None, 32, 32, 3)]  0           []                               \n",
      "                                                                                                  \n",
      " conv2d_60 (Conv2D)             (None, 32, 32, 64)   1792        ['input_4[0][0]']                \n",
      "                                                                                                  \n",
      " batch_normalization_60 (BatchN  (None, 32, 32, 64)  256         ['conv2d_60[0][0]']              \n",
      " ormalization)                                                                                    \n",
      "                                                                                                  \n",
      " re_lu_51 (ReLU)                (None, 32, 32, 64)   0           ['batch_normalization_60[0][0]'] \n",
      "                                                                                                  \n",
      " conv2d_61 (Conv2D)             (None, 32, 32, 64)   36928       ['re_lu_51[0][0]']               \n",
      "                                                                                                  \n",
      " batch_normalization_61 (BatchN  (None, 32, 32, 64)  256         ['conv2d_61[0][0]']              \n",
      " ormalization)                                                                                    \n",
      "                                                                                                  \n",
      " re_lu_52 (ReLU)                (None, 32, 32, 64)   0           ['batch_normalization_61[0][0]'] \n",
      "                                                                                                  \n",
      " conv2d_62 (Conv2D)             (None, 32, 32, 64)   36928       ['re_lu_52[0][0]']               \n",
      "                                                                                                  \n",
      " batch_normalization_62 (BatchN  (None, 32, 32, 64)  256         ['conv2d_62[0][0]']              \n",
      " ormalization)                                                                                    \n",
      "                                                                                                  \n",
      " add_24 (Add)                   (None, 32, 32, 64)   0           ['batch_normalization_62[0][0]', \n",
      "                                                                  're_lu_51[0][0]']               \n",
      "                                                                                                  \n",
      " re_lu_53 (ReLU)                (None, 32, 32, 64)   0           ['add_24[0][0]']                 \n",
      "                                                                                                  \n",
      " conv2d_63 (Conv2D)             (None, 32, 32, 64)   36928       ['re_lu_53[0][0]']               \n",
      "                                                                                                  \n",
      " batch_normalization_63 (BatchN  (None, 32, 32, 64)  256         ['conv2d_63[0][0]']              \n",
      " ormalization)                                                                                    \n",
      "                                                                                                  \n",
      " re_lu_54 (ReLU)                (None, 32, 32, 64)   0           ['batch_normalization_63[0][0]'] \n",
      "                                                                                                  \n",
      " conv2d_64 (Conv2D)             (None, 32, 32, 64)   36928       ['re_lu_54[0][0]']               \n",
      "                                                                                                  \n",
      " batch_normalization_64 (BatchN  (None, 32, 32, 64)  256         ['conv2d_64[0][0]']              \n",
      " ormalization)                                                                                    \n",
      "                                                                                                  \n",
      " add_25 (Add)                   (None, 32, 32, 64)   0           ['batch_normalization_64[0][0]', \n",
      "                                                                  're_lu_53[0][0]']               \n",
      "                                                                                                  \n",
      " re_lu_55 (ReLU)                (None, 32, 32, 64)   0           ['add_25[0][0]']                 \n",
      "                                                                                                  \n",
      " conv2d_66 (Conv2D)             (None, 16, 16, 128)  73856       ['re_lu_55[0][0]']               \n",
      "                                                                                                  \n",
      " batch_normalization_66 (BatchN  (None, 16, 16, 128)  512        ['conv2d_66[0][0]']              \n",
      " ormalization)                                                                                    \n",
      "                                                                                                  \n",
      " re_lu_56 (ReLU)                (None, 16, 16, 128)  0           ['batch_normalization_66[0][0]'] \n",
      "                                                                                                  \n",
      " conv2d_67 (Conv2D)             (None, 16, 16, 128)  147584      ['re_lu_56[0][0]']               \n",
      "                                                                                                  \n",
      " conv2d_65 (Conv2D)             (None, 16, 16, 128)  8320        ['re_lu_55[0][0]']               \n",
      "                                                                                                  \n",
      " batch_normalization_67 (BatchN  (None, 16, 16, 128)  512        ['conv2d_67[0][0]']              \n",
      " ormalization)                                                                                    \n",
      "                                                                                                  \n",
      " batch_normalization_65 (BatchN  (None, 16, 16, 128)  512        ['conv2d_65[0][0]']              \n",
      " ormalization)                                                                                    \n",
      "                                                                                                  \n",
      " add_26 (Add)                   (None, 16, 16, 128)  0           ['batch_normalization_67[0][0]', \n",
      "                                                                  'batch_normalization_65[0][0]'] \n",
      "                                                                                                  \n",
      " re_lu_57 (ReLU)                (None, 16, 16, 128)  0           ['add_26[0][0]']                 \n",
      "                                                                                                  \n",
      " conv2d_68 (Conv2D)             (None, 16, 16, 128)  147584      ['re_lu_57[0][0]']               \n",
      "                                                                                                  \n",
      " batch_normalization_68 (BatchN  (None, 16, 16, 128)  512        ['conv2d_68[0][0]']              \n",
      " ormalization)                                                                                    \n",
      "                                                                                                  \n",
      " re_lu_58 (ReLU)                (None, 16, 16, 128)  0           ['batch_normalization_68[0][0]'] \n",
      "                                                                                                  \n",
      " conv2d_69 (Conv2D)             (None, 16, 16, 128)  147584      ['re_lu_58[0][0]']               \n",
      "                                                                                                  \n",
      " batch_normalization_69 (BatchN  (None, 16, 16, 128)  512        ['conv2d_69[0][0]']              \n",
      " ormalization)                                                                                    \n",
      "                                                                                                  \n",
      " add_27 (Add)                   (None, 16, 16, 128)  0           ['batch_normalization_69[0][0]', \n",
      "                                                                  're_lu_57[0][0]']               \n",
      "                                                                                                  \n"
     ]
    },
    {
     "name": "stdout",
     "output_type": "stream",
     "text": [
      " re_lu_59 (ReLU)                (None, 16, 16, 128)  0           ['add_27[0][0]']                 \n",
      "                                                                                                  \n",
      " conv2d_71 (Conv2D)             (None, 8, 8, 256)    295168      ['re_lu_59[0][0]']               \n",
      "                                                                                                  \n",
      " batch_normalization_71 (BatchN  (None, 8, 8, 256)   1024        ['conv2d_71[0][0]']              \n",
      " ormalization)                                                                                    \n",
      "                                                                                                  \n",
      " re_lu_60 (ReLU)                (None, 8, 8, 256)    0           ['batch_normalization_71[0][0]'] \n",
      "                                                                                                  \n",
      " conv2d_72 (Conv2D)             (None, 8, 8, 256)    590080      ['re_lu_60[0][0]']               \n",
      "                                                                                                  \n",
      " conv2d_70 (Conv2D)             (None, 8, 8, 256)    33024       ['re_lu_59[0][0]']               \n",
      "                                                                                                  \n",
      " batch_normalization_72 (BatchN  (None, 8, 8, 256)   1024        ['conv2d_72[0][0]']              \n",
      " ormalization)                                                                                    \n",
      "                                                                                                  \n",
      " batch_normalization_70 (BatchN  (None, 8, 8, 256)   1024        ['conv2d_70[0][0]']              \n",
      " ormalization)                                                                                    \n",
      "                                                                                                  \n",
      " add_28 (Add)                   (None, 8, 8, 256)    0           ['batch_normalization_72[0][0]', \n",
      "                                                                  'batch_normalization_70[0][0]'] \n",
      "                                                                                                  \n",
      " re_lu_61 (ReLU)                (None, 8, 8, 256)    0           ['add_28[0][0]']                 \n",
      "                                                                                                  \n",
      " conv2d_73 (Conv2D)             (None, 8, 8, 256)    590080      ['re_lu_61[0][0]']               \n",
      "                                                                                                  \n",
      " batch_normalization_73 (BatchN  (None, 8, 8, 256)   1024        ['conv2d_73[0][0]']              \n",
      " ormalization)                                                                                    \n",
      "                                                                                                  \n",
      " re_lu_62 (ReLU)                (None, 8, 8, 256)    0           ['batch_normalization_73[0][0]'] \n",
      "                                                                                                  \n",
      " conv2d_74 (Conv2D)             (None, 8, 8, 256)    590080      ['re_lu_62[0][0]']               \n",
      "                                                                                                  \n",
      " batch_normalization_74 (BatchN  (None, 8, 8, 256)   1024        ['conv2d_74[0][0]']              \n",
      " ormalization)                                                                                    \n",
      "                                                                                                  \n",
      " add_29 (Add)                   (None, 8, 8, 256)    0           ['batch_normalization_74[0][0]', \n",
      "                                                                  're_lu_61[0][0]']               \n",
      "                                                                                                  \n",
      " re_lu_63 (ReLU)                (None, 8, 8, 256)    0           ['add_29[0][0]']                 \n",
      "                                                                                                  \n",
      " conv2d_76 (Conv2D)             (None, 4, 4, 512)    1180160     ['re_lu_63[0][0]']               \n",
      "                                                                                                  \n",
      " batch_normalization_76 (BatchN  (None, 4, 4, 512)   2048        ['conv2d_76[0][0]']              \n",
      " ormalization)                                                                                    \n",
      "                                                                                                  \n",
      " re_lu_64 (ReLU)                (None, 4, 4, 512)    0           ['batch_normalization_76[0][0]'] \n",
      "                                                                                                  \n",
      " conv2d_77 (Conv2D)             (None, 4, 4, 512)    2359808     ['re_lu_64[0][0]']               \n",
      "                                                                                                  \n",
      " conv2d_75 (Conv2D)             (None, 4, 4, 512)    131584      ['re_lu_63[0][0]']               \n",
      "                                                                                                  \n",
      " batch_normalization_77 (BatchN  (None, 4, 4, 512)   2048        ['conv2d_77[0][0]']              \n",
      " ormalization)                                                                                    \n",
      "                                                                                                  \n",
      " batch_normalization_75 (BatchN  (None, 4, 4, 512)   2048        ['conv2d_75[0][0]']              \n",
      " ormalization)                                                                                    \n",
      "                                                                                                  \n",
      " add_30 (Add)                   (None, 4, 4, 512)    0           ['batch_normalization_77[0][0]', \n",
      "                                                                  'batch_normalization_75[0][0]'] \n",
      "                                                                                                  \n",
      " re_lu_65 (ReLU)                (None, 4, 4, 512)    0           ['add_30[0][0]']                 \n",
      "                                                                                                  \n",
      " conv2d_78 (Conv2D)             (None, 4, 4, 512)    2359808     ['re_lu_65[0][0]']               \n",
      "                                                                                                  \n",
      " batch_normalization_78 (BatchN  (None, 4, 4, 512)   2048        ['conv2d_78[0][0]']              \n",
      " ormalization)                                                                                    \n",
      "                                                                                                  \n",
      " re_lu_66 (ReLU)                (None, 4, 4, 512)    0           ['batch_normalization_78[0][0]'] \n",
      "                                                                                                  \n",
      " conv2d_79 (Conv2D)             (None, 4, 4, 512)    2359808     ['re_lu_66[0][0]']               \n",
      "                                                                                                  \n",
      " batch_normalization_79 (BatchN  (None, 4, 4, 512)   2048        ['conv2d_79[0][0]']              \n",
      " ormalization)                                                                                    \n",
      "                                                                                                  \n",
      " add_31 (Add)                   (None, 4, 4, 512)    0           ['batch_normalization_79[0][0]', \n",
      "                                                                  're_lu_65[0][0]']               \n",
      "                                                                                                  \n",
      " re_lu_67 (ReLU)                (None, 4, 4, 512)    0           ['add_31[0][0]']                 \n",
      "                                                                                                  \n",
      " average_pooling2d_3 (AveragePo  (None, 1, 1, 512)   0           ['re_lu_67[0][0]']               \n",
      " oling2D)                                                                                         \n",
      "                                                                                                  \n"
     ]
    },
    {
     "name": "stdout",
     "output_type": "stream",
     "text": [
      " flatten_3 (Flatten)            (None, 512)          0           ['average_pooling2d_3[0][0]']    \n",
      "                                                                                                  \n",
      " dense_3 (Dense)                (None, 10)           5130        ['flatten_3[0][0]']              \n",
      "                                                                                                  \n",
      "==================================================================================================\n",
      "Total params: 11,188,362\n",
      "Trainable params: 11,178,762\n",
      "Non-trainable params: 9,600\n",
      "__________________________________________________________________________________________________\n"
     ]
    }
   ],
   "source": [
    "input_shape = (None,32, 32, 3)\n",
    "model = load_model('avg_pool_model_9275.h5')\n",
    "model.build(input_shape=input_shape)\n",
    "model.summary()\n",
    "\n",
    "opt = SGD(learning_rate=0.1, momentum=0.9, weight_decay=1e-4)"
   ]
  },
  {
   "cell_type": "markdown",
   "metadata": {},
   "source": [
    "# Copying the guide, 17:57 in the video (just inspection)"
   ]
  },
  {
   "cell_type": "code",
   "execution_count": 11,
   "metadata": {},
   "outputs": [
    {
     "name": "stdout",
     "output_type": "stream",
     "text": [
      "[VAI INFO] Update include_bias_corr: False\n",
      "[VAI INFO] Update include_fast_ft: False\n",
      "[VAI INFO] Update include_cle: False\n",
      "[INFO] Namespace(batchsize=1, inputs_shape=None, layout='NHWC', model_files=['/tmp/root/tensorflow_model_optimization/tmp_sub_graph_quantized_20250108-081609-381607_XBrmsl.h5'], model_type='tensorflow2', named_inputs_shape=None, out_filename='/tmp/root/tensorflow_model_optimization/tmp_sub_graph_xnnc_20250108-081609-381607_XBrmsl.xmodel', proto=None)\n",
      "[INFO] tensorflow2 model: /tmp/root/tensorflow_model_optimization/tmp_sub_graph_quantized_20250108-081609-381607_XBrmsl.h5\n",
      "[INFO] keras version: 2.12.0\n",
      "[INFO] Tensorflow Keras model type: functional\n"
     ]
    },
    {
     "name": "stderr",
     "output_type": "stream",
     "text": [
      "[INFO] parse raw model     :100%|█| 3/3 [00:00<00:00, 15326.32it/s]             \n",
      "[INFO] infer shape (NHWC)  :100%|█| 4/4 [00:00<00:00, 31300.78it/s]             \n",
      "[INFO] perform level-0 opt :100%|█| 1/1 [00:00<00:00, 2833.99it/s]              \n",
      "[INFO] perform level-1 opt :100%|█| 2/2 [00:00<00:00, 10305.42it/s]             \n",
      "[INFO] infer shape (NHWC)  :100%|█| 6/6 [00:00<00:00, 37063.07it/s]             \n",
      "[INFO] generate xmodel     :100%|█| 6/6 [00:00<00:00, 5197.40it/s]              \n",
      "I20250108 08:16:09.523609    99 compile_pass_manager.cpp:352] [UNILOG][INFO] Compile mode: dpu\n",
      "I20250108 08:16:09.523626    99 compile_pass_manager.cpp:353] [UNILOG][INFO] Debug mode: null\n",
      "I20250108 08:16:09.523629    99 compile_pass_manager.cpp:357] [UNILOG][INFO] Target architecture: DPUCZDX8G_ISA1_B4096\n",
      "I20250108 08:16:09.523718    99 compile_pass_manager.cpp:465] [UNILOG][INFO] Graph name: model_31, with op num: 6\n",
      "I20250108 08:16:09.523721    99 compile_pass_manager.cpp:478] [UNILOG][INFO] Begin to compile...\n",
      "I20250108 08:16:09.525645    99 compile_pass_manager.cpp:489] [UNILOG][INFO] Total device subgraph number 3, DPU subgraph number 1\n",
      "I20250108 08:16:09.525661    99 compile_pass_manager.cpp:504] [UNILOG][INFO] Compile done.\n"
     ]
    },
    {
     "name": "stdout",
     "output_type": "stream",
     "text": [
      "[INFO] dump xmodel ...\r",
      "[INFO] dump xmodel: /tmp/root/tensorflow_model_optimization/tmp_sub_graph_xnnc_20250108-081609-381607_XBrmsl.xmodel\n",
      "[INFO] Namespace(batchsize=1, inputs_shape=None, layout='NHWC', model_files=['/tmp/root/tensorflow_model_optimization/tmp_sub_graph_quantized_20250108-081609-382007_KDEZfQ.h5'], model_type='tensorflow2', named_inputs_shape=None, out_filename='/tmp/root/tensorflow_model_optimization/tmp_sub_graph_xnnc_20250108-081609-382007_KDEZfQ.xmodel', proto=None)\n",
      "[INFO] tensorflow2 model: /tmp/root/tensorflow_model_optimization/tmp_sub_graph_quantized_20250108-081609-382007_KDEZfQ.h5\n",
      "[INFO] keras version: 2.12.0\n",
      "[INFO] Tensorflow Keras model type: functional\n"
     ]
    },
    {
     "name": "stderr",
     "output_type": "stream",
     "text": [
      "[INFO] parse raw model     :100%|█| 4/4 [00:00<00:00, 23497.50it/s]             \n",
      "[INFO] infer shape (NHWC)  :100%|█| 5/5 [00:00<00:00, 14841.84it/s]             \n",
      "[INFO] perform level-0 opt :100%|█| 1/1 [00:00<00:00, 3512.82it/s]              \n",
      "[INFO] perform level-1 opt :100%|█| 2/2 [00:00<00:00, 7876.63it/s]              \n",
      "[INFO] generate xmodel     :100%|█| 5/5 [00:00<00:00, 6448.81it/s]              \n",
      "I20250108 08:16:09.634213    99 compile_pass_manager.cpp:352] [UNILOG][INFO] Compile mode: dpu\n",
      "I20250108 08:16:09.634227    99 compile_pass_manager.cpp:353] [UNILOG][INFO] Debug mode: null\n",
      "I20250108 08:16:09.634229    99 compile_pass_manager.cpp:357] [UNILOG][INFO] Target architecture: DPUCZDX8G_ISA1_B4096\n",
      "I20250108 08:16:09.634316    99 compile_pass_manager.cpp:465] [UNILOG][INFO] Graph name: model_32, with op num: 9\n",
      "I20250108 08:16:09.634320    99 compile_pass_manager.cpp:478] [UNILOG][INFO] Begin to compile...\n",
      "I20250108 08:16:09.636992    99 compile_pass_manager.cpp:489] [UNILOG][INFO] Total device subgraph number 3, DPU subgraph number 1\n",
      "I20250108 08:16:09.637009    99 compile_pass_manager.cpp:504] [UNILOG][INFO] Compile done.\n"
     ]
    },
    {
     "name": "stdout",
     "output_type": "stream",
     "text": [
      "[INFO] dump xmodel ...\r",
      "[INFO] dump xmodel: /tmp/root/tensorflow_model_optimization/tmp_sub_graph_xnnc_20250108-081609-382007_KDEZfQ.xmodel\n",
      "[INFO] Namespace(batchsize=1, inputs_shape=None, layout='NHWC', model_files=['/tmp/root/tensorflow_model_optimization/tmp_sub_graph_quantized_20250108-081609-382007_KDEZfQ.h5'], model_type='tensorflow2', named_inputs_shape=None, out_filename='/tmp/root/tensorflow_model_optimization/tmp_sub_graph_xnnc_20250108-081609-382007_KDEZfQ.xmodel', proto=None)\n",
      "[INFO] tensorflow2 model: /tmp/root/tensorflow_model_optimization/tmp_sub_graph_quantized_20250108-081609-382007_KDEZfQ.h5\n",
      "[INFO] keras version: 2.12.0\n",
      "[INFO] Tensorflow Keras model type: functional\n"
     ]
    },
    {
     "name": "stderr",
     "output_type": "stream",
     "text": [
      "[INFO] parse raw model     :100%|█| 4/4 [00:00<00:00, 22369.62it/s]             \n",
      "[INFO] infer shape (NHWC)  :100%|█| 5/5 [00:00<00:00, 13797.05it/s]             \n",
      "[INFO] perform level-0 opt :100%|█| 1/1 [00:00<00:00, 4993.22it/s]              \n",
      "[INFO] perform level-1 opt :100%|█| 2/2 [00:00<00:00, 14488.10it/s]             \n",
      "[INFO] generate xmodel     :100%|█| 5/5 [00:00<00:00, 5198.69it/s]              "
     ]
    },
    {
     "name": "stdout",
     "output_type": "stream",
     "text": [
      "[INFO] dump xmodel ...\r",
      "[INFO] dump xmodel: /tmp/root/tensorflow_model_optimization/tmp_sub_graph_xnnc_20250108-081609-382007_KDEZfQ.xmodel\n"
     ]
    },
    {
     "name": "stderr",
     "output_type": "stream",
     "text": [
      "\n",
      "I20250108 08:16:09.701812    99 compile_pass_manager.cpp:352] [UNILOG][INFO] Compile mode: dpu\n",
      "I20250108 08:16:09.701824    99 compile_pass_manager.cpp:353] [UNILOG][INFO] Debug mode: null\n",
      "I20250108 08:16:09.701828    99 compile_pass_manager.cpp:357] [UNILOG][INFO] Target architecture: DPUCZDX8G_ISA1_B4096\n",
      "I20250108 08:16:09.701884    99 compile_pass_manager.cpp:465] [UNILOG][INFO] Graph name: model_33, with op num: 9\n",
      "I20250108 08:16:09.701886    99 compile_pass_manager.cpp:478] [UNILOG][INFO] Begin to compile...\n",
      "I20250108 08:16:09.705699    99 compile_pass_manager.cpp:489] [UNILOG][INFO] Total device subgraph number 3, DPU subgraph number 1\n",
      "I20250108 08:16:09.705721    99 compile_pass_manager.cpp:504] [UNILOG][INFO] Compile done.\n"
     ]
    },
    {
     "name": "stdout",
     "output_type": "stream",
     "text": [
      "[INFO] Namespace(batchsize=1, inputs_shape=None, layout='NHWC', model_files=['/tmp/root/tensorflow_model_optimization/tmp_sub_graph_quantized_20250108-081609-382007_KDEZfQ.h5'], model_type='tensorflow2', named_inputs_shape=None, out_filename='/tmp/root/tensorflow_model_optimization/tmp_sub_graph_xnnc_20250108-081609-382007_KDEZfQ.xmodel', proto=None)\n",
      "[INFO] tensorflow2 model: /tmp/root/tensorflow_model_optimization/tmp_sub_graph_quantized_20250108-081609-382007_KDEZfQ.h5\n",
      "[INFO] keras version: 2.12.0\n",
      "[INFO] Tensorflow Keras model type: functional\n"
     ]
    },
    {
     "name": "stderr",
     "output_type": "stream",
     "text": [
      "[INFO] parse raw model     :100%|█| 4/4 [00:00<00:00, 22280.50it/s]             \n",
      "[INFO] infer shape (NHWC)  :100%|█| 5/5 [00:00<00:00, 5257.34it/s]              \n",
      "[INFO] perform level-0 opt :100%|█| 1/1 [00:00<00:00, 4911.36it/s]              \n",
      "[INFO] perform level-1 opt :100%|█| 2/2 [00:00<00:00, 10994.24it/s]             \n",
      "[INFO] generate xmodel     :100%|█| 5/5 [00:00<00:00, 5652.70it/s]              \n",
      "I20250108 08:16:09.777719    99 compile_pass_manager.cpp:352] [UNILOG][INFO] Compile mode: dpu\n",
      "I20250108 08:16:09.777732    99 compile_pass_manager.cpp:353] [UNILOG][INFO] Debug mode: null\n",
      "I20250108 08:16:09.777735    99 compile_pass_manager.cpp:357] [UNILOG][INFO] Target architecture: DPUCZDX8G_ISA1_B4096\n",
      "I20250108 08:16:09.777801    99 compile_pass_manager.cpp:465] [UNILOG][INFO] Graph name: model_34, with op num: 9\n",
      "I20250108 08:16:09.777803    99 compile_pass_manager.cpp:478] [UNILOG][INFO] Begin to compile...\n",
      "I20250108 08:16:09.780900    99 compile_pass_manager.cpp:489] [UNILOG][INFO] Total device subgraph number 3, DPU subgraph number 1\n",
      "I20250108 08:16:09.780918    99 compile_pass_manager.cpp:504] [UNILOG][INFO] Compile done.\n"
     ]
    },
    {
     "name": "stdout",
     "output_type": "stream",
     "text": [
      "[INFO] dump xmodel: /tmp/root/tensorflow_model_optimization/tmp_sub_graph_xnnc_20250108-081609-382007_KDEZfQ.xmodel\n",
      "[INFO] Namespace(batchsize=1, inputs_shape=None, layout='NHWC', model_files=['/tmp/root/tensorflow_model_optimization/tmp_sub_graph_quantized_20250108-081609-382007_KDEZfQ.h5'], model_type='tensorflow2', named_inputs_shape=None, out_filename='/tmp/root/tensorflow_model_optimization/tmp_sub_graph_xnnc_20250108-081609-382007_KDEZfQ.xmodel', proto=None)\n",
      "[INFO] tensorflow2 model: /tmp/root/tensorflow_model_optimization/tmp_sub_graph_quantized_20250108-081609-382007_KDEZfQ.h5\n",
      "[INFO] keras version: 2.12.0\n",
      "[INFO] Tensorflow Keras model type: functional\n"
     ]
    },
    {
     "name": "stderr",
     "output_type": "stream",
     "text": [
      "[INFO] parse raw model     :100%|█| 4/4 [00:00<00:00, 7256.58it/s]              \n",
      "[INFO] infer shape (NHWC)  :100%|█| 5/5 [00:00<00:00, 14979.66it/s]             \n",
      "[INFO] perform level-0 opt :100%|█| 1/1 [00:00<00:00, 4583.94it/s]              \n",
      "[INFO] perform level-1 opt :100%|█| 2/2 [00:00<00:00, 16611.10it/s]             \n",
      "[INFO] generate xmodel     :100%|█| 5/5 [00:00<00:00, 5111.26it/s]              \n",
      "I20250108 08:16:09.850319    99 compile_pass_manager.cpp:352] [UNILOG][INFO] Compile mode: dpu\n",
      "I20250108 08:16:09.850332    99 compile_pass_manager.cpp:353] [UNILOG][INFO] Debug mode: null\n",
      "I20250108 08:16:09.850335    99 compile_pass_manager.cpp:357] [UNILOG][INFO] Target architecture: DPUCZDX8G_ISA1_B4096\n",
      "I20250108 08:16:09.850392    99 compile_pass_manager.cpp:465] [UNILOG][INFO] Graph name: model_35, with op num: 9\n",
      "I20250108 08:16:09.850395    99 compile_pass_manager.cpp:478] [UNILOG][INFO] Begin to compile...\n",
      "I20250108 08:16:09.855559    99 compile_pass_manager.cpp:489] [UNILOG][INFO] Total device subgraph number 3, DPU subgraph number 1\n",
      "I20250108 08:16:09.855582    99 compile_pass_manager.cpp:504] [UNILOG][INFO] Compile done.\n"
     ]
    },
    {
     "name": "stdout",
     "output_type": "stream",
     "text": [
      "[INFO] dump xmodel: /tmp/root/tensorflow_model_optimization/tmp_sub_graph_xnnc_20250108-081609-382007_KDEZfQ.xmodel\n",
      "[INFO] Namespace(batchsize=1, inputs_shape=None, layout='NHWC', model_files=['/tmp/root/tensorflow_model_optimization/tmp_sub_graph_quantized_20250108-081609-382007_KDEZfQ.h5'], model_type='tensorflow2', named_inputs_shape=None, out_filename='/tmp/root/tensorflow_model_optimization/tmp_sub_graph_xnnc_20250108-081609-382007_KDEZfQ.xmodel', proto=None)\n",
      "[INFO] tensorflow2 model: /tmp/root/tensorflow_model_optimization/tmp_sub_graph_quantized_20250108-081609-382007_KDEZfQ.h5\n",
      "[INFO] keras version: 2.12.0\n",
      "[INFO] Tensorflow Keras model type: functional\n"
     ]
    },
    {
     "name": "stderr",
     "output_type": "stream",
     "text": [
      "[INFO] parse raw model     :100%|█| 4/4 [00:00<00:00, 7925.00it/s]              \n",
      "[INFO] infer shape (NHWC)  :100%|█| 5/5 [00:00<00:00, 16244.40it/s]             \n",
      "[INFO] perform level-0 opt :100%|█| 1/1 [00:00<00:00, 4405.78it/s]              \n",
      "[INFO] perform level-1 opt :100%|█| 2/2 [00:00<00:00, 15391.94it/s]             \n",
      "[INFO] generate xmodel     :100%|█| 5/5 [00:00<00:00, 3445.30it/s]              "
     ]
    },
    {
     "name": "stdout",
     "output_type": "stream",
     "text": [
      "[INFO] dump xmodel: /tmp/root/tensorflow_model_optimization/tmp_sub_graph_xnnc_20250108-081609-382007_KDEZfQ.xmodel\n",
      "[INFO] dump xmodel: /tmp/root/tensorflow_model_optimization/tmp_sub_graph_xnnc_20250108-081609-382007_KDEZfQ.xmodel\n"
     ]
    },
    {
     "name": "stderr",
     "output_type": "stream",
     "text": [
      "\n",
      "I20250108 08:16:09.927074    99 compile_pass_manager.cpp:352] [UNILOG][INFO] Compile mode: dpu\n",
      "I20250108 08:16:09.927088    99 compile_pass_manager.cpp:353] [UNILOG][INFO] Debug mode: null\n",
      "I20250108 08:16:09.927090    99 compile_pass_manager.cpp:357] [UNILOG][INFO] Target architecture: DPUCZDX8G_ISA1_B4096\n",
      "I20250108 08:16:09.927146    99 compile_pass_manager.cpp:465] [UNILOG][INFO] Graph name: model_36, with op num: 9\n",
      "I20250108 08:16:09.927150    99 compile_pass_manager.cpp:478] [UNILOG][INFO] Begin to compile...\n",
      "I20250108 08:16:09.933426    99 compile_pass_manager.cpp:489] [UNILOG][INFO] Total device subgraph number 3, DPU subgraph number 1\n",
      "I20250108 08:16:09.933445    99 compile_pass_manager.cpp:504] [UNILOG][INFO] Compile done.\n"
     ]
    },
    {
     "name": "stdout",
     "output_type": "stream",
     "text": [
      "[INFO] Namespace(batchsize=1, inputs_shape=None, layout='NHWC', model_files=['/tmp/root/tensorflow_model_optimization/tmp_sub_graph_quantized_20250108-081609-382007_KDEZfQ.h5'], model_type='tensorflow2', named_inputs_shape=None, out_filename='/tmp/root/tensorflow_model_optimization/tmp_sub_graph_xnnc_20250108-081609-382007_KDEZfQ.xmodel', proto=None)\n",
      "[INFO] tensorflow2 model: /tmp/root/tensorflow_model_optimization/tmp_sub_graph_quantized_20250108-081609-382007_KDEZfQ.h5\n",
      "[INFO] keras version: 2.12.0\n",
      "[INFO] Tensorflow Keras model type: functional\n"
     ]
    },
    {
     "name": "stderr",
     "output_type": "stream",
     "text": [
      "[INFO] parse raw model     :100%|█| 4/4 [00:00<00:00, 9243.65it/s]              \n",
      "[INFO] infer shape (NHWC)  :100%|█| 5/5 [00:00<00:00, 19878.22it/s]             \n",
      "[INFO] perform level-0 opt :100%|█| 1/1 [00:00<00:00, 5152.71it/s]              \n",
      "[INFO] perform level-1 opt :100%|█| 2/2 [00:00<00:00, 16912.52it/s]             \n",
      "[INFO] generate xmodel     :100%|█| 5/5 [00:00<00:00, 3076.81it/s]              "
     ]
    },
    {
     "name": "stdout",
     "output_type": "stream",
     "text": [
      "[INFO] dump xmodel ...\r",
      "[INFO] dump xmodel: /tmp/root/tensorflow_model_optimization/tmp_sub_graph_xnnc_20250108-081609-382007_KDEZfQ.xmodel\n"
     ]
    },
    {
     "name": "stderr",
     "output_type": "stream",
     "text": [
      "\n",
      "I20250108 08:16:10.009354    99 compile_pass_manager.cpp:352] [UNILOG][INFO] Compile mode: dpu\n",
      "I20250108 08:16:10.009367    99 compile_pass_manager.cpp:353] [UNILOG][INFO] Debug mode: null\n",
      "I20250108 08:16:10.009371    99 compile_pass_manager.cpp:357] [UNILOG][INFO] Target architecture: DPUCZDX8G_ISA1_B4096\n",
      "I20250108 08:16:10.009426    99 compile_pass_manager.cpp:465] [UNILOG][INFO] Graph name: model_37, with op num: 9\n",
      "I20250108 08:16:10.009429    99 compile_pass_manager.cpp:478] [UNILOG][INFO] Begin to compile...\n",
      "I20250108 08:16:10.017771    99 compile_pass_manager.cpp:489] [UNILOG][INFO] Total device subgraph number 3, DPU subgraph number 1\n",
      "I20250108 08:16:10.017788    99 compile_pass_manager.cpp:504] [UNILOG][INFO] Compile done.\n"
     ]
    },
    {
     "name": "stdout",
     "output_type": "stream",
     "text": [
      "[INFO] Namespace(batchsize=1, inputs_shape=None, layout='NHWC', model_files=['/tmp/root/tensorflow_model_optimization/tmp_sub_graph_quantized_20250108-081609-382007_KDEZfQ.h5'], model_type='tensorflow2', named_inputs_shape=None, out_filename='/tmp/root/tensorflow_model_optimization/tmp_sub_graph_xnnc_20250108-081609-382007_KDEZfQ.xmodel', proto=None)\n",
      "[INFO] tensorflow2 model: /tmp/root/tensorflow_model_optimization/tmp_sub_graph_quantized_20250108-081609-382007_KDEZfQ.h5\n",
      "[INFO] keras version: 2.12.0\n",
      "[INFO] Tensorflow Keras model type: functional\n"
     ]
    },
    {
     "name": "stderr",
     "output_type": "stream",
     "text": [
      "[INFO] parse raw model     :100%|█| 4/4 [00:00<00:00, 18196.55it/s]             \n",
      "[INFO] infer shape (NHWC)  :100%|█| 5/5 [00:00<00:00, 18927.36it/s]             \n",
      "[INFO] perform level-0 opt :100%|█| 1/1 [00:00<00:00, 5108.77it/s]              \n",
      "[INFO] perform level-1 opt :100%|█| 2/2 [00:00<00:00, 16777.22it/s]             \n",
      "[INFO] generate xmodel     :100%|█| 5/5 [00:00<00:00, 1815.40it/s]              "
     ]
    },
    {
     "name": "stdout",
     "output_type": "stream",
     "text": [
      "[INFO] dump xmodel ...\r",
      "[INFO] dump xmodel: /tmp/root/tensorflow_model_optimization/tmp_sub_graph_xnnc_20250108-081609-382007_KDEZfQ.xmodel\n"
     ]
    },
    {
     "name": "stderr",
     "output_type": "stream",
     "text": [
      "\n",
      "I20250108 08:16:10.091892    99 compile_pass_manager.cpp:352] [UNILOG][INFO] Compile mode: dpu\n",
      "I20250108 08:16:10.091908    99 compile_pass_manager.cpp:353] [UNILOG][INFO] Debug mode: null\n",
      "I20250108 08:16:10.091912    99 compile_pass_manager.cpp:357] [UNILOG][INFO] Target architecture: DPUCZDX8G_ISA1_B4096\n",
      "I20250108 08:16:10.091972    99 compile_pass_manager.cpp:465] [UNILOG][INFO] Graph name: model_38, with op num: 9\n",
      "I20250108 08:16:10.091975    99 compile_pass_manager.cpp:478] [UNILOG][INFO] Begin to compile...\n",
      "I20250108 08:16:10.107904    99 compile_pass_manager.cpp:489] [UNILOG][INFO] Total device subgraph number 3, DPU subgraph number 1\n",
      "I20250108 08:16:10.107923    99 compile_pass_manager.cpp:504] [UNILOG][INFO] Compile done.\n"
     ]
    },
    {
     "name": "stdout",
     "output_type": "stream",
     "text": [
      "[INFO] Namespace(batchsize=1, inputs_shape=None, layout='NHWC', model_files=['/tmp/root/tensorflow_model_optimization/tmp_sub_graph_quantized_20250108-081609-382007_KDEZfQ.h5'], model_type='tensorflow2', named_inputs_shape=None, out_filename='/tmp/root/tensorflow_model_optimization/tmp_sub_graph_xnnc_20250108-081609-382007_KDEZfQ.xmodel', proto=None)\n",
      "[INFO] tensorflow2 model: /tmp/root/tensorflow_model_optimization/tmp_sub_graph_quantized_20250108-081609-382007_KDEZfQ.h5\n",
      "[INFO] keras version: 2.12.0\n",
      "[INFO] Tensorflow Keras model type: functional\n"
     ]
    },
    {
     "name": "stderr",
     "output_type": "stream",
     "text": [
      "[INFO] parse raw model     :100%|█| 4/4 [00:00<00:00, 21704.03it/s]             \n",
      "[INFO] infer shape (NHWC)  :100%|█| 5/5 [00:00<00:00, 21140.65it/s]             \n",
      "[INFO] perform level-0 opt :100%|█| 1/1 [00:00<00:00, 5077.85it/s]              \n",
      "[INFO] perform level-1 opt :100%|█| 2/2 [00:00<00:00, 7078.99it/s]              \n",
      "[INFO] generate xmodel     :100%|█| 5/5 [00:00<00:00, 736.39it/s]               "
     ]
    },
    {
     "name": "stdout",
     "output_type": "stream",
     "text": [
      "[INFO] dump xmodel ...\r",
      "[INFO] dump xmodel: /tmp/root/tensorflow_model_optimization/tmp_sub_graph_xnnc_20250108-081609-382007_KDEZfQ.xmodel\n"
     ]
    },
    {
     "name": "stderr",
     "output_type": "stream",
     "text": [
      "\n",
      "I20250108 08:16:10.198623    99 compile_pass_manager.cpp:352] [UNILOG][INFO] Compile mode: dpu\n",
      "I20250108 08:16:10.198637    99 compile_pass_manager.cpp:353] [UNILOG][INFO] Debug mode: null\n",
      "I20250108 08:16:10.198642    99 compile_pass_manager.cpp:357] [UNILOG][INFO] Target architecture: DPUCZDX8G_ISA1_B4096\n",
      "I20250108 08:16:10.198694    99 compile_pass_manager.cpp:465] [UNILOG][INFO] Graph name: model_39, with op num: 9\n",
      "I20250108 08:16:10.198697    99 compile_pass_manager.cpp:478] [UNILOG][INFO] Begin to compile...\n",
      "I20250108 08:16:10.225557    99 compile_pass_manager.cpp:489] [UNILOG][INFO] Total device subgraph number 3, DPU subgraph number 1\n",
      "I20250108 08:16:10.225610    99 compile_pass_manager.cpp:504] [UNILOG][INFO] Compile done.\n"
     ]
    },
    {
     "name": "stdout",
     "output_type": "stream",
     "text": [
      "[INFO] Namespace(batchsize=1, inputs_shape=None, layout='NHWC', model_files=['/tmp/root/tensorflow_model_optimization/tmp_sub_graph_quantized_20250108-081609-382007_KDEZfQ.h5'], model_type='tensorflow2', named_inputs_shape=None, out_filename='/tmp/root/tensorflow_model_optimization/tmp_sub_graph_xnnc_20250108-081609-382007_KDEZfQ.xmodel', proto=None)\n",
      "[INFO] tensorflow2 model: /tmp/root/tensorflow_model_optimization/tmp_sub_graph_quantized_20250108-081609-382007_KDEZfQ.h5\n",
      "[INFO] keras version: 2.12.0\n",
      "[INFO] Tensorflow Keras model type: functional\n"
     ]
    },
    {
     "name": "stderr",
     "output_type": "stream",
     "text": [
      "[INFO] parse raw model     :100%|█| 4/4 [00:00<00:00, 5389.40it/s]              \n",
      "[INFO] infer shape (NHWC)  :100%|█| 5/5 [00:00<00:00, 16817.58it/s]             \n",
      "[INFO] perform level-0 opt :100%|█| 1/1 [00:00<00:00, 4002.20it/s]              \n",
      "[INFO] perform level-1 opt :100%|█| 2/2 [00:00<00:00, 9137.92it/s]              \n",
      "[INFO] generate xmodel     :100%|█| 5/5 [00:00<00:00, 272.58it/s]               "
     ]
    },
    {
     "name": "stdout",
     "output_type": "stream",
     "text": [
      "[INFO] dump xmodel ...\r",
      "[INFO] dump xmodel: /tmp/root/tensorflow_model_optimization/tmp_sub_graph_xnnc_20250108-081609-382007_KDEZfQ.xmodel\n"
     ]
    },
    {
     "name": "stderr",
     "output_type": "stream",
     "text": [
      "\n",
      "I20250108 08:16:10.343245    99 compile_pass_manager.cpp:352] [UNILOG][INFO] Compile mode: dpu\n",
      "I20250108 08:16:10.343263    99 compile_pass_manager.cpp:353] [UNILOG][INFO] Debug mode: null\n",
      "I20250108 08:16:10.343267    99 compile_pass_manager.cpp:357] [UNILOG][INFO] Target architecture: DPUCZDX8G_ISA1_B4096\n",
      "I20250108 08:16:10.343320    99 compile_pass_manager.cpp:465] [UNILOG][INFO] Graph name: model_40, with op num: 9\n",
      "I20250108 08:16:10.343323    99 compile_pass_manager.cpp:478] [UNILOG][INFO] Begin to compile...\n",
      "I20250108 08:16:10.394775    99 compile_pass_manager.cpp:489] [UNILOG][INFO] Total device subgraph number 3, DPU subgraph number 1\n",
      "I20250108 08:16:10.394801    99 compile_pass_manager.cpp:504] [UNILOG][INFO] Compile done.\n"
     ]
    },
    {
     "name": "stdout",
     "output_type": "stream",
     "text": [
      "[INFO] Namespace(batchsize=1, inputs_shape=None, layout='NHWC', model_files=['/tmp/root/tensorflow_model_optimization/tmp_sub_graph_quantized_20250108-081609-382081_ONmyXE.h5'], model_type='tensorflow2', named_inputs_shape=None, out_filename='/tmp/root/tensorflow_model_optimization/tmp_sub_graph_xnnc_20250108-081609-382081_ONmyXE.xmodel', proto=None)\n",
      "[INFO] tensorflow2 model: /tmp/root/tensorflow_model_optimization/tmp_sub_graph_quantized_20250108-081609-382081_ONmyXE.h5\n",
      "[INFO] keras version: 2.12.0\n",
      "[INFO] Tensorflow Keras model type: functional\n"
     ]
    },
    {
     "name": "stderr",
     "output_type": "stream",
     "text": [
      "[INFO] parse raw model     :100%|█| 3/3 [00:00<00:00, 7830.06it/s]              \n",
      "[INFO] infer shape (NHWC)  :100%|█| 4/4 [00:00<00:00, 14134.13it/s]             \n",
      "[INFO] perform level-0 opt :100%|█| 1/1 [00:00<00:00, 6159.04it/s]              \n",
      "[INFO] perform level-1 opt :100%|█| 2/2 [00:00<00:00, 19784.45it/s]             \n",
      "[INFO] generate xmodel     :100%|█| 4/4 [00:00<00:00, 4760.84it/s]              "
     ]
    },
    {
     "name": "stdout",
     "output_type": "stream",
     "text": [
      "[INFO] dump xmodel ...\r",
      "[INFO] dump xmodel: /tmp/root/tensorflow_model_optimization/tmp_sub_graph_xnnc_20250108-081609-382081_ONmyXE.xmodel\n"
     ]
    },
    {
     "name": "stderr",
     "output_type": "stream",
     "text": [
      "\n",
      "I20250108 08:16:10.460640    99 compile_pass_manager.cpp:352] [UNILOG][INFO] Compile mode: dpu\n",
      "I20250108 08:16:10.460654    99 compile_pass_manager.cpp:353] [UNILOG][INFO] Debug mode: null\n",
      "I20250108 08:16:10.460656    99 compile_pass_manager.cpp:357] [UNILOG][INFO] Target architecture: DPUCZDX8G_ISA1_B4096\n",
      "I20250108 08:16:10.460711    99 compile_pass_manager.cpp:465] [UNILOG][INFO] Graph name: model_41, with op num: 8\n",
      "I20250108 08:16:10.460714    99 compile_pass_manager.cpp:478] [UNILOG][INFO] Begin to compile...\n",
      "I20250108 08:16:10.463620    99 compile_pass_manager.cpp:489] [UNILOG][INFO] Total device subgraph number 3, DPU subgraph number 1\n",
      "I20250108 08:16:10.463636    99 compile_pass_manager.cpp:504] [UNILOG][INFO] Compile done.\n"
     ]
    },
    {
     "name": "stdout",
     "output_type": "stream",
     "text": [
      "[INFO] Namespace(batchsize=1, inputs_shape=None, layout='NHWC', model_files=['/tmp/root/tensorflow_model_optimization/tmp_sub_graph_quantized_20250108-081609-382081_ONmyXE.h5'], model_type='tensorflow2', named_inputs_shape=None, out_filename='/tmp/root/tensorflow_model_optimization/tmp_sub_graph_xnnc_20250108-081609-382081_ONmyXE.xmodel', proto=None)\n",
      "[INFO] tensorflow2 model: /tmp/root/tensorflow_model_optimization/tmp_sub_graph_quantized_20250108-081609-382081_ONmyXE.h5\n",
      "[INFO] keras version: 2.12.0\n",
      "[INFO] Tensorflow Keras model type: functional\n"
     ]
    },
    {
     "name": "stderr",
     "output_type": "stream",
     "text": [
      "[INFO] parse raw model     :100%|█| 3/3 [00:00<00:00, 4011.13it/s]              \n",
      "[INFO] infer shape (NHWC)  :100%|█| 4/4 [00:00<00:00, 11162.49it/s]             \n",
      "[INFO] perform level-0 opt :100%|█| 1/1 [00:00<00:00, 6345.39it/s]              \n",
      "[INFO] perform level-1 opt :100%|█| 2/2 [00:00<00:00, 20460.02it/s]             \n",
      "[INFO] generate xmodel     :100%|█| 4/4 [00:00<00:00, 4760.84it/s]              "
     ]
    },
    {
     "name": "stdout",
     "output_type": "stream",
     "text": [
      "[INFO] dump xmodel ...\r",
      "[INFO] dump xmodel: /tmp/root/tensorflow_model_optimization/tmp_sub_graph_xnnc_20250108-081609-382081_ONmyXE.xmodel\n"
     ]
    },
    {
     "name": "stderr",
     "output_type": "stream",
     "text": [
      "\n",
      "I20250108 08:16:10.523620    99 compile_pass_manager.cpp:352] [UNILOG][INFO] Compile mode: dpu\n",
      "I20250108 08:16:10.523634    99 compile_pass_manager.cpp:353] [UNILOG][INFO] Debug mode: null\n",
      "I20250108 08:16:10.523638    99 compile_pass_manager.cpp:357] [UNILOG][INFO] Target architecture: DPUCZDX8G_ISA1_B4096\n",
      "I20250108 08:16:10.523734    99 compile_pass_manager.cpp:465] [UNILOG][INFO] Graph name: model_42, with op num: 8\n",
      "I20250108 08:16:10.523738    99 compile_pass_manager.cpp:478] [UNILOG][INFO] Begin to compile...\n",
      "I20250108 08:16:10.526741    99 compile_pass_manager.cpp:489] [UNILOG][INFO] Total device subgraph number 3, DPU subgraph number 1\n",
      "I20250108 08:16:10.526765    99 compile_pass_manager.cpp:504] [UNILOG][INFO] Compile done.\n"
     ]
    },
    {
     "name": "stdout",
     "output_type": "stream",
     "text": [
      "[INFO] Namespace(batchsize=1, inputs_shape=None, layout='NHWC', model_files=['/tmp/root/tensorflow_model_optimization/tmp_sub_graph_quantized_20250108-081609-382081_ONmyXE.h5'], model_type='tensorflow2', named_inputs_shape=None, out_filename='/tmp/root/tensorflow_model_optimization/tmp_sub_graph_xnnc_20250108-081609-382081_ONmyXE.xmodel', proto=None)\n",
      "[INFO] tensorflow2 model: /tmp/root/tensorflow_model_optimization/tmp_sub_graph_quantized_20250108-081609-382081_ONmyXE.h5\n",
      "[INFO] keras version: 2.12.0\n",
      "[INFO] Tensorflow Keras model type: functional\n"
     ]
    },
    {
     "name": "stderr",
     "output_type": "stream",
     "text": [
      "[INFO] parse raw model     :100%|█| 3/3 [00:00<00:00, 8659.95it/s]              \n",
      "[INFO] infer shape (NHWC)  :100%|█| 4/4 [00:00<00:00, 19043.38it/s]             \n",
      "[INFO] perform level-0 opt :100%|█| 1/1 [00:00<00:00, 5769.33it/s]              \n",
      "[INFO] perform level-1 opt :100%|█| 2/2 [00:00<00:00, 20116.57it/s]             \n",
      "[INFO] generate xmodel     :100%|█| 4/4 [00:00<00:00, 3636.15it/s]              \n",
      "I20250108 08:16:10.588081    99 compile_pass_manager.cpp:352] [UNILOG][INFO] Compile mode: dpu\n",
      "I20250108 08:16:10.588094    99 compile_pass_manager.cpp:353] [UNILOG][INFO] Debug mode: null\n",
      "I20250108 08:16:10.588097    99 compile_pass_manager.cpp:357] [UNILOG][INFO] Target architecture: DPUCZDX8G_ISA1_B4096\n",
      "I20250108 08:16:10.588150    99 compile_pass_manager.cpp:465] [UNILOG][INFO] Graph name: model_43, with op num: 8\n",
      "I20250108 08:16:10.588153    99 compile_pass_manager.cpp:478] [UNILOG][INFO] Begin to compile...\n",
      "I20250108 08:16:10.593894    99 compile_pass_manager.cpp:489] [UNILOG][INFO] Total device subgraph number 3, DPU subgraph number 1\n",
      "I20250108 08:16:10.593910    99 compile_pass_manager.cpp:504] [UNILOG][INFO] Compile done.\n"
     ]
    },
    {
     "name": "stdout",
     "output_type": "stream",
     "text": [
      "[INFO] dump xmodel ...\r",
      "[INFO] dump xmodel: /tmp/root/tensorflow_model_optimization/tmp_sub_graph_xnnc_20250108-081609-382081_ONmyXE.xmodel\n",
      "[INFO] Namespace(batchsize=1, inputs_shape=None, layout='NHWC', model_files=['/tmp/root/tensorflow_model_optimization/tmp_sub_graph_quantized_20250108-081609-382081_ONmyXE.h5'], model_type='tensorflow2', named_inputs_shape=None, out_filename='/tmp/root/tensorflow_model_optimization/tmp_sub_graph_xnnc_20250108-081609-382081_ONmyXE.xmodel', proto=None)\n",
      "[INFO] tensorflow2 model: /tmp/root/tensorflow_model_optimization/tmp_sub_graph_quantized_20250108-081609-382081_ONmyXE.h5\n",
      "[INFO] keras version: 2.12.0\n",
      "[INFO] Tensorflow Keras model type: functional\n"
     ]
    },
    {
     "name": "stderr",
     "output_type": "stream",
     "text": [
      "[INFO] parse raw model     :100%|█| 3/3 [00:00<00:00, 8642.11it/s]              \n",
      "[INFO] infer shape (NHWC)  :100%|█| 4/4 [00:00<00:00, 15155.57it/s]             \n",
      "[INFO] perform level-0 opt :100%|█| 1/1 [00:00<00:00, 6326.25it/s]              \n",
      "[INFO] perform level-1 opt :100%|█| 2/2 [00:00<00:00, 19108.45it/s]             \n",
      "[INFO] generate xmodel     :100%|█| 4/4 [00:00<00:00, 5448.92it/s]              \n",
      "I20250108 08:16:10.652009    99 compile_pass_manager.cpp:352] [UNILOG][INFO] Compile mode: dpu\n",
      "I20250108 08:16:10.652021    99 compile_pass_manager.cpp:353] [UNILOG][INFO] Debug mode: null\n",
      "I20250108 08:16:10.652024    99 compile_pass_manager.cpp:357] [UNILOG][INFO] Target architecture: DPUCZDX8G_ISA1_B4096\n",
      "I20250108 08:16:10.652086    99 compile_pass_manager.cpp:465] [UNILOG][INFO] Graph name: model_44, with op num: 8\n",
      "I20250108 08:16:10.652087    99 compile_pass_manager.cpp:478] [UNILOG][INFO] Begin to compile...\n",
      "I20250108 08:16:10.654547    99 compile_pass_manager.cpp:489] [UNILOG][INFO] Total device subgraph number 3, DPU subgraph number 1\n",
      "I20250108 08:16:10.654564    99 compile_pass_manager.cpp:504] [UNILOG][INFO] Compile done.\n"
     ]
    },
    {
     "name": "stdout",
     "output_type": "stream",
     "text": [
      "[INFO] dump xmodel: /tmp/root/tensorflow_model_optimization/tmp_sub_graph_xnnc_20250108-081609-382081_ONmyXE.xmodel\n",
      "[INFO] Namespace(batchsize=1, inputs_shape=None, layout='NHWC', model_files=['/tmp/root/tensorflow_model_optimization/tmp_sub_graph_quantized_20250108-081609-382081_ONmyXE.h5'], model_type='tensorflow2', named_inputs_shape=None, out_filename='/tmp/root/tensorflow_model_optimization/tmp_sub_graph_xnnc_20250108-081609-382081_ONmyXE.xmodel', proto=None)\n",
      "[INFO] tensorflow2 model: /tmp/root/tensorflow_model_optimization/tmp_sub_graph_quantized_20250108-081609-382081_ONmyXE.h5\n",
      "[INFO] keras version: 2.12.0\n",
      "[INFO] Tensorflow Keras model type: functional\n"
     ]
    },
    {
     "name": "stderr",
     "output_type": "stream",
     "text": [
      "[INFO] parse raw model     :100%|█| 3/3 [00:00<00:00, 13781.94it/s]             \n",
      "[INFO] infer shape (NHWC)  :100%|█| 4/4 [00:00<00:00, 9054.08it/s]              \n",
      "[INFO] perform level-0 opt :100%|█| 1/1 [00:00<00:00, 6132.02it/s]              \n",
      "[INFO] perform level-1 opt :100%|█| 2/2 [00:00<00:00, 18766.46it/s]             \n",
      "[INFO] generate xmodel     :100%|█| 4/4 [00:00<00:00, 3301.95it/s]              \n",
      "I20250108 08:16:10.714820    99 compile_pass_manager.cpp:352] [UNILOG][INFO] Compile mode: dpu\n",
      "I20250108 08:16:10.714833    99 compile_pass_manager.cpp:353] [UNILOG][INFO] Debug mode: null\n",
      "I20250108 08:16:10.714836    99 compile_pass_manager.cpp:357] [UNILOG][INFO] Target architecture: DPUCZDX8G_ISA1_B4096\n"
     ]
    },
    {
     "name": "stdout",
     "output_type": "stream",
     "text": [
      "[INFO] dump xmodel ...\r",
      "[INFO] dump xmodel: /tmp/root/tensorflow_model_optimization/tmp_sub_graph_xnnc_20250108-081609-382081_ONmyXE.xmodel\n"
     ]
    },
    {
     "name": "stderr",
     "output_type": "stream",
     "text": [
      "I20250108 08:16:10.714890    99 compile_pass_manager.cpp:465] [UNILOG][INFO] Graph name: model_45, with op num: 8\n",
      "I20250108 08:16:10.714893    99 compile_pass_manager.cpp:478] [UNILOG][INFO] Begin to compile...\n",
      "I20250108 08:16:10.720134    99 compile_pass_manager.cpp:489] [UNILOG][INFO] Total device subgraph number 3, DPU subgraph number 1\n",
      "I20250108 08:16:10.720151    99 compile_pass_manager.cpp:504] [UNILOG][INFO] Compile done.\n"
     ]
    },
    {
     "name": "stdout",
     "output_type": "stream",
     "text": [
      "[INFO] Namespace(batchsize=1, inputs_shape=None, layout='NHWC', model_files=['/tmp/root/tensorflow_model_optimization/tmp_sub_graph_quantized_20250108-081609-382081_ONmyXE.h5'], model_type='tensorflow2', named_inputs_shape=None, out_filename='/tmp/root/tensorflow_model_optimization/tmp_sub_graph_xnnc_20250108-081609-382081_ONmyXE.xmodel', proto=None)\n",
      "[INFO] tensorflow2 model: /tmp/root/tensorflow_model_optimization/tmp_sub_graph_quantized_20250108-081609-382081_ONmyXE.h5\n",
      "[INFO] keras version: 2.12.0\n",
      "[INFO] Tensorflow Keras model type: functional\n"
     ]
    },
    {
     "name": "stderr",
     "output_type": "stream",
     "text": [
      "[INFO] parse raw model     :100%|█| 3/3 [00:00<00:00, 15123.69it/s]             \n",
      "[INFO] infer shape (NHWC)  :100%|█| 4/4 [00:00<00:00, 13551.87it/s]             \n",
      "[INFO] perform level-0 opt :100%|█| 1/1 [00:00<00:00, 6009.03it/s]              \n",
      "[INFO] perform level-1 opt :100%|█| 2/2 [00:00<00:00, 19784.45it/s]             \n",
      "[INFO] generate xmodel     :100%|█| 4/4 [00:00<00:00, 1506.30it/s]              \n",
      "I20250108 08:16:10.789424    99 compile_pass_manager.cpp:352] [UNILOG][INFO] Compile mode: dpu\n",
      "I20250108 08:16:10.789440    99 compile_pass_manager.cpp:353] [UNILOG][INFO] Debug mode: null\n",
      "I20250108 08:16:10.789443    99 compile_pass_manager.cpp:357] [UNILOG][INFO] Target architecture: DPUCZDX8G_ISA1_B4096\n"
     ]
    },
    {
     "name": "stdout",
     "output_type": "stream",
     "text": [
      "[INFO] dump xmodel ...\r",
      "[INFO] dump xmodel: /tmp/root/tensorflow_model_optimization/tmp_sub_graph_xnnc_20250108-081609-382081_ONmyXE.xmodel\n"
     ]
    },
    {
     "name": "stderr",
     "output_type": "stream",
     "text": [
      "I20250108 08:16:10.789500    99 compile_pass_manager.cpp:465] [UNILOG][INFO] Graph name: model_46, with op num: 8\n",
      "I20250108 08:16:10.789503    99 compile_pass_manager.cpp:478] [UNILOG][INFO] Begin to compile...\n",
      "I20250108 08:16:10.804175    99 compile_pass_manager.cpp:489] [UNILOG][INFO] Total device subgraph number 3, DPU subgraph number 1\n",
      "I20250108 08:16:10.804193    99 compile_pass_manager.cpp:504] [UNILOG][INFO] Compile done.\n"
     ]
    },
    {
     "name": "stdout",
     "output_type": "stream",
     "text": [
      "[INFO] Namespace(batchsize=1, inputs_shape=None, layout='NHWC', model_files=['/tmp/root/tensorflow_model_optimization/tmp_sub_graph_quantized_20250108-081609-382081_ONmyXE.h5'], model_type='tensorflow2', named_inputs_shape=None, out_filename='/tmp/root/tensorflow_model_optimization/tmp_sub_graph_xnnc_20250108-081609-382081_ONmyXE.xmodel', proto=None)\n",
      "[INFO] tensorflow2 model: /tmp/root/tensorflow_model_optimization/tmp_sub_graph_quantized_20250108-081609-382081_ONmyXE.h5\n",
      "[INFO] keras version: 2.12.0\n",
      "[INFO] Tensorflow Keras model type: functional\n"
     ]
    },
    {
     "name": "stderr",
     "output_type": "stream",
     "text": [
      "[INFO] parse raw model     :100%|█| 3/3 [00:00<00:00, 17822.82it/s]             \n",
      "[INFO] infer shape (NHWC)  :100%|█| 4/4 [00:00<00:00, 30012.91it/s]             \n",
      "[INFO] perform level-0 opt :100%|█| 1/1 [00:00<00:00, 6000.43it/s]              \n",
      "[INFO] perform level-1 opt :100%|█| 2/2 [00:00<00:00, 18436.50it/s]             \n",
      "[INFO] generate xmodel     :100%|█| 4/4 [00:00<00:00, 4940.29it/s]              "
     ]
    },
    {
     "name": "stdout",
     "output_type": "stream",
     "text": [
      "[INFO] dump xmodel ...\r",
      "[INFO] dump xmodel: /tmp/root/tensorflow_model_optimization/tmp_sub_graph_xnnc_20250108-081609-382081_ONmyXE.xmodel\n"
     ]
    },
    {
     "name": "stderr",
     "output_type": "stream",
     "text": [
      "\n",
      "I20250108 08:16:10.862368    99 compile_pass_manager.cpp:352] [UNILOG][INFO] Compile mode: dpu\n",
      "I20250108 08:16:10.862382    99 compile_pass_manager.cpp:353] [UNILOG][INFO] Debug mode: null\n",
      "I20250108 08:16:10.862385    99 compile_pass_manager.cpp:357] [UNILOG][INFO] Target architecture: DPUCZDX8G_ISA1_B4096\n",
      "I20250108 08:16:10.862440    99 compile_pass_manager.cpp:465] [UNILOG][INFO] Graph name: model_47, with op num: 8\n",
      "I20250108 08:16:10.862443    99 compile_pass_manager.cpp:478] [UNILOG][INFO] Begin to compile...\n",
      "I20250108 08:16:10.865398    99 compile_pass_manager.cpp:489] [UNILOG][INFO] Total device subgraph number 3, DPU subgraph number 1\n",
      "I20250108 08:16:10.865415    99 compile_pass_manager.cpp:504] [UNILOG][INFO] Compile done.\n"
     ]
    },
    {
     "name": "stdout",
     "output_type": "stream",
     "text": [
      "[INFO] Namespace(batchsize=1, inputs_shape=None, layout='NHWC', model_files=['/tmp/root/tensorflow_model_optimization/tmp_sub_graph_quantized_20250108-081609-382081_ONmyXE.h5'], model_type='tensorflow2', named_inputs_shape=None, out_filename='/tmp/root/tensorflow_model_optimization/tmp_sub_graph_xnnc_20250108-081609-382081_ONmyXE.xmodel', proto=None)\n",
      "[INFO] tensorflow2 model: /tmp/root/tensorflow_model_optimization/tmp_sub_graph_quantized_20250108-081609-382081_ONmyXE.h5\n",
      "[INFO] keras version: 2.12.0\n",
      "[INFO] Tensorflow Keras model type: functional\n"
     ]
    },
    {
     "name": "stderr",
     "output_type": "stream",
     "text": [
      "[INFO] parse raw model     :100%|█| 3/3 [00:00<00:00, 15105.54it/s]             \n",
      "[INFO] infer shape (NHWC)  :100%|█| 4/4 [00:00<00:00, 14614.30it/s]             \n",
      "[INFO] perform level-0 opt :100%|█| 1/1 [00:00<00:00, 5729.92it/s]              \n",
      "[INFO] perform level-1 opt :100%|█| 2/2 [00:00<00:00, 16100.98it/s]             \n",
      "[INFO] generate xmodel     :100%|█| 4/4 [00:00<00:00, 1451.94it/s]              "
     ]
    },
    {
     "name": "stdout",
     "output_type": "stream",
     "text": [
      "[INFO] dump xmodel ...\r",
      "[INFO] dump xmodel: /tmp/root/tensorflow_model_optimization/tmp_sub_graph_xnnc_20250108-081609-382081_ONmyXE.xmodel\n"
     ]
    },
    {
     "name": "stderr",
     "output_type": "stream",
     "text": [
      "\n",
      "I20250108 08:16:10.935338    99 compile_pass_manager.cpp:352] [UNILOG][INFO] Compile mode: dpu\n",
      "I20250108 08:16:10.935353    99 compile_pass_manager.cpp:353] [UNILOG][INFO] Debug mode: null\n",
      "I20250108 08:16:10.935356    99 compile_pass_manager.cpp:357] [UNILOG][INFO] Target architecture: DPUCZDX8G_ISA1_B4096\n",
      "I20250108 08:16:10.935410    99 compile_pass_manager.cpp:465] [UNILOG][INFO] Graph name: model_48, with op num: 8\n",
      "I20250108 08:16:10.935413    99 compile_pass_manager.cpp:478] [UNILOG][INFO] Begin to compile...\n",
      "I20250108 08:16:10.949936    99 compile_pass_manager.cpp:489] [UNILOG][INFO] Total device subgraph number 3, DPU subgraph number 1\n",
      "I20250108 08:16:10.949954    99 compile_pass_manager.cpp:504] [UNILOG][INFO] Compile done.\n"
     ]
    },
    {
     "name": "stdout",
     "output_type": "stream",
     "text": [
      "[INFO] Namespace(batchsize=1, inputs_shape=None, layout='NHWC', model_files=['/tmp/root/tensorflow_model_optimization/tmp_sub_graph_quantized_20250108-081609-382081_ONmyXE.h5'], model_type='tensorflow2', named_inputs_shape=None, out_filename='/tmp/root/tensorflow_model_optimization/tmp_sub_graph_xnnc_20250108-081609-382081_ONmyXE.xmodel', proto=None)\n",
      "[INFO] tensorflow2 model: /tmp/root/tensorflow_model_optimization/tmp_sub_graph_quantized_20250108-081609-382081_ONmyXE.h5\n",
      "[INFO] keras version: 2.12.0\n",
      "[INFO] Tensorflow Keras model type: functional\n"
     ]
    },
    {
     "name": "stderr",
     "output_type": "stream",
     "text": [
      "[INFO] parse raw model     :100%|█| 3/3 [00:00<00:00, 14396.92it/s]             \n",
      "[INFO] infer shape (NHWC)  :100%|█| 4/4 [00:00<00:00, 17531.05it/s]             \n",
      "[INFO] perform level-0 opt :100%|█| 1/1 [00:00<00:00, 5691.05it/s]              \n",
      "[INFO] perform level-1 opt :100%|█| 2/2 [00:00<00:00, 16743.73it/s]             \n",
      "[INFO] generate xmodel     :100%|█| 4/4 [00:00<00:00, 246.75it/s]               \n"
     ]
    },
    {
     "name": "stdout",
     "output_type": "stream",
     "text": [
      "[INFO] dump xmodel: /tmp/root/tensorflow_model_optimization/tmp_sub_graph_xnnc_20250108-081609-382081_ONmyXE.xmodel\n"
     ]
    },
    {
     "name": "stderr",
     "output_type": "stream",
     "text": [
      "I20250108 08:16:11.073678    99 compile_pass_manager.cpp:352] [UNILOG][INFO] Compile mode: dpu\n",
      "I20250108 08:16:11.073695    99 compile_pass_manager.cpp:353] [UNILOG][INFO] Debug mode: null\n",
      "I20250108 08:16:11.073700    99 compile_pass_manager.cpp:357] [UNILOG][INFO] Target architecture: DPUCZDX8G_ISA1_B4096\n",
      "I20250108 08:16:11.073773    99 compile_pass_manager.cpp:465] [UNILOG][INFO] Graph name: model_49, with op num: 8\n",
      "I20250108 08:16:11.073777    99 compile_pass_manager.cpp:478] [UNILOG][INFO] Begin to compile...\n",
      "I20250108 08:16:11.131404    99 compile_pass_manager.cpp:489] [UNILOG][INFO] Total device subgraph number 3, DPU subgraph number 1\n",
      "I20250108 08:16:11.131428    99 compile_pass_manager.cpp:504] [UNILOG][INFO] Compile done.\n"
     ]
    },
    {
     "name": "stdout",
     "output_type": "stream",
     "text": [
      "[INFO] Namespace(batchsize=1, inputs_shape=None, layout='NHWC', model_files=['/tmp/root/tensorflow_model_optimization/tmp_sub_graph_quantized_20250108-081609-382081_ONmyXE.h5'], model_type='tensorflow2', named_inputs_shape=None, out_filename='/tmp/root/tensorflow_model_optimization/tmp_sub_graph_xnnc_20250108-081609-382081_ONmyXE.xmodel', proto=None)\n",
      "[INFO] tensorflow2 model: /tmp/root/tensorflow_model_optimization/tmp_sub_graph_quantized_20250108-081609-382081_ONmyXE.h5\n",
      "[INFO] keras version: 2.12.0\n",
      "[INFO] Tensorflow Keras model type: functional\n"
     ]
    },
    {
     "name": "stderr",
     "output_type": "stream",
     "text": [
      "[INFO] parse raw model     :100%|█| 3/3 [00:00<00:00, 10098.65it/s]             \n",
      "[INFO] infer shape (NHWC)  :100%|█| 4/4 [00:00<00:00, 11420.84it/s]             \n",
      "[INFO] perform level-0 opt :100%|█| 1/1 [00:00<00:00, 3404.47it/s]              \n",
      "[INFO] perform level-1 opt :100%|█| 2/2 [00:00<00:00, 10922.67it/s]             \n",
      "[INFO] generate xmodel     :100%|█| 4/4 [00:00<00:00, 1975.42it/s]              "
     ]
    },
    {
     "name": "stdout",
     "output_type": "stream",
     "text": [
      "[INFO] dump xmodel ...\r",
      "[INFO] dump xmodel: /tmp/root/tensorflow_model_optimization/tmp_sub_graph_xnnc_20250108-081609-382081_ONmyXE.xmodel\n"
     ]
    },
    {
     "name": "stderr",
     "output_type": "stream",
     "text": [
      "\n",
      "I20250108 08:16:11.206876    99 compile_pass_manager.cpp:352] [UNILOG][INFO] Compile mode: dpu\n",
      "I20250108 08:16:11.206895    99 compile_pass_manager.cpp:353] [UNILOG][INFO] Debug mode: null\n",
      "I20250108 08:16:11.206899    99 compile_pass_manager.cpp:357] [UNILOG][INFO] Target architecture: DPUCZDX8G_ISA1_B4096\n",
      "I20250108 08:16:11.206961    99 compile_pass_manager.cpp:465] [UNILOG][INFO] Graph name: model_50, with op num: 8\n",
      "I20250108 08:16:11.206965    99 compile_pass_manager.cpp:478] [UNILOG][INFO] Begin to compile...\n",
      "I20250108 08:16:11.212824    99 compile_pass_manager.cpp:489] [UNILOG][INFO] Total device subgraph number 3, DPU subgraph number 1\n",
      "I20250108 08:16:11.212847    99 compile_pass_manager.cpp:504] [UNILOG][INFO] Compile done.\n"
     ]
    },
    {
     "name": "stdout",
     "output_type": "stream",
     "text": [
      "[INFO] Namespace(batchsize=1, inputs_shape=None, layout='NHWC', model_files=['/tmp/root/tensorflow_model_optimization/tmp_sub_graph_quantized_20250108-081609-382081_ONmyXE.h5'], model_type='tensorflow2', named_inputs_shape=None, out_filename='/tmp/root/tensorflow_model_optimization/tmp_sub_graph_xnnc_20250108-081609-382081_ONmyXE.xmodel', proto=None)\n",
      "[INFO] tensorflow2 model: /tmp/root/tensorflow_model_optimization/tmp_sub_graph_quantized_20250108-081609-382081_ONmyXE.h5\n",
      "[INFO] keras version: 2.12.0\n",
      "[INFO] Tensorflow Keras model type: functional\n"
     ]
    },
    {
     "name": "stderr",
     "output_type": "stream",
     "text": [
      "[INFO] parse raw model     :100%|█| 3/3 [00:00<00:00, 9072.03it/s]              \n",
      "[INFO] infer shape (NHWC)  :100%|█| 4/4 [00:00<00:00, 28630.06it/s]             \n",
      "[INFO] perform level-0 opt :100%|█| 1/1 [00:00<00:00, 5722.11it/s]              \n",
      "[INFO] perform level-1 opt :100%|█| 2/2 [00:00<00:00, 16008.79it/s]             \n",
      "[INFO] generate xmodel     :100%|█| 4/4 [00:00<00:00, 296.77it/s]               "
     ]
    },
    {
     "name": "stdout",
     "output_type": "stream",
     "text": [
      "[INFO] dump xmodel ...\r"
     ]
    },
    {
     "name": "stderr",
     "output_type": "stream",
     "text": [
      "\n"
     ]
    },
    {
     "name": "stdout",
     "output_type": "stream",
     "text": [
      "[INFO] dump xmodel: /tmp/root/tensorflow_model_optimization/tmp_sub_graph_xnnc_20250108-081609-382081_ONmyXE.xmodel\n"
     ]
    },
    {
     "name": "stderr",
     "output_type": "stream",
     "text": [
      "I20250108 08:16:11.337437    99 compile_pass_manager.cpp:352] [UNILOG][INFO] Compile mode: dpu\n",
      "I20250108 08:16:11.337455    99 compile_pass_manager.cpp:353] [UNILOG][INFO] Debug mode: null\n",
      "I20250108 08:16:11.337457    99 compile_pass_manager.cpp:357] [UNILOG][INFO] Target architecture: DPUCZDX8G_ISA1_B4096\n",
      "I20250108 08:16:11.337543    99 compile_pass_manager.cpp:465] [UNILOG][INFO] Graph name: model_51, with op num: 8\n",
      "I20250108 08:16:11.337546    99 compile_pass_manager.cpp:478] [UNILOG][INFO] Begin to compile...\n",
      "I20250108 08:16:11.395550    99 compile_pass_manager.cpp:489] [UNILOG][INFO] Total device subgraph number 3, DPU subgraph number 1\n",
      "I20250108 08:16:11.395574    99 compile_pass_manager.cpp:504] [UNILOG][INFO] Compile done.\n"
     ]
    },
    {
     "name": "stdout",
     "output_type": "stream",
     "text": [
      "[INFO] Namespace(batchsize=1, inputs_shape=None, layout='NHWC', model_files=['/tmp/root/tensorflow_model_optimization/tmp_sub_graph_quantized_20250108-081609-382081_ONmyXE.h5'], model_type='tensorflow2', named_inputs_shape=None, out_filename='/tmp/root/tensorflow_model_optimization/tmp_sub_graph_xnnc_20250108-081609-382081_ONmyXE.xmodel', proto=None)\n",
      "[INFO] tensorflow2 model: /tmp/root/tensorflow_model_optimization/tmp_sub_graph_quantized_20250108-081609-382081_ONmyXE.h5\n",
      "[INFO] keras version: 2.12.0\n",
      "[INFO] Tensorflow Keras model type: functional\n"
     ]
    },
    {
     "name": "stderr",
     "output_type": "stream",
     "text": [
      "[INFO] parse raw model     :100%|█| 3/3 [00:00<00:00, 16754.88it/s]             \n",
      "[INFO] infer shape (NHWC)  :100%|█| 6/6 [00:00<00:00, 45923.04it/s]             \n",
      "[INFO] perform level-0 opt :100%|█| 1/1 [00:00<00:00, 4355.46it/s]              \n",
      "[INFO] perform level-1 opt :100%|█| 2/2 [00:00<00:00, 15224.33it/s]             \n",
      "[INFO] generate xmodel     :100%|█| 6/6 [00:00<00:00, 7231.56it/s]              "
     ]
    },
    {
     "name": "stdout",
     "output_type": "stream",
     "text": [
      "[INFO] dump xmodel ...\r",
      "[INFO] dump xmodel: /tmp/root/tensorflow_model_optimization/tmp_sub_graph_xnnc_20250108-081609-382081_ONmyXE.xmodel\n"
     ]
    },
    {
     "name": "stderr",
     "output_type": "stream",
     "text": [
      "\n",
      "I20250108 08:16:11.459394    99 compile_pass_manager.cpp:352] [UNILOG][INFO] Compile mode: dpu\n",
      "I20250108 08:16:11.459408    99 compile_pass_manager.cpp:353] [UNILOG][INFO] Debug mode: null\n",
      "I20250108 08:16:11.459414    99 compile_pass_manager.cpp:357] [UNILOG][INFO] Target architecture: DPUCZDX8G_ISA1_B4096\n",
      "I20250108 08:16:11.459471    99 compile_pass_manager.cpp:465] [UNILOG][INFO] Graph name: model_52, with op num: 8\n",
      "I20250108 08:16:11.459475    99 compile_pass_manager.cpp:478] [UNILOG][INFO] Begin to compile...\n",
      "I20250108 08:16:11.463583    99 compile_pass_manager.cpp:489] [UNILOG][INFO] Total device subgraph number 3, DPU subgraph number 1\n",
      "I20250108 08:16:11.463601    99 compile_pass_manager.cpp:504] [UNILOG][INFO] Compile done.\n"
     ]
    },
    {
     "name": "stdout",
     "output_type": "stream",
     "text": [
      "[INFO] Namespace(batchsize=1, inputs_shape=None, layout='NHWC', model_files=['/tmp/root/tensorflow_model_optimization/tmp_sub_graph_quantized_20250108-081609-382208_sPerQI.h5'], model_type='tensorflow2', named_inputs_shape=None, out_filename='/tmp/root/tensorflow_model_optimization/tmp_sub_graph_xnnc_20250108-081609-382208_sPerQI.xmodel', proto=None)\n",
      "[INFO] tensorflow2 model: /tmp/root/tensorflow_model_optimization/tmp_sub_graph_quantized_20250108-081609-382208_sPerQI.h5\n",
      "[INFO] keras version: 2.12.0\n",
      "[INFO] Tensorflow Keras model type: functional\n"
     ]
    },
    {
     "name": "stderr",
     "output_type": "stream",
     "text": [
      "[INFO] parse raw model     :100%|█| 6/6 [00:00<00:00, 19122.97it/s]             \n",
      "[INFO] infer shape (NHWC)  :100%|█| 7/7 [00:00<00:00, 12781.95it/s]             \n",
      "[INFO] perform level-0 opt :100%|█| 1/1 [00:00<00:00, 3472.11it/s]              \n",
      "[INFO] perform level-1 opt :100%|█| 2/2 [00:00<00:00, 13294.15it/s]             \n",
      "[INFO] generate xmodel     :100%|█| 7/7 [00:00<00:00, 11563.66it/s]             "
     ]
    },
    {
     "name": "stdout",
     "output_type": "stream",
     "text": [
      "[INFO] dump xmodel ...\r",
      "[INFO] dump xmodel: /tmp/root/tensorflow_model_optimization/tmp_sub_graph_xnnc_20250108-081609-382208_sPerQI.xmodel\n"
     ]
    },
    {
     "name": "stderr",
     "output_type": "stream",
     "text": [
      "\n",
      "I20250108 08:16:11.564440    99 compile_pass_manager.cpp:352] [UNILOG][INFO] Compile mode: dpu\n",
      "I20250108 08:16:11.564453    99 compile_pass_manager.cpp:353] [UNILOG][INFO] Debug mode: null\n",
      "I20250108 08:16:11.564457    99 compile_pass_manager.cpp:357] [UNILOG][INFO] Target architecture: DPUCZDX8G_ISA1_B4096\n",
      "I20250108 08:16:11.564517    99 compile_pass_manager.cpp:465] [UNILOG][INFO] Graph name: model_53, with op num: 7\n",
      "I20250108 08:16:11.564520    99 compile_pass_manager.cpp:478] [UNILOG][INFO] Begin to compile...\n",
      "I20250108 08:16:11.566202    99 compile_pass_manager.cpp:489] [UNILOG][INFO] Total device subgraph number 4, DPU subgraph number 1\n",
      "I20250108 08:16:11.566219    99 compile_pass_manager.cpp:504] [UNILOG][INFO] Compile done.\n"
     ]
    },
    {
     "name": "stdout",
     "output_type": "stream",
     "text": [
      "[INFO] Namespace(batchsize=1, inputs_shape=None, layout='NHWC', model_files=['/tmp/root/tensorflow_model_optimization/tmp_sub_graph_quantized_20250108-081609-382208_sPerQI.h5'], model_type='tensorflow2', named_inputs_shape=None, out_filename='/tmp/root/tensorflow_model_optimization/tmp_sub_graph_xnnc_20250108-081609-382208_sPerQI.xmodel', proto=None)\n",
      "[INFO] tensorflow2 model: /tmp/root/tensorflow_model_optimization/tmp_sub_graph_quantized_20250108-081609-382208_sPerQI.h5\n",
      "[INFO] keras version: 2.12.0\n",
      "[INFO] Tensorflow Keras model type: functional\n"
     ]
    },
    {
     "name": "stderr",
     "output_type": "stream",
     "text": [
      "[INFO] parse raw model     :100%|█| 6/6 [00:00<00:00, 27206.30it/s]             \n",
      "[INFO] infer shape (NHWC)  :100%|█| 7/7 [00:00<00:00, 14231.76it/s]             \n",
      "[INFO] perform level-0 opt :100%|█| 1/1 [00:00<00:00, 3551.49it/s]              \n",
      "[INFO] perform level-1 opt :100%|█| 2/2 [00:00<00:00, 7717.21it/s]              \n",
      "[INFO] generate xmodel     :100%|█| 7/7 [00:00<00:00, 11206.16it/s]             "
     ]
    },
    {
     "name": "stdout",
     "output_type": "stream",
     "text": [
      "[INFO] dump xmodel ...\r",
      "[INFO] dump xmodel: /tmp/root/tensorflow_model_optimization/tmp_sub_graph_xnnc_20250108-081609-382208_sPerQI.xmodel\n"
     ]
    },
    {
     "name": "stderr",
     "output_type": "stream",
     "text": [
      "\n",
      "I20250108 08:16:11.632417    99 compile_pass_manager.cpp:352] [UNILOG][INFO] Compile mode: dpu\n",
      "I20250108 08:16:11.632431    99 compile_pass_manager.cpp:353] [UNILOG][INFO] Debug mode: null\n",
      "I20250108 08:16:11.632436    99 compile_pass_manager.cpp:357] [UNILOG][INFO] Target architecture: DPUCZDX8G_ISA1_B4096\n",
      "I20250108 08:16:11.632498    99 compile_pass_manager.cpp:465] [UNILOG][INFO] Graph name: model_54, with op num: 7\n",
      "I20250108 08:16:11.632500    99 compile_pass_manager.cpp:478] [UNILOG][INFO] Begin to compile...\n",
      "I20250108 08:16:11.634188    99 compile_pass_manager.cpp:489] [UNILOG][INFO] Total device subgraph number 4, DPU subgraph number 1\n",
      "I20250108 08:16:11.634207    99 compile_pass_manager.cpp:504] [UNILOG][INFO] Compile done.\n"
     ]
    },
    {
     "name": "stdout",
     "output_type": "stream",
     "text": [
      "[INFO] Namespace(batchsize=1, inputs_shape=None, layout='NHWC', model_files=['/tmp/root/tensorflow_model_optimization/tmp_sub_graph_quantized_20250108-081609-382208_sPerQI.h5'], model_type='tensorflow2', named_inputs_shape=None, out_filename='/tmp/root/tensorflow_model_optimization/tmp_sub_graph_xnnc_20250108-081609-382208_sPerQI.xmodel', proto=None)\n",
      "[INFO] tensorflow2 model: /tmp/root/tensorflow_model_optimization/tmp_sub_graph_quantized_20250108-081609-382208_sPerQI.h5\n",
      "[INFO] keras version: 2.12.0\n",
      "[INFO] Tensorflow Keras model type: functional\n"
     ]
    },
    {
     "name": "stderr",
     "output_type": "stream",
     "text": [
      "[INFO] parse raw model     :100%|█| 6/6 [00:00<00:00, 28793.85it/s]             \n",
      "[INFO] infer shape (NHWC)  :100%|█| 7/7 [00:00<00:00, 20164.92it/s]             \n",
      "[INFO] perform level-0 opt :100%|█| 1/1 [00:00<00:00, 2337.96it/s]              \n",
      "[INFO] perform level-1 opt :100%|█| 2/2 [00:00<00:00, 10699.76it/s]             \n",
      "[INFO] generate xmodel     :100%|█| 7/7 [00:00<00:00, 11734.66it/s]             "
     ]
    },
    {
     "name": "stdout",
     "output_type": "stream",
     "text": [
      "[INFO] dump xmodel ...\r",
      "[INFO] dump xmodel: /tmp/root/tensorflow_model_optimization/tmp_sub_graph_xnnc_20250108-081609-382208_sPerQI.xmodel\n"
     ]
    },
    {
     "name": "stderr",
     "output_type": "stream",
     "text": [
      "\n",
      "I20250108 08:16:11.702975    99 compile_pass_manager.cpp:352] [UNILOG][INFO] Compile mode: dpu\n",
      "I20250108 08:16:11.702988    99 compile_pass_manager.cpp:353] [UNILOG][INFO] Debug mode: null\n",
      "I20250108 08:16:11.702991    99 compile_pass_manager.cpp:357] [UNILOG][INFO] Target architecture: DPUCZDX8G_ISA1_B4096\n",
      "I20250108 08:16:11.703069    99 compile_pass_manager.cpp:465] [UNILOG][INFO] Graph name: model_55, with op num: 7\n",
      "I20250108 08:16:11.703078    99 compile_pass_manager.cpp:478] [UNILOG][INFO] Begin to compile...\n",
      "I20250108 08:16:11.705549    99 compile_pass_manager.cpp:489] [UNILOG][INFO] Total device subgraph number 4, DPU subgraph number 1\n",
      "I20250108 08:16:11.705566    99 compile_pass_manager.cpp:504] [UNILOG][INFO] Compile done.\n"
     ]
    },
    {
     "name": "stdout",
     "output_type": "stream",
     "text": [
      "[INFO] Namespace(batchsize=1, inputs_shape=None, layout='NHWC', model_files=['/tmp/root/tensorflow_model_optimization/tmp_sub_graph_quantized_20250108-081609-382208_sPerQI.h5'], model_type='tensorflow2', named_inputs_shape=None, out_filename='/tmp/root/tensorflow_model_optimization/tmp_sub_graph_xnnc_20250108-081609-382208_sPerQI.xmodel', proto=None)\n",
      "[INFO] tensorflow2 model: /tmp/root/tensorflow_model_optimization/tmp_sub_graph_quantized_20250108-081609-382208_sPerQI.h5\n",
      "[INFO] keras version: 2.12.0\n",
      "[INFO] Tensorflow Keras model type: functional\n"
     ]
    },
    {
     "name": "stderr",
     "output_type": "stream",
     "text": [
      "[INFO] parse raw model     :100%|█| 6/6 [00:00<00:00, 18315.74it/s]             \n",
      "[INFO] infer shape (NHWC)  :100%|█| 7/7 [00:00<00:00, 17311.40it/s]             \n",
      "[INFO] perform level-0 opt :100%|█| 1/1 [00:00<00:00, 3744.91it/s]              \n",
      "[INFO] perform level-1 opt :100%|█| 2/2 [00:00<00:00, 13127.71it/s]             \n",
      "[INFO] generate xmodel     :100%|█| 7/7 [00:00<00:00, 7263.76it/s]              "
     ]
    },
    {
     "name": "stdout",
     "output_type": "stream",
     "text": [
      "[INFO] dump xmodel ...\r",
      "[INFO] dump xmodel: /tmp/root/tensorflow_model_optimization/tmp_sub_graph_xnnc_20250108-081609-382208_sPerQI.xmodel\n"
     ]
    },
    {
     "name": "stderr",
     "output_type": "stream",
     "text": [
      "\n",
      "I20250108 08:16:11.768999    99 compile_pass_manager.cpp:352] [UNILOG][INFO] Compile mode: dpu\n",
      "I20250108 08:16:11.769012    99 compile_pass_manager.cpp:353] [UNILOG][INFO] Debug mode: null\n",
      "I20250108 08:16:11.769016    99 compile_pass_manager.cpp:357] [UNILOG][INFO] Target architecture: DPUCZDX8G_ISA1_B4096\n",
      "I20250108 08:16:11.769073    99 compile_pass_manager.cpp:465] [UNILOG][INFO] Graph name: model_56, with op num: 7\n",
      "I20250108 08:16:11.769075    99 compile_pass_manager.cpp:478] [UNILOG][INFO] Begin to compile...\n",
      "I20250108 08:16:11.770833    99 compile_pass_manager.cpp:489] [UNILOG][INFO] Total device subgraph number 4, DPU subgraph number 1\n",
      "I20250108 08:16:11.770852    99 compile_pass_manager.cpp:504] [UNILOG][INFO] Compile done.\n"
     ]
    },
    {
     "name": "stdout",
     "output_type": "stream",
     "text": [
      "[INFO] Namespace(batchsize=1, inputs_shape=None, layout='NHWC', model_files=['/tmp/root/tensorflow_model_optimization/tmp_sub_graph_quantized_20250108-081609-382208_sPerQI.h5'], model_type='tensorflow2', named_inputs_shape=None, out_filename='/tmp/root/tensorflow_model_optimization/tmp_sub_graph_xnnc_20250108-081609-382208_sPerQI.xmodel', proto=None)\n",
      "[INFO] tensorflow2 model: /tmp/root/tensorflow_model_optimization/tmp_sub_graph_quantized_20250108-081609-382208_sPerQI.h5\n",
      "[INFO] keras version: 2.12.0\n",
      "[INFO] Tensorflow Keras model type: functional\n"
     ]
    },
    {
     "name": "stderr",
     "output_type": "stream",
     "text": [
      "[INFO] parse raw model     :100%|█| 6/6 [00:00<00:00, 30393.51it/s]             \n",
      "[INFO] infer shape (NHWC)  :100%|█| 7/7 [00:00<00:00, 19878.22it/s]             \n",
      "[INFO] perform level-0 opt :100%|█| 1/1 [00:00<00:00, 3581.81it/s]              \n",
      "[INFO] perform level-1 opt :100%|█| 2/2 [00:00<00:00, 12300.01it/s]             \n",
      "[INFO] generate xmodel     :100%|█| 7/7 [00:00<00:00, 10898.34it/s]             \n",
      "I20250108 08:16:11.834837    99 compile_pass_manager.cpp:352] [UNILOG][INFO] Compile mode: dpu\n",
      "I20250108 08:16:11.834851    99 compile_pass_manager.cpp:353] [UNILOG][INFO] Debug mode: null\n",
      "I20250108 08:16:11.834853    99 compile_pass_manager.cpp:357] [UNILOG][INFO] Target architecture: DPUCZDX8G_ISA1_B4096\n",
      "I20250108 08:16:11.834910    99 compile_pass_manager.cpp:465] [UNILOG][INFO] Graph name: model_57, with op num: 7\n",
      "I20250108 08:16:11.834913    99 compile_pass_manager.cpp:478] [UNILOG][INFO] Begin to compile...\n",
      "I20250108 08:16:11.836630    99 compile_pass_manager.cpp:489] [UNILOG][INFO] Total device subgraph number 4, DPU subgraph number 1\n",
      "I20250108 08:16:11.836647    99 compile_pass_manager.cpp:504] [UNILOG][INFO] Compile done.\n"
     ]
    },
    {
     "name": "stdout",
     "output_type": "stream",
     "text": [
      "[INFO] dump xmodel ...\r",
      "[INFO] dump xmodel: /tmp/root/tensorflow_model_optimization/tmp_sub_graph_xnnc_20250108-081609-382208_sPerQI.xmodel\n",
      "[INFO] Namespace(batchsize=1, inputs_shape=None, layout='NHWC', model_files=['/tmp/root/tensorflow_model_optimization/tmp_sub_graph_quantized_20250108-081609-382208_sPerQI.h5'], model_type='tensorflow2', named_inputs_shape=None, out_filename='/tmp/root/tensorflow_model_optimization/tmp_sub_graph_xnnc_20250108-081609-382208_sPerQI.xmodel', proto=None)\n",
      "[INFO] tensorflow2 model: /tmp/root/tensorflow_model_optimization/tmp_sub_graph_quantized_20250108-081609-382208_sPerQI.h5\n",
      "[INFO] keras version: 2.12.0\n",
      "[INFO] Tensorflow Keras model type: functional\n"
     ]
    },
    {
     "name": "stderr",
     "output_type": "stream",
     "text": [
      "[INFO] parse raw model     :100%|█| 6/6 [00:00<00:00, 21254.92it/s]             \n",
      "[INFO] infer shape (NHWC)  :100%|█| 7/7 [00:00<00:00, 20137.26it/s]             \n",
      "[INFO] perform level-0 opt :100%|█| 1/1 [00:00<00:00, 3429.52it/s]              \n",
      "[INFO] perform level-1 opt :100%|█| 2/2 [00:00<00:00, 12464.50it/s]             \n",
      "[INFO] generate xmodel     :100%|█| 7/7 [00:00<00:00, 11687.95it/s]             \n",
      "I20250108 08:16:11.897293    99 compile_pass_manager.cpp:352] [UNILOG][INFO] Compile mode: dpu\n",
      "I20250108 08:16:11.897306    99 compile_pass_manager.cpp:353] [UNILOG][INFO] Debug mode: null\n",
      "I20250108 08:16:11.897310    99 compile_pass_manager.cpp:357] [UNILOG][INFO] Target architecture: DPUCZDX8G_ISA1_B4096\n",
      "I20250108 08:16:11.897367    99 compile_pass_manager.cpp:465] [UNILOG][INFO] Graph name: model_58, with op num: 7\n",
      "I20250108 08:16:11.897369    99 compile_pass_manager.cpp:478] [UNILOG][INFO] Begin to compile...\n",
      "I20250108 08:16:11.899040    99 compile_pass_manager.cpp:489] [UNILOG][INFO] Total device subgraph number 4, DPU subgraph number 1\n",
      "I20250108 08:16:11.899057    99 compile_pass_manager.cpp:504] [UNILOG][INFO] Compile done.\n"
     ]
    },
    {
     "name": "stdout",
     "output_type": "stream",
     "text": [
      "[INFO] dump xmodel: /tmp/root/tensorflow_model_optimization/tmp_sub_graph_xnnc_20250108-081609-382208_sPerQI.xmodel\n",
      "[INFO] Namespace(batchsize=1, inputs_shape=None, layout='NHWC', model_files=['/tmp/root/tensorflow_model_optimization/tmp_sub_graph_quantized_20250108-081609-382208_sPerQI.h5'], model_type='tensorflow2', named_inputs_shape=None, out_filename='/tmp/root/tensorflow_model_optimization/tmp_sub_graph_xnnc_20250108-081609-382208_sPerQI.xmodel', proto=None)\n",
      "[INFO] tensorflow2 model: /tmp/root/tensorflow_model_optimization/tmp_sub_graph_quantized_20250108-081609-382208_sPerQI.h5\n",
      "[INFO] keras version: 2.12.0\n",
      "[INFO] Tensorflow Keras model type: functional\n"
     ]
    },
    {
     "name": "stderr",
     "output_type": "stream",
     "text": [
      "[INFO] parse raw model     :100%|█| 6/6 [00:00<00:00, 29365.02it/s]             \n",
      "[INFO] infer shape (NHWC)  :100%|█| 7/7 [00:00<00:00, 21588.33it/s]             \n",
      "[INFO] perform level-0 opt :100%|█| 1/1 [00:00<00:00, 1312.77it/s]              \n",
      "[INFO] perform level-1 opt :100%|█| 2/2 [00:00<00:00, 12768.05it/s]             \n",
      "[INFO] generate xmodel     :100%|█| 7/7 [00:00<00:00, 11595.63it/s]             \n",
      "I20250108 08:16:11.958182    99 compile_pass_manager.cpp:352] [UNILOG][INFO] Compile mode: dpu\n",
      "I20250108 08:16:11.958199    99 compile_pass_manager.cpp:353] [UNILOG][INFO] Debug mode: null\n",
      "I20250108 08:16:11.958204    99 compile_pass_manager.cpp:357] [UNILOG][INFO] Target architecture: DPUCZDX8G_ISA1_B4096\n",
      "I20250108 08:16:11.958268    99 compile_pass_manager.cpp:465] [UNILOG][INFO] Graph name: model_59, with op num: 7\n",
      "I20250108 08:16:11.958273    99 compile_pass_manager.cpp:478] [UNILOG][INFO] Begin to compile...\n",
      "I20250108 08:16:11.960052    99 compile_pass_manager.cpp:489] [UNILOG][INFO] Total device subgraph number 4, DPU subgraph number 1\n",
      "I20250108 08:16:11.960070    99 compile_pass_manager.cpp:504] [UNILOG][INFO] Compile done.\n"
     ]
    },
    {
     "name": "stdout",
     "output_type": "stream",
     "text": [
      "[INFO] dump xmodel: /tmp/root/tensorflow_model_optimization/tmp_sub_graph_xnnc_20250108-081609-382208_sPerQI.xmodel\n",
      "[INFO] Namespace(batchsize=1, inputs_shape=None, layout='NHWC', model_files=['/tmp/root/tensorflow_model_optimization/tmp_sub_graph_quantized_20250108-081609-382208_sPerQI.h5'], model_type='tensorflow2', named_inputs_shape=None, out_filename='/tmp/root/tensorflow_model_optimization/tmp_sub_graph_xnnc_20250108-081609-382208_sPerQI.xmodel', proto=None)\n",
      "[INFO] tensorflow2 model: /tmp/root/tensorflow_model_optimization/tmp_sub_graph_quantized_20250108-081609-382208_sPerQI.h5\n",
      "[INFO] keras version: 2.12.0\n",
      "[INFO] Tensorflow Keras model type: functional\n"
     ]
    },
    {
     "name": "stderr",
     "output_type": "stream",
     "text": [
      "[INFO] parse raw model     :100%|█| 6/6 [00:00<00:00, 24720.85it/s]             \n",
      "[INFO] infer shape (NHWC)  :100%|█| 7/7 [00:00<00:00, 18712.64it/s]             \n",
      "[INFO] perform level-0 opt :100%|█| 1/1 [00:00<00:00, 2922.86it/s]              \n",
      "[INFO] perform level-1 opt :100%|█| 2/2 [00:00<00:00, 7503.23it/s]              \n",
      "[INFO] generate xmodel     :100%|█| 7/7 [00:00<00:00, 6353.63it/s]              \n",
      "I20250108 08:16:12.023550    99 compile_pass_manager.cpp:352] [UNILOG][INFO] Compile mode: dpu\n",
      "I20250108 08:16:12.023563    99 compile_pass_manager.cpp:353] [UNILOG][INFO] Debug mode: null\n",
      "I20250108 08:16:12.023566    99 compile_pass_manager.cpp:357] [UNILOG][INFO] Target architecture: DPUCZDX8G_ISA1_B4096\n",
      "I20250108 08:16:12.023627    99 compile_pass_manager.cpp:465] [UNILOG][INFO] Graph name: model_60, with op num: 7\n",
      "I20250108 08:16:12.023630    99 compile_pass_manager.cpp:478] [UNILOG][INFO] Begin to compile...\n",
      "I20250108 08:16:12.025372    99 compile_pass_manager.cpp:489] [UNILOG][INFO] Total device subgraph number 4, DPU subgraph number 1\n",
      "I20250108 08:16:12.025390    99 compile_pass_manager.cpp:504] [UNILOG][INFO] Compile done.\n"
     ]
    },
    {
     "name": "stdout",
     "output_type": "stream",
     "text": [
      "[INFO] dump xmodel: /tmp/root/tensorflow_model_optimization/tmp_sub_graph_xnnc_20250108-081609-382208_sPerQI.xmodel\n",
      "[INFO] Namespace(batchsize=1, inputs_shape=None, layout='NHWC', model_files=['/tmp/root/tensorflow_model_optimization/tmp_sub_graph_quantized_20250108-081609-382298_CRUNEf.h5'], model_type='tensorflow2', named_inputs_shape=None, out_filename='/tmp/root/tensorflow_model_optimization/tmp_sub_graph_xnnc_20250108-081609-382298_CRUNEf.xmodel', proto=None)\n",
      "[INFO] tensorflow2 model: /tmp/root/tensorflow_model_optimization/tmp_sub_graph_quantized_20250108-081609-382298_CRUNEf.h5\n",
      "[INFO] keras version: 2.12.0\n",
      "[INFO] Tensorflow Keras model type: functional\n"
     ]
    },
    {
     "name": "stderr",
     "output_type": "stream",
     "text": [
      "[INFO] parse raw model     :100%|█| 3/3 [00:00<00:00, 13647.41it/s]             \n",
      "[INFO] infer shape (NHWC)  :100%|█| 3/3 [00:00<00:00, 22270.64it/s]             \n",
      "[INFO] perform level-0 opt :100%|█| 1/1 [00:00<00:00, 3002.37it/s]              \n",
      "[INFO] perform level-1 opt :100%|█| 2/2 [00:00<00:00, 21076.90it/s]             \n",
      "[INFO] generate xmodel     :100%|█| 3/3 [00:00<00:00, 7898.88it/s]              \n",
      "I20250108 08:16:12.063516    99 compile_pass_manager.cpp:352] [UNILOG][INFO] Compile mode: dpu\n",
      "I20250108 08:16:12.063529    99 compile_pass_manager.cpp:353] [UNILOG][INFO] Debug mode: null\n",
      "I20250108 08:16:12.063532    99 compile_pass_manager.cpp:357] [UNILOG][INFO] Target architecture: DPUCZDX8G_ISA1_B4096\n",
      "I20250108 08:16:12.063587    99 compile_pass_manager.cpp:465] [UNILOG][INFO] Graph name: model_61, with op num: 3\n",
      "I20250108 08:16:12.063589    99 compile_pass_manager.cpp:478] [UNILOG][INFO] Begin to compile...\n",
      "I20250108 08:16:12.065022    99 compile_pass_manager.cpp:489] [UNILOG][INFO] Total device subgraph number 3, DPU subgraph number 1\n",
      "I20250108 08:16:12.065052    99 compile_pass_manager.cpp:504] [UNILOG][INFO] Compile done.\n"
     ]
    },
    {
     "name": "stdout",
     "output_type": "stream",
     "text": [
      "[INFO] dump xmodel: /tmp/root/tensorflow_model_optimization/tmp_sub_graph_xnnc_20250108-081609-382298_CRUNEf.xmodel\n",
      "[VAI INFO] Inspect Results:\n",
      "[MODEL INFO]:\n",
      "________________________________________________________________________________________________________________________\n",
      "Model Name: model_3\n",
      "________________________________________________________________________________________________________________________\n",
      "ID          Name                    Type                    Device      Notes                                           \n",
      "========================================================================================================================\n",
      "0/68        input_41                InputLayer              INPUT                                                       \n",
      "------------------------------------------------------------------------------------------------------------------------\n",
      "1/68        conv2d_60               Conv2D<linear>          DPU                                                         \n",
      "------------------------------------------------------------------------------------------------------------------------\n",
      "2/68        batch_normalization_60  BatchNormalization      DPU                                                         \n",
      "------------------------------------------------------------------------------------------------------------------------\n",
      "3/68        re_lu_51                ReLU                    DPU                                                         \n",
      "------------------------------------------------------------------------------------------------------------------------\n",
      "4/68        conv2d_61               Conv2D<linear>          DPU                                                         \n",
      "------------------------------------------------------------------------------------------------------------------------\n",
      "5/68        batch_normalization_61  BatchNormalization      DPU                                                         \n",
      "------------------------------------------------------------------------------------------------------------------------\n",
      "6/68        re_lu_52                ReLU                    DPU                                                         \n",
      "------------------------------------------------------------------------------------------------------------------------\n",
      "7/68        conv2d_62               Conv2D<linear>          DPU                                                         \n",
      "------------------------------------------------------------------------------------------------------------------------\n",
      "8/68        batch_normalization_62  BatchNormalization      DPU                                                         \n",
      "------------------------------------------------------------------------------------------------------------------------\n",
      "9/68        add_24                  Add                     DPU                                                         \n",
      "------------------------------------------------------------------------------------------------------------------------\n",
      "10/68       re_lu_53                ReLU                    DPU                                                         \n",
      "------------------------------------------------------------------------------------------------------------------------\n",
      "11/68       conv2d_63               Conv2D<linear>          DPU                                                         \n",
      "------------------------------------------------------------------------------------------------------------------------\n",
      "12/68       batch_normalization_63  BatchNormalization      DPU                                                         \n",
      "------------------------------------------------------------------------------------------------------------------------\n",
      "13/68       re_lu_54                ReLU                    DPU                                                         \n",
      "------------------------------------------------------------------------------------------------------------------------\n",
      "14/68       conv2d_64               Conv2D<linear>          DPU                                                         \n",
      "------------------------------------------------------------------------------------------------------------------------\n",
      "15/68       batch_normalization_64  BatchNormalization      DPU                                                         \n",
      "------------------------------------------------------------------------------------------------------------------------\n",
      "16/68       add_25                  Add                     DPU                                                         \n",
      "------------------------------------------------------------------------------------------------------------------------\n",
      "17/68       re_lu_55                ReLU                    DPU                                                         \n",
      "------------------------------------------------------------------------------------------------------------------------\n",
      "18/68       conv2d_66               Conv2D<linear>          DPU                                                         \n",
      "------------------------------------------------------------------------------------------------------------------------\n",
      "19/68       batch_normalization_66  BatchNormalization      DPU                                                         \n",
      "------------------------------------------------------------------------------------------------------------------------\n",
      "20/68       re_lu_56                ReLU                    DPU                                                         \n",
      "------------------------------------------------------------------------------------------------------------------------\n",
      "21/68       conv2d_67               Conv2D<linear>          DPU                                                         \n",
      "------------------------------------------------------------------------------------------------------------------------\n",
      "22/68       conv2d_65               Conv2D<linear>          DPU                                                         \n",
      "------------------------------------------------------------------------------------------------------------------------\n",
      "23/68       batch_normalization_67  BatchNormalization      DPU                                                         \n",
      "------------------------------------------------------------------------------------------------------------------------\n",
      "24/68       batch_normalization_65  BatchNormalization      DPU                                                         \n",
      "------------------------------------------------------------------------------------------------------------------------\n",
      "25/68       add_26                  Add                     DPU                                                         \n",
      "------------------------------------------------------------------------------------------------------------------------\n",
      "26/68       re_lu_57                ReLU                    DPU                                                         \n",
      "------------------------------------------------------------------------------------------------------------------------\n",
      "27/68       conv2d_68               Conv2D<linear>          DPU                                                         \n",
      "------------------------------------------------------------------------------------------------------------------------\n",
      "28/68       batch_normalization_68  BatchNormalization      DPU                                                         \n",
      "------------------------------------------------------------------------------------------------------------------------\n",
      "29/68       re_lu_58                ReLU                    DPU                                                         \n",
      "------------------------------------------------------------------------------------------------------------------------\n",
      "30/68       conv2d_69               Conv2D<linear>          DPU                                                         \n",
      "------------------------------------------------------------------------------------------------------------------------\n",
      "31/68       batch_normalization_69  BatchNormalization      DPU                                                         \n",
      "------------------------------------------------------------------------------------------------------------------------\n",
      "32/68       add_27                  Add                     DPU                                                         \n",
      "------------------------------------------------------------------------------------------------------------------------\n",
      "33/68       re_lu_59                ReLU                    DPU                                                         \n",
      "------------------------------------------------------------------------------------------------------------------------\n",
      "34/68       conv2d_71               Conv2D<linear>          DPU                                                         \n",
      "------------------------------------------------------------------------------------------------------------------------\n",
      "35/68       batch_normalization_71  BatchNormalization      DPU                                                         \n",
      "------------------------------------------------------------------------------------------------------------------------\n",
      "36/68       re_lu_60                ReLU                    DPU                                                         \n",
      "------------------------------------------------------------------------------------------------------------------------\n",
      "37/68       conv2d_72               Conv2D<linear>          DPU                                                         \n",
      "------------------------------------------------------------------------------------------------------------------------\n",
      "38/68       conv2d_70               Conv2D<linear>          DPU                                                         \n",
      "------------------------------------------------------------------------------------------------------------------------\n",
      "39/68       batch_normalization_72  BatchNormalization      DPU                                                         \n",
      "------------------------------------------------------------------------------------------------------------------------\n",
      "40/68       batch_normalization_70  BatchNormalization      DPU                                                         \n",
      "------------------------------------------------------------------------------------------------------------------------\n",
      "41/68       add_28                  Add                     DPU                                                         \n",
      "------------------------------------------------------------------------------------------------------------------------\n",
      "42/68       re_lu_61                ReLU                    DPU                                                         \n",
      "------------------------------------------------------------------------------------------------------------------------\n",
      "43/68       conv2d_73               Conv2D<linear>          DPU                                                         \n",
      "------------------------------------------------------------------------------------------------------------------------\n",
      "44/68       batch_normalization_73  BatchNormalization      DPU                                                         \n",
      "------------------------------------------------------------------------------------------------------------------------\n",
      "45/68       re_lu_62                ReLU                    DPU                                                         \n",
      "------------------------------------------------------------------------------------------------------------------------\n",
      "46/68       conv2d_74               Conv2D<linear>          DPU                                                         \n",
      "------------------------------------------------------------------------------------------------------------------------\n",
      "47/68       batch_normalization_74  BatchNormalization      DPU                                                         \n",
      "------------------------------------------------------------------------------------------------------------------------\n",
      "48/68       add_29                  Add                     DPU                                                         \n",
      "------------------------------------------------------------------------------------------------------------------------\n",
      "49/68       re_lu_63                ReLU                    DPU                                                         \n",
      "------------------------------------------------------------------------------------------------------------------------\n",
      "50/68       conv2d_76               Conv2D<linear>          DPU                                                         \n",
      "------------------------------------------------------------------------------------------------------------------------\n",
      "51/68       batch_normalization_76  BatchNormalization      DPU                                                         \n",
      "------------------------------------------------------------------------------------------------------------------------\n",
      "52/68       re_lu_64                ReLU                    DPU                                                         \n",
      "------------------------------------------------------------------------------------------------------------------------\n",
      "53/68       conv2d_77               Conv2D<linear>          DPU                                                         \n",
      "------------------------------------------------------------------------------------------------------------------------\n",
      "54/68       conv2d_75               Conv2D<linear>          DPU                                                         \n",
      "------------------------------------------------------------------------------------------------------------------------\n",
      "55/68       batch_normalization_77  BatchNormalization      DPU                                                         \n",
      "------------------------------------------------------------------------------------------------------------------------\n",
      "56/68       batch_normalization_75  BatchNormalization      DPU                                                         \n",
      "------------------------------------------------------------------------------------------------------------------------\n",
      "57/68       add_30                  Add                     DPU                                                         \n",
      "------------------------------------------------------------------------------------------------------------------------\n",
      "58/68       re_lu_65                ReLU                    DPU                                                         \n",
      "------------------------------------------------------------------------------------------------------------------------\n",
      "59/68       conv2d_78               Conv2D<linear>          DPU                                                         \n",
      "------------------------------------------------------------------------------------------------------------------------\n",
      "60/68       batch_normalization_78  BatchNormalization      DPU                                                         \n",
      "------------------------------------------------------------------------------------------------------------------------\n",
      "61/68       re_lu_66                ReLU                    DPU                                                         \n",
      "------------------------------------------------------------------------------------------------------------------------\n",
      "62/68       conv2d_79               Conv2D<linear>          DPU                                                         \n",
      "------------------------------------------------------------------------------------------------------------------------\n",
      "63/68       batch_normalization_79  BatchNormalization      DPU                                                         \n",
      "------------------------------------------------------------------------------------------------------------------------\n",
      "64/68       add_31                  Add                     DPU                                                         \n",
      "------------------------------------------------------------------------------------------------------------------------\n",
      "65/68       re_lu_67                ReLU                    DPU                                                         \n",
      "------------------------------------------------------------------------------------------------------------------------\n",
      "66/68       average_pooling2d_3     AveragePooling2D        DPU                                                         \n",
      "------------------------------------------------------------------------------------------------------------------------\n",
      "67/68       flatten_3               Flatten                 DPU                                                         \n",
      "------------------------------------------------------------------------------------------------------------------------\n",
      "68/68       dense_3                 Dense<softmax>          DPU+CPU     Seperate layer activation `softmax`; `softmax`  \n",
      "                                                                        is not supported by target                      \n",
      "------------------------------------------------------------------------------------------------------------------------\n",
      "========================================================================================================================\n",
      "[SUMMARY INFO]:\n",
      "- [Target Name]: DPUCZDX8G_ISA1_B4096\n",
      "- [Total Layers]: 69\n",
      "- [Layer Types]: InputLayer(1) Conv2D<linear>(20) BatchNormalization(20) ReLU(17) Add(8) AveragePooling2D(1) Flatten(1) Dense<softmax>(1) \n",
      "- [Partition Results]: INPUT(1) DPU(67) DPU+CPU(1) \n",
      "========================================================================================================================\n",
      "[NOTES INFO]:\n",
      "- [68/68] Layer dense_3 (Type:Dense<softmax>, Device:DPU+CPU):\n",
      "    * Seperate layer activation `softmax`\n",
      "    * `softmax` is not supported by target\n",
      "========================================================================================================================\n",
      "[VAI INFO] Start plotting model to inspect/model_plot.svg\n"
     ]
    },
    {
     "name": "stdout",
     "output_type": "stream",
     "text": [
      "[VAI INFO] Inspected model has been plotted in: inspect/model_plot.svg.\n",
      "[VAI INFO] Start dumping inspected model to inspect/inspected_model.h5\n",
      "[VAI INFO] Inspected model has been dumped in: inspect/inspected_model.h5.\n",
      "[VAI INFO] Start dumping inspected results to inspect/inspect_results.txt\n",
      "[VAI INFO] Inspected results has been dumped in: inspect/inspect_results.txt.\n",
      "[VAI INFO] Inspect Finished.\n"
     ]
    },
    {
     "data": {
      "text/plain": [
       "{<keras.engine.input_layer.InputLayer at 0x7f89673cffa0>: <tensorflow_model_optimization.python.core.quantization.keras.vitis.vitis_inspect.InspectResult at 0x7f89d0595a60>,\n",
       " <keras.layers.convolutional.conv2d.Conv2D at 0x7f89673a9910>: <tensorflow_model_optimization.python.core.quantization.keras.vitis.vitis_inspect.InspectResult at 0x7f89d0567fd0>,\n",
       " <keras.layers.normalization.batch_normalization.BatchNormalization at 0x7f89673a97c0>: <tensorflow_model_optimization.python.core.quantization.keras.vitis.vitis_inspect.InspectResult at 0x7f89d0654bb0>,\n",
       " <keras.layers.activation.relu.ReLU at 0x7f89673fffd0>: <tensorflow_model_optimization.python.core.quantization.keras.vitis.vitis_inspect.InspectResult at 0x7f89d0545af0>,\n",
       " <keras.layers.convolutional.conv2d.Conv2D at 0x7f89d08798b0>: <tensorflow_model_optimization.python.core.quantization.keras.vitis.vitis_inspect.InspectResult at 0x7f89d0545130>,\n",
       " <keras.layers.normalization.batch_normalization.BatchNormalization at 0x7f89d08b4970>: <tensorflow_model_optimization.python.core.quantization.keras.vitis.vitis_inspect.InspectResult at 0x7f89d0545ee0>,\n",
       " <keras.layers.activation.relu.ReLU at 0x7f89d0915c10>: <tensorflow_model_optimization.python.core.quantization.keras.vitis.vitis_inspect.InspectResult at 0x7f89d0545220>,\n",
       " <keras.layers.convolutional.conv2d.Conv2D at 0x7f89d08a93a0>: <tensorflow_model_optimization.python.core.quantization.keras.vitis.vitis_inspect.InspectResult at 0x7f89d0545370>,\n",
       " <keras.layers.normalization.batch_normalization.BatchNormalization at 0x7f89d0c91be0>: <tensorflow_model_optimization.python.core.quantization.keras.vitis.vitis_inspect.InspectResult at 0x7f89d0545ac0>,\n",
       " <keras.layers.merging.add.Add at 0x7f89d089a280>: <tensorflow_model_optimization.python.core.quantization.keras.vitis.vitis_inspect.InspectResult at 0x7f89d05450a0>,\n",
       " <keras.layers.activation.relu.ReLU at 0x7f89d08c4640>: <tensorflow_model_optimization.python.core.quantization.keras.vitis.vitis_inspect.InspectResult at 0x7f89d0545700>,\n",
       " <keras.layers.convolutional.conv2d.Conv2D at 0x7f89d0915910>: <tensorflow_model_optimization.python.core.quantization.keras.vitis.vitis_inspect.InspectResult at 0x7f89d0545ca0>,\n",
       " <keras.layers.normalization.batch_normalization.BatchNormalization at 0x7f89669809a0>: <tensorflow_model_optimization.python.core.quantization.keras.vitis.vitis_inspect.InspectResult at 0x7f89d0545fa0>,\n",
       " <keras.layers.activation.relu.ReLU at 0x7f89d084e1c0>: <tensorflow_model_optimization.python.core.quantization.keras.vitis.vitis_inspect.InspectResult at 0x7f89d0545e20>,\n",
       " <keras.layers.convolutional.conv2d.Conv2D at 0x7f89d086b5e0>: <tensorflow_model_optimization.python.core.quantization.keras.vitis.vitis_inspect.InspectResult at 0x7f89d0545bb0>,\n",
       " <keras.layers.normalization.batch_normalization.BatchNormalization at 0x7f89d0836400>: <tensorflow_model_optimization.python.core.quantization.keras.vitis.vitis_inspect.InspectResult at 0x7f89d05457f0>,\n",
       " <keras.layers.merging.add.Add at 0x7f89d084ec40>: <tensorflow_model_optimization.python.core.quantization.keras.vitis.vitis_inspect.InspectResult at 0x7f89d0545f10>,\n",
       " <keras.layers.activation.relu.ReLU at 0x7f89d085dbb0>: <tensorflow_model_optimization.python.core.quantization.keras.vitis.vitis_inspect.InspectResult at 0x7f89d0545850>,\n",
       " <keras.layers.convolutional.conv2d.Conv2D at 0x7f89d08c4d00>: <tensorflow_model_optimization.python.core.quantization.keras.vitis.vitis_inspect.InspectResult at 0x7f89d05458e0>,\n",
       " <keras.layers.normalization.batch_normalization.BatchNormalization at 0x7f89d0803d90>: <tensorflow_model_optimization.python.core.quantization.keras.vitis.vitis_inspect.InspectResult at 0x7f89d0545e80>,\n",
       " <keras.layers.activation.relu.ReLU at 0x7f89d08035e0>: <tensorflow_model_optimization.python.core.quantization.keras.vitis.vitis_inspect.InspectResult at 0x7f89d0545c40>,\n",
       " <keras.layers.convolutional.conv2d.Conv2D at 0x7f89d086bdf0>: <tensorflow_model_optimization.python.core.quantization.keras.vitis.vitis_inspect.InspectResult at 0x7f89d0545b80>,\n",
       " <keras.layers.convolutional.conv2d.Conv2D at 0x7f89d08059d0>: <tensorflow_model_optimization.python.core.quantization.keras.vitis.vitis_inspect.InspectResult at 0x7f89d05452e0>,\n",
       " <keras.layers.normalization.batch_normalization.BatchNormalization at 0x7f89d0803d60>: <tensorflow_model_optimization.python.core.quantization.keras.vitis.vitis_inspect.InspectResult at 0x7f89d0545310>,\n",
       " <keras.layers.normalization.batch_normalization.BatchNormalization at 0x7f89d08054f0>: <tensorflow_model_optimization.python.core.quantization.keras.vitis.vitis_inspect.InspectResult at 0x7f89d0545430>,\n",
       " <keras.layers.merging.add.Add at 0x7f89d0801850>: <tensorflow_model_optimization.python.core.quantization.keras.vitis.vitis_inspect.InspectResult at 0x7f89d0545dc0>,\n",
       " <keras.layers.activation.relu.ReLU at 0x7f89d0805be0>: <tensorflow_model_optimization.python.core.quantization.keras.vitis.vitis_inspect.InspectResult at 0x7f89d0545d00>,\n",
       " <keras.layers.convolutional.conv2d.Conv2D at 0x7f89d0803bb0>: <tensorflow_model_optimization.python.core.quantization.keras.vitis.vitis_inspect.InspectResult at 0x7f89d0545250>,\n",
       " <keras.layers.normalization.batch_normalization.BatchNormalization at 0x7f89d0803ee0>: <tensorflow_model_optimization.python.core.quantization.keras.vitis.vitis_inspect.InspectResult at 0x7f89d0545160>,\n",
       " <keras.layers.activation.relu.ReLU at 0x7f89d0804760>: <tensorflow_model_optimization.python.core.quantization.keras.vitis.vitis_inspect.InspectResult at 0x7f89d05451c0>,\n",
       " <keras.layers.convolutional.conv2d.Conv2D at 0x7f89d0801d30>: <tensorflow_model_optimization.python.core.quantization.keras.vitis.vitis_inspect.InspectResult at 0x7f89d0545490>,\n",
       " <keras.layers.normalization.batch_normalization.BatchNormalization at 0x7f89d08011f0>: <tensorflow_model_optimization.python.core.quantization.keras.vitis.vitis_inspect.InspectResult at 0x7f89d05453d0>,\n",
       " <keras.layers.merging.add.Add at 0x7f89d0804be0>: <tensorflow_model_optimization.python.core.quantization.keras.vitis.vitis_inspect.InspectResult at 0x7f89d0545070>,\n",
       " <keras.layers.activation.relu.ReLU at 0x7f89d0802ee0>: <tensorflow_model_optimization.python.core.quantization.keras.vitis.vitis_inspect.InspectResult at 0x7f89d0545c10>,\n",
       " <keras.layers.convolutional.conv2d.Conv2D at 0x7f89d0804490>: <tensorflow_model_optimization.python.core.quantization.keras.vitis.vitis_inspect.InspectResult at 0x7f89d0545400>,\n",
       " <keras.layers.normalization.batch_normalization.BatchNormalization at 0x7f89d0804610>: <tensorflow_model_optimization.python.core.quantization.keras.vitis.vitis_inspect.InspectResult at 0x7f89d062e070>,\n",
       " <keras.layers.activation.relu.ReLU at 0x7f89d08028e0>: <tensorflow_model_optimization.python.core.quantization.keras.vitis.vitis_inspect.InspectResult at 0x7f89d05d6670>,\n",
       " <keras.layers.convolutional.conv2d.Conv2D at 0x7f89d08021f0>: <tensorflow_model_optimization.python.core.quantization.keras.vitis.vitis_inspect.InspectResult at 0x7f89d0514c10>,\n",
       " <keras.layers.convolutional.conv2d.Conv2D at 0x7f89d07fecd0>: <tensorflow_model_optimization.python.core.quantization.keras.vitis.vitis_inspect.InspectResult at 0x7f89d0514bb0>,\n",
       " <keras.layers.normalization.batch_normalization.BatchNormalization at 0x7f89d07fe0a0>: <tensorflow_model_optimization.python.core.quantization.keras.vitis.vitis_inspect.InspectResult at 0x7f89d0514040>,\n",
       " <keras.layers.normalization.batch_normalization.BatchNormalization at 0x7f89d08065e0>: <tensorflow_model_optimization.python.core.quantization.keras.vitis.vitis_inspect.InspectResult at 0x7f89d0787ca0>,\n",
       " <keras.layers.merging.add.Add at 0x7f89d07fe7f0>: <tensorflow_model_optimization.python.core.quantization.keras.vitis.vitis_inspect.InspectResult at 0x7f89d04d0580>,\n",
       " <keras.layers.activation.relu.ReLU at 0x7f89d07feee0>: <tensorflow_model_optimization.python.core.quantization.keras.vitis.vitis_inspect.InspectResult at 0x7f89d038de50>,\n",
       " <keras.layers.convolutional.conv2d.Conv2D at 0x7f89d0802eb0>: <tensorflow_model_optimization.python.core.quantization.keras.vitis.vitis_inspect.InspectResult at 0x7f89d038d9d0>,\n",
       " <keras.layers.normalization.batch_normalization.BatchNormalization at 0x7f89d07fe220>: <tensorflow_model_optimization.python.core.quantization.keras.vitis.vitis_inspect.InspectResult at 0x7f89d03f9be0>,\n",
       " <keras.layers.activation.relu.ReLU at 0x7f89d07c3a60>: <tensorflow_model_optimization.python.core.quantization.keras.vitis.vitis_inspect.InspectResult at 0x7f89d0469880>,\n",
       " <keras.layers.convolutional.conv2d.Conv2D at 0x7f89d07fedc0>: <tensorflow_model_optimization.python.core.quantization.keras.vitis.vitis_inspect.InspectResult at 0x7f89d0476ee0>,\n",
       " <keras.layers.normalization.batch_normalization.BatchNormalization at 0x7f89d08064f0>: <tensorflow_model_optimization.python.core.quantization.keras.vitis.vitis_inspect.InspectResult at 0x7f89d04767f0>,\n",
       " <keras.layers.merging.add.Add at 0x7f89d10c5d00>: <tensorflow_model_optimization.python.core.quantization.keras.vitis.vitis_inspect.InspectResult at 0x7f89d046b430>,\n",
       " <keras.layers.activation.relu.ReLU at 0x7f89d07c3ee0>: <tensorflow_model_optimization.python.core.quantization.keras.vitis.vitis_inspect.InspectResult at 0x7f89d05a9fd0>,\n",
       " <keras.layers.convolutional.conv2d.Conv2D at 0x7f89d07c35e0>: <tensorflow_model_optimization.python.core.quantization.keras.vitis.vitis_inspect.InspectResult at 0x7f89d04b0a90>,\n",
       " <keras.layers.normalization.batch_normalization.BatchNormalization at 0x7f89d07c3790>: <tensorflow_model_optimization.python.core.quantization.keras.vitis.vitis_inspect.InspectResult at 0x7f89d04b0d30>,\n",
       " <keras.layers.activation.relu.ReLU at 0x7f89d07c4be0>: <tensorflow_model_optimization.python.core.quantization.keras.vitis.vitis_inspect.InspectResult at 0x7f89d04b0fd0>,\n",
       " <keras.layers.convolutional.conv2d.Conv2D at 0x7f89d07c6f40>: <tensorflow_model_optimization.python.core.quantization.keras.vitis.vitis_inspect.InspectResult at 0x7f89d04b00a0>,\n",
       " <keras.layers.convolutional.conv2d.Conv2D at 0x7f89d07c44f0>: <tensorflow_model_optimization.python.core.quantization.keras.vitis.vitis_inspect.InspectResult at 0x7f89d04b0370>,\n",
       " <keras.layers.normalization.batch_normalization.BatchNormalization at 0x7f89d07c6160>: <tensorflow_model_optimization.python.core.quantization.keras.vitis.vitis_inspect.InspectResult at 0x7f89d03e71f0>,\n",
       " <keras.layers.normalization.batch_normalization.BatchNormalization at 0x7f89d07c56a0>: <tensorflow_model_optimization.python.core.quantization.keras.vitis.vitis_inspect.InspectResult at 0x7f89d0411ee0>,\n",
       " <keras.layers.merging.add.Add at 0x7f89d07c5b20>: <tensorflow_model_optimization.python.core.quantization.keras.vitis.vitis_inspect.InspectResult at 0x7f89d0411b20>,\n",
       " <keras.layers.activation.relu.ReLU at 0x7f89d07c5040>: <tensorflow_model_optimization.python.core.quantization.keras.vitis.vitis_inspect.InspectResult at 0x7f89d0411b80>,\n",
       " <keras.layers.convolutional.conv2d.Conv2D at 0x7f89d07c4eb0>: <tensorflow_model_optimization.python.core.quantization.keras.vitis.vitis_inspect.InspectResult at 0x7f89d0411370>,\n",
       " <keras.layers.normalization.batch_normalization.BatchNormalization at 0x7f89d0791880>: <tensorflow_model_optimization.python.core.quantization.keras.vitis.vitis_inspect.InspectResult at 0x7f89d0411ca0>,\n",
       " <keras.layers.activation.relu.ReLU at 0x7f89d0791fd0>: <tensorflow_model_optimization.python.core.quantization.keras.vitis.vitis_inspect.InspectResult at 0x7f89d0411fd0>,\n",
       " <keras.layers.convolutional.conv2d.Conv2D at 0x7f89d07c6e80>: <tensorflow_model_optimization.python.core.quantization.keras.vitis.vitis_inspect.InspectResult at 0x7f89d0411e50>,\n",
       " <keras.layers.normalization.batch_normalization.BatchNormalization at 0x7f89d07c55b0>: <tensorflow_model_optimization.python.core.quantization.keras.vitis.vitis_inspect.InspectResult at 0x7f89d04119d0>,\n",
       " <keras.layers.merging.add.Add at 0x7f89d0787820>: <tensorflow_model_optimization.python.core.quantization.keras.vitis.vitis_inspect.InspectResult at 0x7f89d0411af0>,\n",
       " <keras.layers.activation.relu.ReLU at 0x7f89d0791850>: <tensorflow_model_optimization.python.core.quantization.keras.vitis.vitis_inspect.InspectResult at 0x7f89d04112b0>,\n",
       " <keras.layers.pooling.average_pooling2d.AveragePooling2D at 0x7f89d07916a0>: <tensorflow_model_optimization.python.core.quantization.keras.vitis.vitis_inspect.InspectResult at 0x7f89d04116d0>,\n",
       " <keras.layers.reshaping.flatten.Flatten at 0x7f89673a8940>: <tensorflow_model_optimization.python.core.quantization.keras.vitis.vitis_inspect.InspectResult at 0x7f89d0411190>,\n",
       " <keras.layers.core.dense.Dense at 0x7f89dcda4100>: <tensorflow_model_optimization.python.core.quantization.keras.vitis.vitis_inspect.InspectResult at 0x7f89d03f8e50>}"
      ]
     },
     "execution_count": 11,
     "metadata": {},
     "output_type": "execute_result"
    }
   ],
   "source": [
    "target_dpu = 'DPUCZDX8G_ISA1_B4096'\n",
    "inspector = vitis_inspect.VitisInspector(target = target_dpu)\n",
    "\n",
    "if not os.path.exists(\"inspect\"):\n",
    "    os.makedirs(\"inspect\")\n",
    "\n",
    "inspector.inspect_model(model,\n",
    "                        input_shape = input_shape,\n",
    "                        dump_model = True,\n",
    "                        dump_model_file = \"inspect/inspected_model.h5\",\n",
    "                        plot = True,\n",
    "                        plot_file = \"inspect/model_plot.svg\",\n",
    "                        dump_results = True,\n",
    "                        dump_results_file = \"inspect/inspect_results.txt\",\n",
    "                        verbose = 0)"
   ]
  },
  {
   "cell_type": "markdown",
   "metadata": {},
   "source": [
    "# Quantize model"
   ]
  },
  {
   "cell_type": "code",
   "execution_count": 12,
   "metadata": {},
   "outputs": [
    {
     "name": "stdout",
     "output_type": "stream",
     "text": [
      "[VAI INFO] Using func format quantizer\n",
      "[VAI INFO] Start CrossLayerEqualization...\n",
      "10/10 [==============================] - 3s 362ms/step\n",
      "[VAI INFO] CrossLayerEqualization Done.\n",
      "[VAI INFO] Start Quantize Calibration...\n"
     ]
    },
    {
     "name": "stderr",
     "output_type": "stream",
     "text": [
      "2025-01-08 08:16:23.524656: I tensorflow/core/common_runtime/executor.cc:1197] [/device:CPU:0] (DEBUG INFO) Executor start aborting (this does not indicate an error and you can ignore this message): INVALID_ARGUMENT: You must feed a value for placeholder tensor 'Placeholder/_0' with dtype float and shape [100,32,32,3]\n",
      "\t [[{{node Placeholder/_0}}]]\n"
     ]
    },
    {
     "name": "stdout",
     "output_type": "stream",
     "text": [
      "100/100 [==============================] - 15s 97ms/step\n",
      "[VAI INFO] Quantize Calibration Done.\n",
      "[VAI INFO] Start Post-Quant Model Refinement...\n",
      "[VAI INFO] Start Quantize Position Ajustment...\n",
      "[VAI INFO] Quantize Position Ajustment Done.\n",
      "1/1 [==============================] - 1s 749ms/step\n",
      "[VAI INFO] Post-Quant Model Refninement Done.\n",
      "[VAI INFO] Start Model Finalization...\n",
      "[VAI INFO] Model Finalization Done.\n",
      "[VAI INFO] Quantization Finished.\n",
      "WARNING:tensorflow:Compiled the loaded model, but the compiled metrics have yet to be built. `model.compile_metrics` will be empty until you train or evaluate the model.\n",
      "Quantized model saved successfully.\n"
     ]
    }
   ],
   "source": [
    "target_dpu = 'DPUCZDX8G_ISA1_B4096'\n",
    "# target_dpu = \"default_optimized.json\"\n",
    "calib_data = train_images[:100]\n",
    "# Create a tf.data.Dataset and ensure batch dimension\n",
    "dataset = tf.data.Dataset.from_tensor_slices(calib_data) # convert 100,32,32,3 to a 100 item iterable/list\n",
    "\"\"\" for item in dataset:\n",
    "    print(item) \"\"\"\n",
    "# no need for data calibration because train_images was already calibrated earlier\n",
    "dataset = dataset.batch(1) # group 5 images each time to check activation and weight distribution\n",
    "\n",
    "# Inspect calibration data\n",
    "\"\"\" for sample in dataset.take(100):\n",
    "    print(\"Calibration sample shape:\", sample.shape)\n",
    "    print(\"Sample data range:\", sample.numpy().min(), sample.numpy().max()) \"\"\"\n",
    "\n",
    "# Quantization\n",
    "try:\n",
    "    quantizer = vitis_quantize.VitisQuantizer(model, target=target_dpu) #int8 accordiing to docs\n",
    "    q_model = quantizer.quantize_model(calib_dataset=dataset, \n",
    "                                       input_shape=input_shape, \n",
    "                                       calib_steps=None) #use all of the dataset\n",
    "    q_model.save(\"quantized_model.h5\")\n",
    "    print(\"Quantized model saved successfully.\")\n",
    "except Exception as e:\n",
    "    print(\"Error during quantization:\", e)"
   ]
  },
  {
   "cell_type": "markdown",
   "metadata": {},
   "source": [
    "# Recompile & evaluate quantized model"
   ]
  },
  {
   "cell_type": "code",
   "execution_count": 13,
   "metadata": {},
   "outputs": [
    {
     "name": "stdout",
     "output_type": "stream",
     "text": [
      "10000/10000 [==============================] - 175s 17ms/step - loss: 0.5071 - accuracy: 0.9232\n"
     ]
    },
    {
     "data": {
      "text/plain": [
       "[0.5070731043815613, 0.9232000112533569]"
      ]
     },
     "execution_count": 13,
     "metadata": {},
     "output_type": "execute_result"
    }
   ],
   "source": [
    "batch_size = 1\n",
    "#i dont think we need this - Zé \n",
    "\n",
    "#learning_rate = 0.0001\n",
    "#momentum = 0\n",
    "#epsilon = 1e-08\n",
    "\n",
    "\"\"\" q_model.compile(\n",
    "    optimizer = tf.keras.optimizers.RMSprop(\n",
    "        learning_rate = learning_rate,\n",
    "        momentum = momentum,\n",
    "        epsilon = epsilon),\n",
    "    loss = tf.keras.losses.CategoricalCrossentropy(reduction = tf.keras.losses.Reduction.SUM_OVER_BATCH_SIZE),\n",
    "    metrics = ['acc'])\n",
    " \"\"\"\n",
    "\n",
    "# Instead:\n",
    "#compile with a dummy optimizer, since we are not training \n",
    "q_model.compile(optimizer='sgd',\n",
    "                loss=tf.keras.losses.CategoricalCrossentropy(),\n",
    "                metrics=['accuracy'])\n",
    "\n",
    "q_model.evaluate(test_images, test_labels, batch_size=batch_size)"
   ]
  },
  {
   "cell_type": "markdown",
   "metadata": {},
   "source": [
    "# Compile the DPU"
   ]
  },
  {
   "cell_type": "code",
   "execution_count": 14,
   "metadata": {},
   "outputs": [
    {
     "name": "stdout",
     "output_type": "stream",
     "text": [
      "**************************************************\n",
      "* VITIS_AI Compilation - Xilinx Inc.\n",
      "**************************************************\n",
      "[INFO] Namespace(batchsize=1, inputs_shape=None, layout='NHWC', model_files=['./quantized_model.h5'], model_type='tensorflow2', named_inputs_shape=None, out_filename='/tmp/final_model_0x101000007010407_org.xmodel', proto=None)\n",
      "[INFO] tensorflow2 model: /workspace/amd-kria-running-CIFAR-10-vitis_optimization/amd-kria-running-CIFAR-10/quantized_model.h5\n",
      "[INFO] keras version: 2.12.0\n",
      "[INFO] Tensorflow Keras model type: functional\n",
      "[INFO] parse raw model     :100%|█| 51/51 [00:00<00:00, 35321.91it/s]           \n",
      "[INFO] infer shape (NHWC)  :100%|█| 83/83 [00:00<00:00, 16376.29it/s]           \n",
      "[INFO] perform level-0 opt :100%|█| 1/1 [00:00<00:00, 357.69it/s]               \n",
      "[INFO] perform level-1 opt :100%|█| 2/2 [00:00<00:00, 1629.17it/s]              \n",
      "[INFO] infer shape (NHWC)  :100%|█| 85/85 [00:00<00:00, 23523.08it/s]           \n",
      "[INFO] generate xmodel     :100%|█| 85/85 [00:00<00:00, 925.52it/s]             \n",
      "[INFO] dump xmodel: /tmp/final_model_0x101000007010407_org.xmodel\n",
      "[UNILOG][INFO] Compile mode: dpu\n",
      "[UNILOG][INFO] Debug mode: null\n",
      "[UNILOG][INFO] Target architecture: DPUCZDX8G_ISA1_B4096_0101000007010407\n",
      "[UNILOG][INFO] Graph name: model_3, with op num: 167\n",
      "[UNILOG][INFO] Begin to compile...\n",
      "[UNILOG][INFO] Total device subgraph number 3, DPU subgraph number 1\n",
      "[UNILOG][INFO] Compile done.\n",
      "[UNILOG][INFO] The meta json is saved to \"/workspace/amd-kria-running-CIFAR-10-vitis_optimization/amd-kria-running-CIFAR-10/xmodel/meta.json\"\n",
      "[UNILOG][INFO] The compiled xmodel is saved to \"/workspace/amd-kria-running-CIFAR-10-vitis_optimization/amd-kria-running-CIFAR-10/xmodel/final_model.xmodel\"\n",
      "[UNILOG][INFO] The compiled xmodel's md5sum is 75ae55513fdb15f8cd2049f645cb6fc1, and has been saved to \"/workspace/amd-kria-running-CIFAR-10-vitis_optimization/amd-kria-running-CIFAR-10/xmodel/md5sum.txt\"\n"
     ]
    }
   ],
   "source": [
    "!vai_c_tensorflow2 -m \"./quantized_model.h5\" -a \"final.json\" -o \"xmodel\" -n final_model "
   ]
  },
  {
   "cell_type": "code",
   "execution_count": null,
   "metadata": {},
   "outputs": [],
   "source": []
  }
 ],
 "metadata": {
  "kernelspec": {
   "display_name": "Python 3 (ipykernel)",
   "language": "python",
   "name": "python3"
  },
  "language_info": {
   "codemirror_mode": {
    "name": "ipython",
    "version": 3
   },
   "file_extension": ".py",
   "mimetype": "text/x-python",
   "name": "python",
   "nbconvert_exporter": "python",
   "pygments_lexer": "ipython3",
   "version": "3.8.6"
  }
 },
 "nbformat": 4,
 "nbformat_minor": 2
}
