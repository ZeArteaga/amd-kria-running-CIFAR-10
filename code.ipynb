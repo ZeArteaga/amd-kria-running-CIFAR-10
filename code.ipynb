{
 "cells": [
  {
   "cell_type": "markdown",
   "metadata": {},
   "source": [
    "# Libraries importing"
   ]
  },
  {
   "cell_type": "code",
   "execution_count": 1,
   "metadata": {},
   "outputs": [
    {
     "name": "stderr",
     "output_type": "stream",
     "text": [
      "2025-01-08 04:27:38.880377: I tensorflow/core/platform/cpu_feature_guard.cc:186] This TensorFlow binary is optimized with Zen Deep Neural Network Library (ZenDNN) to use available CPU instructions in performance-critical operations.\n",
      "To enable the following instructions: SSE3 SSE4.1 SSE4.2 AVX AVX2 FMA, in other operations, rebuild TensorFlow with the appropriate compiler flags.\n"
     ]
    }
   ],
   "source": [
    "import numpy as np\n",
    "import os\n",
    "import pickle\n",
    "import tensorflow as tf\n",
    "from tensorflow_model_optimization.quantization.keras import vitis_inspect, vitis_quantize\n",
    "from tensorflow_model_optimization.python.core.quantization.keras.vitis.utils import model_utils\n",
    "from tensorflow.keras.models import Sequential\n",
    "from tensorflow.keras.utils import to_categorical\n",
    "from tensorflow.keras.models import Model, load_model\n",
    "from tensorflow.keras.optimizers import Adam, SGD"
   ]
  },
  {
   "cell_type": "markdown",
   "metadata": {},
   "source": [
    "# Function to load the CIFAR10 dataset (after downloading it locally)"
   ]
  },
  {
   "cell_type": "code",
   "execution_count": 2,
   "metadata": {},
   "outputs": [],
   "source": [
    "def load_cifar10(data_dir):\n",
    "    def unpickle(file):\n",
    "        with open(file, 'rb') as fo:\n",
    "            dict = pickle.load(fo, encoding='bytes')\n",
    "        return dict\n",
    "\n",
    "    # Load training data\n",
    "    x_train, y_train = [], []\n",
    "    for i in range(1, 6):  # CIFAR-10 training data consists of 5 batches\n",
    "        batch = unpickle(os.path.join(data_dir, f\"data_batch_{i}\"))\n",
    "        x_train.append(batch[b'data'])\n",
    "        y_train.extend(batch[b'labels'])\n",
    "\n",
    "    x_train = np.vstack(x_train).reshape(-1, 3, 32, 32).transpose(0, 2, 3, 1)\n",
    "    y_train = np.array(y_train)\n",
    "\n",
    "    # Load test data\n",
    "    test_batch = unpickle(os.path.join(data_dir, \"test_batch\"))\n",
    "    x_test = test_batch[b'data'].reshape(-1, 3, 32, 32).transpose(0, 2, 3, 1)\n",
    "    y_test = np.array(test_batch[b'labels'])\n",
    "\n",
    "    return (x_train, y_train), (x_test, y_test)"
   ]
  },
  {
   "cell_type": "markdown",
   "metadata": {},
   "source": [
    "# Actually loading CIFAR10"
   ]
  },
  {
   "cell_type": "code",
   "execution_count": 3,
   "metadata": {},
   "outputs": [
    {
     "name": "stdout",
     "output_type": "stream",
     "text": [
      "(50000, 32, 32, 3)\n",
      "(50000,)\n",
      "(50000, 32, 32, 3)\n",
      "(50000, 10)\n"
     ]
    }
   ],
   "source": [
    "#CIFAR-10 dataset\n",
    "(train_images, train_labels), (test_images, test_labels) = load_cifar10(\"cifar-10-batches-py\")\n",
    "print(train_images.shape)\n",
    "print(train_labels.shape)\n",
    "train_images = train_images.reshape(train_images.shape[0], 32, 32, 3) #ensure shape 32 W x 32 H x 3 channels for each image\n",
    "test_images = test_images.reshape(test_images.shape[0], 32, 32, 3)\n",
    "\n",
    "#range 0-1\n",
    "train_images = train_images.astype('float32') / 255.0\n",
    "test_images = test_images.astype('float32') / 255.0\n",
    "\n",
    "#One-hot encoding labels\n",
    "train_labels = to_categorical(train_labels, 10)\n",
    "test_labels = to_categorical(test_labels, 10)\n",
    "\n",
    "print(train_images.shape)\n",
    "print(train_labels.shape)"
   ]
  },
  {
   "cell_type": "markdown",
   "metadata": {},
   "source": [
    "# Loading a trained model"
   ]
  },
  {
   "cell_type": "code",
   "execution_count": 14,
   "metadata": {},
   "outputs": [
    {
     "name": "stdout",
     "output_type": "stream",
     "text": [
      "Model: \"model\"\n",
      "__________________________________________________________________________________________________\n",
      " Layer (type)                   Output Shape         Param #     Connected to                     \n",
      "==================================================================================================\n",
      " input_1 (InputLayer)           [(None, 32, 32, 3)]  0           []                               \n",
      "                                                                                                  \n",
      " conv2d (Conv2D)                (None, 32, 32, 64)   1792        ['input_1[0][0]']                \n",
      "                                                                                                  \n",
      " batch_normalization (BatchNorm  (None, 32, 32, 64)  256         ['conv2d[0][0]']                 \n",
      " alization)                                                                                       \n",
      "                                                                                                  \n",
      " re_lu (ReLU)                   (None, 32, 32, 64)   0           ['batch_normalization[0][0]']    \n",
      "                                                                                                  \n",
      " conv2d_1 (Conv2D)              (None, 32, 32, 64)   36928       ['re_lu[0][0]']                  \n",
      "                                                                                                  \n",
      " batch_normalization_1 (BatchNo  (None, 32, 32, 64)  256         ['conv2d_1[0][0]']               \n",
      " rmalization)                                                                                     \n",
      "                                                                                                  \n",
      " re_lu_1 (ReLU)                 (None, 32, 32, 64)   0           ['batch_normalization_1[0][0]']  \n",
      "                                                                                                  \n",
      " conv2d_2 (Conv2D)              (None, 32, 32, 64)   36928       ['re_lu_1[0][0]']                \n",
      "                                                                                                  \n",
      " batch_normalization_2 (BatchNo  (None, 32, 32, 64)  256         ['conv2d_2[0][0]']               \n",
      " rmalization)                                                                                     \n",
      "                                                                                                  \n",
      " add (Add)                      (None, 32, 32, 64)   0           ['batch_normalization_2[0][0]',  \n",
      "                                                                  're_lu[0][0]']                  \n",
      "                                                                                                  \n",
      " re_lu_2 (ReLU)                 (None, 32, 32, 64)   0           ['add[0][0]']                    \n",
      "                                                                                                  \n",
      " conv2d_3 (Conv2D)              (None, 32, 32, 64)   36928       ['re_lu_2[0][0]']                \n",
      "                                                                                                  \n",
      " batch_normalization_3 (BatchNo  (None, 32, 32, 64)  256         ['conv2d_3[0][0]']               \n",
      " rmalization)                                                                                     \n",
      "                                                                                                  \n",
      " re_lu_3 (ReLU)                 (None, 32, 32, 64)   0           ['batch_normalization_3[0][0]']  \n",
      "                                                                                                  \n",
      " conv2d_4 (Conv2D)              (None, 32, 32, 64)   36928       ['re_lu_3[0][0]']                \n",
      "                                                                                                  \n",
      " batch_normalization_4 (BatchNo  (None, 32, 32, 64)  256         ['conv2d_4[0][0]']               \n",
      " rmalization)                                                                                     \n",
      "                                                                                                  \n",
      " add_1 (Add)                    (None, 32, 32, 64)   0           ['batch_normalization_4[0][0]',  \n",
      "                                                                  're_lu_2[0][0]']                \n",
      "                                                                                                  \n",
      " re_lu_4 (ReLU)                 (None, 32, 32, 64)   0           ['add_1[0][0]']                  \n",
      "                                                                                                  \n",
      " conv2d_6 (Conv2D)              (None, 16, 16, 128)  73856       ['re_lu_4[0][0]']                \n",
      "                                                                                                  \n",
      " batch_normalization_6 (BatchNo  (None, 16, 16, 128)  512        ['conv2d_6[0][0]']               \n",
      " rmalization)                                                                                     \n",
      "                                                                                                  \n",
      " re_lu_5 (ReLU)                 (None, 16, 16, 128)  0           ['batch_normalization_6[0][0]']  \n",
      "                                                                                                  \n",
      " conv2d_7 (Conv2D)              (None, 16, 16, 128)  147584      ['re_lu_5[0][0]']                \n",
      "                                                                                                  \n",
      " conv2d_5 (Conv2D)              (None, 16, 16, 128)  8320        ['re_lu_4[0][0]']                \n",
      "                                                                                                  \n",
      " batch_normalization_7 (BatchNo  (None, 16, 16, 128)  512        ['conv2d_7[0][0]']               \n",
      " rmalization)                                                                                     \n",
      "                                                                                                  \n",
      " batch_normalization_5 (BatchNo  (None, 16, 16, 128)  512        ['conv2d_5[0][0]']               \n",
      " rmalization)                                                                                     \n",
      "                                                                                                  \n",
      " add_2 (Add)                    (None, 16, 16, 128)  0           ['batch_normalization_7[0][0]',  \n",
      "                                                                  'batch_normalization_5[0][0]']  \n",
      "                                                                                                  \n",
      " re_lu_6 (ReLU)                 (None, 16, 16, 128)  0           ['add_2[0][0]']                  \n",
      "                                                                                                  \n",
      " conv2d_8 (Conv2D)              (None, 16, 16, 128)  147584      ['re_lu_6[0][0]']                \n",
      "                                                                                                  \n",
      " batch_normalization_8 (BatchNo  (None, 16, 16, 128)  512        ['conv2d_8[0][0]']               \n",
      " rmalization)                                                                                     \n",
      "                                                                                                  \n",
      " re_lu_7 (ReLU)                 (None, 16, 16, 128)  0           ['batch_normalization_8[0][0]']  \n",
      "                                                                                                  \n",
      " conv2d_9 (Conv2D)              (None, 16, 16, 128)  147584      ['re_lu_7[0][0]']                \n",
      "                                                                                                  \n",
      " batch_normalization_9 (BatchNo  (None, 16, 16, 128)  512        ['conv2d_9[0][0]']               \n",
      " rmalization)                                                                                     \n",
      "                                                                                                  \n",
      " add_3 (Add)                    (None, 16, 16, 128)  0           ['batch_normalization_9[0][0]',  \n",
      "                                                                  're_lu_6[0][0]']                \n",
      "                                                                                                  \n"
     ]
    },
    {
     "name": "stdout",
     "output_type": "stream",
     "text": [
      " re_lu_8 (ReLU)                 (None, 16, 16, 128)  0           ['add_3[0][0]']                  \n",
      "                                                                                                  \n",
      " conv2d_11 (Conv2D)             (None, 8, 8, 256)    295168      ['re_lu_8[0][0]']                \n",
      "                                                                                                  \n",
      " batch_normalization_11 (BatchN  (None, 8, 8, 256)   1024        ['conv2d_11[0][0]']              \n",
      " ormalization)                                                                                    \n",
      "                                                                                                  \n",
      " re_lu_9 (ReLU)                 (None, 8, 8, 256)    0           ['batch_normalization_11[0][0]'] \n",
      "                                                                                                  \n",
      " conv2d_12 (Conv2D)             (None, 8, 8, 256)    590080      ['re_lu_9[0][0]']                \n",
      "                                                                                                  \n",
      " conv2d_10 (Conv2D)             (None, 8, 8, 256)    33024       ['re_lu_8[0][0]']                \n",
      "                                                                                                  \n",
      " batch_normalization_12 (BatchN  (None, 8, 8, 256)   1024        ['conv2d_12[0][0]']              \n",
      " ormalization)                                                                                    \n",
      "                                                                                                  \n",
      " batch_normalization_10 (BatchN  (None, 8, 8, 256)   1024        ['conv2d_10[0][0]']              \n",
      " ormalization)                                                                                    \n",
      "                                                                                                  \n",
      " add_4 (Add)                    (None, 8, 8, 256)    0           ['batch_normalization_12[0][0]', \n",
      "                                                                  'batch_normalization_10[0][0]'] \n",
      "                                                                                                  \n",
      " re_lu_10 (ReLU)                (None, 8, 8, 256)    0           ['add_4[0][0]']                  \n",
      "                                                                                                  \n",
      " conv2d_13 (Conv2D)             (None, 8, 8, 256)    590080      ['re_lu_10[0][0]']               \n",
      "                                                                                                  \n",
      " batch_normalization_13 (BatchN  (None, 8, 8, 256)   1024        ['conv2d_13[0][0]']              \n",
      " ormalization)                                                                                    \n",
      "                                                                                                  \n",
      " re_lu_11 (ReLU)                (None, 8, 8, 256)    0           ['batch_normalization_13[0][0]'] \n",
      "                                                                                                  \n",
      " conv2d_14 (Conv2D)             (None, 8, 8, 256)    590080      ['re_lu_11[0][0]']               \n",
      "                                                                                                  \n",
      " batch_normalization_14 (BatchN  (None, 8, 8, 256)   1024        ['conv2d_14[0][0]']              \n",
      " ormalization)                                                                                    \n",
      "                                                                                                  \n",
      " add_5 (Add)                    (None, 8, 8, 256)    0           ['batch_normalization_14[0][0]', \n",
      "                                                                  're_lu_10[0][0]']               \n",
      "                                                                                                  \n",
      " re_lu_12 (ReLU)                (None, 8, 8, 256)    0           ['add_5[0][0]']                  \n",
      "                                                                                                  \n",
      " conv2d_16 (Conv2D)             (None, 4, 4, 512)    1180160     ['re_lu_12[0][0]']               \n",
      "                                                                                                  \n",
      " batch_normalization_16 (BatchN  (None, 4, 4, 512)   2048        ['conv2d_16[0][0]']              \n",
      " ormalization)                                                                                    \n",
      "                                                                                                  \n",
      " re_lu_13 (ReLU)                (None, 4, 4, 512)    0           ['batch_normalization_16[0][0]'] \n",
      "                                                                                                  \n",
      " conv2d_17 (Conv2D)             (None, 4, 4, 512)    2359808     ['re_lu_13[0][0]']               \n",
      "                                                                                                  \n",
      " conv2d_15 (Conv2D)             (None, 4, 4, 512)    131584      ['re_lu_12[0][0]']               \n",
      "                                                                                                  \n",
      " batch_normalization_17 (BatchN  (None, 4, 4, 512)   2048        ['conv2d_17[0][0]']              \n",
      " ormalization)                                                                                    \n",
      "                                                                                                  \n",
      " batch_normalization_15 (BatchN  (None, 4, 4, 512)   2048        ['conv2d_15[0][0]']              \n",
      " ormalization)                                                                                    \n",
      "                                                                                                  \n",
      " add_6 (Add)                    (None, 4, 4, 512)    0           ['batch_normalization_17[0][0]', \n",
      "                                                                  'batch_normalization_15[0][0]'] \n",
      "                                                                                                  \n",
      " re_lu_14 (ReLU)                (None, 4, 4, 512)    0           ['add_6[0][0]']                  \n",
      "                                                                                                  \n",
      " conv2d_18 (Conv2D)             (None, 4, 4, 512)    2359808     ['re_lu_14[0][0]']               \n",
      "                                                                                                  \n",
      " batch_normalization_18 (BatchN  (None, 4, 4, 512)   2048        ['conv2d_18[0][0]']              \n",
      " ormalization)                                                                                    \n",
      "                                                                                                  \n",
      " re_lu_15 (ReLU)                (None, 4, 4, 512)    0           ['batch_normalization_18[0][0]'] \n",
      "                                                                                                  \n",
      " conv2d_19 (Conv2D)             (None, 4, 4, 512)    2359808     ['re_lu_15[0][0]']               \n",
      "                                                                                                  \n",
      " batch_normalization_19 (BatchN  (None, 4, 4, 512)   2048        ['conv2d_19[0][0]']              \n",
      " ormalization)                                                                                    \n",
      "                                                                                                  \n",
      " add_7 (Add)                    (None, 4, 4, 512)    0           ['batch_normalization_19[0][0]', \n",
      "                                                                  're_lu_14[0][0]']               \n",
      "                                                                                                  \n",
      " re_lu_16 (ReLU)                (None, 4, 4, 512)    0           ['add_7[0][0]']                  \n",
      "                                                                                                  \n",
      " global_average_pooling2d (Glob  (None, 512)         0           ['re_lu_16[0][0]']               \n",
      " alAveragePooling2D)                                                                              \n",
      "                                                                                                  \n"
     ]
    },
    {
     "name": "stdout",
     "output_type": "stream",
     "text": [
      " dense (Dense)                  (None, 10)           5130        ['global_average_pooling2d[0][0]'\n",
      "                                                                 ]                                \n",
      "                                                                                                  \n",
      "==================================================================================================\n",
      "Total params: 11,188,362\n",
      "Trainable params: 11,178,762\n",
      "Non-trainable params: 9,600\n",
      "__________________________________________________________________________________________________\n"
     ]
    }
   ],
   "source": [
    "input_shape = (None,32, 32, 3)\n",
    "model = load_model('best_model.h5')\n",
    "model.build(input_shape=input_shape)\n",
    "model.summary()\n",
    "\n",
    "opt = SGD(learning_rate=0.1, momentum=0.9, weight_decay=1e-4)"
   ]
  },
  {
   "cell_type": "markdown",
   "metadata": {},
   "source": [
    "# Copying the guide, 17:57 in the video (just inspection)"
   ]
  },
  {
   "cell_type": "code",
   "execution_count": 15,
   "metadata": {},
   "outputs": [
    {
     "name": "stdout",
     "output_type": "stream",
     "text": [
      "[VAI INFO] Update include_bias_corr: False\n",
      "[VAI INFO] Update include_fast_ft: False\n",
      "[VAI INFO] Update include_cle: False\n",
      "[INFO] Namespace(batchsize=1, inputs_shape=None, layout='NHWC', model_files=['/tmp/root/tensorflow_model_optimization/tmp_sub_graph_quantized_20250108-051022-562493_sCqTBW.h5'], model_type='tensorflow2', named_inputs_shape=None, out_filename='/tmp/root/tensorflow_model_optimization/tmp_sub_graph_xnnc_20250108-051022-562493_sCqTBW.xmodel', proto=None)\n",
      "[INFO] tensorflow2 model: /tmp/root/tensorflow_model_optimization/tmp_sub_graph_quantized_20250108-051022-562493_sCqTBW.h5\n",
      "[INFO] keras version: 2.12.0\n",
      "[INFO] Tensorflow Keras model type: functional\n"
     ]
    },
    {
     "name": "stderr",
     "output_type": "stream",
     "text": [
      "[INFO] parse raw model     :100%|█| 3/3 [00:00<00:00, 9510.89it/s]              \n",
      "[INFO] infer shape (NHWC)  :100%|█| 4/4 [00:00<00:00, 23530.46it/s]             \n",
      "[INFO] perform level-0 opt :100%|█| 1/1 [00:00<00:00, 4599.02it/s]              \n",
      "[INFO] perform level-1 opt :100%|█| 2/2 [00:00<00:00, 7430.12it/s]              \n",
      "[INFO] infer shape (NHWC)  :100%|█| 6/6 [00:00<00:00, 22550.02it/s]             \n",
      "[INFO] generate xmodel     :100%|█| 6/6 [00:00<00:00, 7931.24it/s]              \n",
      "I20250108 05:10:22.702638    99 compile_pass_manager.cpp:352] [UNILOG][INFO] Compile mode: dpu\n",
      "I20250108 05:10:22.702656    99 compile_pass_manager.cpp:353] [UNILOG][INFO] Debug mode: null\n",
      "I20250108 05:10:22.702661    99 compile_pass_manager.cpp:357] [UNILOG][INFO] Target architecture: DPUCZDX8G_ISA1_B4096\n",
      "I20250108 05:10:22.702755    99 compile_pass_manager.cpp:465] [UNILOG][INFO] Graph name: model_31, with op num: 6\n",
      "I20250108 05:10:22.702759    99 compile_pass_manager.cpp:478] [UNILOG][INFO] Begin to compile...\n",
      "I20250108 05:10:22.704691    99 compile_pass_manager.cpp:489] [UNILOG][INFO] Total device subgraph number 3, DPU subgraph number 1\n",
      "I20250108 05:10:22.704711    99 compile_pass_manager.cpp:504] [UNILOG][INFO] Compile done.\n"
     ]
    },
    {
     "name": "stdout",
     "output_type": "stream",
     "text": [
      "[INFO] dump xmodel ...\r",
      "[INFO] dump xmodel: /tmp/root/tensorflow_model_optimization/tmp_sub_graph_xnnc_20250108-051022-562493_sCqTBW.xmodel\n",
      "[INFO] Namespace(batchsize=1, inputs_shape=None, layout='NHWC', model_files=['/tmp/root/tensorflow_model_optimization/tmp_sub_graph_quantized_20250108-051022-562862_FWgicf.h5'], model_type='tensorflow2', named_inputs_shape=None, out_filename='/tmp/root/tensorflow_model_optimization/tmp_sub_graph_xnnc_20250108-051022-562862_FWgicf.xmodel', proto=None)\n",
      "[INFO] tensorflow2 model: /tmp/root/tensorflow_model_optimization/tmp_sub_graph_quantized_20250108-051022-562862_FWgicf.h5\n",
      "[INFO] keras version: 2.12.0\n",
      "[INFO] Tensorflow Keras model type: functional\n"
     ]
    },
    {
     "name": "stderr",
     "output_type": "stream",
     "text": [
      "[INFO] parse raw model     :100%|█| 4/4 [00:00<00:00, 14074.85it/s]             \n",
      "[INFO] infer shape (NHWC)  :100%|█| 5/5 [00:00<00:00, 14810.40it/s]             \n",
      "[INFO] perform level-0 opt :100%|█| 1/1 [00:00<00:00, 4104.02it/s]              \n",
      "[INFO] perform level-1 opt :100%|█| 2/2 [00:00<00:00, 9177.91it/s]              \n",
      "[INFO] generate xmodel     :100%|█| 5/5 [00:00<00:00, 3572.05it/s]              \n",
      "I20250108 05:10:22.821817    99 compile_pass_manager.cpp:352] [UNILOG][INFO] Compile mode: dpu\n",
      "I20250108 05:10:22.821832    99 compile_pass_manager.cpp:353] [UNILOG][INFO] Debug mode: null\n",
      "I20250108 05:10:22.821835    99 compile_pass_manager.cpp:357] [UNILOG][INFO] Target architecture: DPUCZDX8G_ISA1_B4096\n",
      "I20250108 05:10:22.821924    99 compile_pass_manager.cpp:465] [UNILOG][INFO] Graph name: model_32, with op num: 9\n",
      "I20250108 05:10:22.821928    99 compile_pass_manager.cpp:478] [UNILOG][INFO] Begin to compile...\n",
      "I20250108 05:10:22.824172    99 compile_pass_manager.cpp:489] [UNILOG][INFO] Total device subgraph number 3, DPU subgraph number 1\n",
      "I20250108 05:10:22.824189    99 compile_pass_manager.cpp:504] [UNILOG][INFO] Compile done.\n"
     ]
    },
    {
     "name": "stdout",
     "output_type": "stream",
     "text": [
      "[INFO] dump xmodel ...\r",
      "[INFO] dump xmodel: /tmp/root/tensorflow_model_optimization/tmp_sub_graph_xnnc_20250108-051022-562862_FWgicf.xmodel\n",
      "[INFO] Namespace(batchsize=1, inputs_shape=None, layout='NHWC', model_files=['/tmp/root/tensorflow_model_optimization/tmp_sub_graph_quantized_20250108-051022-562862_FWgicf.h5'], model_type='tensorflow2', named_inputs_shape=None, out_filename='/tmp/root/tensorflow_model_optimization/tmp_sub_graph_xnnc_20250108-051022-562862_FWgicf.xmodel', proto=None)\n",
      "[INFO] tensorflow2 model: /tmp/root/tensorflow_model_optimization/tmp_sub_graph_quantized_20250108-051022-562862_FWgicf.h5\n",
      "[INFO] keras version: 2.12.0\n",
      "[INFO] Tensorflow Keras model type: functional\n"
     ]
    },
    {
     "name": "stderr",
     "output_type": "stream",
     "text": [
      "[INFO] parse raw model     :100%|█| 4/4 [00:00<00:00, 13865.47it/s]             \n",
      "[INFO] infer shape (NHWC)  :100%|█| 5/5 [00:00<00:00, 8115.91it/s]              \n",
      "[INFO] perform level-0 opt :100%|█| 1/1 [00:00<00:00, 2991.66it/s]              \n",
      "[INFO] perform level-1 opt :100%|█| 2/2 [00:00<00:00, 9822.73it/s]              \n",
      "[INFO] generate xmodel     :100%|█| 5/5 [00:00<00:00, 3095.88it/s]              \n",
      "I20250108 05:10:22.896265    99 compile_pass_manager.cpp:352] [UNILOG][INFO] Compile mode: dpu\n",
      "I20250108 05:10:22.896277    99 compile_pass_manager.cpp:353] [UNILOG][INFO] Debug mode: null\n",
      "I20250108 05:10:22.896281    99 compile_pass_manager.cpp:357] [UNILOG][INFO] Target architecture: DPUCZDX8G_ISA1_B4096\n",
      "I20250108 05:10:22.896347    99 compile_pass_manager.cpp:465] [UNILOG][INFO] Graph name: model_33, with op num: 9\n",
      "I20250108 05:10:22.896353    99 compile_pass_manager.cpp:478] [UNILOG][INFO] Begin to compile...\n",
      "I20250108 05:10:22.899468    99 compile_pass_manager.cpp:489] [UNILOG][INFO] Total device subgraph number 3, DPU subgraph number 1\n",
      "I20250108 05:10:22.899484    99 compile_pass_manager.cpp:504] [UNILOG][INFO] Compile done.\n"
     ]
    },
    {
     "name": "stdout",
     "output_type": "stream",
     "text": [
      "[INFO] dump xmodel: /tmp/root/tensorflow_model_optimization/tmp_sub_graph_xnnc_20250108-051022-562862_FWgicf.xmodel\n",
      "[INFO] Namespace(batchsize=1, inputs_shape=None, layout='NHWC', model_files=['/tmp/root/tensorflow_model_optimization/tmp_sub_graph_quantized_20250108-051022-562862_FWgicf.h5'], model_type='tensorflow2', named_inputs_shape=None, out_filename='/tmp/root/tensorflow_model_optimization/tmp_sub_graph_xnnc_20250108-051022-562862_FWgicf.xmodel', proto=None)\n",
      "[INFO] tensorflow2 model: /tmp/root/tensorflow_model_optimization/tmp_sub_graph_quantized_20250108-051022-562862_FWgicf.h5\n",
      "[INFO] keras version: 2.12.0\n",
      "[INFO] Tensorflow Keras model type: functional\n"
     ]
    },
    {
     "name": "stderr",
     "output_type": "stream",
     "text": [
      "[INFO] parse raw model     :100%|█| 4/4 [00:00<00:00, 21290.88it/s]             \n",
      "[INFO] infer shape (NHWC)  :100%|█| 5/5 [00:00<00:00, 10645.44it/s]             \n",
      "[INFO] perform level-0 opt :100%|█| 1/1 [00:00<00:00, 4723.32it/s]              \n",
      "[INFO] perform level-1 opt :100%|█| 2/2 [00:00<00:00, 15060.34it/s]             \n",
      "[INFO] generate xmodel     :100%|█| 5/5 [00:00<00:00, 5031.55it/s]              \n",
      "I20250108 05:10:22.970817    99 compile_pass_manager.cpp:352] [UNILOG][INFO] Compile mode: dpu\n",
      "I20250108 05:10:22.970830    99 compile_pass_manager.cpp:353] [UNILOG][INFO] Debug mode: null\n",
      "I20250108 05:10:22.970834    99 compile_pass_manager.cpp:357] [UNILOG][INFO] Target architecture: DPUCZDX8G_ISA1_B4096\n",
      "I20250108 05:10:22.970891    99 compile_pass_manager.cpp:465] [UNILOG][INFO] Graph name: model_34, with op num: 9\n",
      "I20250108 05:10:22.970894    99 compile_pass_manager.cpp:478] [UNILOG][INFO] Begin to compile...\n",
      "I20250108 05:10:22.973933    99 compile_pass_manager.cpp:489] [UNILOG][INFO] Total device subgraph number 3, DPU subgraph number 1\n",
      "I20250108 05:10:22.973950    99 compile_pass_manager.cpp:504] [UNILOG][INFO] Compile done.\n"
     ]
    },
    {
     "name": "stdout",
     "output_type": "stream",
     "text": [
      "[INFO] dump xmodel: /tmp/root/tensorflow_model_optimization/tmp_sub_graph_xnnc_20250108-051022-562862_FWgicf.xmodel\n",
      "[INFO] Namespace(batchsize=1, inputs_shape=None, layout='NHWC', model_files=['/tmp/root/tensorflow_model_optimization/tmp_sub_graph_quantized_20250108-051022-562862_FWgicf.h5'], model_type='tensorflow2', named_inputs_shape=None, out_filename='/tmp/root/tensorflow_model_optimization/tmp_sub_graph_xnnc_20250108-051022-562862_FWgicf.xmodel', proto=None)\n",
      "[INFO] tensorflow2 model: /tmp/root/tensorflow_model_optimization/tmp_sub_graph_quantized_20250108-051022-562862_FWgicf.h5\n",
      "[INFO] keras version: 2.12.0\n",
      "[INFO] Tensorflow Keras model type: functional\n"
     ]
    },
    {
     "name": "stderr",
     "output_type": "stream",
     "text": [
      "[INFO] parse raw model     :100%|█| 4/4 [00:00<00:00, 8825.47it/s]              \n",
      "[INFO] infer shape (NHWC)  :100%|█| 5/5 [00:00<00:00, 14990.36it/s]             \n",
      "[INFO] perform level-0 opt :100%|█| 1/1 [00:00<00:00, 4604.07it/s]              \n",
      "[INFO] perform level-1 opt :100%|█| 2/2 [00:00<00:00, 15448.63it/s]             \n",
      "[INFO] generate xmodel     :100%|█| 5/5 [00:00<00:00, 4432.79it/s]              \n",
      "I20250108 05:10:23.044137    99 compile_pass_manager.cpp:352] [UNILOG][INFO] Compile mode: dpu\n",
      "I20250108 05:10:23.044152    99 compile_pass_manager.cpp:353] [UNILOG][INFO] Debug mode: null\n",
      "I20250108 05:10:23.044154    99 compile_pass_manager.cpp:357] [UNILOG][INFO] Target architecture: DPUCZDX8G_ISA1_B4096\n",
      "I20250108 05:10:23.044212    99 compile_pass_manager.cpp:465] [UNILOG][INFO] Graph name: model_35, with op num: 9\n",
      "I20250108 05:10:23.044214    99 compile_pass_manager.cpp:478] [UNILOG][INFO] Begin to compile...\n",
      "I20250108 05:10:23.048058    99 compile_pass_manager.cpp:489] [UNILOG][INFO] Total device subgraph number 3, DPU subgraph number 1\n",
      "I20250108 05:10:23.048076    99 compile_pass_manager.cpp:504] [UNILOG][INFO] Compile done.\n"
     ]
    },
    {
     "name": "stdout",
     "output_type": "stream",
     "text": [
      "[INFO] dump xmodel: /tmp/root/tensorflow_model_optimization/tmp_sub_graph_xnnc_20250108-051022-562862_FWgicf.xmodel\n",
      "[INFO] Namespace(batchsize=1, inputs_shape=None, layout='NHWC', model_files=['/tmp/root/tensorflow_model_optimization/tmp_sub_graph_quantized_20250108-051022-562862_FWgicf.h5'], model_type='tensorflow2', named_inputs_shape=None, out_filename='/tmp/root/tensorflow_model_optimization/tmp_sub_graph_xnnc_20250108-051022-562862_FWgicf.xmodel', proto=None)\n",
      "[INFO] tensorflow2 model: /tmp/root/tensorflow_model_optimization/tmp_sub_graph_quantized_20250108-051022-562862_FWgicf.h5\n",
      "[INFO] keras version: 2.12.0\n",
      "[INFO] Tensorflow Keras model type: functional\n"
     ]
    },
    {
     "name": "stderr",
     "output_type": "stream",
     "text": [
      "[INFO] parse raw model     :100%|█| 4/4 [00:00<00:00, 9187.96it/s]              \n",
      "[INFO] infer shape (NHWC)  :100%|█| 5/5 [00:00<00:00, 15022.58it/s]             \n",
      "[INFO] perform level-0 opt :100%|█| 1/1 [00:00<00:00, 4198.50it/s]              \n",
      "[INFO] perform level-1 opt :100%|█| 2/2 [00:00<00:00, 16480.57it/s]             \n",
      "[INFO] generate xmodel     :100%|█| 5/5 [00:00<00:00, 3786.84it/s]              "
     ]
    },
    {
     "name": "stdout",
     "output_type": "stream",
     "text": [
      "[INFO] dump xmodel ...\r",
      "[INFO] dump xmodel: /tmp/root/tensorflow_model_optimization/tmp_sub_graph_xnnc_20250108-051022-562862_FWgicf.xmodel\n"
     ]
    },
    {
     "name": "stderr",
     "output_type": "stream",
     "text": [
      "\n",
      "I20250108 05:10:23.120208    99 compile_pass_manager.cpp:352] [UNILOG][INFO] Compile mode: dpu\n",
      "I20250108 05:10:23.120220    99 compile_pass_manager.cpp:353] [UNILOG][INFO] Debug mode: null\n",
      "I20250108 05:10:23.120224    99 compile_pass_manager.cpp:357] [UNILOG][INFO] Target architecture: DPUCZDX8G_ISA1_B4096\n",
      "I20250108 05:10:23.120280    99 compile_pass_manager.cpp:465] [UNILOG][INFO] Graph name: model_36, with op num: 9\n",
      "I20250108 05:10:23.120282    99 compile_pass_manager.cpp:478] [UNILOG][INFO] Begin to compile...\n",
      "I20250108 05:10:23.125924    99 compile_pass_manager.cpp:489] [UNILOG][INFO] Total device subgraph number 3, DPU subgraph number 1\n",
      "I20250108 05:10:23.125944    99 compile_pass_manager.cpp:504] [UNILOG][INFO] Compile done.\n"
     ]
    },
    {
     "name": "stdout",
     "output_type": "stream",
     "text": [
      "[INFO] Namespace(batchsize=1, inputs_shape=None, layout='NHWC', model_files=['/tmp/root/tensorflow_model_optimization/tmp_sub_graph_quantized_20250108-051022-562862_FWgicf.h5'], model_type='tensorflow2', named_inputs_shape=None, out_filename='/tmp/root/tensorflow_model_optimization/tmp_sub_graph_xnnc_20250108-051022-562862_FWgicf.xmodel', proto=None)\n",
      "[INFO] tensorflow2 model: /tmp/root/tensorflow_model_optimization/tmp_sub_graph_quantized_20250108-051022-562862_FWgicf.h5\n",
      "[INFO] keras version: 2.12.0\n",
      "[INFO] Tensorflow Keras model type: functional\n"
     ]
    },
    {
     "name": "stderr",
     "output_type": "stream",
     "text": [
      "[INFO] parse raw model     :100%|█| 4/4 [00:00<00:00, 20610.83it/s]             \n",
      "[INFO] infer shape (NHWC)  :100%|█| 5/5 [00:00<00:00, 18526.08it/s]             \n",
      "[INFO] perform level-0 opt :100%|█| 1/1 [00:00<00:00, 4573.94it/s]              \n",
      "[INFO] perform level-1 opt :100%|█| 2/2 [00:00<00:00, 17189.77it/s]             \n",
      "[INFO] generate xmodel     :100%|█| 5/5 [00:00<00:00, 2508.56it/s]              "
     ]
    },
    {
     "name": "stdout",
     "output_type": "stream",
     "text": [
      "[INFO] dump xmodel ...\r",
      "[INFO] dump xmodel: /tmp/root/tensorflow_model_optimization/tmp_sub_graph_xnnc_20250108-051022-562862_FWgicf.xmodel\n"
     ]
    },
    {
     "name": "stderr",
     "output_type": "stream",
     "text": [
      "\n",
      "I20250108 05:10:23.198064    99 compile_pass_manager.cpp:352] [UNILOG][INFO] Compile mode: dpu\n",
      "I20250108 05:10:23.198079    99 compile_pass_manager.cpp:353] [UNILOG][INFO] Debug mode: null\n",
      "I20250108 05:10:23.198082    99 compile_pass_manager.cpp:357] [UNILOG][INFO] Target architecture: DPUCZDX8G_ISA1_B4096\n",
      "I20250108 05:10:23.198143    99 compile_pass_manager.cpp:465] [UNILOG][INFO] Graph name: model_37, with op num: 9\n",
      "I20250108 05:10:23.198145    99 compile_pass_manager.cpp:478] [UNILOG][INFO] Begin to compile...\n",
      "I20250108 05:10:23.206627    99 compile_pass_manager.cpp:489] [UNILOG][INFO] Total device subgraph number 3, DPU subgraph number 1\n",
      "I20250108 05:10:23.206646    99 compile_pass_manager.cpp:504] [UNILOG][INFO] Compile done.\n"
     ]
    },
    {
     "name": "stdout",
     "output_type": "stream",
     "text": [
      "[INFO] Namespace(batchsize=1, inputs_shape=None, layout='NHWC', model_files=['/tmp/root/tensorflow_model_optimization/tmp_sub_graph_quantized_20250108-051022-562862_FWgicf.h5'], model_type='tensorflow2', named_inputs_shape=None, out_filename='/tmp/root/tensorflow_model_optimization/tmp_sub_graph_xnnc_20250108-051022-562862_FWgicf.xmodel', proto=None)\n",
      "[INFO] tensorflow2 model: /tmp/root/tensorflow_model_optimization/tmp_sub_graph_quantized_20250108-051022-562862_FWgicf.h5\n",
      "[INFO] keras version: 2.12.0\n",
      "[INFO] Tensorflow Keras model type: functional\n"
     ]
    },
    {
     "name": "stderr",
     "output_type": "stream",
     "text": [
      "[INFO] parse raw model     :100%|█| 4/4 [00:00<00:00, 20189.19it/s]             \n",
      "[INFO] infer shape (NHWC)  :100%|█| 5/5 [00:00<00:00, 19222.29it/s]             \n",
      "[INFO] perform level-0 opt :100%|█| 1/1 [00:00<00:00, 5084.00it/s]              \n",
      "[INFO] perform level-1 opt :100%|█| 2/2 [00:00<00:00, 17189.77it/s]             \n",
      "[INFO] generate xmodel     :100%|█| 5/5 [00:00<00:00, 1625.57it/s]              "
     ]
    },
    {
     "name": "stdout",
     "output_type": "stream",
     "text": [
      "[INFO] dump xmodel ...\r",
      "[INFO] dump xmodel: /tmp/root/tensorflow_model_optimization/tmp_sub_graph_xnnc_20250108-051022-562862_FWgicf.xmodel\n"
     ]
    },
    {
     "name": "stderr",
     "output_type": "stream",
     "text": [
      "\n",
      "I20250108 05:10:23.285778    99 compile_pass_manager.cpp:352] [UNILOG][INFO] Compile mode: dpu\n",
      "I20250108 05:10:23.285794    99 compile_pass_manager.cpp:353] [UNILOG][INFO] Debug mode: null\n",
      "I20250108 05:10:23.285796    99 compile_pass_manager.cpp:357] [UNILOG][INFO] Target architecture: DPUCZDX8G_ISA1_B4096\n",
      "I20250108 05:10:23.285858    99 compile_pass_manager.cpp:465] [UNILOG][INFO] Graph name: model_38, with op num: 9\n",
      "I20250108 05:10:23.285861    99 compile_pass_manager.cpp:478] [UNILOG][INFO] Begin to compile...\n",
      "I20250108 05:10:23.300635    99 compile_pass_manager.cpp:489] [UNILOG][INFO] Total device subgraph number 3, DPU subgraph number 1\n",
      "I20250108 05:10:23.300659    99 compile_pass_manager.cpp:504] [UNILOG][INFO] Compile done.\n"
     ]
    },
    {
     "name": "stdout",
     "output_type": "stream",
     "text": [
      "[INFO] Namespace(batchsize=1, inputs_shape=None, layout='NHWC', model_files=['/tmp/root/tensorflow_model_optimization/tmp_sub_graph_quantized_20250108-051022-562862_FWgicf.h5'], model_type='tensorflow2', named_inputs_shape=None, out_filename='/tmp/root/tensorflow_model_optimization/tmp_sub_graph_xnnc_20250108-051022-562862_FWgicf.xmodel', proto=None)\n",
      "[INFO] tensorflow2 model: /tmp/root/tensorflow_model_optimization/tmp_sub_graph_quantized_20250108-051022-562862_FWgicf.h5\n",
      "[INFO] keras version: 2.12.0\n",
      "[INFO] Tensorflow Keras model type: functional\n"
     ]
    },
    {
     "name": "stderr",
     "output_type": "stream",
     "text": [
      "[INFO] parse raw model     :100%|█| 4/4 [00:00<00:00, 17421.82it/s]             \n",
      "[INFO] infer shape (NHWC)  :100%|█| 5/5 [00:00<00:00, 19257.59it/s]             \n",
      "[INFO] perform level-0 opt :100%|█| 1/1 [00:00<00:00, 4284.27it/s]              \n",
      "[INFO] perform level-1 opt :100%|█| 2/2 [00:00<00:00, 16677.15it/s]             \n",
      "[INFO] generate xmodel     :100%|█| 5/5 [00:00<00:00, 734.91it/s]               \n"
     ]
    },
    {
     "name": "stdout",
     "output_type": "stream",
     "text": [
      "[INFO] dump xmodel ...\r",
      "[INFO] dump xmodel: /tmp/root/tensorflow_model_optimization/tmp_sub_graph_xnnc_20250108-051022-562862_FWgicf.xmodel\n"
     ]
    },
    {
     "name": "stderr",
     "output_type": "stream",
     "text": [
      "I20250108 05:10:23.392745    99 compile_pass_manager.cpp:352] [UNILOG][INFO] Compile mode: dpu\n",
      "I20250108 05:10:23.392763    99 compile_pass_manager.cpp:353] [UNILOG][INFO] Debug mode: null\n",
      "I20250108 05:10:23.392766    99 compile_pass_manager.cpp:357] [UNILOG][INFO] Target architecture: DPUCZDX8G_ISA1_B4096\n",
      "I20250108 05:10:23.392827    99 compile_pass_manager.cpp:465] [UNILOG][INFO] Graph name: model_39, with op num: 9\n",
      "I20250108 05:10:23.392829    99 compile_pass_manager.cpp:478] [UNILOG][INFO] Begin to compile...\n",
      "I20250108 05:10:23.420784    99 compile_pass_manager.cpp:489] [UNILOG][INFO] Total device subgraph number 3, DPU subgraph number 1\n",
      "I20250108 05:10:23.420810    99 compile_pass_manager.cpp:504] [UNILOG][INFO] Compile done.\n"
     ]
    },
    {
     "name": "stdout",
     "output_type": "stream",
     "text": [
      "[INFO] Namespace(batchsize=1, inputs_shape=None, layout='NHWC', model_files=['/tmp/root/tensorflow_model_optimization/tmp_sub_graph_quantized_20250108-051022-562862_FWgicf.h5'], model_type='tensorflow2', named_inputs_shape=None, out_filename='/tmp/root/tensorflow_model_optimization/tmp_sub_graph_xnnc_20250108-051022-562862_FWgicf.xmodel', proto=None)\n",
      "[INFO] tensorflow2 model: /tmp/root/tensorflow_model_optimization/tmp_sub_graph_quantized_20250108-051022-562862_FWgicf.h5\n",
      "[INFO] keras version: 2.12.0\n",
      "[INFO] Tensorflow Keras model type: functional\n"
     ]
    },
    {
     "name": "stderr",
     "output_type": "stream",
     "text": [
      "[INFO] parse raw model     :100%|█| 4/4 [00:00<00:00, 9457.28it/s]              \n",
      "[INFO] infer shape (NHWC)  :100%|█| 5/5 [00:00<00:00, 13298.36it/s]             \n",
      "[INFO] perform level-0 opt :100%|█| 1/1 [00:00<00:00, 4481.09it/s]              \n",
      "[INFO] perform level-1 opt :100%|█| 2/2 [00:00<00:00, 14413.42it/s]             \n",
      "[INFO] generate xmodel     :100%|█| 5/5 [00:00<00:00, 349.97it/s]               "
     ]
    },
    {
     "name": "stdout",
     "output_type": "stream",
     "text": [
      "[INFO] dump xmodel ...\r",
      "[INFO] dump xmodel: /tmp/root/tensorflow_model_optimization/tmp_sub_graph_xnnc_20250108-051022-562862_FWgicf.xmodel\n"
     ]
    },
    {
     "name": "stderr",
     "output_type": "stream",
     "text": [
      "\n",
      "I20250108 05:10:23.541189    99 compile_pass_manager.cpp:352] [UNILOG][INFO] Compile mode: dpu\n",
      "I20250108 05:10:23.541208    99 compile_pass_manager.cpp:353] [UNILOG][INFO] Debug mode: null\n",
      "I20250108 05:10:23.541211    99 compile_pass_manager.cpp:357] [UNILOG][INFO] Target architecture: DPUCZDX8G_ISA1_B4096\n",
      "I20250108 05:10:23.541265    99 compile_pass_manager.cpp:465] [UNILOG][INFO] Graph name: model_40, with op num: 9\n",
      "I20250108 05:10:23.541267    99 compile_pass_manager.cpp:478] [UNILOG][INFO] Begin to compile...\n",
      "I20250108 05:10:23.594347    99 compile_pass_manager.cpp:489] [UNILOG][INFO] Total device subgraph number 3, DPU subgraph number 1\n",
      "I20250108 05:10:23.594372    99 compile_pass_manager.cpp:504] [UNILOG][INFO] Compile done.\n"
     ]
    },
    {
     "name": "stdout",
     "output_type": "stream",
     "text": [
      "[INFO] Namespace(batchsize=1, inputs_shape=None, layout='NHWC', model_files=['/tmp/root/tensorflow_model_optimization/tmp_sub_graph_quantized_20250108-051022-562898_dZKYPO.h5'], model_type='tensorflow2', named_inputs_shape=None, out_filename='/tmp/root/tensorflow_model_optimization/tmp_sub_graph_xnnc_20250108-051022-562898_dZKYPO.xmodel', proto=None)\n",
      "[INFO] tensorflow2 model: /tmp/root/tensorflow_model_optimization/tmp_sub_graph_quantized_20250108-051022-562898_dZKYPO.h5\n",
      "[INFO] keras version: 2.12.0\n",
      "[INFO] Tensorflow Keras model type: functional\n"
     ]
    },
    {
     "name": "stderr",
     "output_type": "stream",
     "text": [
      "[INFO] parse raw model     :100%|█| 4/4 [00:00<00:00, 19831.22it/s]             \n",
      "[INFO] infer shape (NHWC)  :100%|█| 5/5 [00:00<00:00, 10205.12it/s]             \n",
      "[INFO] perform level-0 opt :100%|█| 1/1 [00:00<00:00, 3144.16it/s]              \n",
      "[INFO] perform level-1 opt :100%|█| 2/2 [00:00<00:00, 16070.13it/s]             \n",
      "[INFO] generate xmodel     :100%|█| 5/5 [00:00<00:00, 6282.66it/s]              "
     ]
    },
    {
     "name": "stdout",
     "output_type": "stream",
     "text": [
      "[INFO] dump xmodel ...\r",
      "[INFO] dump xmodel: /tmp/root/tensorflow_model_optimization/tmp_sub_graph_xnnc_20250108-051022-562898_dZKYPO.xmodel\n"
     ]
    },
    {
     "name": "stderr",
     "output_type": "stream",
     "text": [
      "\n",
      "I20250108 05:10:23.669662    99 compile_pass_manager.cpp:352] [UNILOG][INFO] Compile mode: dpu\n",
      "I20250108 05:10:23.669675    99 compile_pass_manager.cpp:353] [UNILOG][INFO] Debug mode: null\n",
      "I20250108 05:10:23.669679    99 compile_pass_manager.cpp:357] [UNILOG][INFO] Target architecture: DPUCZDX8G_ISA1_B4096\n",
      "I20250108 05:10:23.669737    99 compile_pass_manager.cpp:465] [UNILOG][INFO] Graph name: model_41, with op num: 9\n",
      "I20250108 05:10:23.669740    99 compile_pass_manager.cpp:478] [UNILOG][INFO] Begin to compile...\n",
      "I20250108 05:10:23.672201    99 compile_pass_manager.cpp:489] [UNILOG][INFO] Total device subgraph number 3, DPU subgraph number 1\n",
      "I20250108 05:10:23.672219    99 compile_pass_manager.cpp:504] [UNILOG][INFO] Compile done.\n"
     ]
    },
    {
     "name": "stdout",
     "output_type": "stream",
     "text": [
      "[INFO] Namespace(batchsize=1, inputs_shape=None, layout='NHWC', model_files=['/tmp/root/tensorflow_model_optimization/tmp_sub_graph_quantized_20250108-051022-562935_XGbwcT.h5'], model_type='tensorflow2', named_inputs_shape=None, out_filename='/tmp/root/tensorflow_model_optimization/tmp_sub_graph_xnnc_20250108-051022-562935_XGbwcT.xmodel', proto=None)\n",
      "[INFO] tensorflow2 model: /tmp/root/tensorflow_model_optimization/tmp_sub_graph_quantized_20250108-051022-562935_XGbwcT.h5\n",
      "[INFO] keras version: 2.12.0\n",
      "[INFO] Tensorflow Keras model type: functional\n"
     ]
    },
    {
     "name": "stderr",
     "output_type": "stream",
     "text": [
      "[INFO] parse raw model     :100%|█| 3/3 [00:00<00:00, 13588.46it/s]             \n",
      "[INFO] infer shape (NHWC)  :100%|█| 4/4 [00:00<00:00, 13200.01it/s]             \n",
      "[INFO] perform level-0 opt :100%|█| 1/1 [00:00<00:00, 4236.67it/s]              \n",
      "[INFO] perform level-1 opt :100%|█| 2/2 [00:00<00:00, 12520.31it/s]             \n",
      "[INFO] generate xmodel     :100%|█| 4/4 [00:00<00:00, 4158.95it/s]              \n",
      "I20250108 05:10:23.741951    99 compile_pass_manager.cpp:352] [UNILOG][INFO] Compile mode: dpu\n",
      "I20250108 05:10:23.741964    99 compile_pass_manager.cpp:353] [UNILOG][INFO] Debug mode: null\n",
      "I20250108 05:10:23.741967    99 compile_pass_manager.cpp:357] [UNILOG][INFO] Target architecture: DPUCZDX8G_ISA1_B4096\n",
      "I20250108 05:10:23.742055    99 compile_pass_manager.cpp:465] [UNILOG][INFO] Graph name: model_42, with op num: 8\n",
      "I20250108 05:10:23.742058    99 compile_pass_manager.cpp:478] [UNILOG][INFO] Begin to compile...\n",
      "I20250108 05:10:23.745081    99 compile_pass_manager.cpp:489] [UNILOG][INFO] Total device subgraph number 3, DPU subgraph number 1\n",
      "I20250108 05:10:23.745100    99 compile_pass_manager.cpp:504] [UNILOG][INFO] Compile done.\n"
     ]
    },
    {
     "name": "stdout",
     "output_type": "stream",
     "text": [
      "[INFO] dump xmodel ...\r",
      "[INFO] dump xmodel: /tmp/root/tensorflow_model_optimization/tmp_sub_graph_xnnc_20250108-051022-562935_XGbwcT.xmodel\n",
      "[INFO] Namespace(batchsize=1, inputs_shape=None, layout='NHWC', model_files=['/tmp/root/tensorflow_model_optimization/tmp_sub_graph_quantized_20250108-051022-562935_XGbwcT.h5'], model_type='tensorflow2', named_inputs_shape=None, out_filename='/tmp/root/tensorflow_model_optimization/tmp_sub_graph_xnnc_20250108-051022-562935_XGbwcT.xmodel', proto=None)\n",
      "[INFO] tensorflow2 model: /tmp/root/tensorflow_model_optimization/tmp_sub_graph_quantized_20250108-051022-562935_XGbwcT.h5\n",
      "[INFO] keras version: 2.12.0\n",
      "[INFO] Tensorflow Keras model type: functional\n"
     ]
    },
    {
     "name": "stderr",
     "output_type": "stream",
     "text": [
      "[INFO] parse raw model     :100%|█| 3/3 [00:00<00:00, 7796.10it/s]              \n",
      "[INFO] infer shape (NHWC)  :100%|█| 4/4 [00:00<00:00, 8674.88it/s]              \n",
      "[INFO] perform level-0 opt :100%|█| 1/1 [00:00<00:00, 3964.37it/s]              \n",
      "[INFO] perform level-1 opt :100%|█| 2/2 [00:00<00:00, 18517.90it/s]             \n",
      "[INFO] generate xmodel     :100%|█| 4/4 [00:00<00:00, 4383.91it/s]              "
     ]
    },
    {
     "name": "stdout",
     "output_type": "stream",
     "text": [
      "[INFO] dump xmodel ...\r",
      "[INFO] dump xmodel: /tmp/root/tensorflow_model_optimization/tmp_sub_graph_xnnc_20250108-051022-562935_XGbwcT.xmodel\n"
     ]
    },
    {
     "name": "stderr",
     "output_type": "stream",
     "text": [
      "\n",
      "I20250108 05:10:23.806900    99 compile_pass_manager.cpp:352] [UNILOG][INFO] Compile mode: dpu\n",
      "I20250108 05:10:23.806913    99 compile_pass_manager.cpp:353] [UNILOG][INFO] Debug mode: null\n",
      "I20250108 05:10:23.806917    99 compile_pass_manager.cpp:357] [UNILOG][INFO] Target architecture: DPUCZDX8G_ISA1_B4096\n",
      "I20250108 05:10:23.806977    99 compile_pass_manager.cpp:465] [UNILOG][INFO] Graph name: model_43, with op num: 8\n",
      "I20250108 05:10:23.806982    99 compile_pass_manager.cpp:478] [UNILOG][INFO] Begin to compile...\n",
      "I20250108 05:10:23.810518    99 compile_pass_manager.cpp:489] [UNILOG][INFO] Total device subgraph number 3, DPU subgraph number 1\n",
      "I20250108 05:10:23.810537    99 compile_pass_manager.cpp:504] [UNILOG][INFO] Compile done.\n"
     ]
    },
    {
     "name": "stdout",
     "output_type": "stream",
     "text": [
      "[INFO] Namespace(batchsize=1, inputs_shape=None, layout='NHWC', model_files=['/tmp/root/tensorflow_model_optimization/tmp_sub_graph_quantized_20250108-051022-562935_XGbwcT.h5'], model_type='tensorflow2', named_inputs_shape=None, out_filename='/tmp/root/tensorflow_model_optimization/tmp_sub_graph_xnnc_20250108-051022-562935_XGbwcT.xmodel', proto=None)\n",
      "[INFO] tensorflow2 model: /tmp/root/tensorflow_model_optimization/tmp_sub_graph_quantized_20250108-051022-562935_XGbwcT.h5\n",
      "[INFO] keras version: 2.12.0\n",
      "[INFO] Tensorflow Keras model type: functional\n"
     ]
    },
    {
     "name": "stderr",
     "output_type": "stream",
     "text": [
      "[INFO] parse raw model     :100%|█| 3/3 [00:00<00:00, 13245.17it/s]             \n",
      "[INFO] infer shape (NHWC)  :100%|█| 4/4 [00:00<00:00, 12309.04it/s]             \n",
      "[INFO] perform level-0 opt :100%|█| 1/1 [00:00<00:00, 6043.67it/s]              \n",
      "[INFO] perform level-1 opt :100%|█| 2/2 [00:00<00:00, 20510.04it/s]             \n",
      "[INFO] generate xmodel     :100%|█| 4/4 [00:00<00:00, 3328.81it/s]              "
     ]
    },
    {
     "name": "stdout",
     "output_type": "stream",
     "text": [
      "[INFO] dump xmodel ...\r",
      "[INFO] dump xmodel: /tmp/root/tensorflow_model_optimization/tmp_sub_graph_xnnc_20250108-051022-562935_XGbwcT.xmodel\n",
      "[INFO] Namespace(batchsize=1, inputs_shape=None, layout='NHWC', model_files=['/tmp/root/tensorflow_model_optimization/tmp_sub_graph_quantized_20250108-051022-562935_XGbwcT.h5'], model_type='tensorflow2', named_inputs_shape=None, out_filename='/tmp/root/tensorflow_model_optimization/tmp_sub_graph_xnnc_20250108-051022-562935_XGbwcT.xmodel', proto=None)\n",
      "[INFO] tensorflow2 model: /tmp/root/tensorflow_model_optimization/tmp_sub_graph_quantized_20250108-051022-562935_XGbwcT.h5\n",
      "[INFO] keras version: 2.12.0\n",
      "[INFO] Tensorflow Keras model type: functional\n"
     ]
    },
    {
     "name": "stderr",
     "output_type": "stream",
     "text": [
      "\n",
      "I20250108 05:10:23.873468    99 compile_pass_manager.cpp:352] [UNILOG][INFO] Compile mode: dpu\n",
      "I20250108 05:10:23.873487    99 compile_pass_manager.cpp:353] [UNILOG][INFO] Debug mode: null\n",
      "I20250108 05:10:23.873493    99 compile_pass_manager.cpp:357] [UNILOG][INFO] Target architecture: DPUCZDX8G_ISA1_B4096\n",
      "I20250108 05:10:23.873567    99 compile_pass_manager.cpp:465] [UNILOG][INFO] Graph name: model_44, with op num: 8\n",
      "I20250108 05:10:23.873572    99 compile_pass_manager.cpp:478] [UNILOG][INFO] Begin to compile...\n",
      "I20250108 05:10:23.879840    99 compile_pass_manager.cpp:489] [UNILOG][INFO] Total device subgraph number 3, DPU subgraph number 1\n",
      "I20250108 05:10:23.879861    99 compile_pass_manager.cpp:504] [UNILOG][INFO] Compile done.\n",
      "[INFO] parse raw model     :100%|█| 3/3 [00:00<00:00, 5647.63it/s]              \n",
      "[INFO] infer shape (NHWC)  :100%|█| 4/4 [00:00<00:00, 12157.40it/s]             \n",
      "[INFO] perform level-0 opt :100%|█| 1/1 [00:00<00:00, 5447.15it/s]              \n",
      "[INFO] perform level-1 opt :100%|█| 2/2 [00:00<00:00, 18078.90it/s]             \n",
      "[INFO] generate xmodel     :100%|█| 4/4 [00:00<00:00, 5147.96it/s]              \n"
     ]
    },
    {
     "name": "stdout",
     "output_type": "stream",
     "text": [
      "[INFO] dump xmodel ...\r",
      "[INFO] dump xmodel: /tmp/root/tensorflow_model_optimization/tmp_sub_graph_xnnc_20250108-051022-562935_XGbwcT.xmodel\n"
     ]
    },
    {
     "name": "stderr",
     "output_type": "stream",
     "text": [
      "I20250108 05:10:23.938983    99 compile_pass_manager.cpp:352] [UNILOG][INFO] Compile mode: dpu\n",
      "I20250108 05:10:23.938997    99 compile_pass_manager.cpp:353] [UNILOG][INFO] Debug mode: null\n",
      "I20250108 05:10:23.939000    99 compile_pass_manager.cpp:357] [UNILOG][INFO] Target architecture: DPUCZDX8G_ISA1_B4096\n",
      "I20250108 05:10:23.939055    99 compile_pass_manager.cpp:465] [UNILOG][INFO] Graph name: model_45, with op num: 8\n",
      "I20250108 05:10:23.939057    99 compile_pass_manager.cpp:478] [UNILOG][INFO] Begin to compile...\n",
      "I20250108 05:10:23.941855    99 compile_pass_manager.cpp:489] [UNILOG][INFO] Total device subgraph number 3, DPU subgraph number 1\n",
      "I20250108 05:10:23.941872    99 compile_pass_manager.cpp:504] [UNILOG][INFO] Compile done.\n"
     ]
    },
    {
     "name": "stdout",
     "output_type": "stream",
     "text": [
      "[INFO] Namespace(batchsize=1, inputs_shape=None, layout='NHWC', model_files=['/tmp/root/tensorflow_model_optimization/tmp_sub_graph_quantized_20250108-051022-562935_XGbwcT.h5'], model_type='tensorflow2', named_inputs_shape=None, out_filename='/tmp/root/tensorflow_model_optimization/tmp_sub_graph_xnnc_20250108-051022-562935_XGbwcT.xmodel', proto=None)\n",
      "[INFO] tensorflow2 model: /tmp/root/tensorflow_model_optimization/tmp_sub_graph_quantized_20250108-051022-562935_XGbwcT.h5\n",
      "[INFO] keras version: 2.12.0\n",
      "[INFO] Tensorflow Keras model type: functional\n"
     ]
    },
    {
     "name": "stderr",
     "output_type": "stream",
     "text": [
      "[INFO] parse raw model     :100%|█| 3/3 [00:00<00:00, 15553.66it/s]             \n",
      "[INFO] infer shape (NHWC)  :100%|█| 4/4 [00:00<00:00, 12104.77it/s]             \n",
      "[INFO] perform level-0 opt :100%|█| 1/1 [00:00<00:00, 5833.52it/s]              \n",
      "[INFO] perform level-1 opt :100%|█| 2/2 [00:00<00:00, 17119.61it/s]             \n",
      "[INFO] generate xmodel     :100%|█| 4/4 [00:00<00:00, 3090.30it/s]              \n"
     ]
    },
    {
     "name": "stdout",
     "output_type": "stream",
     "text": [
      "[INFO] dump xmodel ...\r",
      "[INFO] dump xmodel: /tmp/root/tensorflow_model_optimization/tmp_sub_graph_xnnc_20250108-051022-562935_XGbwcT.xmodel\n"
     ]
    },
    {
     "name": "stderr",
     "output_type": "stream",
     "text": [
      "I20250108 05:10:24.006335    99 compile_pass_manager.cpp:352] [UNILOG][INFO] Compile mode: dpu\n",
      "I20250108 05:10:24.006350    99 compile_pass_manager.cpp:353] [UNILOG][INFO] Debug mode: null\n",
      "I20250108 05:10:24.006352    99 compile_pass_manager.cpp:357] [UNILOG][INFO] Target architecture: DPUCZDX8G_ISA1_B4096\n",
      "I20250108 05:10:24.006413    99 compile_pass_manager.cpp:465] [UNILOG][INFO] Graph name: model_46, with op num: 8\n",
      "I20250108 05:10:24.006420    99 compile_pass_manager.cpp:478] [UNILOG][INFO] Begin to compile...\n",
      "I20250108 05:10:24.011768    99 compile_pass_manager.cpp:489] [UNILOG][INFO] Total device subgraph number 3, DPU subgraph number 1\n",
      "I20250108 05:10:24.011790    99 compile_pass_manager.cpp:504] [UNILOG][INFO] Compile done.\n"
     ]
    },
    {
     "name": "stdout",
     "output_type": "stream",
     "text": [
      "[INFO] Namespace(batchsize=1, inputs_shape=None, layout='NHWC', model_files=['/tmp/root/tensorflow_model_optimization/tmp_sub_graph_quantized_20250108-051022-562935_XGbwcT.h5'], model_type='tensorflow2', named_inputs_shape=None, out_filename='/tmp/root/tensorflow_model_optimization/tmp_sub_graph_xnnc_20250108-051022-562935_XGbwcT.xmodel', proto=None)\n",
      "[INFO] tensorflow2 model: /tmp/root/tensorflow_model_optimization/tmp_sub_graph_quantized_20250108-051022-562935_XGbwcT.h5\n",
      "[INFO] keras version: 2.12.0\n",
      "[INFO] Tensorflow Keras model type: functional\n"
     ]
    },
    {
     "name": "stderr",
     "output_type": "stream",
     "text": [
      "[INFO] parse raw model     :100%|█| 3/3 [00:00<00:00, 14396.92it/s]             \n",
      "[INFO] infer shape (NHWC)  :100%|█| 4/4 [00:00<00:00, 12009.46it/s]             \n",
      "[INFO] perform level-0 opt :100%|█| 1/1 [00:00<00:00, 4951.95it/s]              \n",
      "[INFO] perform level-1 opt :100%|█| 2/2 [00:00<00:00, 11335.96it/s]             \n",
      "[INFO] generate xmodel     :100%|█| 4/4 [00:00<00:00, 1379.02it/s]              \n",
      "I20250108 05:10:24.089076    99 compile_pass_manager.cpp:352] [UNILOG][INFO] Compile mode: dpu\n",
      "I20250108 05:10:24.089093    99 compile_pass_manager.cpp:353] [UNILOG][INFO] Debug mode: null\n",
      "I20250108 05:10:24.089097    99 compile_pass_manager.cpp:357] [UNILOG][INFO] Target architecture: DPUCZDX8G_ISA1_B4096\n",
      "I20250108 05:10:24.089159    99 compile_pass_manager.cpp:465] [UNILOG][INFO] Graph name: model_47, with op num: 8\n",
      "I20250108 05:10:24.089161    99 compile_pass_manager.cpp:478] [UNILOG][INFO] Begin to compile...\n",
      "I20250108 05:10:24.104334    99 compile_pass_manager.cpp:489] [UNILOG][INFO] Total device subgraph number 3, DPU subgraph number 1\n",
      "I20250108 05:10:24.104360    99 compile_pass_manager.cpp:504] [UNILOG][INFO] Compile done.\n"
     ]
    },
    {
     "name": "stdout",
     "output_type": "stream",
     "text": [
      "[INFO] dump xmodel: /tmp/root/tensorflow_model_optimization/tmp_sub_graph_xnnc_20250108-051022-562935_XGbwcT.xmodel\n",
      "[INFO] Namespace(batchsize=1, inputs_shape=None, layout='NHWC', model_files=['/tmp/root/tensorflow_model_optimization/tmp_sub_graph_quantized_20250108-051022-562935_XGbwcT.h5'], model_type='tensorflow2', named_inputs_shape=None, out_filename='/tmp/root/tensorflow_model_optimization/tmp_sub_graph_xnnc_20250108-051022-562935_XGbwcT.xmodel', proto=None)\n",
      "[INFO] tensorflow2 model: /tmp/root/tensorflow_model_optimization/tmp_sub_graph_quantized_20250108-051022-562935_XGbwcT.h5\n",
      "[INFO] keras version: 2.12.0\n",
      "[INFO] Tensorflow Keras model type: functional\n"
     ]
    },
    {
     "name": "stderr",
     "output_type": "stream",
     "text": [
      "[INFO] parse raw model     :100%|█| 3/3 [00:00<00:00, 12133.96it/s]             \n",
      "[INFO] infer shape (NHWC)  :100%|█| 4/4 [00:00<00:00, 16054.75it/s]             \n",
      "[INFO] perform level-0 opt :100%|█| 1/1 [00:00<00:00, 5482.75it/s]              \n",
      "[INFO] perform level-1 opt :100%|█| 2/2 [00:00<00:00, 19418.07it/s]             \n",
      "[INFO] generate xmodel     :100%|█| 4/4 [00:00<00:00, 4458.47it/s]              "
     ]
    },
    {
     "name": "stdout",
     "output_type": "stream",
     "text": [
      "[INFO] dump xmodel ...\r",
      "[INFO] dump xmodel: /tmp/root/tensorflow_model_optimization/tmp_sub_graph_xnnc_20250108-051022-562935_XGbwcT.xmodel\n"
     ]
    },
    {
     "name": "stderr",
     "output_type": "stream",
     "text": [
      "\n",
      "I20250108 05:10:24.167238    99 compile_pass_manager.cpp:352] [UNILOG][INFO] Compile mode: dpu\n",
      "I20250108 05:10:24.167253    99 compile_pass_manager.cpp:353] [UNILOG][INFO] Debug mode: null\n",
      "I20250108 05:10:24.167256    99 compile_pass_manager.cpp:357] [UNILOG][INFO] Target architecture: DPUCZDX8G_ISA1_B4096\n",
      "I20250108 05:10:24.167315    99 compile_pass_manager.cpp:465] [UNILOG][INFO] Graph name: model_48, with op num: 8\n",
      "I20250108 05:10:24.167320    99 compile_pass_manager.cpp:478] [UNILOG][INFO] Begin to compile...\n",
      "I20250108 05:10:24.170753    99 compile_pass_manager.cpp:489] [UNILOG][INFO] Total device subgraph number 3, DPU subgraph number 1\n",
      "I20250108 05:10:24.170769    99 compile_pass_manager.cpp:504] [UNILOG][INFO] Compile done.\n"
     ]
    },
    {
     "name": "stdout",
     "output_type": "stream",
     "text": [
      "[INFO] Namespace(batchsize=1, inputs_shape=None, layout='NHWC', model_files=['/tmp/root/tensorflow_model_optimization/tmp_sub_graph_quantized_20250108-051022-562935_XGbwcT.h5'], model_type='tensorflow2', named_inputs_shape=None, out_filename='/tmp/root/tensorflow_model_optimization/tmp_sub_graph_xnnc_20250108-051022-562935_XGbwcT.xmodel', proto=None)\n",
      "[INFO] tensorflow2 model: /tmp/root/tensorflow_model_optimization/tmp_sub_graph_quantized_20250108-051022-562935_XGbwcT.h5\n",
      "[INFO] keras version: 2.12.0\n",
      "[INFO] Tensorflow Keras model type: functional\n"
     ]
    },
    {
     "name": "stderr",
     "output_type": "stream",
     "text": [
      "[INFO] parse raw model     :100%|█| 3/3 [00:00<00:00, 9590.63it/s]              \n",
      "[INFO] infer shape (NHWC)  :100%|█| 4/4 [00:00<00:00, 16070.13it/s]             \n",
      "[INFO] perform level-0 opt :100%|█| 1/1 [00:00<00:00, 6009.03it/s]              \n",
      "[INFO] perform level-1 opt :100%|█| 2/2 [00:00<00:00, 14242.12it/s]             \n",
      "[INFO] generate xmodel     :100%|█| 4/4 [00:00<00:00, 1292.05it/s]              "
     ]
    },
    {
     "name": "stdout",
     "output_type": "stream",
     "text": [
      "[INFO] dump xmodel ...\r",
      "[INFO] dump xmodel: /tmp/root/tensorflow_model_optimization/tmp_sub_graph_xnnc_20250108-051022-562935_XGbwcT.xmodel\n"
     ]
    },
    {
     "name": "stderr",
     "output_type": "stream",
     "text": [
      "\n",
      "I20250108 05:10:24.249275    99 compile_pass_manager.cpp:352] [UNILOG][INFO] Compile mode: dpu\n",
      "I20250108 05:10:24.249289    99 compile_pass_manager.cpp:353] [UNILOG][INFO] Debug mode: null\n",
      "I20250108 05:10:24.249292    99 compile_pass_manager.cpp:357] [UNILOG][INFO] Target architecture: DPUCZDX8G_ISA1_B4096\n",
      "I20250108 05:10:24.249361    99 compile_pass_manager.cpp:465] [UNILOG][INFO] Graph name: model_49, with op num: 8\n",
      "I20250108 05:10:24.249367    99 compile_pass_manager.cpp:478] [UNILOG][INFO] Begin to compile...\n",
      "I20250108 05:10:24.264089    99 compile_pass_manager.cpp:489] [UNILOG][INFO] Total device subgraph number 3, DPU subgraph number 1\n",
      "I20250108 05:10:24.264113    99 compile_pass_manager.cpp:504] [UNILOG][INFO] Compile done.\n"
     ]
    },
    {
     "name": "stdout",
     "output_type": "stream",
     "text": [
      "[INFO] Namespace(batchsize=1, inputs_shape=None, layout='NHWC', model_files=['/tmp/root/tensorflow_model_optimization/tmp_sub_graph_quantized_20250108-051022-562935_XGbwcT.h5'], model_type='tensorflow2', named_inputs_shape=None, out_filename='/tmp/root/tensorflow_model_optimization/tmp_sub_graph_xnnc_20250108-051022-562935_XGbwcT.xmodel', proto=None)\n",
      "[INFO] tensorflow2 model: /tmp/root/tensorflow_model_optimization/tmp_sub_graph_quantized_20250108-051022-562935_XGbwcT.h5\n",
      "[INFO] keras version: 2.12.0\n",
      "[INFO] Tensorflow Keras model type: functional\n"
     ]
    },
    {
     "name": "stderr",
     "output_type": "stream",
     "text": [
      "[INFO] parse raw model     :100%|█| 3/3 [00:00<00:00, 11554.56it/s]             \n",
      "[INFO] infer shape (NHWC)  :100%|█| 4/4 [00:00<00:00, 13540.93it/s]             \n",
      "[INFO] perform level-0 opt :100%|█| 1/1 [00:00<00:00, 5249.44it/s]              \n",
      "[INFO] perform level-1 opt :100%|█| 2/2 [00:00<00:00, 19691.57it/s]             \n",
      "[INFO] generate xmodel     :100%|█| 4/4 [00:00<00:00, 297.95it/s]               \n"
     ]
    },
    {
     "name": "stdout",
     "output_type": "stream",
     "text": [
      "[INFO] dump xmodel: /tmp/root/tensorflow_model_optimization/tmp_sub_graph_xnnc_20250108-051022-562935_XGbwcT.xmodel\n"
     ]
    },
    {
     "name": "stderr",
     "output_type": "stream",
     "text": [
      "I20250108 05:10:24.382403    99 compile_pass_manager.cpp:352] [UNILOG][INFO] Compile mode: dpu\n",
      "I20250108 05:10:24.382421    99 compile_pass_manager.cpp:353] [UNILOG][INFO] Debug mode: null\n",
      "I20250108 05:10:24.382426    99 compile_pass_manager.cpp:357] [UNILOG][INFO] Target architecture: DPUCZDX8G_ISA1_B4096\n",
      "I20250108 05:10:24.382485    99 compile_pass_manager.cpp:465] [UNILOG][INFO] Graph name: model_50, with op num: 8\n",
      "I20250108 05:10:24.382493    99 compile_pass_manager.cpp:478] [UNILOG][INFO] Begin to compile...\n",
      "I20250108 05:10:24.434866    99 compile_pass_manager.cpp:489] [UNILOG][INFO] Total device subgraph number 3, DPU subgraph number 1\n",
      "I20250108 05:10:24.434891    99 compile_pass_manager.cpp:504] [UNILOG][INFO] Compile done.\n"
     ]
    },
    {
     "name": "stdout",
     "output_type": "stream",
     "text": [
      "[INFO] Namespace(batchsize=1, inputs_shape=None, layout='NHWC', model_files=['/tmp/root/tensorflow_model_optimization/tmp_sub_graph_quantized_20250108-051022-562935_XGbwcT.h5'], model_type='tensorflow2', named_inputs_shape=None, out_filename='/tmp/root/tensorflow_model_optimization/tmp_sub_graph_xnnc_20250108-051022-562935_XGbwcT.xmodel', proto=None)\n",
      "[INFO] tensorflow2 model: /tmp/root/tensorflow_model_optimization/tmp_sub_graph_quantized_20250108-051022-562935_XGbwcT.h5\n",
      "[INFO] keras version: 2.12.0\n",
      "[INFO] Tensorflow Keras model type: functional\n"
     ]
    },
    {
     "name": "stderr",
     "output_type": "stream",
     "text": [
      "[INFO] parse raw model     :100%|█| 3/3 [00:00<00:00, 14027.77it/s]             \n",
      "[INFO] infer shape (NHWC)  :100%|█| 4/4 [00:00<00:00, 17260.51it/s]             \n",
      "[INFO] perform level-0 opt :100%|█| 1/1 [00:00<00:00, 5405.03it/s]              \n",
      "[INFO] perform level-1 opt :100%|█| 2/2 [00:00<00:00, 19418.07it/s]             \n",
      "[INFO] generate xmodel     :100%|█| 4/4 [00:00<00:00, 2904.64it/s]              "
     ]
    },
    {
     "name": "stdout",
     "output_type": "stream",
     "text": [
      "[INFO] dump xmodel ...\r",
      "[INFO] dump xmodel: /tmp/root/tensorflow_model_optimization/tmp_sub_graph_xnnc_20250108-051022-562935_XGbwcT.xmodel\n"
     ]
    },
    {
     "name": "stderr",
     "output_type": "stream",
     "text": [
      "\n",
      "I20250108 05:10:24.505467    99 compile_pass_manager.cpp:352] [UNILOG][INFO] Compile mode: dpu\n",
      "I20250108 05:10:24.505481    99 compile_pass_manager.cpp:353] [UNILOG][INFO] Debug mode: null\n",
      "I20250108 05:10:24.505484    99 compile_pass_manager.cpp:357] [UNILOG][INFO] Target architecture: DPUCZDX8G_ISA1_B4096\n",
      "I20250108 05:10:24.505574    99 compile_pass_manager.cpp:465] [UNILOG][INFO] Graph name: model_51, with op num: 8\n",
      "I20250108 05:10:24.505577    99 compile_pass_manager.cpp:478] [UNILOG][INFO] Begin to compile...\n",
      "I20250108 05:10:24.510628    99 compile_pass_manager.cpp:489] [UNILOG][INFO] Total device subgraph number 3, DPU subgraph number 1\n",
      "I20250108 05:10:24.510650    99 compile_pass_manager.cpp:504] [UNILOG][INFO] Compile done.\n"
     ]
    },
    {
     "name": "stdout",
     "output_type": "stream",
     "text": [
      "[INFO] Namespace(batchsize=1, inputs_shape=None, layout='NHWC', model_files=['/tmp/root/tensorflow_model_optimization/tmp_sub_graph_quantized_20250108-051022-562935_XGbwcT.h5'], model_type='tensorflow2', named_inputs_shape=None, out_filename='/tmp/root/tensorflow_model_optimization/tmp_sub_graph_xnnc_20250108-051022-562935_XGbwcT.xmodel', proto=None)\n",
      "[INFO] tensorflow2 model: /tmp/root/tensorflow_model_optimization/tmp_sub_graph_quantized_20250108-051022-562935_XGbwcT.h5\n",
      "[INFO] keras version: 2.12.0\n",
      "[INFO] Tensorflow Keras model type: functional\n"
     ]
    },
    {
     "name": "stderr",
     "output_type": "stream",
     "text": [
      "[INFO] parse raw model     :100%|█| 3/3 [00:00<00:00, 13162.04it/s]             \n",
      "[INFO] infer shape (NHWC)  :100%|█| 4/4 [00:00<00:00, 17924.38it/s]             \n",
      "[INFO] perform level-0 opt :100%|█| 1/1 [00:00<00:00, 5570.12it/s]              \n",
      "[INFO] perform level-1 opt :100%|█| 2/2 [00:00<00:00, 19925.43it/s]             \n",
      "[INFO] generate xmodel     :100%|█| 4/4 [00:00<00:00, 243.90it/s]               \n",
      "I20250108 05:10:24.635928    99 compile_pass_manager.cpp:352] [UNILOG][INFO] Compile mode: dpu\n",
      "I20250108 05:10:24.635948    99 compile_pass_manager.cpp:353] [UNILOG][INFO] Debug mode: null\n",
      "I20250108 05:10:24.635951    99 compile_pass_manager.cpp:357] [UNILOG][INFO] Target architecture: DPUCZDX8G_ISA1_B4096\n",
      "I20250108 05:10:24.636013    99 compile_pass_manager.cpp:465] [UNILOG][INFO] Graph name: model_52, with op num: 8\n",
      "I20250108 05:10:24.636016    99 compile_pass_manager.cpp:478] [UNILOG][INFO] Begin to compile...\n",
      "I20250108 05:10:24.688620    99 compile_pass_manager.cpp:489] [UNILOG][INFO] Total device subgraph number 3, DPU subgraph number 1\n",
      "I20250108 05:10:24.688644    99 compile_pass_manager.cpp:504] [UNILOG][INFO] Compile done.\n"
     ]
    },
    {
     "name": "stdout",
     "output_type": "stream",
     "text": [
      "[INFO] dump xmodel: /tmp/root/tensorflow_model_optimization/tmp_sub_graph_xnnc_20250108-051022-562935_XGbwcT.xmodel\n",
      "[INFO] Namespace(batchsize=1, inputs_shape=None, layout='NHWC', model_files=['/tmp/root/tensorflow_model_optimization/tmp_sub_graph_quantized_20250108-051022-562935_XGbwcT.h5'], model_type='tensorflow2', named_inputs_shape=None, out_filename='/tmp/root/tensorflow_model_optimization/tmp_sub_graph_xnnc_20250108-051022-562935_XGbwcT.xmodel', proto=None)\n",
      "[INFO] tensorflow2 model: /tmp/root/tensorflow_model_optimization/tmp_sub_graph_quantized_20250108-051022-562935_XGbwcT.h5\n",
      "[INFO] keras version: 2.12.0\n",
      "[INFO] Tensorflow Keras model type: functional\n"
     ]
    },
    {
     "name": "stderr",
     "output_type": "stream",
     "text": [
      "[INFO] parse raw model     :100%|█| 3/3 [00:00<00:00, 14614.30it/s]             \n",
      "[INFO] infer shape (NHWC)  :100%|█| 6/6 [00:00<00:00, 38896.17it/s]             \n",
      "[INFO] perform level-0 opt :100%|█| 1/1 [00:00<00:00, 3449.26it/s]              \n",
      "[INFO] perform level-1 opt :100%|█| 2/2 [00:00<00:00, 12576.62it/s]             \n",
      "[INFO] generate xmodel     :100%|█| 6/6 [00:00<00:00, 6949.97it/s]              "
     ]
    },
    {
     "name": "stdout",
     "output_type": "stream",
     "text": [
      "[INFO] dump xmodel ...\r",
      "[INFO] dump xmodel: /tmp/root/tensorflow_model_optimization/tmp_sub_graph_xnnc_20250108-051022-562935_XGbwcT.xmodel\n"
     ]
    },
    {
     "name": "stderr",
     "output_type": "stream",
     "text": [
      "\n",
      "I20250108 05:10:24.756124    99 compile_pass_manager.cpp:352] [UNILOG][INFO] Compile mode: dpu\n",
      "I20250108 05:10:24.756137    99 compile_pass_manager.cpp:353] [UNILOG][INFO] Debug mode: null\n",
      "I20250108 05:10:24.756140    99 compile_pass_manager.cpp:357] [UNILOG][INFO] Target architecture: DPUCZDX8G_ISA1_B4096\n",
      "I20250108 05:10:24.756199    99 compile_pass_manager.cpp:465] [UNILOG][INFO] Graph name: model_53, with op num: 8\n",
      "I20250108 05:10:24.756203    99 compile_pass_manager.cpp:478] [UNILOG][INFO] Begin to compile...\n",
      "I20250108 05:10:24.760599    99 compile_pass_manager.cpp:489] [UNILOG][INFO] Total device subgraph number 3, DPU subgraph number 1\n",
      "I20250108 05:10:24.760625    99 compile_pass_manager.cpp:504] [UNILOG][INFO] Compile done.\n"
     ]
    },
    {
     "name": "stdout",
     "output_type": "stream",
     "text": [
      "[INFO] Namespace(batchsize=1, inputs_shape=None, layout='NHWC', model_files=['/tmp/root/tensorflow_model_optimization/tmp_sub_graph_quantized_20250108-051022-563069_eTyjrs.h5'], model_type='tensorflow2', named_inputs_shape=None, out_filename='/tmp/root/tensorflow_model_optimization/tmp_sub_graph_xnnc_20250108-051022-563069_eTyjrs.xmodel', proto=None)\n",
      "[INFO] tensorflow2 model: /tmp/root/tensorflow_model_optimization/tmp_sub_graph_quantized_20250108-051022-563069_eTyjrs.h5\n",
      "[INFO] keras version: 2.12.0\n",
      "[INFO] Tensorflow Keras model type: functional\n"
     ]
    },
    {
     "name": "stderr",
     "output_type": "stream",
     "text": [
      "[INFO] parse raw model     :100%|█| 6/6 [00:00<00:00, 10627.46it/s]             \n",
      "[INFO] infer shape (NHWC)  :100%|█| 7/7 [00:00<00:00, 10294.58it/s]             \n",
      "[INFO] perform level-0 opt :100%|█| 1/1 [00:00<00:00, 3090.87it/s]              \n",
      "[INFO] perform level-1 opt :100%|█| 2/2 [00:00<00:00, 13252.15it/s]             \n",
      "[INFO] generate xmodel     :100%|█| 7/7 [00:00<00:00, 11568.21it/s]             \n",
      "I20250108 05:10:24.866525    99 compile_pass_manager.cpp:352] [UNILOG][INFO] Compile mode: dpu\n",
      "I20250108 05:10:24.866539    99 compile_pass_manager.cpp:353] [UNILOG][INFO] Debug mode: null\n",
      "I20250108 05:10:24.866542    99 compile_pass_manager.cpp:357] [UNILOG][INFO] Target architecture: DPUCZDX8G_ISA1_B4096\n",
      "I20250108 05:10:24.866600    99 compile_pass_manager.cpp:465] [UNILOG][INFO] Graph name: model_54, with op num: 7\n",
      "I20250108 05:10:24.866603    99 compile_pass_manager.cpp:478] [UNILOG][INFO] Begin to compile...\n",
      "I20250108 05:10:24.868266    99 compile_pass_manager.cpp:489] [UNILOG][INFO] Total device subgraph number 4, DPU subgraph number 1\n",
      "I20250108 05:10:24.868283    99 compile_pass_manager.cpp:504] [UNILOG][INFO] Compile done.\n"
     ]
    },
    {
     "name": "stdout",
     "output_type": "stream",
     "text": [
      "[INFO] dump xmodel ...\r",
      "[INFO] dump xmodel: /tmp/root/tensorflow_model_optimization/tmp_sub_graph_xnnc_20250108-051022-563069_eTyjrs.xmodel\n",
      "[INFO] Namespace(batchsize=1, inputs_shape=None, layout='NHWC', model_files=['/tmp/root/tensorflow_model_optimization/tmp_sub_graph_quantized_20250108-051022-563069_eTyjrs.h5'], model_type='tensorflow2', named_inputs_shape=None, out_filename='/tmp/root/tensorflow_model_optimization/tmp_sub_graph_xnnc_20250108-051022-563069_eTyjrs.xmodel', proto=None)\n",
      "[INFO] tensorflow2 model: /tmp/root/tensorflow_model_optimization/tmp_sub_graph_quantized_20250108-051022-563069_eTyjrs.h5\n",
      "[INFO] keras version: 2.12.0\n",
      "[INFO] Tensorflow Keras model type: functional\n"
     ]
    },
    {
     "name": "stderr",
     "output_type": "stream",
     "text": [
      "[INFO] parse raw model     :100%|█| 6/6 [00:00<00:00, 31694.99it/s]             \n",
      "[INFO] infer shape (NHWC)  :100%|█| 7/7 [00:00<00:00, 12996.96it/s]             \n",
      "[INFO] perform level-0 opt :100%|█| 1/1 [00:00<00:00, 3761.71it/s]              \n",
      "[INFO] perform level-1 opt :100%|█| 2/2 [00:00<00:00, 10965.50it/s]             \n",
      "[INFO] generate xmodel     :100%|█| 7/7 [00:00<00:00, 10176.82it/s]             "
     ]
    },
    {
     "name": "stdout",
     "output_type": "stream",
     "text": [
      "[INFO] dump xmodel ...\r",
      "[INFO] dump xmodel: /tmp/root/tensorflow_model_optimization/tmp_sub_graph_xnnc_20250108-051022-563069_eTyjrs.xmodel\n"
     ]
    },
    {
     "name": "stderr",
     "output_type": "stream",
     "text": [
      "\n",
      "I20250108 05:10:24.930078    99 compile_pass_manager.cpp:352] [UNILOG][INFO] Compile mode: dpu\n",
      "I20250108 05:10:24.930091    99 compile_pass_manager.cpp:353] [UNILOG][INFO] Debug mode: null\n",
      "I20250108 05:10:24.930094    99 compile_pass_manager.cpp:357] [UNILOG][INFO] Target architecture: DPUCZDX8G_ISA1_B4096\n",
      "I20250108 05:10:24.930150    99 compile_pass_manager.cpp:465] [UNILOG][INFO] Graph name: model_55, with op num: 7\n",
      "I20250108 05:10:24.930153    99 compile_pass_manager.cpp:478] [UNILOG][INFO] Begin to compile...\n",
      "I20250108 05:10:24.931888    99 compile_pass_manager.cpp:489] [UNILOG][INFO] Total device subgraph number 4, DPU subgraph number 1\n",
      "I20250108 05:10:24.931906    99 compile_pass_manager.cpp:504] [UNILOG][INFO] Compile done.\n"
     ]
    },
    {
     "name": "stdout",
     "output_type": "stream",
     "text": [
      "[INFO] Namespace(batchsize=1, inputs_shape=None, layout='NHWC', model_files=['/tmp/root/tensorflow_model_optimization/tmp_sub_graph_quantized_20250108-051022-563069_eTyjrs.h5'], model_type='tensorflow2', named_inputs_shape=None, out_filename='/tmp/root/tensorflow_model_optimization/tmp_sub_graph_xnnc_20250108-051022-563069_eTyjrs.xmodel', proto=None)\n",
      "[INFO] tensorflow2 model: /tmp/root/tensorflow_model_optimization/tmp_sub_graph_quantized_20250108-051022-563069_eTyjrs.h5\n",
      "[INFO] keras version: 2.12.0\n",
      "[INFO] Tensorflow Keras model type: functional\n"
     ]
    },
    {
     "name": "stderr",
     "output_type": "stream",
     "text": [
      "[INFO] parse raw model     :100%|█| 6/6 [00:00<00:00, 20849.90it/s]             \n",
      "[INFO] infer shape (NHWC)  :100%|█| 7/7 [00:00<00:00, 8160.12it/s]              \n",
      "[INFO] perform level-0 opt :100%|█| 1/1 [00:00<00:00, 3744.91it/s]              \n",
      "[INFO] perform level-1 opt :100%|█| 2/2 [00:00<00:00, 11983.73it/s]             \n",
      "[INFO] generate xmodel     :100%|█| 7/7 [00:00<00:00, 9962.72it/s]              \n",
      "I20250108 05:10:24.995884    99 compile_pass_manager.cpp:352] [UNILOG][INFO] Compile mode: dpu\n",
      "I20250108 05:10:24.995898    99 compile_pass_manager.cpp:353] [UNILOG][INFO] Debug mode: null\n",
      "I20250108 05:10:24.995900    99 compile_pass_manager.cpp:357] [UNILOG][INFO] Target architecture: DPUCZDX8G_ISA1_B4096\n",
      "I20250108 05:10:24.995958    99 compile_pass_manager.cpp:465] [UNILOG][INFO] Graph name: model_56, with op num: 7\n",
      "I20250108 05:10:24.995961    99 compile_pass_manager.cpp:478] [UNILOG][INFO] Begin to compile...\n",
      "I20250108 05:10:24.997637    99 compile_pass_manager.cpp:489] [UNILOG][INFO] Total device subgraph number 4, DPU subgraph number 1\n",
      "I20250108 05:10:24.997653    99 compile_pass_manager.cpp:504] [UNILOG][INFO] Compile done.\n"
     ]
    },
    {
     "name": "stdout",
     "output_type": "stream",
     "text": [
      "[INFO] dump xmodel ...\r",
      "[INFO] dump xmodel: /tmp/root/tensorflow_model_optimization/tmp_sub_graph_xnnc_20250108-051022-563069_eTyjrs.xmodel\n",
      "[INFO] Namespace(batchsize=1, inputs_shape=None, layout='NHWC', model_files=['/tmp/root/tensorflow_model_optimization/tmp_sub_graph_quantized_20250108-051022-563069_eTyjrs.h5'], model_type='tensorflow2', named_inputs_shape=None, out_filename='/tmp/root/tensorflow_model_optimization/tmp_sub_graph_xnnc_20250108-051022-563069_eTyjrs.xmodel', proto=None)\n",
      "[INFO] tensorflow2 model: /tmp/root/tensorflow_model_optimization/tmp_sub_graph_quantized_20250108-051022-563069_eTyjrs.h5\n",
      "[INFO] keras version: 2.12.0\n",
      "[INFO] Tensorflow Keras model type: functional\n"
     ]
    },
    {
     "name": "stderr",
     "output_type": "stream",
     "text": [
      "[INFO] parse raw model     :100%|█| 6/6 [00:00<00:00, 31575.69it/s]             \n",
      "[INFO] infer shape (NHWC)  :100%|█| 7/7 [00:00<00:00, 16275.02it/s]             \n",
      "[INFO] perform level-0 opt :100%|█| 1/1 [00:00<00:00, 3146.51it/s]              \n",
      "[INFO] perform level-1 opt :100%|█| 2/2 [00:00<00:00, 8665.92it/s]              \n",
      "[INFO] generate xmodel     :100%|█| 7/7 [00:00<00:00, 9189.40it/s]              \n",
      "I20250108 05:10:25.058916    99 compile_pass_manager.cpp:352] [UNILOG][INFO] Compile mode: dpu\n",
      "I20250108 05:10:25.058930    99 compile_pass_manager.cpp:353] [UNILOG][INFO] Debug mode: null\n",
      "I20250108 05:10:25.058933    99 compile_pass_manager.cpp:357] [UNILOG][INFO] Target architecture: DPUCZDX8G_ISA1_B4096\n",
      "I20250108 05:10:25.059000    99 compile_pass_manager.cpp:465] [UNILOG][INFO] Graph name: model_57, with op num: 7\n",
      "I20250108 05:10:25.059002    99 compile_pass_manager.cpp:478] [UNILOG][INFO] Begin to compile...\n",
      "I20250108 05:10:25.060710    99 compile_pass_manager.cpp:489] [UNILOG][INFO] Total device subgraph number 4, DPU subgraph number 1\n",
      "I20250108 05:10:25.060729    99 compile_pass_manager.cpp:504] [UNILOG][INFO] Compile done.\n"
     ]
    },
    {
     "name": "stdout",
     "output_type": "stream",
     "text": [
      "[INFO] dump xmodel: /tmp/root/tensorflow_model_optimization/tmp_sub_graph_xnnc_20250108-051022-563069_eTyjrs.xmodel\n",
      "[INFO] Namespace(batchsize=1, inputs_shape=None, layout='NHWC', model_files=['/tmp/root/tensorflow_model_optimization/tmp_sub_graph_quantized_20250108-051022-563069_eTyjrs.h5'], model_type='tensorflow2', named_inputs_shape=None, out_filename='/tmp/root/tensorflow_model_optimization/tmp_sub_graph_xnnc_20250108-051022-563069_eTyjrs.xmodel', proto=None)\n",
      "[INFO] tensorflow2 model: /tmp/root/tensorflow_model_optimization/tmp_sub_graph_quantized_20250108-051022-563069_eTyjrs.h5\n",
      "[INFO] keras version: 2.12.0\n",
      "[INFO] Tensorflow Keras model type: functional\n"
     ]
    },
    {
     "name": "stderr",
     "output_type": "stream",
     "text": [
      "[INFO] parse raw model     :100%|█| 6/6 [00:00<00:00, 19523.53it/s]             \n",
      "[INFO] infer shape (NHWC)  :100%|█| 7/7 [00:00<00:00, 18168.40it/s]             \n",
      "[INFO] perform level-0 opt :100%|█| 1/1 [00:00<00:00, 2340.57it/s]              \n",
      "[INFO] perform level-1 opt :100%|█| 2/2 [00:00<00:00, 8551.08it/s]              \n",
      "[INFO] generate xmodel     :100%|█| 7/7 [00:00<00:00, 10096.33it/s]             \n",
      "I20250108 05:10:25.122790    99 compile_pass_manager.cpp:352] [UNILOG][INFO] Compile mode: dpu\n",
      "I20250108 05:10:25.122804    99 compile_pass_manager.cpp:353] [UNILOG][INFO] Debug mode: null\n",
      "I20250108 05:10:25.122807    99 compile_pass_manager.cpp:357] [UNILOG][INFO] Target architecture: DPUCZDX8G_ISA1_B4096\n",
      "I20250108 05:10:25.122864    99 compile_pass_manager.cpp:465] [UNILOG][INFO] Graph name: model_58, with op num: 7\n",
      "I20250108 05:10:25.122866    99 compile_pass_manager.cpp:478] [UNILOG][INFO] Begin to compile...\n",
      "I20250108 05:10:25.124577    99 compile_pass_manager.cpp:489] [UNILOG][INFO] Total device subgraph number 4, DPU subgraph number 1\n",
      "I20250108 05:10:25.124594    99 compile_pass_manager.cpp:504] [UNILOG][INFO] Compile done.\n"
     ]
    },
    {
     "name": "stdout",
     "output_type": "stream",
     "text": [
      "[INFO] dump xmodel: /tmp/root/tensorflow_model_optimization/tmp_sub_graph_xnnc_20250108-051022-563069_eTyjrs.xmodel\n",
      "[INFO] Namespace(batchsize=1, inputs_shape=None, layout='NHWC', model_files=['/tmp/root/tensorflow_model_optimization/tmp_sub_graph_quantized_20250108-051022-563069_eTyjrs.h5'], model_type='tensorflow2', named_inputs_shape=None, out_filename='/tmp/root/tensorflow_model_optimization/tmp_sub_graph_xnnc_20250108-051022-563069_eTyjrs.xmodel', proto=None)\n",
      "[INFO] tensorflow2 model: /tmp/root/tensorflow_model_optimization/tmp_sub_graph_quantized_20250108-051022-563069_eTyjrs.h5\n",
      "[INFO] keras version: 2.12.0\n",
      "[INFO] Tensorflow Keras model type: functional\n"
     ]
    },
    {
     "name": "stderr",
     "output_type": "stream",
     "text": [
      "[INFO] parse raw model     :100%|█| 6/6 [00:00<00:00, 26159.90it/s]             \n",
      "[INFO] infer shape (NHWC)  :100%|█| 7/7 [00:00<00:00, 22042.14it/s]             \n",
      "[INFO] perform level-0 opt :100%|█| 1/1 [00:00<00:00, 3718.35it/s]              \n",
      "[INFO] perform level-1 opt :100%|█| 2/2 [00:00<00:00, 13981.01it/s]             \n",
      "[INFO] generate xmodel     :100%|█| 7/7 [00:00<00:00, 12022.98it/s]             \n",
      "I20250108 05:10:25.184237    99 compile_pass_manager.cpp:352] [UNILOG][INFO] Compile mode: dpu\n",
      "I20250108 05:10:25.184249    99 compile_pass_manager.cpp:353] [UNILOG][INFO] Debug mode: null\n",
      "I20250108 05:10:25.184253    99 compile_pass_manager.cpp:357] [UNILOG][INFO] Target architecture: DPUCZDX8G_ISA1_B4096\n",
      "I20250108 05:10:25.184309    99 compile_pass_manager.cpp:465] [UNILOG][INFO] Graph name: model_59, with op num: 7\n",
      "I20250108 05:10:25.184310    99 compile_pass_manager.cpp:478] [UNILOG][INFO] Begin to compile...\n",
      "I20250108 05:10:25.185997    99 compile_pass_manager.cpp:489] [UNILOG][INFO] Total device subgraph number 4, DPU subgraph number 1\n",
      "I20250108 05:10:25.186013    99 compile_pass_manager.cpp:504] [UNILOG][INFO] Compile done.\n"
     ]
    },
    {
     "name": "stdout",
     "output_type": "stream",
     "text": [
      "[INFO] dump xmodel: /tmp/root/tensorflow_model_optimization/tmp_sub_graph_xnnc_20250108-051022-563069_eTyjrs.xmodel\n",
      "[INFO] Namespace(batchsize=1, inputs_shape=None, layout='NHWC', model_files=['/tmp/root/tensorflow_model_optimization/tmp_sub_graph_quantized_20250108-051022-563069_eTyjrs.h5'], model_type='tensorflow2', named_inputs_shape=None, out_filename='/tmp/root/tensorflow_model_optimization/tmp_sub_graph_xnnc_20250108-051022-563069_eTyjrs.xmodel', proto=None)\n",
      "[INFO] tensorflow2 model: /tmp/root/tensorflow_model_optimization/tmp_sub_graph_quantized_20250108-051022-563069_eTyjrs.h5\n",
      "[INFO] keras version: 2.12.0\n",
      "[INFO] Tensorflow Keras model type: functional\n"
     ]
    },
    {
     "name": "stderr",
     "output_type": "stream",
     "text": [
      "[INFO] parse raw model     :100%|█| 6/6 [00:00<00:00, 33779.63it/s]             \n",
      "[INFO] infer shape (NHWC)  :100%|█| 7/7 [00:00<00:00, 24944.88it/s]             \n",
      "[INFO] perform level-0 opt :100%|█| 1/1 [00:00<00:00, 2824.45it/s]              \n",
      "[INFO] perform level-1 opt :100%|█| 2/2 [00:00<00:00, 12318.07it/s]             \n",
      "[INFO] generate xmodel     :100%|█| 7/7 [00:00<00:00, 11301.05it/s]             \n",
      "I20250108 05:10:25.248512    99 compile_pass_manager.cpp:352] [UNILOG][INFO] Compile mode: dpu\n",
      "I20250108 05:10:25.248524    99 compile_pass_manager.cpp:353] [UNILOG][INFO] Debug mode: null\n",
      "I20250108 05:10:25.248528    99 compile_pass_manager.cpp:357] [UNILOG][INFO] Target architecture: DPUCZDX8G_ISA1_B4096\n",
      "I20250108 05:10:25.248584    99 compile_pass_manager.cpp:465] [UNILOG][INFO] Graph name: model_60, with op num: 7\n",
      "I20250108 05:10:25.248586    99 compile_pass_manager.cpp:478] [UNILOG][INFO] Begin to compile...\n",
      "I20250108 05:10:25.250272    99 compile_pass_manager.cpp:489] [UNILOG][INFO] Total device subgraph number 4, DPU subgraph number 1\n",
      "I20250108 05:10:25.250288    99 compile_pass_manager.cpp:504] [UNILOG][INFO] Compile done.\n"
     ]
    },
    {
     "name": "stdout",
     "output_type": "stream",
     "text": [
      "[INFO] dump xmodel: /tmp/root/tensorflow_model_optimization/tmp_sub_graph_xnnc_20250108-051022-563069_eTyjrs.xmodel\n",
      "[INFO] Namespace(batchsize=1, inputs_shape=None, layout='NHWC', model_files=['/tmp/root/tensorflow_model_optimization/tmp_sub_graph_quantized_20250108-051022-563069_eTyjrs.h5'], model_type='tensorflow2', named_inputs_shape=None, out_filename='/tmp/root/tensorflow_model_optimization/tmp_sub_graph_xnnc_20250108-051022-563069_eTyjrs.xmodel', proto=None)\n",
      "[INFO] tensorflow2 model: /tmp/root/tensorflow_model_optimization/tmp_sub_graph_quantized_20250108-051022-563069_eTyjrs.h5\n",
      "[INFO] keras version: 2.12.0\n",
      "[INFO] Tensorflow Keras model type: functional\n"
     ]
    },
    {
     "name": "stderr",
     "output_type": "stream",
     "text": [
      "[INFO] parse raw model     :100%|█| 6/6 [00:00<00:00, 34521.02it/s]             \n",
      "[INFO] infer shape (NHWC)  :100%|█| 7/7 [00:00<00:00, 22259.38it/s]             \n",
      "[INFO] perform level-0 opt :100%|█| 1/1 [00:00<00:00, 1514.19it/s]              \n",
      "[INFO] perform level-1 opt :100%|█| 2/2 [00:00<00:00, 13640.01it/s]             \n",
      "[INFO] generate xmodel     :100%|█| 7/7 [00:00<00:00, 11197.61it/s]             \n",
      "I20250108 05:10:25.314898    99 compile_pass_manager.cpp:352] [UNILOG][INFO] Compile mode: dpu\n",
      "I20250108 05:10:25.314910    99 compile_pass_manager.cpp:353] [UNILOG][INFO] Debug mode: null\n",
      "I20250108 05:10:25.314913    99 compile_pass_manager.cpp:357] [UNILOG][INFO] Target architecture: DPUCZDX8G_ISA1_B4096\n",
      "I20250108 05:10:25.314970    99 compile_pass_manager.cpp:465] [UNILOG][INFO] Graph name: model_61, with op num: 7\n",
      "I20250108 05:10:25.314973    99 compile_pass_manager.cpp:478] [UNILOG][INFO] Begin to compile...\n",
      "I20250108 05:10:25.316779    99 compile_pass_manager.cpp:489] [UNILOG][INFO] Total device subgraph number 4, DPU subgraph number 1\n",
      "I20250108 05:10:25.316797    99 compile_pass_manager.cpp:504] [UNILOG][INFO] Compile done.\n"
     ]
    },
    {
     "name": "stdout",
     "output_type": "stream",
     "text": [
      "[INFO] dump xmodel: /tmp/root/tensorflow_model_optimization/tmp_sub_graph_xnnc_20250108-051022-563069_eTyjrs.xmodel\n",
      "[VAI INFO] Inspect Results:\n",
      "[MODEL INFO]:\n",
      "________________________________________________________________________________________________________________________\n",
      "Model Name: model\n",
      "________________________________________________________________________________________________________________________\n",
      "ID          Name                    Type                    Device      Notes                                           \n",
      "========================================================================================================================\n",
      "0/67        input_41                InputLayer              INPUT                                                       \n",
      "------------------------------------------------------------------------------------------------------------------------\n",
      "1/67        conv2d                  Conv2D<relu>            DPU                                                         \n",
      "------------------------------------------------------------------------------------------------------------------------\n",
      "2/67        batch_normalization     BatchNormalization      DPU                                                         \n",
      "------------------------------------------------------------------------------------------------------------------------\n",
      "3/67        re_lu                   ReLU                    DPU                                                         \n",
      "------------------------------------------------------------------------------------------------------------------------\n",
      "4/67        conv2d_1                Conv2D<linear>          DPU                                                         \n",
      "------------------------------------------------------------------------------------------------------------------------\n",
      "5/67        batch_normalization_1   BatchNormalization      DPU                                                         \n",
      "------------------------------------------------------------------------------------------------------------------------\n",
      "6/67        re_lu_1                 ReLU                    DPU                                                         \n",
      "------------------------------------------------------------------------------------------------------------------------\n",
      "7/67        conv2d_2                Conv2D<linear>          DPU                                                         \n",
      "------------------------------------------------------------------------------------------------------------------------\n",
      "8/67        batch_normalization_2   BatchNormalization      DPU                                                         \n",
      "------------------------------------------------------------------------------------------------------------------------\n",
      "9/67        add                     Add                     DPU                                                         \n",
      "------------------------------------------------------------------------------------------------------------------------\n",
      "10/67       re_lu_2                 ReLU                    DPU                                                         \n",
      "------------------------------------------------------------------------------------------------------------------------\n",
      "11/67       conv2d_3                Conv2D<linear>          DPU                                                         \n",
      "------------------------------------------------------------------------------------------------------------------------\n",
      "12/67       batch_normalization_3   BatchNormalization      DPU                                                         \n",
      "------------------------------------------------------------------------------------------------------------------------\n",
      "13/67       re_lu_3                 ReLU                    DPU                                                         \n",
      "------------------------------------------------------------------------------------------------------------------------\n",
      "14/67       conv2d_4                Conv2D<linear>          DPU                                                         \n",
      "------------------------------------------------------------------------------------------------------------------------\n",
      "15/67       batch_normalization_4   BatchNormalization      DPU                                                         \n",
      "------------------------------------------------------------------------------------------------------------------------\n",
      "16/67       add_1                   Add                     DPU                                                         \n",
      "------------------------------------------------------------------------------------------------------------------------\n",
      "17/67       re_lu_4                 ReLU                    DPU                                                         \n",
      "------------------------------------------------------------------------------------------------------------------------\n",
      "18/67       conv2d_6                Conv2D<linear>          DPU                                                         \n",
      "------------------------------------------------------------------------------------------------------------------------\n",
      "19/67       batch_normalization_6   BatchNormalization      DPU                                                         \n",
      "------------------------------------------------------------------------------------------------------------------------\n",
      "20/67       re_lu_5                 ReLU                    DPU                                                         \n",
      "------------------------------------------------------------------------------------------------------------------------\n",
      "21/67       conv2d_7                Conv2D<linear>          DPU                                                         \n",
      "------------------------------------------------------------------------------------------------------------------------\n",
      "22/67       conv2d_5                Conv2D<linear>          DPU                                                         \n",
      "------------------------------------------------------------------------------------------------------------------------\n",
      "23/67       batch_normalization_7   BatchNormalization      DPU                                                         \n",
      "------------------------------------------------------------------------------------------------------------------------\n",
      "24/67       batch_normalization_5   BatchNormalization      DPU                                                         \n",
      "------------------------------------------------------------------------------------------------------------------------\n",
      "25/67       add_2                   Add                     DPU                                                         \n",
      "------------------------------------------------------------------------------------------------------------------------\n",
      "26/67       re_lu_6                 ReLU                    DPU                                                         \n",
      "------------------------------------------------------------------------------------------------------------------------\n",
      "27/67       conv2d_8                Conv2D<linear>          DPU                                                         \n",
      "------------------------------------------------------------------------------------------------------------------------\n",
      "28/67       batch_normalization_8   BatchNormalization      DPU                                                         \n",
      "------------------------------------------------------------------------------------------------------------------------\n",
      "29/67       re_lu_7                 ReLU                    DPU                                                         \n",
      "------------------------------------------------------------------------------------------------------------------------\n",
      "30/67       conv2d_9                Conv2D<linear>          DPU                                                         \n",
      "------------------------------------------------------------------------------------------------------------------------\n",
      "31/67       batch_normalization_9   BatchNormalization      DPU                                                         \n",
      "------------------------------------------------------------------------------------------------------------------------\n",
      "32/67       add_3                   Add                     DPU                                                         \n",
      "------------------------------------------------------------------------------------------------------------------------\n",
      "33/67       re_lu_8                 ReLU                    DPU                                                         \n",
      "------------------------------------------------------------------------------------------------------------------------\n",
      "34/67       conv2d_11               Conv2D<linear>          DPU                                                         \n",
      "------------------------------------------------------------------------------------------------------------------------\n",
      "35/67       batch_normalization_11  BatchNormalization      DPU                                                         \n",
      "------------------------------------------------------------------------------------------------------------------------\n",
      "36/67       re_lu_9                 ReLU                    DPU                                                         \n",
      "------------------------------------------------------------------------------------------------------------------------\n",
      "37/67       conv2d_12               Conv2D<linear>          DPU                                                         \n",
      "------------------------------------------------------------------------------------------------------------------------\n",
      "38/67       conv2d_10               Conv2D<linear>          DPU                                                         \n",
      "------------------------------------------------------------------------------------------------------------------------\n",
      "39/67       batch_normalization_12  BatchNormalization      DPU                                                         \n",
      "------------------------------------------------------------------------------------------------------------------------\n",
      "40/67       batch_normalization_10  BatchNormalization      DPU                                                         \n",
      "------------------------------------------------------------------------------------------------------------------------\n",
      "41/67       add_4                   Add                     DPU                                                         \n",
      "------------------------------------------------------------------------------------------------------------------------\n",
      "42/67       re_lu_10                ReLU                    DPU                                                         \n",
      "------------------------------------------------------------------------------------------------------------------------\n",
      "43/67       conv2d_13               Conv2D<linear>          DPU                                                         \n",
      "------------------------------------------------------------------------------------------------------------------------\n",
      "44/67       batch_normalization_13  BatchNormalization      DPU                                                         \n",
      "------------------------------------------------------------------------------------------------------------------------\n",
      "45/67       re_lu_11                ReLU                    DPU                                                         \n",
      "------------------------------------------------------------------------------------------------------------------------\n",
      "46/67       conv2d_14               Conv2D<linear>          DPU                                                         \n",
      "------------------------------------------------------------------------------------------------------------------------\n",
      "47/67       batch_normalization_14  BatchNormalization      DPU                                                         \n",
      "------------------------------------------------------------------------------------------------------------------------\n",
      "48/67       add_5                   Add                     DPU                                                         \n",
      "------------------------------------------------------------------------------------------------------------------------\n",
      "49/67       re_lu_12                ReLU                    DPU                                                         \n",
      "------------------------------------------------------------------------------------------------------------------------\n",
      "50/67       conv2d_16               Conv2D<linear>          DPU                                                         \n",
      "------------------------------------------------------------------------------------------------------------------------\n",
      "51/67       batch_normalization_16  BatchNormalization      DPU                                                         \n",
      "------------------------------------------------------------------------------------------------------------------------\n",
      "52/67       re_lu_13                ReLU                    DPU                                                         \n",
      "------------------------------------------------------------------------------------------------------------------------\n",
      "53/67       conv2d_17               Conv2D<linear>          DPU                                                         \n",
      "------------------------------------------------------------------------------------------------------------------------\n",
      "54/67       conv2d_15               Conv2D<linear>          DPU                                                         \n",
      "------------------------------------------------------------------------------------------------------------------------\n",
      "55/67       batch_normalization_17  BatchNormalization      DPU                                                         \n",
      "------------------------------------------------------------------------------------------------------------------------\n",
      "56/67       batch_normalization_15  BatchNormalization      DPU                                                         \n",
      "------------------------------------------------------------------------------------------------------------------------\n",
      "57/67       add_6                   Add                     DPU                                                         \n",
      "------------------------------------------------------------------------------------------------------------------------\n",
      "58/67       re_lu_14                ReLU                    DPU                                                         \n",
      "------------------------------------------------------------------------------------------------------------------------\n",
      "59/67       conv2d_18               Conv2D<linear>          DPU                                                         \n",
      "------------------------------------------------------------------------------------------------------------------------\n",
      "60/67       batch_normalization_18  BatchNormalization      DPU                                                         \n",
      "------------------------------------------------------------------------------------------------------------------------\n",
      "61/67       re_lu_15                ReLU                    DPU                                                         \n",
      "------------------------------------------------------------------------------------------------------------------------\n",
      "62/67       conv2d_19               Conv2D<linear>          DPU                                                         \n",
      "------------------------------------------------------------------------------------------------------------------------\n",
      "63/67       batch_normalization_19  BatchNormalization      DPU                                                         \n",
      "------------------------------------------------------------------------------------------------------------------------\n",
      "64/67       add_7                   Add                     DPU                                                         \n",
      "------------------------------------------------------------------------------------------------------------------------\n",
      "65/67       re_lu_16                ReLU                    DPU                                                         \n",
      "------------------------------------------------------------------------------------------------------------------------\n",
      "66/67       global_average_pooling2dGlobalAveragePooling2D  DPU                                                         \n",
      "------------------------------------------------------------------------------------------------------------------------\n",
      "67/67       dense                   Dense<softmax>          DPU+CPU     Seperate layer activation `softmax`; `softmax`  \n",
      "                                                                        is not supported by target                      \n",
      "------------------------------------------------------------------------------------------------------------------------\n",
      "========================================================================================================================\n",
      "[SUMMARY INFO]:\n",
      "- [Target Name]: DPUCZDX8G_ISA1_B4096\n",
      "- [Total Layers]: 68\n",
      "- [Layer Types]: InputLayer(1) Conv2D<relu>(1) BatchNormalization(20) ReLU(17) Conv2D<linear>(19) Add(8) GlobalAveragePooling2D(1) Dense<softmax>(1) \n",
      "- [Partition Results]: INPUT(1) DPU(66) DPU+CPU(1) \n",
      "========================================================================================================================\n",
      "[NOTES INFO]:\n",
      "- [67/67] Layer dense (Type:Dense<softmax>, Device:DPU+CPU):\n",
      "    * Seperate layer activation `softmax`\n",
      "    * `softmax` is not supported by target\n",
      "========================================================================================================================\n",
      "[VAI INFO] Start plotting model to inspect/model_plot.svg\n",
      "[VAI INFO] Inspected model has been plotted in: inspect/model_plot.svg.\n",
      "[VAI INFO] Start dumping inspected model to inspect/inspected_model.h5\n"
     ]
    },
    {
     "name": "stdout",
     "output_type": "stream",
     "text": [
      "[VAI INFO] Inspected model has been dumped in: inspect/inspected_model.h5.\n",
      "[VAI INFO] Start dumping inspected results to inspect/inspect_results.txt\n",
      "[VAI INFO] Inspected results has been dumped in: inspect/inspect_results.txt.\n",
      "[VAI INFO] Inspect Finished.\n"
     ]
    },
    {
     "data": {
      "text/plain": [
       "{<keras.engine.input_layer.InputLayer at 0x738e9f4ff040>: <tensorflow_model_optimization.python.core.quantization.keras.vitis.vitis_inspect.InspectResult at 0x738f19173f10>,\n",
       " <keras.layers.convolutional.conv2d.Conv2D at 0x738e9f58f970>: <tensorflow_model_optimization.python.core.quantization.keras.vitis.vitis_inspect.InspectResult at 0x738f191738b0>,\n",
       " <keras.layers.normalization.batch_normalization.BatchNormalization at 0x738e9f58f520>: <tensorflow_model_optimization.python.core.quantization.keras.vitis.vitis_inspect.InspectResult at 0x738f19173760>,\n",
       " <keras.layers.activation.relu.ReLU at 0x738e9f583e80>: <tensorflow_model_optimization.python.core.quantization.keras.vitis.vitis_inspect.InspectResult at 0x738f19111b80>,\n",
       " <keras.layers.convolutional.conv2d.Conv2D at 0x738f1938eb20>: <tensorflow_model_optimization.python.core.quantization.keras.vitis.vitis_inspect.InspectResult at 0x738f19111400>,\n",
       " <keras.layers.normalization.batch_normalization.BatchNormalization at 0x738f1938eac0>: <tensorflow_model_optimization.python.core.quantization.keras.vitis.vitis_inspect.InspectResult at 0x738f191110a0>,\n",
       " <keras.layers.activation.relu.ReLU at 0x738f196da5b0>: <tensorflow_model_optimization.python.core.quantization.keras.vitis.vitis_inspect.InspectResult at 0x738f19111ee0>,\n",
       " <keras.layers.convolutional.conv2d.Conv2D at 0x738f196ea3a0>: <tensorflow_model_optimization.python.core.quantization.keras.vitis.vitis_inspect.InspectResult at 0x738f19111460>,\n",
       " <keras.layers.normalization.batch_normalization.BatchNormalization at 0x738f196beb80>: <tensorflow_model_optimization.python.core.quantization.keras.vitis.vitis_inspect.InspectResult at 0x738f191114c0>,\n",
       " <keras.layers.merging.add.Add at 0x738f196f3040>: <tensorflow_model_optimization.python.core.quantization.keras.vitis.vitis_inspect.InspectResult at 0x738f19111a90>,\n",
       " <keras.layers.activation.relu.ReLU at 0x738f1938ed30>: <tensorflow_model_optimization.python.core.quantization.keras.vitis.vitis_inspect.InspectResult at 0x738f19111850>,\n",
       " <keras.layers.convolutional.conv2d.Conv2D at 0x738e9ebecaf0>: <tensorflow_model_optimization.python.core.quantization.keras.vitis.vitis_inspect.InspectResult at 0x738f19111af0>,\n",
       " <keras.layers.normalization.batch_normalization.BatchNormalization at 0x738f1964d280>: <tensorflow_model_optimization.python.core.quantization.keras.vitis.vitis_inspect.InspectResult at 0x738f191119d0>,\n",
       " <keras.layers.activation.relu.ReLU at 0x738e9f55d520>: <tensorflow_model_optimization.python.core.quantization.keras.vitis.vitis_inspect.InspectResult at 0x738f19111e80>,\n",
       " <keras.layers.convolutional.conv2d.Conv2D at 0x738f196b3af0>: <tensorflow_model_optimization.python.core.quantization.keras.vitis.vitis_inspect.InspectResult at 0x738f19111520>,\n",
       " <keras.layers.normalization.batch_normalization.BatchNormalization at 0x738f1967e4f0>: <tensorflow_model_optimization.python.core.quantization.keras.vitis.vitis_inspect.InspectResult at 0x738f191114f0>,\n",
       " <keras.layers.merging.add.Add at 0x738f19778af0>: <tensorflow_model_optimization.python.core.quantization.keras.vitis.vitis_inspect.InspectResult at 0x738f19111dc0>,\n",
       " <keras.layers.activation.relu.ReLU at 0x738f1964d9a0>: <tensorflow_model_optimization.python.core.quantization.keras.vitis.vitis_inspect.InspectResult at 0x738f191115e0>,\n",
       " <keras.layers.convolutional.conv2d.Conv2D at 0x738f1964d400>: <tensorflow_model_optimization.python.core.quantization.keras.vitis.vitis_inspect.InspectResult at 0x738f19111c10>,\n",
       " <keras.layers.normalization.batch_normalization.BatchNormalization at 0x738f1964dcd0>: <tensorflow_model_optimization.python.core.quantization.keras.vitis.vitis_inspect.InspectResult at 0x738f19111d30>,\n",
       " <keras.layers.activation.relu.ReLU at 0x738f1960b940>: <tensorflow_model_optimization.python.core.quantization.keras.vitis.vitis_inspect.InspectResult at 0x738f19111ca0>,\n",
       " <keras.layers.convolutional.conv2d.Conv2D at 0x738f19778610>: <tensorflow_model_optimization.python.core.quantization.keras.vitis.vitis_inspect.InspectResult at 0x738f19111b20>,\n",
       " <keras.layers.convolutional.conv2d.Conv2D at 0x738f1967e9d0>: <tensorflow_model_optimization.python.core.quantization.keras.vitis.vitis_inspect.InspectResult at 0x738f1917bee0>,\n",
       " <keras.layers.normalization.batch_normalization.BatchNormalization at 0x738e9f4e6640>: <tensorflow_model_optimization.python.core.quantization.keras.vitis.vitis_inspect.InspectResult at 0x738f1917b8b0>,\n",
       " <keras.layers.normalization.batch_normalization.BatchNormalization at 0x738f1960bdc0>: <tensorflow_model_optimization.python.core.quantization.keras.vitis.vitis_inspect.InspectResult at 0x738f1917bfd0>,\n",
       " <keras.layers.merging.add.Add at 0x738e9f4e4160>: <tensorflow_model_optimization.python.core.quantization.keras.vitis.vitis_inspect.InspectResult at 0x738f19164b20>,\n",
       " <keras.layers.activation.relu.ReLU at 0x738e9f4e64f0>: <tensorflow_model_optimization.python.core.quantization.keras.vitis.vitis_inspect.InspectResult at 0x738f1916e8e0>,\n",
       " <keras.layers.convolutional.conv2d.Conv2D at 0x738f1960b4c0>: <tensorflow_model_optimization.python.core.quantization.keras.vitis.vitis_inspect.InspectResult at 0x738f1916e940>,\n",
       " <keras.layers.normalization.batch_normalization.BatchNormalization at 0x738e9f4e4d90>: <tensorflow_model_optimization.python.core.quantization.keras.vitis.vitis_inspect.InspectResult at 0x738f1916eaf0>,\n",
       " <keras.layers.activation.relu.ReLU at 0x738e9f4e4640>: <tensorflow_model_optimization.python.core.quantization.keras.vitis.vitis_inspect.InspectResult at 0x738f1916eca0>,\n",
       " <keras.layers.convolutional.conv2d.Conv2D at 0x738e9f4e63d0>: <tensorflow_model_optimization.python.core.quantization.keras.vitis.vitis_inspect.InspectResult at 0x738f1916e6d0>,\n",
       " <keras.layers.normalization.batch_normalization.BatchNormalization at 0x738e9f4f59d0>: <tensorflow_model_optimization.python.core.quantization.keras.vitis.vitis_inspect.InspectResult at 0x738f191dd1f0>,\n",
       " <keras.layers.merging.add.Add at 0x738e9f4e4ee0>: <tensorflow_model_optimization.python.core.quantization.keras.vitis.vitis_inspect.InspectResult at 0x738f1911f490>,\n",
       " <keras.layers.activation.relu.ReLU at 0x738e9f4f54f0>: <tensorflow_model_optimization.python.core.quantization.keras.vitis.vitis_inspect.InspectResult at 0x738f1911f910>,\n",
       " <keras.layers.convolutional.conv2d.Conv2D at 0x738e9f4e4bb0>: <tensorflow_model_optimization.python.core.quantization.keras.vitis.vitis_inspect.InspectResult at 0x738f1911f700>,\n",
       " <keras.layers.normalization.batch_normalization.BatchNormalization at 0x738e9f4f99a0>: <tensorflow_model_optimization.python.core.quantization.keras.vitis.vitis_inspect.InspectResult at 0x738f1911f9a0>,\n",
       " <keras.layers.activation.relu.ReLU at 0x738e9f4f91f0>: <tensorflow_model_optimization.python.core.quantization.keras.vitis.vitis_inspect.InspectResult at 0x738f1911f820>,\n",
       " <keras.layers.convolutional.conv2d.Conv2D at 0x738e9f4f5ac0>: <tensorflow_model_optimization.python.core.quantization.keras.vitis.vitis_inspect.InspectResult at 0x738f1911f460>,\n",
       " <keras.layers.convolutional.conv2d.Conv2D at 0x738e9f4f5be0>: <tensorflow_model_optimization.python.core.quantization.keras.vitis.vitis_inspect.InspectResult at 0x738f1911fb50>,\n",
       " <keras.layers.normalization.batch_normalization.BatchNormalization at 0x738e9f4ed940>: <tensorflow_model_optimization.python.core.quantization.keras.vitis.vitis_inspect.InspectResult at 0x738f1911f160>,\n",
       " <keras.layers.normalization.batch_normalization.BatchNormalization at 0x738e9f4ed100>: <tensorflow_model_optimization.python.core.quantization.keras.vitis.vitis_inspect.InspectResult at 0x738f1911fb20>,\n",
       " <keras.layers.merging.add.Add at 0x738e9f4eb460>: <tensorflow_model_optimization.python.core.quantization.keras.vitis.vitis_inspect.InspectResult at 0x738f1911f3a0>,\n",
       " <keras.layers.activation.relu.ReLU at 0x738e9f4ebee0>: <tensorflow_model_optimization.python.core.quantization.keras.vitis.vitis_inspect.InspectResult at 0x738f1911fbb0>,\n",
       " <keras.layers.convolutional.conv2d.Conv2D at 0x738e9f4ed7f0>: <tensorflow_model_optimization.python.core.quantization.keras.vitis.vitis_inspect.InspectResult at 0x738f1911fee0>,\n",
       " <keras.layers.normalization.batch_normalization.BatchNormalization at 0x738e9f4f9af0>: <tensorflow_model_optimization.python.core.quantization.keras.vitis.vitis_inspect.InspectResult at 0x738f1911feb0>,\n",
       " <keras.layers.activation.relu.ReLU at 0x738e9f4eb940>: <tensorflow_model_optimization.python.core.quantization.keras.vitis.vitis_inspect.InspectResult at 0x738f1911fd00>,\n",
       " <keras.layers.convolutional.conv2d.Conv2D at 0x738e9f4ed6d0>: <tensorflow_model_optimization.python.core.quantization.keras.vitis.vitis_inspect.InspectResult at 0x738f1911f430>,\n",
       " <keras.layers.normalization.batch_normalization.BatchNormalization at 0x738e9f4f6cd0>: <tensorflow_model_optimization.python.core.quantization.keras.vitis.vitis_inspect.InspectResult at 0x738e9f4ee3a0>,\n",
       " <keras.layers.merging.add.Add at 0x738e9f4f67f0>: <tensorflow_model_optimization.python.core.quantization.keras.vitis.vitis_inspect.InspectResult at 0x738f1916baf0>,\n",
       " <keras.layers.activation.relu.ReLU at 0x738e9f4f60a0>: <tensorflow_model_optimization.python.core.quantization.keras.vitis.vitis_inspect.InspectResult at 0x738f1916b490>,\n",
       " <keras.layers.convolutional.conv2d.Conv2D at 0x738e9f4ebeb0>: <tensorflow_model_optimization.python.core.quantization.keras.vitis.vitis_inspect.InspectResult at 0x738f1916b460>,\n",
       " <keras.layers.normalization.batch_normalization.BatchNormalization at 0x738e9f4e9ca0>: <tensorflow_model_optimization.python.core.quantization.keras.vitis.vitis_inspect.InspectResult at 0x738f190c0040>,\n",
       " <keras.layers.activation.relu.ReLU at 0x738e9f4e94f0>: <tensorflow_model_optimization.python.core.quantization.keras.vitis.vitis_inspect.InspectResult at 0x738f190c0b20>,\n",
       " <keras.layers.convolutional.conv2d.Conv2D at 0x738e9f4f6dc0>: <tensorflow_model_optimization.python.core.quantization.keras.vitis.vitis_inspect.InspectResult at 0x738f190c4c10>,\n",
       " <keras.layers.convolutional.conv2d.Conv2D at 0x738e9f4ef8e0>: <tensorflow_model_optimization.python.core.quantization.keras.vitis.vitis_inspect.InspectResult at 0x738f18fdc8e0>,\n",
       " <keras.layers.normalization.batch_normalization.BatchNormalization at 0x738e9f4e9c70>: <tensorflow_model_optimization.python.core.quantization.keras.vitis.vitis_inspect.InspectResult at 0x738f18fd1700>,\n",
       " <keras.layers.normalization.batch_normalization.BatchNormalization at 0x738e9f4ef400>: <tensorflow_model_optimization.python.core.quantization.keras.vitis.vitis_inspect.InspectResult at 0x738f18fd12b0>,\n",
       " <keras.layers.merging.add.Add at 0x738e9f4ea760>: <tensorflow_model_optimization.python.core.quantization.keras.vitis.vitis_inspect.InspectResult at 0x738f191b8100>,\n",
       " <keras.layers.activation.relu.ReLU at 0x738e9f4efaf0>: <tensorflow_model_optimization.python.core.quantization.keras.vitis.vitis_inspect.InspectResult at 0x738f190b9790>,\n",
       " <keras.layers.convolutional.conv2d.Conv2D at 0x738e9f4e9ac0>: <tensorflow_model_optimization.python.core.quantization.keras.vitis.vitis_inspect.InspectResult at 0x738f190b9fa0>,\n",
       " <keras.layers.normalization.batch_normalization.BatchNormalization at 0x738e9f4e9df0>: <tensorflow_model_optimization.python.core.quantization.keras.vitis.vitis_inspect.InspectResult at 0x738f190b99a0>,\n",
       " <keras.layers.activation.relu.ReLU at 0x738e9f4ee670>: <tensorflow_model_optimization.python.core.quantization.keras.vitis.vitis_inspect.InspectResult at 0x738f190ad7c0>,\n",
       " <keras.layers.convolutional.conv2d.Conv2D at 0x738e9f4eebe0>: <tensorflow_model_optimization.python.core.quantization.keras.vitis.vitis_inspect.InspectResult at 0x738eb208a520>,\n",
       " <keras.layers.normalization.batch_normalization.BatchNormalization at 0x738e9f4ea100>: <tensorflow_model_optimization.python.core.quantization.keras.vitis.vitis_inspect.InspectResult at 0x738f1904d6d0>,\n",
       " <keras.layers.merging.add.Add at 0x738e9f4eeaf0>: <tensorflow_model_optimization.python.core.quantization.keras.vitis.vitis_inspect.InspectResult at 0x738f1904dc70>,\n",
       " <keras.layers.activation.relu.ReLU at 0x738f193dddf0>: <tensorflow_model_optimization.python.core.quantization.keras.vitis.vitis_inspect.InspectResult at 0x738f190b6e50>,\n",
       " <keras.layers.pooling.global_average_pooling2d.GlobalAveragePooling2D at 0x738f193d5160>: <tensorflow_model_optimization.python.core.quantization.keras.vitis.vitis_inspect.InspectResult at 0x738f1905c250>,\n",
       " <keras.layers.core.dense.Dense at 0x738f193ddd60>: <tensorflow_model_optimization.python.core.quantization.keras.vitis.vitis_inspect.InspectResult at 0x738f1905c0d0>}"
      ]
     },
     "execution_count": 15,
     "metadata": {},
     "output_type": "execute_result"
    }
   ],
   "source": [
    "target_dpu = 'DPUCZDX8G_ISA1_B4096'\n",
    "inspector = vitis_inspect.VitisInspector(target = target_dpu)\n",
    "\n",
    "if not os.path.exists(\"inspect\"):\n",
    "    os.makedirs(\"inspect\")\n",
    "\n",
    "inspector.inspect_model(model,\n",
    "                        input_shape = input_shape,\n",
    "                        dump_model = True,\n",
    "                        dump_model_file = \"inspect/inspected_model.h5\",\n",
    "                        plot = True,\n",
    "                        plot_file = \"inspect/model_plot.svg\",\n",
    "                        dump_results = True,\n",
    "                        dump_results_file = \"inspect/inspect_results.txt\",\n",
    "                        verbose = 0)"
   ]
  },
  {
   "cell_type": "markdown",
   "metadata": {},
   "source": [
    "# Quantize model"
   ]
  },
  {
   "cell_type": "code",
   "execution_count": 16,
   "metadata": {},
   "outputs": [
    {
     "name": "stdout",
     "output_type": "stream",
     "text": [
      "[VAI INFO] Using func format quantizer\n",
      "[VAI INFO] Start CrossLayerEqualization...\n",
      "10/10 [==============================] - 3s 345ms/step\n",
      "[VAI INFO] CrossLayerEqualization Done.\n",
      "[VAI INFO] Start Quantize Calibration...\n"
     ]
    },
    {
     "name": "stderr",
     "output_type": "stream",
     "text": [
      "2025-01-08 05:10:35.997230: I tensorflow/core/common_runtime/executor.cc:1197] [/device:CPU:0] (DEBUG INFO) Executor start aborting (this does not indicate an error and you can ignore this message): INVALID_ARGUMENT: You must feed a value for placeholder tensor 'Placeholder/_0' with dtype float and shape [100,32,32,3]\n",
      "\t [[{{node Placeholder/_0}}]]\n"
     ]
    },
    {
     "name": "stdout",
     "output_type": "stream",
     "text": [
      "100/100 [==============================] - 17s 104ms/step\n",
      "[VAI INFO] Quantize Calibration Done.\n",
      "[VAI INFO] Start Post-Quant Model Refinement...\n",
      "[VAI INFO] Start Quantize Position Ajustment...\n",
      "[VAI INFO] Quantize Position Ajustment Done.\n",
      "1/1 [==============================] - 1s 1s/step\n",
      "[VAI INFO] Post-Quant Model Refninement Done.\n",
      "[VAI INFO] Start Model Finalization...\n",
      "[VAI INFO] Model Finalization Done.\n",
      "[VAI INFO] Quantization Finished.\n",
      "Quantized model saved successfully.\n"
     ]
    }
   ],
   "source": [
    "target_dpu = 'DPUCZDX8G_ISA1_B4096'\n",
    "# target_dpu = \"default_optimized.json\"\n",
    "calib_data = train_images[:100]\n",
    "# Create a tf.data.Dataset and ensure batch dimension\n",
    "dataset = tf.data.Dataset.from_tensor_slices(calib_data) # convert 100,32,32,3 to a 100 item iterable/list\n",
    "\"\"\" for item in dataset:\n",
    "    print(item) \"\"\"\n",
    "# no need for data calibration because train_images was already calibrated earlier\n",
    "dataset = dataset.batch(1) # group 5 images each time to check activation and weight distribution\n",
    "\n",
    "# Inspect calibration data\n",
    "\"\"\" for sample in dataset.take(100):\n",
    "    print(\"Calibration sample shape:\", sample.shape)\n",
    "    print(\"Sample data range:\", sample.numpy().min(), sample.numpy().max()) \"\"\"\n",
    "\n",
    "# Quantization\n",
    "try:\n",
    "    quantizer = vitis_quantize.VitisQuantizer(model, target=target_dpu) #int8 accordiing to docs\n",
    "    q_model = quantizer.quantize_model(calib_dataset=dataset, \n",
    "                                       input_shape=input_shape, \n",
    "                                       calib_steps=None) #use all of the dataset\n",
    "    q_model.save(\"quantized_model.h5\")\n",
    "    print(\"Quantized model saved successfully.\")\n",
    "except Exception as e:\n",
    "    print(\"Error during quantization:\", e)"
   ]
  },
  {
   "cell_type": "markdown",
   "metadata": {},
   "source": [
    "# Recompile & evaluate quantized model"
   ]
  },
  {
   "cell_type": "code",
   "execution_count": 17,
   "metadata": {},
   "outputs": [
    {
     "name": "stdout",
     "output_type": "stream",
     "text": [
      "10000/10000 [==============================] - 181s 18ms/step - loss: 0.5209 - accuracy: 0.9143\n"
     ]
    },
    {
     "data": {
      "text/plain": [
       "[0.5209415555000305, 0.9143000245094299]"
      ]
     },
     "execution_count": 17,
     "metadata": {},
     "output_type": "execute_result"
    }
   ],
   "source": [
    "batch_size = 1\n",
    "#i dont think we need this - Zé \n",
    "\n",
    "#learning_rate = 0.0001\n",
    "#momentum = 0\n",
    "#epsilon = 1e-08\n",
    "\n",
    "\"\"\" q_model.compile(\n",
    "    optimizer = tf.keras.optimizers.RMSprop(\n",
    "        learning_rate = learning_rate,\n",
    "        momentum = momentum,\n",
    "        epsilon = epsilon),\n",
    "    loss = tf.keras.losses.CategoricalCrossentropy(reduction = tf.keras.losses.Reduction.SUM_OVER_BATCH_SIZE),\n",
    "    metrics = ['acc'])\n",
    " \"\"\"\n",
    "\n",
    "# Instead:\n",
    "#compile with a dummy optimizer, since we are not training \n",
    "q_model.compile(optimizer='sgd',\n",
    "                loss=tf.keras.losses.CategoricalCrossentropy(),\n",
    "                metrics=['accuracy'])\n",
    "\n",
    "q_model.evaluate(test_images, test_labels, batch_size=batch_size)"
   ]
  },
  {
   "cell_type": "markdown",
   "metadata": {},
   "source": [
    "# Compile the DPU"
   ]
  },
  {
   "cell_type": "code",
   "execution_count": 18,
   "metadata": {},
   "outputs": [
    {
     "name": "stdout",
     "output_type": "stream",
     "text": [
      "**************************************************\n",
      "* VITIS_AI Compilation - Xilinx Inc.\n",
      "**************************************************\n",
      "[INFO] Namespace(batchsize=1, inputs_shape=None, layout='NHWC', model_files=['./quantized_model.h5'], model_type='tensorflow2', named_inputs_shape=None, out_filename='/tmp/final_model_0x101000007010407_org.xmodel', proto=None)\n",
      "[INFO] tensorflow2 model: /workspace/amd-kria-running-CIFAR-10-vitis_optimization/quantized_model.h5\n",
      "[INFO] keras version: 2.12.0\n",
      "[INFO] Tensorflow Keras model type: functional\n",
      "[INFO] parse raw model     :100%|█| 52/52 [00:00<00:00, 38405.32it/s]           \n",
      "[INFO] infer shape (NHWC)  :100%|█| 85/85 [00:00<00:00, 14760.12it/s]           \n",
      "[INFO] perform level-0 opt :100%|█| 1/1 [00:00<00:00, 386.18it/s]               \n",
      "[INFO] perform level-1 opt :100%|█| 2/2 [00:00<00:00, 1611.03it/s]              \n",
      "[INFO] infer shape (NHWC)  :100%|█| 87/87 [00:00<00:00, 21027.11it/s]           \n",
      "[INFO] generate xmodel     :100%|█| 87/87 [00:00<00:00, 1019.70it/s]            \n",
      "[INFO] dump xmodel: /tmp/final_model_0x101000007010407_org.xmodel\n",
      "[UNILOG][INFO] Compile mode: dpu\n",
      "[UNILOG][INFO] Debug mode: null\n",
      "[UNILOG][INFO] Target architecture: DPUCZDX8G_ISA1_B4096_0101000007010407\n",
      "[UNILOG][INFO] Graph name: model, with op num: 173\n",
      "[UNILOG][INFO] Begin to compile...\n",
      "[UNILOG][INFO] Total device subgraph number 3, DPU subgraph number 1\n",
      "[UNILOG][INFO] Compile done.\n",
      "[UNILOG][INFO] The meta json is saved to \"/workspace/amd-kria-running-CIFAR-10-vitis_optimization/xmodel/meta.json\"\n",
      "[UNILOG][INFO] The compiled xmodel is saved to \"/workspace/amd-kria-running-CIFAR-10-vitis_optimization/xmodel/final_model.xmodel\"\n",
      "[UNILOG][INFO] The compiled xmodel's md5sum is 4ad41689957c646a045a917af9716660, and has been saved to \"/workspace/amd-kria-running-CIFAR-10-vitis_optimization/xmodel/md5sum.txt\"\n"
     ]
    }
   ],
   "source": [
    "!vai_c_tensorflow2 -m \"./quantized_model.h5\" -a \"arch.json\" -o \"xmodel\" -n final_model "
   ]
  },
  {
   "cell_type": "code",
   "execution_count": null,
   "metadata": {},
   "outputs": [],
   "source": []
  }
 ],
 "metadata": {
  "kernelspec": {
   "display_name": "Python 3 (ipykernel)",
   "language": "python",
   "name": "python3"
  },
  "language_info": {
   "codemirror_mode": {
    "name": "ipython",
    "version": 3
   },
   "file_extension": ".py",
   "mimetype": "text/x-python",
   "name": "python",
   "nbconvert_exporter": "python",
   "pygments_lexer": "ipython3",
   "version": "3.8.6"
  }
 },
 "nbformat": 4,
 "nbformat_minor": 2
}
