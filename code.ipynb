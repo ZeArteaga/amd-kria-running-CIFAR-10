{
 "cells": [
  {
   "cell_type": "markdown",
   "metadata": {},
   "source": [
    "# Libraries importing"
   ]
  },
  {
   "cell_type": "code",
   "execution_count": 1,
   "metadata": {},
   "outputs": [
    {
     "name": "stderr",
     "output_type": "stream",
     "text": [
      "2025-01-09 05:44:18.871058: I tensorflow/core/platform/cpu_feature_guard.cc:186] This TensorFlow binary is optimized with Zen Deep Neural Network Library (ZenDNN) to use available CPU instructions in performance-critical operations.\n",
      "To enable the following instructions: SSE3 SSE4.1 SSE4.2 AVX AVX2 FMA, in other operations, rebuild TensorFlow with the appropriate compiler flags.\n"
     ]
    }
   ],
   "source": [
    "import numpy as np\n",
    "import os\n",
    "import pickle\n",
    "import tensorflow as tf\n",
    "from tensorflow_model_optimization.quantization.keras import vitis_inspect, vitis_quantize\n",
    "from tensorflow_model_optimization.python.core.quantization.keras.vitis.utils import model_utils\n",
    "from tensorflow.keras.models import Sequential\n",
    "from tensorflow.keras.utils import to_categorical\n",
    "from tensorflow.keras.models import Model, load_model\n",
    "from tensorflow.keras.optimizers import Adam, SGD"
   ]
  },
  {
   "cell_type": "markdown",
   "metadata": {},
   "source": [
    "# Function to load the CIFAR10 dataset (after downloading it locally)"
   ]
  },
  {
   "cell_type": "code",
   "execution_count": 2,
   "metadata": {},
   "outputs": [],
   "source": [
    "def load_cifar10(data_dir):\n",
    "    def unpickle(file):\n",
    "        with open(file, 'rb') as fo:\n",
    "            dict = pickle.load(fo, encoding='bytes')\n",
    "        return dict\n",
    "\n",
    "    # Load training data\n",
    "    x_train, y_train = [], []\n",
    "    for i in range(1, 6):  # CIFAR-10 training data consists of 5 batches\n",
    "        batch = unpickle(os.path.join(data_dir, f\"data_batch_{i}\"))\n",
    "        x_train.append(batch[b'data'])\n",
    "        y_train.extend(batch[b'labels'])\n",
    "\n",
    "    x_train = np.vstack(x_train).reshape(-1, 3, 32, 32).transpose(0, 2, 3, 1)\n",
    "    y_train = np.array(y_train)\n",
    "\n",
    "    # Load test data\n",
    "    test_batch = unpickle(os.path.join(data_dir, \"test_batch\"))\n",
    "    x_test = test_batch[b'data'].reshape(-1, 3, 32, 32).transpose(0, 2, 3, 1)\n",
    "    y_test = np.array(test_batch[b'labels'])\n",
    "\n",
    "    return (x_train, y_train), (x_test, y_test)"
   ]
  },
  {
   "cell_type": "markdown",
   "metadata": {},
   "source": [
    "# Actually loading CIFAR10"
   ]
  },
  {
   "cell_type": "code",
   "execution_count": 3,
   "metadata": {},
   "outputs": [
    {
     "name": "stdout",
     "output_type": "stream",
     "text": [
      "(50000, 32, 32, 3)\n",
      "(50000,)\n",
      "(50000, 32, 32, 3)\n",
      "(50000, 10)\n"
     ]
    }
   ],
   "source": [
    "#CIFAR-10 dataset\n",
    "(train_images, train_labels), (test_images, test_labels) = load_cifar10(\"cifar-10-batches-py\")\n",
    "print(train_images.shape)\n",
    "print(train_labels.shape)\n",
    "train_images = train_images.reshape(train_images.shape[0], 32, 32, 3) #ensure shape 32 W x 32 H x 3 channels for each image\n",
    "test_images = test_images.reshape(test_images.shape[0], 32, 32, 3)\n",
    "\n",
    "#range 0-1\n",
    "train_images = train_images.astype('float32') / 255.0\n",
    "test_images = test_images.astype('float32') / 255.0\n",
    "\n",
    "#One-hot encoding labels\n",
    "train_labels = to_categorical(train_labels, 10)\n",
    "test_labels = to_categorical(test_labels, 10)\n",
    "\n",
    "print(train_images.shape)\n",
    "print(train_labels.shape)"
   ]
  },
  {
   "cell_type": "markdown",
   "metadata": {},
   "source": [
    "# Loading a trained model"
   ]
  },
  {
   "cell_type": "code",
   "execution_count": 4,
   "metadata": {},
   "outputs": [
    {
     "name": "stdout",
     "output_type": "stream",
     "text": [
      "Model: \"model_3\"\n",
      "__________________________________________________________________________________________________\n",
      " Layer (type)                   Output Shape         Param #     Connected to                     \n",
      "==================================================================================================\n",
      " input_4 (InputLayer)           [(None, 32, 32, 3)]  0           []                               \n",
      "                                                                                                  \n",
      " conv2d_60 (Conv2D)             (None, 32, 32, 64)   1792        ['input_4[0][0]']                \n",
      "                                                                                                  \n",
      " batch_normalization_60 (BatchN  (None, 32, 32, 64)  256         ['conv2d_60[0][0]']              \n",
      " ormalization)                                                                                    \n",
      "                                                                                                  \n",
      " re_lu_51 (ReLU)                (None, 32, 32, 64)   0           ['batch_normalization_60[0][0]'] \n",
      "                                                                                                  \n",
      " conv2d_61 (Conv2D)             (None, 32, 32, 64)   36928       ['re_lu_51[0][0]']               \n",
      "                                                                                                  \n",
      " batch_normalization_61 (BatchN  (None, 32, 32, 64)  256         ['conv2d_61[0][0]']              \n",
      " ormalization)                                                                                    \n",
      "                                                                                                  \n",
      " re_lu_52 (ReLU)                (None, 32, 32, 64)   0           ['batch_normalization_61[0][0]'] \n",
      "                                                                                                  \n",
      " conv2d_62 (Conv2D)             (None, 32, 32, 64)   36928       ['re_lu_52[0][0]']               \n",
      "                                                                                                  \n",
      " batch_normalization_62 (BatchN  (None, 32, 32, 64)  256         ['conv2d_62[0][0]']              \n",
      " ormalization)                                                                                    \n",
      "                                                                                                  \n",
      " add_24 (Add)                   (None, 32, 32, 64)   0           ['batch_normalization_62[0][0]', \n",
      "                                                                  're_lu_51[0][0]']               \n",
      "                                                                                                  \n",
      " re_lu_53 (ReLU)                (None, 32, 32, 64)   0           ['add_24[0][0]']                 \n",
      "                                                                                                  \n",
      " conv2d_63 (Conv2D)             (None, 32, 32, 64)   36928       ['re_lu_53[0][0]']               \n",
      "                                                                                                  \n",
      " batch_normalization_63 (BatchN  (None, 32, 32, 64)  256         ['conv2d_63[0][0]']              \n",
      " ormalization)                                                                                    \n",
      "                                                                                                  \n",
      " re_lu_54 (ReLU)                (None, 32, 32, 64)   0           ['batch_normalization_63[0][0]'] \n",
      "                                                                                                  \n",
      " conv2d_64 (Conv2D)             (None, 32, 32, 64)   36928       ['re_lu_54[0][0]']               \n",
      "                                                                                                  \n",
      " batch_normalization_64 (BatchN  (None, 32, 32, 64)  256         ['conv2d_64[0][0]']              \n",
      " ormalization)                                                                                    \n",
      "                                                                                                  \n",
      " add_25 (Add)                   (None, 32, 32, 64)   0           ['batch_normalization_64[0][0]', \n",
      "                                                                  're_lu_53[0][0]']               \n",
      "                                                                                                  \n",
      " re_lu_55 (ReLU)                (None, 32, 32, 64)   0           ['add_25[0][0]']                 \n",
      "                                                                                                  \n",
      " conv2d_66 (Conv2D)             (None, 16, 16, 128)  73856       ['re_lu_55[0][0]']               \n",
      "                                                                                                  \n",
      " batch_normalization_66 (BatchN  (None, 16, 16, 128)  512        ['conv2d_66[0][0]']              \n",
      " ormalization)                                                                                    \n",
      "                                                                                                  \n",
      " re_lu_56 (ReLU)                (None, 16, 16, 128)  0           ['batch_normalization_66[0][0]'] \n",
      "                                                                                                  \n",
      " conv2d_67 (Conv2D)             (None, 16, 16, 128)  147584      ['re_lu_56[0][0]']               \n",
      "                                                                                                  \n",
      " conv2d_65 (Conv2D)             (None, 16, 16, 128)  8320        ['re_lu_55[0][0]']               \n",
      "                                                                                                  \n",
      " batch_normalization_67 (BatchN  (None, 16, 16, 128)  512        ['conv2d_67[0][0]']              \n",
      " ormalization)                                                                                    \n",
      "                                                                                                  \n",
      " batch_normalization_65 (BatchN  (None, 16, 16, 128)  512        ['conv2d_65[0][0]']              \n",
      " ormalization)                                                                                    \n",
      "                                                                                                  \n",
      " add_26 (Add)                   (None, 16, 16, 128)  0           ['batch_normalization_67[0][0]', \n",
      "                                                                  'batch_normalization_65[0][0]'] \n",
      "                                                                                                  \n",
      " re_lu_57 (ReLU)                (None, 16, 16, 128)  0           ['add_26[0][0]']                 \n",
      "                                                                                                  \n",
      " conv2d_68 (Conv2D)             (None, 16, 16, 128)  147584      ['re_lu_57[0][0]']               \n",
      "                                                                                                  \n",
      " batch_normalization_68 (BatchN  (None, 16, 16, 128)  512        ['conv2d_68[0][0]']              \n",
      " ormalization)                                                                                    \n",
      "                                                                                                  \n",
      " re_lu_58 (ReLU)                (None, 16, 16, 128)  0           ['batch_normalization_68[0][0]'] \n",
      "                                                                                                  \n",
      " conv2d_69 (Conv2D)             (None, 16, 16, 128)  147584      ['re_lu_58[0][0]']               \n",
      "                                                                                                  \n",
      " batch_normalization_69 (BatchN  (None, 16, 16, 128)  512        ['conv2d_69[0][0]']              \n",
      " ormalization)                                                                                    \n",
      "                                                                                                  \n",
      " add_27 (Add)                   (None, 16, 16, 128)  0           ['batch_normalization_69[0][0]', \n",
      "                                                                  're_lu_57[0][0]']               \n",
      "                                                                                                  \n"
     ]
    },
    {
     "name": "stdout",
     "output_type": "stream",
     "text": [
      " re_lu_59 (ReLU)                (None, 16, 16, 128)  0           ['add_27[0][0]']                 \n",
      "                                                                                                  \n",
      " conv2d_71 (Conv2D)             (None, 8, 8, 256)    295168      ['re_lu_59[0][0]']               \n",
      "                                                                                                  \n",
      " batch_normalization_71 (BatchN  (None, 8, 8, 256)   1024        ['conv2d_71[0][0]']              \n",
      " ormalization)                                                                                    \n",
      "                                                                                                  \n",
      " re_lu_60 (ReLU)                (None, 8, 8, 256)    0           ['batch_normalization_71[0][0]'] \n",
      "                                                                                                  \n",
      " conv2d_72 (Conv2D)             (None, 8, 8, 256)    590080      ['re_lu_60[0][0]']               \n",
      "                                                                                                  \n",
      " conv2d_70 (Conv2D)             (None, 8, 8, 256)    33024       ['re_lu_59[0][0]']               \n",
      "                                                                                                  \n",
      " batch_normalization_72 (BatchN  (None, 8, 8, 256)   1024        ['conv2d_72[0][0]']              \n",
      " ormalization)                                                                                    \n",
      "                                                                                                  \n",
      " batch_normalization_70 (BatchN  (None, 8, 8, 256)   1024        ['conv2d_70[0][0]']              \n",
      " ormalization)                                                                                    \n",
      "                                                                                                  \n",
      " add_28 (Add)                   (None, 8, 8, 256)    0           ['batch_normalization_72[0][0]', \n",
      "                                                                  'batch_normalization_70[0][0]'] \n",
      "                                                                                                  \n",
      " re_lu_61 (ReLU)                (None, 8, 8, 256)    0           ['add_28[0][0]']                 \n",
      "                                                                                                  \n",
      " conv2d_73 (Conv2D)             (None, 8, 8, 256)    590080      ['re_lu_61[0][0]']               \n",
      "                                                                                                  \n",
      " batch_normalization_73 (BatchN  (None, 8, 8, 256)   1024        ['conv2d_73[0][0]']              \n",
      " ormalization)                                                                                    \n",
      "                                                                                                  \n",
      " re_lu_62 (ReLU)                (None, 8, 8, 256)    0           ['batch_normalization_73[0][0]'] \n",
      "                                                                                                  \n",
      " conv2d_74 (Conv2D)             (None, 8, 8, 256)    590080      ['re_lu_62[0][0]']               \n",
      "                                                                                                  \n",
      " batch_normalization_74 (BatchN  (None, 8, 8, 256)   1024        ['conv2d_74[0][0]']              \n",
      " ormalization)                                                                                    \n",
      "                                                                                                  \n",
      " add_29 (Add)                   (None, 8, 8, 256)    0           ['batch_normalization_74[0][0]', \n",
      "                                                                  're_lu_61[0][0]']               \n",
      "                                                                                                  \n",
      " re_lu_63 (ReLU)                (None, 8, 8, 256)    0           ['add_29[0][0]']                 \n",
      "                                                                                                  \n",
      " conv2d_76 (Conv2D)             (None, 4, 4, 512)    1180160     ['re_lu_63[0][0]']               \n",
      "                                                                                                  \n",
      " batch_normalization_76 (BatchN  (None, 4, 4, 512)   2048        ['conv2d_76[0][0]']              \n",
      " ormalization)                                                                                    \n",
      "                                                                                                  \n",
      " re_lu_64 (ReLU)                (None, 4, 4, 512)    0           ['batch_normalization_76[0][0]'] \n",
      "                                                                                                  \n",
      " conv2d_77 (Conv2D)             (None, 4, 4, 512)    2359808     ['re_lu_64[0][0]']               \n",
      "                                                                                                  \n",
      " conv2d_75 (Conv2D)             (None, 4, 4, 512)    131584      ['re_lu_63[0][0]']               \n",
      "                                                                                                  \n",
      " batch_normalization_77 (BatchN  (None, 4, 4, 512)   2048        ['conv2d_77[0][0]']              \n",
      " ormalization)                                                                                    \n",
      "                                                                                                  \n",
      " batch_normalization_75 (BatchN  (None, 4, 4, 512)   2048        ['conv2d_75[0][0]']              \n",
      " ormalization)                                                                                    \n",
      "                                                                                                  \n",
      " add_30 (Add)                   (None, 4, 4, 512)    0           ['batch_normalization_77[0][0]', \n",
      "                                                                  'batch_normalization_75[0][0]'] \n",
      "                                                                                                  \n",
      " re_lu_65 (ReLU)                (None, 4, 4, 512)    0           ['add_30[0][0]']                 \n",
      "                                                                                                  \n",
      " conv2d_78 (Conv2D)             (None, 4, 4, 512)    2359808     ['re_lu_65[0][0]']               \n",
      "                                                                                                  \n",
      " batch_normalization_78 (BatchN  (None, 4, 4, 512)   2048        ['conv2d_78[0][0]']              \n",
      " ormalization)                                                                                    \n",
      "                                                                                                  \n",
      " re_lu_66 (ReLU)                (None, 4, 4, 512)    0           ['batch_normalization_78[0][0]'] \n",
      "                                                                                                  \n",
      " conv2d_79 (Conv2D)             (None, 4, 4, 512)    2359808     ['re_lu_66[0][0]']               \n",
      "                                                                                                  \n",
      " batch_normalization_79 (BatchN  (None, 4, 4, 512)   2048        ['conv2d_79[0][0]']              \n",
      " ormalization)                                                                                    \n",
      "                                                                                                  \n",
      " add_31 (Add)                   (None, 4, 4, 512)    0           ['batch_normalization_79[0][0]', \n",
      "                                                                  're_lu_65[0][0]']               \n",
      "                                                                                                  \n",
      " re_lu_67 (ReLU)                (None, 4, 4, 512)    0           ['add_31[0][0]']                 \n",
      "                                                                                                  \n",
      " average_pooling2d_3 (AveragePo  (None, 1, 1, 512)   0           ['re_lu_67[0][0]']               \n",
      " oling2D)                                                                                         \n",
      "                                                                                                  \n"
     ]
    },
    {
     "name": "stdout",
     "output_type": "stream",
     "text": [
      " flatten_3 (Flatten)            (None, 512)          0           ['average_pooling2d_3[0][0]']    \n",
      "                                                                                                  \n",
      " dense_3 (Dense)                (None, 10)           5130        ['flatten_3[0][0]']              \n",
      "                                                                                                  \n",
      "==================================================================================================\n",
      "Total params: 11,188,362\n",
      "Trainable params: 11,178,762\n",
      "Non-trainable params: 9,600\n",
      "__________________________________________________________________________________________________\n"
     ]
    }
   ],
   "source": [
    "input_shape = (None,32, 32, 3)\n",
    "model = load_model('avg_pool_model_9275.h5')\n",
    "model.build(input_shape=input_shape)\n",
    "model.summary()\n",
    "\n",
    "opt = SGD(learning_rate=0.1, momentum=0.9, weight_decay=1e-4)"
   ]
  },
  {
   "cell_type": "markdown",
   "metadata": {},
   "source": [
    "# Copying the guide, 17:57 in the video (just inspection)"
   ]
  },
  {
   "cell_type": "code",
   "execution_count": 5,
   "metadata": {},
   "outputs": [
    {
     "name": "stdout",
     "output_type": "stream",
     "text": [
      "[VAI INFO] Update include_bias_corr: False\n",
      "[VAI INFO] Update include_fast_ft: False\n",
      "[VAI INFO] Update include_cle: False\n",
      "[INFO] Namespace(batchsize=1, inputs_shape=None, layout='NHWC', model_files=['/tmp/root/tensorflow_model_optimization/tmp_sub_graph_quantized_20250109-054423-803482_QFDMTt.h5'], model_type='tensorflow2', named_inputs_shape=None, out_filename='/tmp/root/tensorflow_model_optimization/tmp_sub_graph_xnnc_20250109-054423-803482_QFDMTt.xmodel', proto=None)\n",
      "[INFO] tensorflow2 model: /tmp/root/tensorflow_model_optimization/tmp_sub_graph_quantized_20250109-054423-803482_QFDMTt.h5\n",
      "[INFO] keras version: 2.12.0\n",
      "[INFO] Tensorflow Keras model type: functional\n"
     ]
    },
    {
     "name": "stderr",
     "output_type": "stream",
     "text": [
      "[INFO] parse raw model     :100%|██████████████████████████████████████████████████████████████████████████████████████████| 3/3 [00:00<00:00, 22836.50it/s]                 \n",
      "[INFO] infer shape (NHWC)  :100%|██████████████████████████████████████████████████████████████████████████████████████████| 4/4 [00:00<00:00, 18745.49it/s]                 \n",
      "[INFO] perform level-0 opt :100%|██████████████████████████████████████████████████████████████████████████████████████████| 1/1 [00:00<00:00, 5974.79it/s]                  \n",
      "[INFO] perform level-1 opt :100%|██████████████████████████████████████████████████████████████████████████████████████████| 2/2 [00:00<00:00, 11259.88it/s]                 \n",
      "[INFO] infer shape (NHWC)  :100%|██████████████████████████████████████████████████████████████████████████████████████████| 6/6 [00:00<00:00, 15060.34it/s]                 \n",
      "[INFO] generate xmodel     :100%|██████████████████████████████████████████████████████████████████████████████████████████| 6/6 [00:00<00:00, 7051.23it/s]                  \n",
      "WARNING: Logging before InitGoogleLogging() is written to STDERR\n",
      "I20250109 05:44:24.552153   243 compile_pass_manager.cpp:352] [UNILOG][INFO] Compile mode: dpu\n",
      "I20250109 05:44:24.552170   243 compile_pass_manager.cpp:353] [UNILOG][INFO] Debug mode: null\n",
      "I20250109 05:44:24.552174   243 compile_pass_manager.cpp:357] [UNILOG][INFO] Target architecture: DPUCZDX8G_ISA1_B4096\n",
      "I20250109 05:44:24.552350   243 compile_pass_manager.cpp:465] [UNILOG][INFO] Graph name: model, with op num: 6\n",
      "I20250109 05:44:24.552356   243 compile_pass_manager.cpp:478] [UNILOG][INFO] Begin to compile...\n",
      "I20250109 05:44:24.554224   243 compile_pass_manager.cpp:489] [UNILOG][INFO] Total device subgraph number 3, DPU subgraph number 1\n",
      "I20250109 05:44:24.554241   243 compile_pass_manager.cpp:504] [UNILOG][INFO] Compile done.\n"
     ]
    },
    {
     "name": "stdout",
     "output_type": "stream",
     "text": [
      "[INFO] dump xmodel ...\r",
      "[INFO] dump xmodel: /tmp/root/tensorflow_model_optimization/tmp_sub_graph_xnnc_20250109-054423-803482_QFDMTt.xmodel\n",
      "[INFO] Namespace(batchsize=1, inputs_shape=None, layout='NHWC', model_files=['/tmp/root/tensorflow_model_optimization/tmp_sub_graph_quantized_20250109-054423-803835_CndMLK.h5'], model_type='tensorflow2', named_inputs_shape=None, out_filename='/tmp/root/tensorflow_model_optimization/tmp_sub_graph_xnnc_20250109-054423-803835_CndMLK.xmodel', proto=None)\n",
      "[INFO] tensorflow2 model: /tmp/root/tensorflow_model_optimization/tmp_sub_graph_quantized_20250109-054423-803835_CndMLK.h5\n",
      "[INFO] keras version: 2.12.0\n",
      "[INFO] Tensorflow Keras model type: functional\n"
     ]
    },
    {
     "name": "stderr",
     "output_type": "stream",
     "text": [
      "[INFO] parse raw model     :100%|██████████████████████████████████████████████████████████████████████████████████████████| 4/4 [00:00<00:00, 22857.24it/s]                 \n",
      "[INFO] infer shape (NHWC)  :100%|██████████████████████████████████████████████████████████████████████████████████████████| 5/5 [00:00<00:00, 13273.11it/s]                 \n",
      "[INFO] perform level-0 opt :100%|██████████████████████████████████████████████████████████████████████████████████████████| 1/1 [00:00<00:00, 3858.61it/s]                  \n",
      "[INFO] perform level-1 opt :100%|██████████████████████████████████████████████████████████████████████████████████████████| 2/2 [00:00<00:00, 13443.28it/s]                 \n",
      "[INFO] generate xmodel     :100%|██████████████████████████████████████████████████████████████████████████████████████████| 5/5 [00:00<00:00, 5419.00it/s]                  \n",
      "I20250109 05:44:24.669241   243 compile_pass_manager.cpp:352] [UNILOG][INFO] Compile mode: dpu\n",
      "I20250109 05:44:24.669255   243 compile_pass_manager.cpp:353] [UNILOG][INFO] Debug mode: null\n",
      "I20250109 05:44:24.669257   243 compile_pass_manager.cpp:357] [UNILOG][INFO] Target architecture: DPUCZDX8G_ISA1_B4096\n",
      "I20250109 05:44:24.669315   243 compile_pass_manager.cpp:465] [UNILOG][INFO] Graph name: model_1, with op num: 9\n",
      "I20250109 05:44:24.669318   243 compile_pass_manager.cpp:478] [UNILOG][INFO] Begin to compile...\n",
      "I20250109 05:44:24.671654   243 compile_pass_manager.cpp:489] [UNILOG][INFO] Total device subgraph number 3, DPU subgraph number 1\n",
      "I20250109 05:44:24.671671   243 compile_pass_manager.cpp:504] [UNILOG][INFO] Compile done.\n"
     ]
    },
    {
     "name": "stdout",
     "output_type": "stream",
     "text": [
      "[INFO] dump xmodel ...\r",
      "[INFO] dump xmodel: /tmp/root/tensorflow_model_optimization/tmp_sub_graph_xnnc_20250109-054423-803835_CndMLK.xmodel\n",
      "[INFO] Namespace(batchsize=1, inputs_shape=None, layout='NHWC', model_files=['/tmp/root/tensorflow_model_optimization/tmp_sub_graph_quantized_20250109-054423-803835_CndMLK.h5'], model_type='tensorflow2', named_inputs_shape=None, out_filename='/tmp/root/tensorflow_model_optimization/tmp_sub_graph_xnnc_20250109-054423-803835_CndMLK.xmodel', proto=None)\n",
      "[INFO] tensorflow2 model: /tmp/root/tensorflow_model_optimization/tmp_sub_graph_quantized_20250109-054423-803835_CndMLK.h5\n",
      "[INFO] keras version: 2.12.0\n",
      "[INFO] Tensorflow Keras model type: functional\n"
     ]
    },
    {
     "name": "stderr",
     "output_type": "stream",
     "text": [
      "[INFO] parse raw model     :100%|██████████████████████████████████████████████████████████████████████████████████████████| 4/4 [00:00<00:00, 20945.34it/s]                 \n",
      "[INFO] infer shape (NHWC)  :100%|██████████████████████████████████████████████████████████████████████████████████████████| 5/5 [00:00<00:00, 13281.52it/s]                 \n",
      "[INFO] perform level-0 opt :100%|██████████████████████████████████████████████████████████████████████████████████████████| 1/1 [00:00<00:00, 4798.97it/s]                  \n",
      "[INFO] perform level-1 opt :100%|██████████████████████████████████████████████████████████████████████████████████████████| 2/2 [00:00<00:00, 16416.06it/s]                 \n",
      "[INFO] generate xmodel     :100%|██████████████████████████████████████████████████████████████████████████████████████████| 5/5 [00:00<00:00, 4550.12it/s]                  \n",
      "I20250109 05:44:24.742091   243 compile_pass_manager.cpp:352] [UNILOG][INFO] Compile mode: dpu\n",
      "I20250109 05:44:24.742105   243 compile_pass_manager.cpp:353] [UNILOG][INFO] Debug mode: null\n",
      "I20250109 05:44:24.742108   243 compile_pass_manager.cpp:357] [UNILOG][INFO] Target architecture: DPUCZDX8G_ISA1_B4096\n",
      "I20250109 05:44:24.742161   243 compile_pass_manager.cpp:465] [UNILOG][INFO] Graph name: model_2, with op num: 9\n",
      "I20250109 05:44:24.742164   243 compile_pass_manager.cpp:478] [UNILOG][INFO] Begin to compile...\n",
      "I20250109 05:44:24.745523   243 compile_pass_manager.cpp:489] [UNILOG][INFO] Total device subgraph number 3, DPU subgraph number 1\n",
      "I20250109 05:44:24.745546   243 compile_pass_manager.cpp:504] [UNILOG][INFO] Compile done.\n"
     ]
    },
    {
     "name": "stdout",
     "output_type": "stream",
     "text": [
      "[INFO] dump xmodel: /tmp/root/tensorflow_model_optimization/tmp_sub_graph_xnnc_20250109-054423-803835_CndMLK.xmodel\n",
      "[INFO] Namespace(batchsize=1, inputs_shape=None, layout='NHWC', model_files=['/tmp/root/tensorflow_model_optimization/tmp_sub_graph_quantized_20250109-054423-803835_CndMLK.h5'], model_type='tensorflow2', named_inputs_shape=None, out_filename='/tmp/root/tensorflow_model_optimization/tmp_sub_graph_xnnc_20250109-054423-803835_CndMLK.xmodel', proto=None)\n",
      "[INFO] tensorflow2 model: /tmp/root/tensorflow_model_optimization/tmp_sub_graph_quantized_20250109-054423-803835_CndMLK.h5\n",
      "[INFO] keras version: 2.12.0\n",
      "[INFO] Tensorflow Keras model type: functional\n"
     ]
    },
    {
     "name": "stderr",
     "output_type": "stream",
     "text": [
      "[INFO] parse raw model     :100%|██████████████████████████████████████████████████████████████████████████████████████████| 4/4 [00:00<00:00, 17924.38it/s]                 \n",
      "[INFO] infer shape (NHWC)  :100%|██████████████████████████████████████████████████████████████████████████████████████████| 5/5 [00:00<00:00, 13066.37it/s]                 \n",
      "[INFO] perform level-0 opt :100%|██████████████████████████████████████████████████████████████████████████████████████████| 1/1 [00:00<00:00, 4490.69it/s]                  \n",
      "[INFO] perform level-1 opt :100%|██████████████████████████████████████████████████████████████████████████████████████████| 2/2 [00:00<00:00, 14691.08it/s]                 \n",
      "[INFO] generate xmodel     :100%|██████████████████████████████████████████████████████████████████████████████████████████| 5/5 [00:00<00:00, 4642.80it/s]                  \n",
      "I20250109 05:44:24.816026   243 compile_pass_manager.cpp:352] [UNILOG][INFO] Compile mode: dpu\n",
      "I20250109 05:44:24.816040   243 compile_pass_manager.cpp:353] [UNILOG][INFO] Debug mode: null\n",
      "I20250109 05:44:24.816043   243 compile_pass_manager.cpp:357] [UNILOG][INFO] Target architecture: DPUCZDX8G_ISA1_B4096\n",
      "I20250109 05:44:24.816095   243 compile_pass_manager.cpp:465] [UNILOG][INFO] Graph name: model_3, with op num: 9\n",
      "I20250109 05:44:24.816099   243 compile_pass_manager.cpp:478] [UNILOG][INFO] Begin to compile...\n",
      "I20250109 05:44:24.819379   243 compile_pass_manager.cpp:489] [UNILOG][INFO] Total device subgraph number 3, DPU subgraph number 1\n",
      "I20250109 05:44:24.819402   243 compile_pass_manager.cpp:504] [UNILOG][INFO] Compile done.\n"
     ]
    },
    {
     "name": "stdout",
     "output_type": "stream",
     "text": [
      "[INFO] dump xmodel: /tmp/root/tensorflow_model_optimization/tmp_sub_graph_xnnc_20250109-054423-803835_CndMLK.xmodel\n",
      "[INFO] Namespace(batchsize=1, inputs_shape=None, layout='NHWC', model_files=['/tmp/root/tensorflow_model_optimization/tmp_sub_graph_quantized_20250109-054423-803835_CndMLK.h5'], model_type='tensorflow2', named_inputs_shape=None, out_filename='/tmp/root/tensorflow_model_optimization/tmp_sub_graph_xnnc_20250109-054423-803835_CndMLK.xmodel', proto=None)\n",
      "[INFO] tensorflow2 model: /tmp/root/tensorflow_model_optimization/tmp_sub_graph_quantized_20250109-054423-803835_CndMLK.h5\n",
      "[INFO] keras version: 2.12.0\n",
      "[INFO] Tensorflow Keras model type: functional\n"
     ]
    },
    {
     "name": "stderr",
     "output_type": "stream",
     "text": [
      "[INFO] parse raw model     :100%|██████████████████████████████████████████████████████████████████████████████████████████| 4/4 [00:00<00:00, 6195.43it/s]                  \n",
      "[INFO] infer shape (NHWC)  :100%|██████████████████████████████████████████████████████████████████████████████████████████| 5/5 [00:00<00:00, 15638.72it/s]                 \n",
      "[INFO] perform level-0 opt :100%|██████████████████████████████████████████████████████████████████████████████████████████| 1/1 [00:00<00:00, 4681.14it/s]                  \n",
      "[INFO] perform level-1 opt :100%|██████████████████████████████████████████████████████████████████████████████████████████| 2/2 [00:00<00:00, 11983.73it/s]                 \n",
      "[INFO] generate xmodel     :100%|██████████████████████████████████████████████████████████████████████████████████████████| 5/5 [00:00<00:00, 4599.02it/s]                  \n",
      "I20250109 05:44:24.888787   243 compile_pass_manager.cpp:352] [UNILOG][INFO] Compile mode: dpu\n",
      "I20250109 05:44:24.888799   243 compile_pass_manager.cpp:353] [UNILOG][INFO] Debug mode: null\n",
      "I20250109 05:44:24.888803   243 compile_pass_manager.cpp:357] [UNILOG][INFO] Target architecture: DPUCZDX8G_ISA1_B4096\n",
      "I20250109 05:44:24.888856   243 compile_pass_manager.cpp:465] [UNILOG][INFO] Graph name: model_4, with op num: 9\n",
      "I20250109 05:44:24.888859   243 compile_pass_manager.cpp:478] [UNILOG][INFO] Begin to compile...\n",
      "I20250109 05:44:24.892827   243 compile_pass_manager.cpp:489] [UNILOG][INFO] Total device subgraph number 3, DPU subgraph number 1\n",
      "I20250109 05:44:24.892843   243 compile_pass_manager.cpp:504] [UNILOG][INFO] Compile done.\n"
     ]
    },
    {
     "name": "stdout",
     "output_type": "stream",
     "text": [
      "[INFO] dump xmodel: /tmp/root/tensorflow_model_optimization/tmp_sub_graph_xnnc_20250109-054423-803835_CndMLK.xmodel\n",
      "[INFO] Namespace(batchsize=1, inputs_shape=None, layout='NHWC', model_files=['/tmp/root/tensorflow_model_optimization/tmp_sub_graph_quantized_20250109-054423-803835_CndMLK.h5'], model_type='tensorflow2', named_inputs_shape=None, out_filename='/tmp/root/tensorflow_model_optimization/tmp_sub_graph_xnnc_20250109-054423-803835_CndMLK.xmodel', proto=None)\n",
      "[INFO] tensorflow2 model: /tmp/root/tensorflow_model_optimization/tmp_sub_graph_quantized_20250109-054423-803835_CndMLK.h5\n",
      "[INFO] keras version: 2.12.0\n",
      "[INFO] Tensorflow Keras model type: functional\n"
     ]
    },
    {
     "name": "stderr",
     "output_type": "stream",
     "text": [
      "[INFO] parse raw model     :100%|██████████████████████████████████████████████████████████████████████████████████████████| 4/4 [00:00<00:00, 9554.22it/s]                  \n",
      "[INFO] infer shape (NHWC)  :100%|██████████████████████████████████████████████████████████████████████████████████████████| 5/5 [00:00<00:00, 15996.58it/s]                 \n",
      "[INFO] perform level-0 opt :100%|██████████████████████████████████████████████████████████████████████████████████████████| 1/1 [00:00<00:00, 5140.08it/s]                  \n",
      "[INFO] perform level-1 opt :100%|██████████████████████████████████████████████████████████████████████████████████████████| 2/2 [00:00<00:00, 14847.09it/s]                 \n",
      "[INFO] generate xmodel     :100%|██████████████████████████████████████████████████████████████████████████████████████████| 5/5 [00:00<00:00, 3245.86it/s]                  "
     ]
    },
    {
     "name": "stdout",
     "output_type": "stream",
     "text": [
      "[INFO] dump xmodel ...\r",
      "[INFO] dump xmodel: /tmp/root/tensorflow_model_optimization/tmp_sub_graph_xnnc_20250109-054423-803835_CndMLK.xmodel\n"
     ]
    },
    {
     "name": "stderr",
     "output_type": "stream",
     "text": [
      "\n",
      "I20250109 05:44:24.963919   243 compile_pass_manager.cpp:352] [UNILOG][INFO] Compile mode: dpu\n",
      "I20250109 05:44:24.963932   243 compile_pass_manager.cpp:353] [UNILOG][INFO] Debug mode: null\n",
      "I20250109 05:44:24.963935   243 compile_pass_manager.cpp:357] [UNILOG][INFO] Target architecture: DPUCZDX8G_ISA1_B4096\n",
      "I20250109 05:44:24.963997   243 compile_pass_manager.cpp:465] [UNILOG][INFO] Graph name: model_5, with op num: 9\n",
      "I20250109 05:44:24.964000   243 compile_pass_manager.cpp:478] [UNILOG][INFO] Begin to compile...\n",
      "I20250109 05:44:24.969818   243 compile_pass_manager.cpp:489] [UNILOG][INFO] Total device subgraph number 3, DPU subgraph number 1\n",
      "I20250109 05:44:24.969836   243 compile_pass_manager.cpp:504] [UNILOG][INFO] Compile done.\n"
     ]
    },
    {
     "name": "stdout",
     "output_type": "stream",
     "text": [
      "[INFO] Namespace(batchsize=1, inputs_shape=None, layout='NHWC', model_files=['/tmp/root/tensorflow_model_optimization/tmp_sub_graph_quantized_20250109-054423-803835_CndMLK.h5'], model_type='tensorflow2', named_inputs_shape=None, out_filename='/tmp/root/tensorflow_model_optimization/tmp_sub_graph_xnnc_20250109-054423-803835_CndMLK.xmodel', proto=None)\n",
      "[INFO] tensorflow2 model: /tmp/root/tensorflow_model_optimization/tmp_sub_graph_quantized_20250109-054423-803835_CndMLK.h5\n",
      "[INFO] keras version: 2.12.0\n",
      "[INFO] Tensorflow Keras model type: functional\n"
     ]
    },
    {
     "name": "stderr",
     "output_type": "stream",
     "text": [
      "[INFO] parse raw model     :100%|██████████████████████████████████████████████████████████████████████████████████████████| 4/4 [00:00<00:00, 21988.49it/s]                 \n",
      "[INFO] infer shape (NHWC)  :100%|██████████████████████████████████████████████████████████████████████████████████████████| 5/5 [00:00<00:00, 14799.94it/s]                 \n",
      "[INFO] perform level-0 opt :100%|██████████████████████████████████████████████████████████████████████████████████████████| 1/1 [00:00<00:00, 5041.23it/s]                  \n",
      "[INFO] perform level-1 opt :100%|██████████████████████████████████████████████████████████████████████████████████████████| 2/2 [00:00<00:00, 16912.52it/s]                 \n",
      "[INFO] generate xmodel     :100%|██████████████████████████████████████████████████████████████████████████████████████████| 5/5 [00:00<00:00, 2785.80it/s]                  "
     ]
    },
    {
     "name": "stdout",
     "output_type": "stream",
     "text": [
      "[INFO] dump xmodel ...\r",
      "[INFO] dump xmodel: /tmp/root/tensorflow_model_optimization/tmp_sub_graph_xnnc_20250109-054423-803835_CndMLK.xmodel\n"
     ]
    },
    {
     "name": "stderr",
     "output_type": "stream",
     "text": [
      "\n",
      "I20250109 05:44:25.041038   243 compile_pass_manager.cpp:352] [UNILOG][INFO] Compile mode: dpu\n",
      "I20250109 05:44:25.041052   243 compile_pass_manager.cpp:353] [UNILOG][INFO] Debug mode: null\n",
      "I20250109 05:44:25.041056   243 compile_pass_manager.cpp:357] [UNILOG][INFO] Target architecture: DPUCZDX8G_ISA1_B4096\n",
      "I20250109 05:44:25.041131   243 compile_pass_manager.cpp:465] [UNILOG][INFO] Graph name: model_6, with op num: 9\n",
      "I20250109 05:44:25.041133   243 compile_pass_manager.cpp:478] [UNILOG][INFO] Begin to compile...\n",
      "I20250109 05:44:25.050571   243 compile_pass_manager.cpp:489] [UNILOG][INFO] Total device subgraph number 3, DPU subgraph number 1\n",
      "I20250109 05:44:25.050596   243 compile_pass_manager.cpp:504] [UNILOG][INFO] Compile done.\n"
     ]
    },
    {
     "name": "stdout",
     "output_type": "stream",
     "text": [
      "[INFO] Namespace(batchsize=1, inputs_shape=None, layout='NHWC', model_files=['/tmp/root/tensorflow_model_optimization/tmp_sub_graph_quantized_20250109-054423-803835_CndMLK.h5'], model_type='tensorflow2', named_inputs_shape=None, out_filename='/tmp/root/tensorflow_model_optimization/tmp_sub_graph_xnnc_20250109-054423-803835_CndMLK.xmodel', proto=None)\n",
      "[INFO] tensorflow2 model: /tmp/root/tensorflow_model_optimization/tmp_sub_graph_quantized_20250109-054423-803835_CndMLK.h5\n",
      "[INFO] keras version: 2.12.0\n",
      "[INFO] Tensorflow Keras model type: functional\n"
     ]
    },
    {
     "name": "stderr",
     "output_type": "stream",
     "text": [
      "[INFO] parse raw model     :100%|██████████████████████████████████████████████████████████████████████████████████████████| 4/4 [00:00<00:00, 24001.74it/s]                 \n",
      "[INFO] infer shape (NHWC)  :100%|██████████████████████████████████████████████████████████████████████████████████████████| 5/5 [00:00<00:00, 28225.46it/s]                 \n",
      "[INFO] perform level-0 opt :100%|██████████████████████████████████████████████████████████████████████████████████████████| 1/1 [00:00<00:00, 4999.17it/s]                  \n",
      "[INFO] perform level-1 opt :100%|██████████████████████████████████████████████████████████████████████████████████████████| 2/2 [00:00<00:00, 14639.80it/s]                 \n",
      "[INFO] generate xmodel     :100%|██████████████████████████████████████████████████████████████████████████████████████████| 5/5 [00:00<00:00, 1644.05it/s]                  "
     ]
    },
    {
     "name": "stdout",
     "output_type": "stream",
     "text": [
      "[INFO] dump xmodel ...\r",
      "[INFO] dump xmodel: /tmp/root/tensorflow_model_optimization/tmp_sub_graph_xnnc_20250109-054423-803835_CndMLK.xmodel\n"
     ]
    },
    {
     "name": "stderr",
     "output_type": "stream",
     "text": [
      "\n",
      "I20250109 05:44:25.131170   243 compile_pass_manager.cpp:352] [UNILOG][INFO] Compile mode: dpu\n",
      "I20250109 05:44:25.131186   243 compile_pass_manager.cpp:353] [UNILOG][INFO] Debug mode: null\n",
      "I20250109 05:44:25.131188   243 compile_pass_manager.cpp:357] [UNILOG][INFO] Target architecture: DPUCZDX8G_ISA1_B4096\n",
      "I20250109 05:44:25.131246   243 compile_pass_manager.cpp:465] [UNILOG][INFO] Graph name: model_7, with op num: 9\n",
      "I20250109 05:44:25.131249   243 compile_pass_manager.cpp:478] [UNILOG][INFO] Begin to compile...\n",
      "I20250109 05:44:25.146945   243 compile_pass_manager.cpp:489] [UNILOG][INFO] Total device subgraph number 3, DPU subgraph number 1\n",
      "I20250109 05:44:25.146965   243 compile_pass_manager.cpp:504] [UNILOG][INFO] Compile done.\n"
     ]
    },
    {
     "name": "stdout",
     "output_type": "stream",
     "text": [
      "[INFO] Namespace(batchsize=1, inputs_shape=None, layout='NHWC', model_files=['/tmp/root/tensorflow_model_optimization/tmp_sub_graph_quantized_20250109-054423-803835_CndMLK.h5'], model_type='tensorflow2', named_inputs_shape=None, out_filename='/tmp/root/tensorflow_model_optimization/tmp_sub_graph_xnnc_20250109-054423-803835_CndMLK.xmodel', proto=None)\n",
      "[INFO] tensorflow2 model: /tmp/root/tensorflow_model_optimization/tmp_sub_graph_quantized_20250109-054423-803835_CndMLK.h5\n",
      "[INFO] keras version: 2.12.0\n",
      "[INFO] Tensorflow Keras model type: functional\n"
     ]
    },
    {
     "name": "stderr",
     "output_type": "stream",
     "text": [
      "[INFO] parse raw model     :100%|██████████████████████████████████████████████████████████████████████████████████████████| 4/4 [00:00<00:00, 23464.64it/s]                 \n",
      "[INFO] infer shape (NHWC)  :100%|██████████████████████████████████████████████████████████████████████████████████████████| 5/5 [00:00<00:00, 19099.74it/s]                 \n",
      "[INFO] perform level-0 opt :100%|██████████████████████████████████████████████████████████████████████████████████████████| 1/1 [00:00<00:00, 5146.39it/s]                  \n",
      "[INFO] perform level-1 opt :100%|██████████████████████████████████████████████████████████████████████████████████████████| 2/2 [00:00<00:00, 12690.78it/s]                 \n",
      "[INFO] generate xmodel     :100%|██████████████████████████████████████████████████████████████████████████████████████████| 5/5 [00:00<00:00, 782.55it/s]                   \n",
      "I20250109 05:44:25.237282   243 compile_pass_manager.cpp:352] [UNILOG][INFO] Compile mode: dpu\n",
      "I20250109 05:44:25.237298   243 compile_pass_manager.cpp:353] [UNILOG][INFO] Debug mode: null\n",
      "I20250109 05:44:25.237301   243 compile_pass_manager.cpp:357] [UNILOG][INFO] Target architecture: DPUCZDX8G_ISA1_B4096\n"
     ]
    },
    {
     "name": "stdout",
     "output_type": "stream",
     "text": [
      "[INFO] dump xmodel ...\r",
      "[INFO] dump xmodel: /tmp/root/tensorflow_model_optimization/tmp_sub_graph_xnnc_20250109-054423-803835_CndMLK.xmodel\n"
     ]
    },
    {
     "name": "stderr",
     "output_type": "stream",
     "text": [
      "I20250109 05:44:25.237370   243 compile_pass_manager.cpp:465] [UNILOG][INFO] Graph name: model_8, with op num: 9\n",
      "I20250109 05:44:25.237373   243 compile_pass_manager.cpp:478] [UNILOG][INFO] Begin to compile...\n",
      "I20250109 05:44:25.267689   243 compile_pass_manager.cpp:489] [UNILOG][INFO] Total device subgraph number 3, DPU subgraph number 1\n",
      "I20250109 05:44:25.267714   243 compile_pass_manager.cpp:504] [UNILOG][INFO] Compile done.\n"
     ]
    },
    {
     "name": "stdout",
     "output_type": "stream",
     "text": [
      "[INFO] Namespace(batchsize=1, inputs_shape=None, layout='NHWC', model_files=['/tmp/root/tensorflow_model_optimization/tmp_sub_graph_quantized_20250109-054423-803835_CndMLK.h5'], model_type='tensorflow2', named_inputs_shape=None, out_filename='/tmp/root/tensorflow_model_optimization/tmp_sub_graph_xnnc_20250109-054423-803835_CndMLK.xmodel', proto=None)\n",
      "[INFO] tensorflow2 model: /tmp/root/tensorflow_model_optimization/tmp_sub_graph_quantized_20250109-054423-803835_CndMLK.h5\n",
      "[INFO] keras version: 2.12.0\n",
      "[INFO] Tensorflow Keras model type: functional\n"
     ]
    },
    {
     "name": "stderr",
     "output_type": "stream",
     "text": [
      "[INFO] parse raw model     :100%|██████████████████████████████████████████████████████████████████████████████████████████| 4/4 [00:00<00:00, 9228.39it/s]                  \n",
      "[INFO] infer shape (NHWC)  :100%|██████████████████████████████████████████████████████████████████████████████████████████| 5/5 [00:00<00:00, 18047.78it/s]                 \n",
      "[INFO] perform level-0 opt :100%|██████████████████████████████████████████████████████████████████████████████████████████| 1/1 [00:00<00:00, 4821.04it/s]                  \n",
      "[INFO] perform level-1 opt :100%|██████████████████████████████████████████████████████████████████████████████████████████| 2/2 [00:00<00:00, 15448.63it/s]                 \n",
      "[INFO] generate xmodel     :100%|██████████████████████████████████████████████████████████████████████████████████████████| 5/5 [00:00<00:00, 398.27it/s]                   "
     ]
    },
    {
     "name": "stdout",
     "output_type": "stream",
     "text": [
      "[INFO] dump xmodel ...\r",
      "[INFO] dump xmodel: /tmp/root/tensorflow_model_optimization/tmp_sub_graph_xnnc_20250109-054423-803835_CndMLK.xmodel\n"
     ]
    },
    {
     "name": "stderr",
     "output_type": "stream",
     "text": [
      "\n",
      "I20250109 05:44:25.383474   243 compile_pass_manager.cpp:352] [UNILOG][INFO] Compile mode: dpu\n",
      "I20250109 05:44:25.383492   243 compile_pass_manager.cpp:353] [UNILOG][INFO] Debug mode: null\n",
      "I20250109 05:44:25.383495   243 compile_pass_manager.cpp:357] [UNILOG][INFO] Target architecture: DPUCZDX8G_ISA1_B4096\n",
      "I20250109 05:44:25.383553   243 compile_pass_manager.cpp:465] [UNILOG][INFO] Graph name: model_9, with op num: 9\n",
      "I20250109 05:44:25.383558   243 compile_pass_manager.cpp:478] [UNILOG][INFO] Begin to compile...\n",
      "I20250109 05:44:25.439616   243 compile_pass_manager.cpp:489] [UNILOG][INFO] Total device subgraph number 3, DPU subgraph number 1\n",
      "I20250109 05:44:25.439641   243 compile_pass_manager.cpp:504] [UNILOG][INFO] Compile done.\n"
     ]
    },
    {
     "name": "stdout",
     "output_type": "stream",
     "text": [
      "[INFO] Namespace(batchsize=1, inputs_shape=None, layout='NHWC', model_files=['/tmp/root/tensorflow_model_optimization/tmp_sub_graph_quantized_20250109-054423-803900_Ixctag.h5'], model_type='tensorflow2', named_inputs_shape=None, out_filename='/tmp/root/tensorflow_model_optimization/tmp_sub_graph_xnnc_20250109-054423-803900_Ixctag.xmodel', proto=None)\n",
      "[INFO] tensorflow2 model: /tmp/root/tensorflow_model_optimization/tmp_sub_graph_quantized_20250109-054423-803900_Ixctag.h5\n",
      "[INFO] keras version: 2.12.0\n",
      "[INFO] Tensorflow Keras model type: functional\n"
     ]
    },
    {
     "name": "stderr",
     "output_type": "stream",
     "text": [
      "[INFO] parse raw model     :100%|██████████████████████████████████████████████████████████████████████████████████████████| 3/3 [00:00<00:00, 15768.06it/s]                 \n",
      "[INFO] infer shape (NHWC)  :100%|██████████████████████████████████████████████████████████████████████████████████████████| 4/4 [00:00<00:00, 10459.61it/s]                 \n",
      "[INFO] perform level-0 opt :100%|██████████████████████████████████████████████████████████████████████████████████████████| 1/1 [00:00<00:00, 5171.77it/s]                  \n",
      "[INFO] perform level-1 opt :100%|██████████████████████████████████████████████████████████████████████████████████████████| 2/2 [00:00<00:00, 14873.42it/s]                 \n",
      "[INFO] generate xmodel     :100%|██████████████████████████████████████████████████████████████████████████████████████████| 4/4 [00:00<00:00, 4198.50it/s]                  "
     ]
    },
    {
     "name": "stdout",
     "output_type": "stream",
     "text": [
      "[INFO] dump xmodel ...\r",
      "[INFO] dump xmodel: /tmp/root/tensorflow_model_optimization/tmp_sub_graph_xnnc_20250109-054423-803900_Ixctag.xmodel\n"
     ]
    },
    {
     "name": "stderr",
     "output_type": "stream",
     "text": [
      "\n",
      "I20250109 05:44:25.507377   243 compile_pass_manager.cpp:352] [UNILOG][INFO] Compile mode: dpu\n",
      "I20250109 05:44:25.507390   243 compile_pass_manager.cpp:353] [UNILOG][INFO] Debug mode: null\n",
      "I20250109 05:44:25.507395   243 compile_pass_manager.cpp:357] [UNILOG][INFO] Target architecture: DPUCZDX8G_ISA1_B4096\n",
      "I20250109 05:44:25.507476   243 compile_pass_manager.cpp:465] [UNILOG][INFO] Graph name: model_10, with op num: 8\n",
      "I20250109 05:44:25.507479   243 compile_pass_manager.cpp:478] [UNILOG][INFO] Begin to compile...\n",
      "I20250109 05:44:25.510623   243 compile_pass_manager.cpp:489] [UNILOG][INFO] Total device subgraph number 3, DPU subgraph number 1\n",
      "I20250109 05:44:25.510643   243 compile_pass_manager.cpp:504] [UNILOG][INFO] Compile done.\n"
     ]
    },
    {
     "name": "stdout",
     "output_type": "stream",
     "text": [
      "[INFO] Namespace(batchsize=1, inputs_shape=None, layout='NHWC', model_files=['/tmp/root/tensorflow_model_optimization/tmp_sub_graph_quantized_20250109-054423-803900_Ixctag.h5'], model_type='tensorflow2', named_inputs_shape=None, out_filename='/tmp/root/tensorflow_model_optimization/tmp_sub_graph_xnnc_20250109-054423-803900_Ixctag.xmodel', proto=None)\n",
      "[INFO] tensorflow2 model: /tmp/root/tensorflow_model_optimization/tmp_sub_graph_quantized_20250109-054423-803900_Ixctag.h5\n",
      "[INFO] keras version: 2.12.0\n",
      "[INFO] Tensorflow Keras model type: functional\n"
     ]
    },
    {
     "name": "stderr",
     "output_type": "stream",
     "text": [
      "[INFO] parse raw model     :100%|██████████████████████████████████████████████████████████████████████████████████████████| 3/3 [00:00<00:00, 14396.92it/s]                 \n",
      "[INFO] infer shape (NHWC)  :100%|██████████████████████████████████████████████████████████████████████████████████████████| 4/4 [00:00<00:00, 11898.73it/s]                 \n",
      "[INFO] perform level-0 opt :100%|██████████████████████████████████████████████████████████████████████████████████████████| 1/1 [00:00<00:00, 6034.97it/s]                  \n",
      "[INFO] perform level-1 opt :100%|██████████████████████████████████████████████████████████████████████████████████████████| 2/2 [00:00<00:00, 14413.42it/s]                 \n",
      "[INFO] generate xmodel     :100%|██████████████████████████████████████████████████████████████████████████████████████████| 4/4 [00:00<00:00, 4145.59it/s]                  "
     ]
    },
    {
     "name": "stdout",
     "output_type": "stream",
     "text": [
      "[INFO] dump xmodel ...\r",
      "[INFO] dump xmodel: /tmp/root/tensorflow_model_optimization/tmp_sub_graph_xnnc_20250109-054423-803900_Ixctag.xmodel\n"
     ]
    },
    {
     "name": "stderr",
     "output_type": "stream",
     "text": [
      "\n",
      "I20250109 05:44:25.576865   243 compile_pass_manager.cpp:352] [UNILOG][INFO] Compile mode: dpu\n",
      "I20250109 05:44:25.576879   243 compile_pass_manager.cpp:353] [UNILOG][INFO] Debug mode: null\n",
      "I20250109 05:44:25.576884   243 compile_pass_manager.cpp:357] [UNILOG][INFO] Target architecture: DPUCZDX8G_ISA1_B4096\n",
      "I20250109 05:44:25.576939   243 compile_pass_manager.cpp:465] [UNILOG][INFO] Graph name: model_11, with op num: 8\n",
      "I20250109 05:44:25.576942   243 compile_pass_manager.cpp:478] [UNILOG][INFO] Begin to compile...\n",
      "I20250109 05:44:25.580034   243 compile_pass_manager.cpp:489] [UNILOG][INFO] Total device subgraph number 3, DPU subgraph number 1\n",
      "I20250109 05:44:25.580051   243 compile_pass_manager.cpp:504] [UNILOG][INFO] Compile done.\n"
     ]
    },
    {
     "name": "stdout",
     "output_type": "stream",
     "text": [
      "[INFO] Namespace(batchsize=1, inputs_shape=None, layout='NHWC', model_files=['/tmp/root/tensorflow_model_optimization/tmp_sub_graph_quantized_20250109-054423-803900_Ixctag.h5'], model_type='tensorflow2', named_inputs_shape=None, out_filename='/tmp/root/tensorflow_model_optimization/tmp_sub_graph_xnnc_20250109-054423-803900_Ixctag.xmodel', proto=None)\n",
      "[INFO] tensorflow2 model: /tmp/root/tensorflow_model_optimization/tmp_sub_graph_quantized_20250109-054423-803900_Ixctag.h5\n",
      "[INFO] keras version: 2.12.0\n",
      "[INFO] Tensorflow Keras model type: functional\n"
     ]
    },
    {
     "name": "stderr",
     "output_type": "stream",
     "text": [
      "[INFO] parse raw model     :100%|██████████████████████████████████████████████████████████████████████████████████████████| 3/3 [00:00<00:00, 15289.08it/s]                 \n",
      "[INFO] infer shape (NHWC)  :100%|██████████████████████████████████████████████████████████████████████████████████████████| 4/4 [00:00<00:00, 15621.24it/s]                 \n",
      "[INFO] perform level-0 opt :100%|██████████████████████████████████████████████████████████████████████████████████████████| 1/1 [00:00<00:00, 6026.30it/s]                  \n",
      "[INFO] perform level-1 opt :100%|██████████████████████████████████████████████████████████████████████████████████████████| 2/2 [00:00<00:00, 17189.77it/s]                 \n",
      "[INFO] generate xmodel     :100%|██████████████████████████████████████████████████████████████████████████████████████████| 4/4 [00:00<00:00, 3199.32it/s]                  "
     ]
    },
    {
     "name": "stdout",
     "output_type": "stream",
     "text": [
      "[INFO] dump xmodel ...\r",
      "[INFO] dump xmodel: /tmp/root/tensorflow_model_optimization/tmp_sub_graph_xnnc_20250109-054423-803900_Ixctag.xmodel\n"
     ]
    },
    {
     "name": "stderr",
     "output_type": "stream",
     "text": [
      "\n",
      "I20250109 05:44:25.645197   243 compile_pass_manager.cpp:352] [UNILOG][INFO] Compile mode: dpu\n",
      "I20250109 05:44:25.645210   243 compile_pass_manager.cpp:353] [UNILOG][INFO] Debug mode: null\n",
      "I20250109 05:44:25.645213   243 compile_pass_manager.cpp:357] [UNILOG][INFO] Target architecture: DPUCZDX8G_ISA1_B4096\n",
      "I20250109 05:44:25.645272   243 compile_pass_manager.cpp:465] [UNILOG][INFO] Graph name: model_12, with op num: 8\n",
      "I20250109 05:44:25.645274   243 compile_pass_manager.cpp:478] [UNILOG][INFO] Begin to compile...\n",
      "I20250109 05:44:25.650929   243 compile_pass_manager.cpp:489] [UNILOG][INFO] Total device subgraph number 3, DPU subgraph number 1\n",
      "I20250109 05:44:25.650949   243 compile_pass_manager.cpp:504] [UNILOG][INFO] Compile done.\n"
     ]
    },
    {
     "name": "stdout",
     "output_type": "stream",
     "text": [
      "[INFO] Namespace(batchsize=1, inputs_shape=None, layout='NHWC', model_files=['/tmp/root/tensorflow_model_optimization/tmp_sub_graph_quantized_20250109-054423-803900_Ixctag.h5'], model_type='tensorflow2', named_inputs_shape=None, out_filename='/tmp/root/tensorflow_model_optimization/tmp_sub_graph_xnnc_20250109-054423-803900_Ixctag.xmodel', proto=None)\n",
      "[INFO] tensorflow2 model: /tmp/root/tensorflow_model_optimization/tmp_sub_graph_quantized_20250109-054423-803900_Ixctag.h5\n",
      "[INFO] keras version: 2.12.0\n",
      "[INFO] Tensorflow Keras model type: functional\n"
     ]
    },
    {
     "name": "stderr",
     "output_type": "stream",
     "text": [
      "[INFO] parse raw model     :100%|██████████████████████████████████████████████████████████████████████████████████████████| 3/3 [00:00<00:00, 7621.39it/s]                  \n",
      "[INFO] infer shape (NHWC)  :100%|██████████████████████████████████████████████████████████████████████████████████████████| 4/4 [00:00<00:00, 10100.67it/s]                 \n",
      "[INFO] perform level-0 opt :100%|██████████████████████████████████████████████████████████████████████████████████████████| 1/1 [00:00<00:00, 6132.02it/s]                  \n",
      "[INFO] perform level-1 opt :100%|██████████████████████████████████████████████████████████████████████████████████████████| 2/2 [00:00<00:00, 18808.54it/s]                 \n",
      "[INFO] generate xmodel     :100%|██████████████████████████████████████████████████████████████████████████████████████████| 4/4 [00:00<00:00, 4619.28it/s]                  "
     ]
    },
    {
     "name": "stdout",
     "output_type": "stream",
     "text": [
      "[INFO] dump xmodel: /tmp/root/tensorflow_model_optimization/tmp_sub_graph_xnnc_20250109-054423-803900_Ixctag.xmodel\n",
      "[INFO] Namespace(batchsize=1, inputs_shape=None, layout='NHWC', model_files=['/tmp/root/tensorflow_model_optimization/tmp_sub_graph_quantized_20250109-054423-803900_Ixctag.h5'], model_type='tensorflow2', named_inputs_shape=None, out_filename='/tmp/root/tensorflow_model_optimization/tmp_sub_graph_xnnc_20250109-054423-803900_Ixctag.xmodel', proto=None)\n"
     ]
    },
    {
     "name": "stderr",
     "output_type": "stream",
     "text": [
      "\n",
      "I20250109 05:44:25.709867   243 compile_pass_manager.cpp:352] [UNILOG][INFO] Compile mode: dpu\n",
      "I20250109 05:44:25.709882   243 compile_pass_manager.cpp:353] [UNILOG][INFO] Debug mode: null\n",
      "I20250109 05:44:25.709884   243 compile_pass_manager.cpp:357] [UNILOG][INFO] Target architecture: DPUCZDX8G_ISA1_B4096\n",
      "I20250109 05:44:25.709947   243 compile_pass_manager.cpp:465] [UNILOG][INFO] Graph name: model_13, with op num: 8\n",
      "I20250109 05:44:25.709952   243 compile_pass_manager.cpp:478] [UNILOG][INFO] Begin to compile...\n",
      "I20250109 05:44:25.712551   243 compile_pass_manager.cpp:489] [UNILOG][INFO] Total device subgraph number 3, DPU subgraph number 1\n",
      "I20250109 05:44:25.712569   243 compile_pass_manager.cpp:504] [UNILOG][INFO] Compile done.\n"
     ]
    },
    {
     "name": "stdout",
     "output_type": "stream",
     "text": [
      "[INFO] tensorflow2 model: /tmp/root/tensorflow_model_optimization/tmp_sub_graph_quantized_20250109-054423-803900_Ixctag.h5\n",
      "[INFO] keras version: 2.12.0\n",
      "[INFO] Tensorflow Keras model type: functional\n"
     ]
    },
    {
     "name": "stderr",
     "output_type": "stream",
     "text": [
      "[INFO] parse raw model     :100%|██████████████████████████████████████████████████████████████████████████████████████████| 3/3 [00:00<00:00, 14250.18it/s]                 \n",
      "[INFO] infer shape (NHWC)  :100%|██████████████████████████████████████████████████████████████████████████████████████████| 4/4 [00:00<00:00, 13076.55it/s]                 \n",
      "[INFO] perform level-0 opt :100%|██████████████████████████████████████████████████████████████████████████████████████████| 1/1 [00:00<00:00, 5777.28it/s]                  \n",
      "[INFO] perform level-1 opt :100%|██████████████████████████████████████████████████████████████████████████████████████████| 2/2 [00:00<00:00, 18935.91it/s]                 \n",
      "[INFO] generate xmodel     :100%|██████████████████████████████████████████████████████████████████████████████████████████| 4/4 [00:00<00:00, 2932.57it/s]                  "
     ]
    },
    {
     "name": "stdout",
     "output_type": "stream",
     "text": [
      "[INFO] dump xmodel: /tmp/root/tensorflow_model_optimization/tmp_sub_graph_xnnc_20250109-054423-803900_Ixctag.xmodel\n"
     ]
    },
    {
     "name": "stderr",
     "output_type": "stream",
     "text": [
      "\n",
      "I20250109 05:44:25.779006   243 compile_pass_manager.cpp:352] [UNILOG][INFO] Compile mode: dpu\n",
      "I20250109 05:44:25.779022   243 compile_pass_manager.cpp:353] [UNILOG][INFO] Debug mode: null\n",
      "I20250109 05:44:25.779026   243 compile_pass_manager.cpp:357] [UNILOG][INFO] Target architecture: DPUCZDX8G_ISA1_B4096\n",
      "I20250109 05:44:25.779081   243 compile_pass_manager.cpp:465] [UNILOG][INFO] Graph name: model_14, with op num: 8\n",
      "I20250109 05:44:25.779084   243 compile_pass_manager.cpp:478] [UNILOG][INFO] Begin to compile...\n",
      "I20250109 05:44:25.784696   243 compile_pass_manager.cpp:489] [UNILOG][INFO] Total device subgraph number 3, DPU subgraph number 1\n",
      "I20250109 05:44:25.784714   243 compile_pass_manager.cpp:504] [UNILOG][INFO] Compile done.\n"
     ]
    },
    {
     "name": "stdout",
     "output_type": "stream",
     "text": [
      "[INFO] Namespace(batchsize=1, inputs_shape=None, layout='NHWC', model_files=['/tmp/root/tensorflow_model_optimization/tmp_sub_graph_quantized_20250109-054423-803900_Ixctag.h5'], model_type='tensorflow2', named_inputs_shape=None, out_filename='/tmp/root/tensorflow_model_optimization/tmp_sub_graph_xnnc_20250109-054423-803900_Ixctag.xmodel', proto=None)\n",
      "[INFO] tensorflow2 model: /tmp/root/tensorflow_model_optimization/tmp_sub_graph_quantized_20250109-054423-803900_Ixctag.h5\n",
      "[INFO] keras version: 2.12.0\n",
      "[INFO] Tensorflow Keras model type: functional\n"
     ]
    },
    {
     "name": "stderr",
     "output_type": "stream",
     "text": [
      "[INFO] parse raw model     :100%|██████████████████████████████████████████████████████████████████████████████████████████| 3/3 [00:00<00:00, 13736.80it/s]                 \n",
      "[INFO] infer shape (NHWC)  :100%|██████████████████████████████████████████████████████████████████████████████████████████| 4/4 [00:00<00:00, 14525.73it/s]                 \n",
      "[INFO] perform level-0 opt :100%|██████████████████████████████████████████████████████████████████████████████████████████| 1/1 [00:00<00:00, 6096.37it/s]                  \n",
      "[INFO] perform level-1 opt :100%|██████████████████████████████████████████████████████████████████████████████████████████| 2/2 [00:00<00:00, 20560.31it/s]                 \n",
      "[INFO] generate xmodel     :100%|██████████████████████████████████████████████████████████████████████████████████████████| 4/4 [00:00<00:00, 1351.58it/s]                  "
     ]
    },
    {
     "name": "stdout",
     "output_type": "stream",
     "text": [
      "[INFO] dump xmodel ...\r",
      "[INFO] dump xmodel: /tmp/root/tensorflow_model_optimization/tmp_sub_graph_xnnc_20250109-054423-803900_Ixctag.xmodel\n"
     ]
    },
    {
     "name": "stderr",
     "output_type": "stream",
     "text": [
      "\n",
      "I20250109 05:44:25.861493   243 compile_pass_manager.cpp:352] [UNILOG][INFO] Compile mode: dpu\n",
      "I20250109 05:44:25.861513   243 compile_pass_manager.cpp:353] [UNILOG][INFO] Debug mode: null\n",
      "I20250109 05:44:25.861516   243 compile_pass_manager.cpp:357] [UNILOG][INFO] Target architecture: DPUCZDX8G_ISA1_B4096\n",
      "I20250109 05:44:25.861582   243 compile_pass_manager.cpp:465] [UNILOG][INFO] Graph name: model_15, with op num: 8\n",
      "I20250109 05:44:25.861585   243 compile_pass_manager.cpp:478] [UNILOG][INFO] Begin to compile...\n",
      "I20250109 05:44:25.877455   243 compile_pass_manager.cpp:489] [UNILOG][INFO] Total device subgraph number 3, DPU subgraph number 1\n",
      "I20250109 05:44:25.877485   243 compile_pass_manager.cpp:504] [UNILOG][INFO] Compile done.\n"
     ]
    },
    {
     "name": "stdout",
     "output_type": "stream",
     "text": [
      "[INFO] Namespace(batchsize=1, inputs_shape=None, layout='NHWC', model_files=['/tmp/root/tensorflow_model_optimization/tmp_sub_graph_quantized_20250109-054423-803900_Ixctag.h5'], model_type='tensorflow2', named_inputs_shape=None, out_filename='/tmp/root/tensorflow_model_optimization/tmp_sub_graph_xnnc_20250109-054423-803900_Ixctag.xmodel', proto=None)\n",
      "[INFO] tensorflow2 model: /tmp/root/tensorflow_model_optimization/tmp_sub_graph_quantized_20250109-054423-803900_Ixctag.h5\n",
      "[INFO] keras version: 2.12.0\n",
      "[INFO] Tensorflow Keras model type: functional\n"
     ]
    },
    {
     "name": "stderr",
     "output_type": "stream",
     "text": [
      "[INFO] parse raw model     :100%|██████████████████████████████████████████████████████████████████████████████████████████| 3/3 [00:00<00:00, 14699.66it/s]                 \n",
      "[INFO] infer shape (NHWC)  :100%|██████████████████████████████████████████████████████████████████████████████████████████| 4/4 [00:00<00:00, 13628.93it/s]                 \n",
      "[INFO] perform level-0 opt :100%|██████████████████████████████████████████████████████████████████████████████████████████| 1/1 [00:00<00:00, 5957.82it/s]                  \n",
      "[INFO] perform level-1 opt :100%|██████████████████████████████████████████████████████████████████████████████████████████| 2/2 [00:00<00:00, 16710.37it/s]                 \n",
      "[INFO] generate xmodel     :100%|██████████████████████████████████████████████████████████████████████████████████████████| 4/4 [00:00<00:00, 4539.29it/s]                  "
     ]
    },
    {
     "name": "stdout",
     "output_type": "stream",
     "text": [
      "[INFO] dump xmodel ...\r",
      "[INFO] dump xmodel: /tmp/root/tensorflow_model_optimization/tmp_sub_graph_xnnc_20250109-054423-803900_Ixctag.xmodel\n"
     ]
    },
    {
     "name": "stderr",
     "output_type": "stream",
     "text": [
      "\n",
      "I20250109 05:44:25.940845   243 compile_pass_manager.cpp:352] [UNILOG][INFO] Compile mode: dpu\n",
      "I20250109 05:44:25.940860   243 compile_pass_manager.cpp:353] [UNILOG][INFO] Debug mode: null\n",
      "I20250109 05:44:25.940862   243 compile_pass_manager.cpp:357] [UNILOG][INFO] Target architecture: DPUCZDX8G_ISA1_B4096\n",
      "I20250109 05:44:25.940974   243 compile_pass_manager.cpp:465] [UNILOG][INFO] Graph name: model_16, with op num: 8\n",
      "I20250109 05:44:25.940977   243 compile_pass_manager.cpp:478] [UNILOG][INFO] Begin to compile...\n",
      "I20250109 05:44:25.944056   243 compile_pass_manager.cpp:489] [UNILOG][INFO] Total device subgraph number 3, DPU subgraph number 1\n",
      "I20250109 05:44:25.944075   243 compile_pass_manager.cpp:504] [UNILOG][INFO] Compile done.\n"
     ]
    },
    {
     "name": "stdout",
     "output_type": "stream",
     "text": [
      "[INFO] Namespace(batchsize=1, inputs_shape=None, layout='NHWC', model_files=['/tmp/root/tensorflow_model_optimization/tmp_sub_graph_quantized_20250109-054423-803900_Ixctag.h5'], model_type='tensorflow2', named_inputs_shape=None, out_filename='/tmp/root/tensorflow_model_optimization/tmp_sub_graph_xnnc_20250109-054423-803900_Ixctag.xmodel', proto=None)\n",
      "[INFO] tensorflow2 model: /tmp/root/tensorflow_model_optimization/tmp_sub_graph_quantized_20250109-054423-803900_Ixctag.h5\n",
      "[INFO] keras version: 2.12.0\n",
      "[INFO] Tensorflow Keras model type: functional\n"
     ]
    },
    {
     "name": "stderr",
     "output_type": "stream",
     "text": [
      "[INFO] parse raw model     :100%|██████████████████████████████████████████████████████████████████████████████████████████| 3/3 [00:00<00:00, 17073.15it/s]                 \n",
      "[INFO] infer shape (NHWC)  :100%|██████████████████████████████████████████████████████████████████████████████████████████| 4/4 [00:00<00:00, 13969.37it/s]                 \n",
      "[INFO] perform level-0 opt :100%|██████████████████████████████████████████████████████████████████████████████████████████| 1/1 [00:00<00:00, 5983.32it/s]                  \n",
      "[INFO] perform level-1 opt :100%|██████████████████████████████████████████████████████████████████████████████████████████| 2/2 [00:00<00:00, 18558.87it/s]                 \n",
      "[INFO] generate xmodel     :100%|██████████████████████████████████████████████████████████████████████████████████████████| 4/4 [00:00<00:00, 1255.59it/s]                  "
     ]
    },
    {
     "name": "stdout",
     "output_type": "stream",
     "text": [
      "[INFO] dump xmodel ...\r",
      "[INFO] dump xmodel: /tmp/root/tensorflow_model_optimization/tmp_sub_graph_xnnc_20250109-054423-803900_Ixctag.xmodel\n"
     ]
    },
    {
     "name": "stderr",
     "output_type": "stream",
     "text": [
      "\n",
      "I20250109 05:44:26.020169   243 compile_pass_manager.cpp:352] [UNILOG][INFO] Compile mode: dpu\n",
      "I20250109 05:44:26.020184   243 compile_pass_manager.cpp:353] [UNILOG][INFO] Debug mode: null\n",
      "I20250109 05:44:26.020187   243 compile_pass_manager.cpp:357] [UNILOG][INFO] Target architecture: DPUCZDX8G_ISA1_B4096\n",
      "I20250109 05:44:26.020248   243 compile_pass_manager.cpp:465] [UNILOG][INFO] Graph name: model_17, with op num: 8\n",
      "I20250109 05:44:26.020251   243 compile_pass_manager.cpp:478] [UNILOG][INFO] Begin to compile...\n",
      "I20250109 05:44:26.035946   243 compile_pass_manager.cpp:489] [UNILOG][INFO] Total device subgraph number 3, DPU subgraph number 1\n",
      "I20250109 05:44:26.035969   243 compile_pass_manager.cpp:504] [UNILOG][INFO] Compile done.\n"
     ]
    },
    {
     "name": "stdout",
     "output_type": "stream",
     "text": [
      "[INFO] Namespace(batchsize=1, inputs_shape=None, layout='NHWC', model_files=['/tmp/root/tensorflow_model_optimization/tmp_sub_graph_quantized_20250109-054423-803900_Ixctag.h5'], model_type='tensorflow2', named_inputs_shape=None, out_filename='/tmp/root/tensorflow_model_optimization/tmp_sub_graph_xnnc_20250109-054423-803900_Ixctag.xmodel', proto=None)\n",
      "[INFO] tensorflow2 model: /tmp/root/tensorflow_model_optimization/tmp_sub_graph_quantized_20250109-054423-803900_Ixctag.h5\n",
      "[INFO] keras version: 2.12.0\n",
      "[INFO] Tensorflow Keras model type: functional\n"
     ]
    },
    {
     "name": "stderr",
     "output_type": "stream",
     "text": [
      "[INFO] parse raw model     :100%|██████████████████████████████████████████████████████████████████████████████████████████| 3/3 [00:00<00:00, 14106.40it/s]                 \n",
      "[INFO] infer shape (NHWC)  :100%|██████████████████████████████████████████████████████████████████████████████████████████| 4/4 [00:00<00:00, 16178.61it/s]                 \n",
      "[INFO] perform level-0 opt :100%|██████████████████████████████████████████████████████████████████████████████████████████| 1/1 [00:00<00:00, 5526.09it/s]                  \n",
      "[INFO] perform level-1 opt :100%|██████████████████████████████████████████████████████████████████████████████████████████| 2/2 [00:00<00:00, 16578.28it/s]                 \n",
      "[INFO] generate xmodel     :100%|██████████████████████████████████████████████████████████████████████████████████████████| 4/4 [00:00<00:00, 326.93it/s]                   \n"
     ]
    },
    {
     "name": "stdout",
     "output_type": "stream",
     "text": [
      "[INFO] dump xmodel: /tmp/root/tensorflow_model_optimization/tmp_sub_graph_xnnc_20250109-054423-803900_Ixctag.xmodel\n"
     ]
    },
    {
     "name": "stderr",
     "output_type": "stream",
     "text": [
      "I20250109 05:44:26.154258   243 compile_pass_manager.cpp:352] [UNILOG][INFO] Compile mode: dpu\n",
      "I20250109 05:44:26.154278   243 compile_pass_manager.cpp:353] [UNILOG][INFO] Debug mode: null\n",
      "I20250109 05:44:26.154280   243 compile_pass_manager.cpp:357] [UNILOG][INFO] Target architecture: DPUCZDX8G_ISA1_B4096\n",
      "I20250109 05:44:26.154337   243 compile_pass_manager.cpp:465] [UNILOG][INFO] Graph name: model_18, with op num: 8\n",
      "I20250109 05:44:26.154340   243 compile_pass_manager.cpp:478] [UNILOG][INFO] Begin to compile...\n",
      "I20250109 05:44:26.211124   243 compile_pass_manager.cpp:489] [UNILOG][INFO] Total device subgraph number 3, DPU subgraph number 1\n",
      "I20250109 05:44:26.211148   243 compile_pass_manager.cpp:504] [UNILOG][INFO] Compile done.\n"
     ]
    },
    {
     "name": "stdout",
     "output_type": "stream",
     "text": [
      "[INFO] Namespace(batchsize=1, inputs_shape=None, layout='NHWC', model_files=['/tmp/root/tensorflow_model_optimization/tmp_sub_graph_quantized_20250109-054423-803900_Ixctag.h5'], model_type='tensorflow2', named_inputs_shape=None, out_filename='/tmp/root/tensorflow_model_optimization/tmp_sub_graph_xnnc_20250109-054423-803900_Ixctag.xmodel', proto=None)\n",
      "[INFO] tensorflow2 model: /tmp/root/tensorflow_model_optimization/tmp_sub_graph_quantized_20250109-054423-803900_Ixctag.h5\n",
      "[INFO] keras version: 2.12.0\n",
      "[INFO] Tensorflow Keras model type: functional\n"
     ]
    },
    {
     "name": "stderr",
     "output_type": "stream",
     "text": [
      "[INFO] parse raw model     :100%|██████████████████████████████████████████████████████████████████████████████████████████| 3/3 [00:00<00:00, 15807.68it/s]                 \n",
      "[INFO] infer shape (NHWC)  :100%|██████████████████████████████████████████████████████████████████████████████████████████| 4/4 [00:00<00:00, 13651.11it/s]                 \n",
      "[INFO] perform level-0 opt :100%|██████████████████████████████████████████████████████████████████████████████████████████| 1/1 [00:00<00:00, 5761.41it/s]                  \n",
      "[INFO] perform level-1 opt :100%|██████████████████████████████████████████████████████████████████████████████████████████| 2/2 [00:00<00:00, 19284.16it/s]                 \n",
      "[INFO] generate xmodel     :100%|██████████████████████████████████████████████████████████████████████████████████████████| 4/4 [00:00<00:00, 2683.50it/s]                  "
     ]
    },
    {
     "name": "stdout",
     "output_type": "stream",
     "text": [
      "[INFO] dump xmodel ...\r",
      "[INFO] dump xmodel: /tmp/root/tensorflow_model_optimization/tmp_sub_graph_xnnc_20250109-054423-803900_Ixctag.xmodel\n"
     ]
    },
    {
     "name": "stderr",
     "output_type": "stream",
     "text": [
      "\n",
      "I20250109 05:44:26.280967   243 compile_pass_manager.cpp:352] [UNILOG][INFO] Compile mode: dpu\n",
      "I20250109 05:44:26.280980   243 compile_pass_manager.cpp:353] [UNILOG][INFO] Debug mode: null\n",
      "I20250109 05:44:26.280983   243 compile_pass_manager.cpp:357] [UNILOG][INFO] Target architecture: DPUCZDX8G_ISA1_B4096\n",
      "I20250109 05:44:26.281038   243 compile_pass_manager.cpp:465] [UNILOG][INFO] Graph name: model_19, with op num: 8\n",
      "I20250109 05:44:26.281040   243 compile_pass_manager.cpp:478] [UNILOG][INFO] Begin to compile...\n",
      "I20250109 05:44:26.286358   243 compile_pass_manager.cpp:489] [UNILOG][INFO] Total device subgraph number 3, DPU subgraph number 1\n",
      "I20250109 05:44:26.286379   243 compile_pass_manager.cpp:504] [UNILOG][INFO] Compile done.\n"
     ]
    },
    {
     "name": "stdout",
     "output_type": "stream",
     "text": [
      "[INFO] Namespace(batchsize=1, inputs_shape=None, layout='NHWC', model_files=['/tmp/root/tensorflow_model_optimization/tmp_sub_graph_quantized_20250109-054423-803900_Ixctag.h5'], model_type='tensorflow2', named_inputs_shape=None, out_filename='/tmp/root/tensorflow_model_optimization/tmp_sub_graph_xnnc_20250109-054423-803900_Ixctag.xmodel', proto=None)\n",
      "[INFO] tensorflow2 model: /tmp/root/tensorflow_model_optimization/tmp_sub_graph_quantized_20250109-054423-803900_Ixctag.h5\n",
      "[INFO] keras version: 2.12.0\n",
      "[INFO] Tensorflow Keras model type: functional\n"
     ]
    },
    {
     "name": "stderr",
     "output_type": "stream",
     "text": [
      "[INFO] parse raw model     :100%|██████████████████████████████████████████████████████████████████████████████████████████| 3/3 [00:00<00:00, 14234.06it/s]                 \n",
      "[INFO] infer shape (NHWC)  :100%|██████████████████████████████████████████████████████████████████████████████████████████| 4/4 [00:00<00:00, 16039.40it/s]                 \n",
      "[INFO] perform level-0 opt :100%|██████████████████████████████████████████████████████████████████████████████████████████| 1/1 [00:00<00:00, 6195.43it/s]                  \n",
      "[INFO] perform level-1 opt :100%|██████████████████████████████████████████████████████████████████████████████████████████| 2/2 [00:00<00:00, 9576.04it/s]                  \n",
      "[INFO] generate xmodel     :100%|██████████████████████████████████████████████████████████████████████████████████████████| 4/4 [00:00<00:00, 320.60it/s]                   "
     ]
    },
    {
     "name": "stdout",
     "output_type": "stream",
     "text": [
      "[INFO] dump xmodel ...\r",
      "[INFO] dump xmodel: /tmp/root/tensorflow_model_optimization/tmp_sub_graph_xnnc_20250109-054423-803900_Ixctag.xmodel\n"
     ]
    },
    {
     "name": "stderr",
     "output_type": "stream",
     "text": [
      "\n",
      "I20250109 05:44:26.405717   243 compile_pass_manager.cpp:352] [UNILOG][INFO] Compile mode: dpu\n",
      "I20250109 05:44:26.405735   243 compile_pass_manager.cpp:353] [UNILOG][INFO] Debug mode: null\n",
      "I20250109 05:44:26.405738   243 compile_pass_manager.cpp:357] [UNILOG][INFO] Target architecture: DPUCZDX8G_ISA1_B4096\n",
      "I20250109 05:44:26.405799   243 compile_pass_manager.cpp:465] [UNILOG][INFO] Graph name: model_20, with op num: 8\n",
      "I20250109 05:44:26.405803   243 compile_pass_manager.cpp:478] [UNILOG][INFO] Begin to compile...\n",
      "I20250109 05:44:26.461392   243 compile_pass_manager.cpp:489] [UNILOG][INFO] Total device subgraph number 3, DPU subgraph number 1\n",
      "I20250109 05:44:26.461416   243 compile_pass_manager.cpp:504] [UNILOG][INFO] Compile done.\n"
     ]
    },
    {
     "name": "stdout",
     "output_type": "stream",
     "text": [
      "[INFO] Namespace(batchsize=1, inputs_shape=None, layout='NHWC', model_files=['/tmp/root/tensorflow_model_optimization/tmp_sub_graph_quantized_20250109-054423-803900_Ixctag.h5'], model_type='tensorflow2', named_inputs_shape=None, out_filename='/tmp/root/tensorflow_model_optimization/tmp_sub_graph_xnnc_20250109-054423-803900_Ixctag.xmodel', proto=None)\n",
      "[INFO] tensorflow2 model: /tmp/root/tensorflow_model_optimization/tmp_sub_graph_quantized_20250109-054423-803900_Ixctag.h5\n",
      "[INFO] keras version: 2.12.0\n",
      "[INFO] Tensorflow Keras model type: functional\n"
     ]
    },
    {
     "name": "stderr",
     "output_type": "stream",
     "text": [
      "[INFO] parse raw model     :100%|██████████████████████████████████████████████████████████████████████████████████████████| 3/3 [00:00<00:00, 15420.24it/s]                 \n",
      "[INFO] infer shape (NHWC)  :100%|██████████████████████████████████████████████████████████████████████████████████████████| 6/6 [00:00<00:00, 38896.17it/s]                 \n",
      "[INFO] perform level-0 opt :100%|██████████████████████████████████████████████████████████████████████████████████████████| 1/1 [00:00<00:00, 4025.24it/s]                  \n",
      "[INFO] perform level-1 opt :100%|██████████████████████████████████████████████████████████████████████████████████████████| 2/2 [00:00<00:00, 13640.01it/s]                 \n",
      "[INFO] generate xmodel     :100%|██████████████████████████████████████████████████████████████████████████████████████████| 6/6 [00:00<00:00, 6930.82it/s]                  "
     ]
    },
    {
     "name": "stdout",
     "output_type": "stream",
     "text": [
      "[INFO] dump xmodel ...\r",
      "[INFO] dump xmodel: /tmp/root/tensorflow_model_optimization/tmp_sub_graph_xnnc_20250109-054423-803900_Ixctag.xmodel\n"
     ]
    },
    {
     "name": "stderr",
     "output_type": "stream",
     "text": [
      "\n",
      "I20250109 05:44:26.528295   243 compile_pass_manager.cpp:352] [UNILOG][INFO] Compile mode: dpu\n",
      "I20250109 05:44:26.528309   243 compile_pass_manager.cpp:353] [UNILOG][INFO] Debug mode: null\n",
      "I20250109 05:44:26.528312   243 compile_pass_manager.cpp:357] [UNILOG][INFO] Target architecture: DPUCZDX8G_ISA1_B4096\n",
      "I20250109 05:44:26.528404   243 compile_pass_manager.cpp:465] [UNILOG][INFO] Graph name: model_21, with op num: 8\n",
      "I20250109 05:44:26.528409   243 compile_pass_manager.cpp:478] [UNILOG][INFO] Begin to compile...\n",
      "I20250109 05:44:26.532172   243 compile_pass_manager.cpp:489] [UNILOG][INFO] Total device subgraph number 3, DPU subgraph number 1\n",
      "I20250109 05:44:26.532189   243 compile_pass_manager.cpp:504] [UNILOG][INFO] Compile done.\n"
     ]
    },
    {
     "name": "stdout",
     "output_type": "stream",
     "text": [
      "[INFO] Namespace(batchsize=1, inputs_shape=None, layout='NHWC', model_files=['/tmp/root/tensorflow_model_optimization/tmp_sub_graph_quantized_20250109-054423-804020_ihfICH.h5'], model_type='tensorflow2', named_inputs_shape=None, out_filename='/tmp/root/tensorflow_model_optimization/tmp_sub_graph_xnnc_20250109-054423-804020_ihfICH.xmodel', proto=None)\n",
      "[INFO] tensorflow2 model: /tmp/root/tensorflow_model_optimization/tmp_sub_graph_quantized_20250109-054423-804020_ihfICH.h5\n",
      "[INFO] keras version: 2.12.0\n",
      "[INFO] Tensorflow Keras model type: functional\n"
     ]
    },
    {
     "name": "stderr",
     "output_type": "stream",
     "text": [
      "[INFO] parse raw model     :100%|██████████████████████████████████████████████████████████████████████████████████████████| 6/6 [00:00<00:00, 32810.72it/s]                 \n",
      "[INFO] infer shape (NHWC)  :100%|██████████████████████████████████████████████████████████████████████████████████████████| 7/7 [00:00<00:00, 12899.88it/s]                 \n",
      "[INFO] perform level-0 opt :100%|██████████████████████████████████████████████████████████████████████████████████████████| 1/1 [00:00<00:00, 3631.43it/s]                  \n",
      "[INFO] perform level-1 opt :100%|██████████████████████████████████████████████████████████████████████████████████████████| 2/2 [00:00<00:00, 9362.29it/s]                  \n",
      "[INFO] generate xmodel     :100%|██████████████████████████████████████████████████████████████████████████████████████████| 7/7 [00:00<00:00, 11155.06it/s]                 \n",
      "I20250109 05:44:26.652483   243 compile_pass_manager.cpp:352] [UNILOG][INFO] Compile mode: dpu\n",
      "I20250109 05:44:26.652496   243 compile_pass_manager.cpp:353] [UNILOG][INFO] Debug mode: null\n",
      "I20250109 05:44:26.652499   243 compile_pass_manager.cpp:357] [UNILOG][INFO] Target architecture: DPUCZDX8G_ISA1_B4096\n",
      "I20250109 05:44:26.652554   243 compile_pass_manager.cpp:465] [UNILOG][INFO] Graph name: model_22, with op num: 7\n",
      "I20250109 05:44:26.652557   243 compile_pass_manager.cpp:478] [UNILOG][INFO] Begin to compile...\n",
      "I20250109 05:44:26.654219   243 compile_pass_manager.cpp:489] [UNILOG][INFO] Total device subgraph number 4, DPU subgraph number 1\n",
      "I20250109 05:44:26.654237   243 compile_pass_manager.cpp:504] [UNILOG][INFO] Compile done.\n"
     ]
    },
    {
     "name": "stdout",
     "output_type": "stream",
     "text": [
      "[INFO] dump xmodel ...\r",
      "[INFO] dump xmodel: /tmp/root/tensorflow_model_optimization/tmp_sub_graph_xnnc_20250109-054423-804020_ihfICH.xmodel\n",
      "[INFO] Namespace(batchsize=1, inputs_shape=None, layout='NHWC', model_files=['/tmp/root/tensorflow_model_optimization/tmp_sub_graph_quantized_20250109-054423-804020_ihfICH.h5'], model_type='tensorflow2', named_inputs_shape=None, out_filename='/tmp/root/tensorflow_model_optimization/tmp_sub_graph_xnnc_20250109-054423-804020_ihfICH.xmodel', proto=None)\n",
      "[INFO] tensorflow2 model: /tmp/root/tensorflow_model_optimization/tmp_sub_graph_quantized_20250109-054423-804020_ihfICH.h5\n",
      "[INFO] keras version: 2.12.0\n",
      "[INFO] Tensorflow Keras model type: functional\n"
     ]
    },
    {
     "name": "stderr",
     "output_type": "stream",
     "text": [
      "[INFO] parse raw model     :100%|██████████████████████████████████████████████████████████████████████████████████████████| 6/6 [00:00<00:00, 7813.05it/s]                  \n",
      "[INFO] infer shape (NHWC)  :100%|██████████████████████████████████████████████████████████████████████████████████████████| 7/7 [00:00<00:00, 13758.26it/s]                 \n",
      "[INFO] perform level-0 opt :100%|██████████████████████████████████████████████████████████████████████████████████████████| 1/1 [00:00<00:00, 3644.05it/s]                  \n",
      "[INFO] perform level-1 opt :100%|██████████████████████████████████████████████████████████████████████████████████████████| 2/2 [00:00<00:00, 12965.39it/s]                 \n",
      "[INFO] generate xmodel     :100%|██████████████████████████████████████████████████████████████████████████████████████████| 7/7 [00:00<00:00, 10215.77it/s]                 "
     ]
    },
    {
     "name": "stdout",
     "output_type": "stream",
     "text": [
      "[INFO] dump xmodel ...\r",
      "[INFO] dump xmodel: /tmp/root/tensorflow_model_optimization/tmp_sub_graph_xnnc_20250109-054423-804020_ihfICH.xmodel\n"
     ]
    },
    {
     "name": "stderr",
     "output_type": "stream",
     "text": [
      "\n",
      "I20250109 05:44:26.714624   243 compile_pass_manager.cpp:352] [UNILOG][INFO] Compile mode: dpu\n",
      "I20250109 05:44:26.714637   243 compile_pass_manager.cpp:353] [UNILOG][INFO] Debug mode: null\n",
      "I20250109 05:44:26.714640   243 compile_pass_manager.cpp:357] [UNILOG][INFO] Target architecture: DPUCZDX8G_ISA1_B4096\n",
      "I20250109 05:44:26.714694   243 compile_pass_manager.cpp:465] [UNILOG][INFO] Graph name: model_23, with op num: 7\n",
      "I20250109 05:44:26.714697   243 compile_pass_manager.cpp:478] [UNILOG][INFO] Begin to compile...\n",
      "I20250109 05:44:26.716418   243 compile_pass_manager.cpp:489] [UNILOG][INFO] Total device subgraph number 4, DPU subgraph number 1\n",
      "I20250109 05:44:26.716434   243 compile_pass_manager.cpp:504] [UNILOG][INFO] Compile done.\n"
     ]
    },
    {
     "name": "stdout",
     "output_type": "stream",
     "text": [
      "[INFO] Namespace(batchsize=1, inputs_shape=None, layout='NHWC', model_files=['/tmp/root/tensorflow_model_optimization/tmp_sub_graph_quantized_20250109-054423-804020_ihfICH.h5'], model_type='tensorflow2', named_inputs_shape=None, out_filename='/tmp/root/tensorflow_model_optimization/tmp_sub_graph_xnnc_20250109-054423-804020_ihfICH.xmodel', proto=None)\n",
      "[INFO] tensorflow2 model: /tmp/root/tensorflow_model_optimization/tmp_sub_graph_quantized_20250109-054423-804020_ihfICH.h5\n",
      "[INFO] keras version: 2.12.0\n",
      "[INFO] Tensorflow Keras model type: functional\n"
     ]
    },
    {
     "name": "stderr",
     "output_type": "stream",
     "text": [
      "[INFO] parse raw model     :100%|██████████████████████████████████████████████████████████████████████████████████████████| 6/6 [00:00<00:00, 30727.50it/s]                 \n",
      "[INFO] infer shape (NHWC)  :100%|██████████████████████████████████████████████████████████████████████████████████████████| 7/7 [00:00<00:00, 24144.84it/s]                 \n",
      "[INFO] perform level-0 opt :100%|██████████████████████████████████████████████████████████████████████████████████████████| 1/1 [00:00<00:00, 3809.54it/s]                  \n",
      "[INFO] perform level-1 opt :100%|██████████████████████████████████████████████████████████████████████████████████████████| 2/2 [00:00<00:00, 11966.63it/s]                 \n",
      "[INFO] generate xmodel     :100%|██████████████████████████████████████████████████████████████████████████████████████████| 7/7 [00:00<00:00, 11125.47it/s]                 \n",
      "I20250109 05:44:26.778106   243 compile_pass_manager.cpp:352] [UNILOG][INFO] Compile mode: dpu\n",
      "I20250109 05:44:26.778122   243 compile_pass_manager.cpp:353] [UNILOG][INFO] Debug mode: null\n",
      "I20250109 05:44:26.778126   243 compile_pass_manager.cpp:357] [UNILOG][INFO] Target architecture: DPUCZDX8G_ISA1_B4096\n",
      "I20250109 05:44:26.778194   243 compile_pass_manager.cpp:465] [UNILOG][INFO] Graph name: model_24, with op num: 7\n",
      "I20250109 05:44:26.778198   243 compile_pass_manager.cpp:478] [UNILOG][INFO] Begin to compile...\n",
      "I20250109 05:44:26.780032   243 compile_pass_manager.cpp:489] [UNILOG][INFO] Total device subgraph number 4, DPU subgraph number 1\n",
      "I20250109 05:44:26.780050   243 compile_pass_manager.cpp:504] [UNILOG][INFO] Compile done.\n"
     ]
    },
    {
     "name": "stdout",
     "output_type": "stream",
     "text": [
      "[INFO] dump xmodel ...\r",
      "[INFO] dump xmodel: /tmp/root/tensorflow_model_optimization/tmp_sub_graph_xnnc_20250109-054423-804020_ihfICH.xmodel\n",
      "[INFO] Namespace(batchsize=1, inputs_shape=None, layout='NHWC', model_files=['/tmp/root/tensorflow_model_optimization/tmp_sub_graph_quantized_20250109-054423-804020_ihfICH.h5'], model_type='tensorflow2', named_inputs_shape=None, out_filename='/tmp/root/tensorflow_model_optimization/tmp_sub_graph_xnnc_20250109-054423-804020_ihfICH.xmodel', proto=None)\n",
      "[INFO] tensorflow2 model: /tmp/root/tensorflow_model_optimization/tmp_sub_graph_quantized_20250109-054423-804020_ihfICH.h5\n",
      "[INFO] keras version: 2.12.0\n",
      "[INFO] Tensorflow Keras model type: functional\n"
     ]
    },
    {
     "name": "stderr",
     "output_type": "stream",
     "text": [
      "[INFO] parse raw model     :100%|██████████████████████████████████████████████████████████████████████████████████████████| 6/6 [00:00<00:00, 11244.78it/s]                 \n",
      "[INFO] infer shape (NHWC)  :100%|██████████████████████████████████████████████████████████████████████████████████████████| 7/7 [00:00<00:00, 18045.56it/s]                 \n",
      "[INFO] perform level-0 opt :100%|██████████████████████████████████████████████████████████████████████████████████████████| 1/1 [00:00<00:00, 1709.87it/s]                  \n",
      "[INFO] perform level-1 opt :100%|██████████████████████████████████████████████████████████████████████████████████████████| 2/2 [00:00<00:00, 9198.04it/s]                  \n",
      "[INFO] generate xmodel     :100%|██████████████████████████████████████████████████████████████████████████████████████████| 7/7 [00:00<00:00, 11214.72it/s]                 \n",
      "I20250109 05:44:26.841204   243 compile_pass_manager.cpp:352] [UNILOG][INFO] Compile mode: dpu\n",
      "I20250109 05:44:26.841218   243 compile_pass_manager.cpp:353] [UNILOG][INFO] Debug mode: null\n",
      "I20250109 05:44:26.841221   243 compile_pass_manager.cpp:357] [UNILOG][INFO] Target architecture: DPUCZDX8G_ISA1_B4096\n",
      "I20250109 05:44:26.841277   243 compile_pass_manager.cpp:465] [UNILOG][INFO] Graph name: model_25, with op num: 7\n",
      "I20250109 05:44:26.841280   243 compile_pass_manager.cpp:478] [UNILOG][INFO] Begin to compile...\n",
      "I20250109 05:44:26.843137   243 compile_pass_manager.cpp:489] [UNILOG][INFO] Total device subgraph number 4, DPU subgraph number 1\n",
      "I20250109 05:44:26.843165   243 compile_pass_manager.cpp:504] [UNILOG][INFO] Compile done.\n"
     ]
    },
    {
     "name": "stdout",
     "output_type": "stream",
     "text": [
      "[INFO] dump xmodel: /tmp/root/tensorflow_model_optimization/tmp_sub_graph_xnnc_20250109-054423-804020_ihfICH.xmodel\n",
      "[INFO] Namespace(batchsize=1, inputs_shape=None, layout='NHWC', model_files=['/tmp/root/tensorflow_model_optimization/tmp_sub_graph_quantized_20250109-054423-804020_ihfICH.h5'], model_type='tensorflow2', named_inputs_shape=None, out_filename='/tmp/root/tensorflow_model_optimization/tmp_sub_graph_xnnc_20250109-054423-804020_ihfICH.xmodel', proto=None)\n",
      "[INFO] tensorflow2 model: /tmp/root/tensorflow_model_optimization/tmp_sub_graph_quantized_20250109-054423-804020_ihfICH.h5\n",
      "[INFO] keras version: 2.12.0\n",
      "[INFO] Tensorflow Keras model type: functional\n"
     ]
    },
    {
     "name": "stderr",
     "output_type": "stream",
     "text": [
      "[INFO] parse raw model     :100%|██████████████████████████████████████████████████████████████████████████████████████████| 6/6 [00:00<00:00, 22389.52it/s]                 \n",
      "[INFO] infer shape (NHWC)  :100%|██████████████████████████████████████████████████████████████████████████████████████████| 7/7 [00:00<00:00, 10691.96it/s]                 \n",
      "[INFO] perform level-0 opt :100%|██████████████████████████████████████████████████████████████████████████████████████████| 1/1 [00:00<00:00, 2184.53it/s]                  \n",
      "[INFO] perform level-1 opt :100%|██████████████████████████████████████████████████████████████████████████████████████████| 2/2 [00:00<00:00, 7981.55it/s]                  \n",
      "[INFO] generate xmodel     :100%|██████████████████████████████████████████████████████████████████████████████████████████| 7/7 [00:00<00:00, 11697.26it/s]                 \n",
      "I20250109 05:44:26.907176   243 compile_pass_manager.cpp:352] [UNILOG][INFO] Compile mode: dpu\n",
      "I20250109 05:44:26.907189   243 compile_pass_manager.cpp:353] [UNILOG][INFO] Debug mode: null\n",
      "I20250109 05:44:26.907192   243 compile_pass_manager.cpp:357] [UNILOG][INFO] Target architecture: DPUCZDX8G_ISA1_B4096\n",
      "I20250109 05:44:26.907248   243 compile_pass_manager.cpp:465] [UNILOG][INFO] Graph name: model_26, with op num: 7\n",
      "I20250109 05:44:26.907251   243 compile_pass_manager.cpp:478] [UNILOG][INFO] Begin to compile...\n",
      "I20250109 05:44:26.908936   243 compile_pass_manager.cpp:489] [UNILOG][INFO] Total device subgraph number 4, DPU subgraph number 1\n",
      "I20250109 05:44:26.908951   243 compile_pass_manager.cpp:504] [UNILOG][INFO] Compile done.\n"
     ]
    },
    {
     "name": "stdout",
     "output_type": "stream",
     "text": [
      "[INFO] dump xmodel: /tmp/root/tensorflow_model_optimization/tmp_sub_graph_xnnc_20250109-054423-804020_ihfICH.xmodel\n",
      "[INFO] Namespace(batchsize=1, inputs_shape=None, layout='NHWC', model_files=['/tmp/root/tensorflow_model_optimization/tmp_sub_graph_quantized_20250109-054423-804020_ihfICH.h5'], model_type='tensorflow2', named_inputs_shape=None, out_filename='/tmp/root/tensorflow_model_optimization/tmp_sub_graph_xnnc_20250109-054423-804020_ihfICH.xmodel', proto=None)\n",
      "[INFO] tensorflow2 model: /tmp/root/tensorflow_model_optimization/tmp_sub_graph_quantized_20250109-054423-804020_ihfICH.h5\n",
      "[INFO] keras version: 2.12.0\n",
      "[INFO] Tensorflow Keras model type: functional\n"
     ]
    },
    {
     "name": "stderr",
     "output_type": "stream",
     "text": [
      "[INFO] parse raw model     :100%|██████████████████████████████████████████████████████████████████████████████████████████| 6/6 [00:00<00:00, 24151.46it/s]                 \n",
      "[INFO] infer shape (NHWC)  :100%|██████████████████████████████████████████████████████████████████████████████████████████| 7/7 [00:00<00:00, 12821.02it/s]                 \n",
      "[INFO] perform level-0 opt :100%|██████████████████████████████████████████████████████████████████████████████████████████| 1/1 [00:00<00:00, 3876.44it/s]                  \n",
      "[INFO] perform level-1 opt :100%|██████████████████████████████████████████████████████████████████████████████████████████| 2/2 [00:00<00:00, 14315.03it/s]                 \n",
      "[INFO] generate xmodel     :100%|██████████████████████████████████████████████████████████████████████████████████████████| 7/7 [00:00<00:00, 12037.77it/s]                 \n",
      "I20250109 05:44:26.971943   243 compile_pass_manager.cpp:352] [UNILOG][INFO] Compile mode: dpu\n",
      "I20250109 05:44:26.971957   243 compile_pass_manager.cpp:353] [UNILOG][INFO] Debug mode: null\n",
      "I20250109 05:44:26.971961   243 compile_pass_manager.cpp:357] [UNILOG][INFO] Target architecture: DPUCZDX8G_ISA1_B4096\n",
      "I20250109 05:44:26.972021   243 compile_pass_manager.cpp:465] [UNILOG][INFO] Graph name: model_27, with op num: 7\n",
      "I20250109 05:44:26.972025   243 compile_pass_manager.cpp:478] [UNILOG][INFO] Begin to compile...\n",
      "I20250109 05:44:26.974071   243 compile_pass_manager.cpp:489] [UNILOG][INFO] Total device subgraph number 4, DPU subgraph number 1\n",
      "I20250109 05:44:26.974088   243 compile_pass_manager.cpp:504] [UNILOG][INFO] Compile done.\n"
     ]
    },
    {
     "name": "stdout",
     "output_type": "stream",
     "text": [
      "[INFO] dump xmodel: /tmp/root/tensorflow_model_optimization/tmp_sub_graph_xnnc_20250109-054423-804020_ihfICH.xmodel\n",
      "[INFO] Namespace(batchsize=1, inputs_shape=None, layout='NHWC', model_files=['/tmp/root/tensorflow_model_optimization/tmp_sub_graph_quantized_20250109-054423-804020_ihfICH.h5'], model_type='tensorflow2', named_inputs_shape=None, out_filename='/tmp/root/tensorflow_model_optimization/tmp_sub_graph_xnnc_20250109-054423-804020_ihfICH.xmodel', proto=None)\n",
      "[INFO] tensorflow2 model: /tmp/root/tensorflow_model_optimization/tmp_sub_graph_quantized_20250109-054423-804020_ihfICH.h5\n",
      "[INFO] keras version: 2.12.0\n",
      "[INFO] Tensorflow Keras model type: functional\n"
     ]
    },
    {
     "name": "stderr",
     "output_type": "stream",
     "text": [
      "[INFO] parse raw model     :100%|██████████████████████████████████████████████████████████████████████████████████████████| 6/6 [00:00<00:00, 35196.96it/s]                 \n",
      "[INFO] infer shape (NHWC)  :100%|██████████████████████████████████████████████████████████████████████████████████████████| 7/7 [00:00<00:00, 20000.09it/s]                 \n",
      "[INFO] perform level-0 opt :100%|██████████████████████████████████████████████████████████████████████████████████████████| 1/1 [00:00<00:00, 3148.88it/s]                  \n",
      "[INFO] perform level-1 opt :100%|██████████████████████████████████████████████████████████████████████████████████████████| 2/2 [00:00<00:00, 13148.29it/s]                 \n",
      "[INFO] generate xmodel     :100%|██████████████████████████████████████████████████████████████████████████████████████████| 7/7 [00:00<00:00, 11739.36it/s]                 \n"
     ]
    },
    {
     "name": "stdout",
     "output_type": "stream",
     "text": [
      "[INFO] dump xmodel ...\r",
      "[INFO] dump xmodel: /tmp/root/tensorflow_model_optimization/tmp_sub_graph_xnnc_20250109-054423-804020_ihfICH.xmodel\n"
     ]
    },
    {
     "name": "stderr",
     "output_type": "stream",
     "text": [
      "I20250109 05:44:27.040019   243 compile_pass_manager.cpp:352] [UNILOG][INFO] Compile mode: dpu\n",
      "I20250109 05:44:27.040033   243 compile_pass_manager.cpp:353] [UNILOG][INFO] Debug mode: null\n",
      "I20250109 05:44:27.040036   243 compile_pass_manager.cpp:357] [UNILOG][INFO] Target architecture: DPUCZDX8G_ISA1_B4096\n",
      "I20250109 05:44:27.040104   243 compile_pass_manager.cpp:465] [UNILOG][INFO] Graph name: model_28, with op num: 7\n",
      "I20250109 05:44:27.040107   243 compile_pass_manager.cpp:478] [UNILOG][INFO] Begin to compile...\n",
      "I20250109 05:44:27.041918   243 compile_pass_manager.cpp:489] [UNILOG][INFO] Total device subgraph number 4, DPU subgraph number 1\n",
      "I20250109 05:44:27.041936   243 compile_pass_manager.cpp:504] [UNILOG][INFO] Compile done.\n"
     ]
    },
    {
     "name": "stdout",
     "output_type": "stream",
     "text": [
      "[INFO] Namespace(batchsize=1, inputs_shape=None, layout='NHWC', model_files=['/tmp/root/tensorflow_model_optimization/tmp_sub_graph_quantized_20250109-054423-804020_ihfICH.h5'], model_type='tensorflow2', named_inputs_shape=None, out_filename='/tmp/root/tensorflow_model_optimization/tmp_sub_graph_xnnc_20250109-054423-804020_ihfICH.xmodel', proto=None)\n",
      "[INFO] tensorflow2 model: /tmp/root/tensorflow_model_optimization/tmp_sub_graph_quantized_20250109-054423-804020_ihfICH.h5\n",
      "[INFO] keras version: 2.12.0\n",
      "[INFO] Tensorflow Keras model type: functional\n"
     ]
    },
    {
     "name": "stderr",
     "output_type": "stream",
     "text": [
      "[INFO] parse raw model     :100%|██████████████████████████████████████████████████████████████████████████████████████████| 6/6 [00:00<00:00, 19079.47it/s]                 \n",
      "[INFO] infer shape (NHWC)  :100%|██████████████████████████████████████████████████████████████████████████████████████████| 7/7 [00:00<00:00, 26097.89it/s]                 \n",
      "[INFO] perform level-0 opt :100%|██████████████████████████████████████████████████████████████████████████████████████████| 1/1 [00:00<00:00, 3344.74it/s]                  \n",
      "[INFO] perform level-1 opt :100%|██████████████████████████████████████████████████████████████████████████████████████████| 2/2 [00:00<00:00, 12865.96it/s]                 \n",
      "[INFO] generate xmodel     :100%|██████████████████████████████████████████████████████████████████████████████████████████| 7/7 [00:00<00:00, 11824.46it/s]                 \n",
      "I20250109 05:44:27.106182   243 compile_pass_manager.cpp:352] [UNILOG][INFO] Compile mode: dpu\n",
      "I20250109 05:44:27.106195   243 compile_pass_manager.cpp:353] [UNILOG][INFO] Debug mode: null\n",
      "I20250109 05:44:27.106199   243 compile_pass_manager.cpp:357] [UNILOG][INFO] Target architecture: DPUCZDX8G_ISA1_B4096\n"
     ]
    },
    {
     "name": "stdout",
     "output_type": "stream",
     "text": [
      "[INFO] dump xmodel ...\r",
      "[INFO] dump xmodel: /tmp/root/tensorflow_model_optimization/tmp_sub_graph_xnnc_20250109-054423-804020_ihfICH.xmodel\n"
     ]
    },
    {
     "name": "stderr",
     "output_type": "stream",
     "text": [
      "I20250109 05:44:27.106264   243 compile_pass_manager.cpp:465] [UNILOG][INFO] Graph name: model_29, with op num: 7\n",
      "I20250109 05:44:27.106267   243 compile_pass_manager.cpp:478] [UNILOG][INFO] Begin to compile...\n",
      "I20250109 05:44:27.107954   243 compile_pass_manager.cpp:489] [UNILOG][INFO] Total device subgraph number 4, DPU subgraph number 1\n",
      "I20250109 05:44:27.107970   243 compile_pass_manager.cpp:504] [UNILOG][INFO] Compile done.\n"
     ]
    },
    {
     "name": "stdout",
     "output_type": "stream",
     "text": [
      "[INFO] Namespace(batchsize=1, inputs_shape=None, layout='NHWC', model_files=['/tmp/root/tensorflow_model_optimization/tmp_sub_graph_quantized_20250109-054423-804085_HNSdgP.h5'], model_type='tensorflow2', named_inputs_shape=None, out_filename='/tmp/root/tensorflow_model_optimization/tmp_sub_graph_xnnc_20250109-054423-804085_HNSdgP.xmodel', proto=None)\n",
      "[INFO] tensorflow2 model: /tmp/root/tensorflow_model_optimization/tmp_sub_graph_quantized_20250109-054423-804085_HNSdgP.h5\n",
      "[INFO] keras version: 2.12.0\n",
      "[INFO] Tensorflow Keras model type: functional\n"
     ]
    },
    {
     "name": "stderr",
     "output_type": "stream",
     "text": [
      "[INFO] parse raw model     :100%|██████████████████████████████████████████████████████████████████████████████████████████| 3/3 [00:00<00:00, 13827.38it/s]                 \n",
      "[INFO] infer shape (NHWC)  :100%|██████████████████████████████████████████████████████████████████████████████████████████| 3/3 [00:00<00:00, 22036.62it/s]                 \n",
      "[INFO] perform level-0 opt :100%|██████████████████████████████████████████████████████████████████████████████████████████| 1/1 [00:00<00:00, 5857.97it/s]                  \n",
      "[INFO] perform level-1 opt :100%|██████████████████████████████████████████████████████████████████████████████████████████| 2/2 [00:00<00:00, 14098.50it/s]                 \n",
      "[INFO] generate xmodel     :100%|██████████████████████████████████████████████████████████████████████████████████████████| 3/3 [00:00<00:00, 5284.72it/s]                  "
     ]
    },
    {
     "name": "stdout",
     "output_type": "stream",
     "text": [
      "[INFO] dump xmodel ...\r",
      "[INFO] dump xmodel: /tmp/root/tensorflow_model_optimization/tmp_sub_graph_xnnc_20250109-054423-804085_HNSdgP.xmodel\n"
     ]
    },
    {
     "name": "stderr",
     "output_type": "stream",
     "text": [
      "\n",
      "I20250109 05:44:27.147306   243 compile_pass_manager.cpp:352] [UNILOG][INFO] Compile mode: dpu\n",
      "I20250109 05:44:27.147320   243 compile_pass_manager.cpp:353] [UNILOG][INFO] Debug mode: null\n",
      "I20250109 05:44:27.147323   243 compile_pass_manager.cpp:357] [UNILOG][INFO] Target architecture: DPUCZDX8G_ISA1_B4096\n",
      "I20250109 05:44:27.147387   243 compile_pass_manager.cpp:465] [UNILOG][INFO] Graph name: model_30, with op num: 3\n",
      "I20250109 05:44:27.147392   243 compile_pass_manager.cpp:478] [UNILOG][INFO] Begin to compile...\n",
      "I20250109 05:44:27.148658   243 compile_pass_manager.cpp:489] [UNILOG][INFO] Total device subgraph number 3, DPU subgraph number 1\n",
      "I20250109 05:44:27.148674   243 compile_pass_manager.cpp:504] [UNILOG][INFO] Compile done.\n"
     ]
    },
    {
     "name": "stdout",
     "output_type": "stream",
     "text": [
      "[VAI INFO] Inspect Results:\n",
      "[MODEL INFO]:\n",
      "________________________________________________________________________________________________________________________\n",
      "Model Name: model_3\n",
      "________________________________________________________________________________________________________________________\n",
      "ID          Name                    Type                    Device      Notes                                           \n",
      "========================================================================================================================\n",
      "0/68        input_1                 InputLayer              INPUT                                                       \n",
      "------------------------------------------------------------------------------------------------------------------------\n",
      "1/68        conv2d_60               Conv2D<linear>          DPU                                                         \n",
      "------------------------------------------------------------------------------------------------------------------------\n",
      "2/68        batch_normalization_60  BatchNormalization      DPU                                                         \n",
      "------------------------------------------------------------------------------------------------------------------------\n",
      "3/68        re_lu_51                ReLU                    DPU                                                         \n",
      "------------------------------------------------------------------------------------------------------------------------\n",
      "4/68        conv2d_61               Conv2D<linear>          DPU                                                         \n",
      "------------------------------------------------------------------------------------------------------------------------\n",
      "5/68        batch_normalization_61  BatchNormalization      DPU                                                         \n",
      "------------------------------------------------------------------------------------------------------------------------\n",
      "6/68        re_lu_52                ReLU                    DPU                                                         \n",
      "------------------------------------------------------------------------------------------------------------------------\n",
      "7/68        conv2d_62               Conv2D<linear>          DPU                                                         \n",
      "------------------------------------------------------------------------------------------------------------------------\n",
      "8/68        batch_normalization_62  BatchNormalization      DPU                                                         \n",
      "------------------------------------------------------------------------------------------------------------------------\n",
      "9/68        add_24                  Add                     DPU                                                         \n",
      "------------------------------------------------------------------------------------------------------------------------\n",
      "10/68       re_lu_53                ReLU                    DPU                                                         \n",
      "------------------------------------------------------------------------------------------------------------------------\n",
      "11/68       conv2d_63               Conv2D<linear>          DPU                                                         \n",
      "------------------------------------------------------------------------------------------------------------------------\n",
      "12/68       batch_normalization_63  BatchNormalization      DPU                                                         \n",
      "------------------------------------------------------------------------------------------------------------------------\n",
      "13/68       re_lu_54                ReLU                    DPU                                                         \n",
      "------------------------------------------------------------------------------------------------------------------------\n",
      "14/68       conv2d_64               Conv2D<linear>          DPU                                                         \n",
      "------------------------------------------------------------------------------------------------------------------------\n",
      "15/68       batch_normalization_64  BatchNormalization      DPU                                                         \n",
      "------------------------------------------------------------------------------------------------------------------------\n",
      "16/68       add_25                  Add                     DPU                                                         \n",
      "------------------------------------------------------------------------------------------------------------------------\n",
      "17/68       re_lu_55                ReLU                    DPU                                                         \n",
      "------------------------------------------------------------------------------------------------------------------------\n",
      "18/68       conv2d_66               Conv2D<linear>          DPU                                                         \n",
      "------------------------------------------------------------------------------------------------------------------------\n",
      "19/68       batch_normalization_66  BatchNormalization      DPU                                                         \n",
      "------------------------------------------------------------------------------------------------------------------------\n",
      "20/68       re_lu_56                ReLU                    DPU                                                         \n",
      "------------------------------------------------------------------------------------------------------------------------\n",
      "21/68       conv2d_67               Conv2D<linear>          DPU                                                         \n",
      "------------------------------------------------------------------------------------------------------------------------\n",
      "22/68       conv2d_65               Conv2D<linear>          DPU                                                         \n",
      "------------------------------------------------------------------------------------------------------------------------\n",
      "23/68       batch_normalization_67  BatchNormalization      DPU                                                         \n",
      "------------------------------------------------------------------------------------------------------------------------\n",
      "24/68       batch_normalization_65  BatchNormalization      DPU                                                         \n",
      "------------------------------------------------------------------------------------------------------------------------\n",
      "25/68       add_26                  Add                     DPU                                                         \n",
      "------------------------------------------------------------------------------------------------------------------------\n",
      "26/68       re_lu_57                ReLU                    DPU                                                         \n",
      "------------------------------------------------------------------------------------------------------------------------\n",
      "27/68       conv2d_68               Conv2D<linear>          DPU                                                         \n",
      "------------------------------------------------------------------------------------------------------------------------\n",
      "28/68       batch_normalization_68  BatchNormalization      DPU                                                         \n",
      "------------------------------------------------------------------------------------------------------------------------\n",
      "29/68       re_lu_58                ReLU                    DPU                                                         \n",
      "------------------------------------------------------------------------------------------------------------------------\n",
      "30/68       conv2d_69               Conv2D<linear>          DPU                                                         \n",
      "------------------------------------------------------------------------------------------------------------------------\n",
      "31/68       batch_normalization_69  BatchNormalization      DPU                                                         \n",
      "------------------------------------------------------------------------------------------------------------------------\n",
      "32/68       add_27                  Add                     DPU                                                         \n",
      "------------------------------------------------------------------------------------------------------------------------\n",
      "33/68       re_lu_59                ReLU                    DPU                                                         \n",
      "------------------------------------------------------------------------------------------------------------------------\n",
      "34/68       conv2d_71               Conv2D<linear>          DPU                                                         \n",
      "------------------------------------------------------------------------------------------------------------------------\n",
      "35/68       batch_normalization_71  BatchNormalization      DPU                                                         \n",
      "------------------------------------------------------------------------------------------------------------------------\n",
      "36/68       re_lu_60                ReLU                    DPU                                                         \n",
      "------------------------------------------------------------------------------------------------------------------------\n",
      "37/68       conv2d_72               Conv2D<linear>          DPU                                                         \n",
      "------------------------------------------------------------------------------------------------------------------------\n",
      "38/68       conv2d_70               Conv2D<linear>          DPU                                                         \n",
      "------------------------------------------------------------------------------------------------------------------------\n",
      "39/68       batch_normalization_72  BatchNormalization      DPU                                                         \n",
      "------------------------------------------------------------------------------------------------------------------------\n",
      "40/68       batch_normalization_70  BatchNormalization      DPU                                                         \n",
      "------------------------------------------------------------------------------------------------------------------------\n",
      "41/68       add_28                  Add                     DPU                                                         \n",
      "------------------------------------------------------------------------------------------------------------------------\n",
      "42/68       re_lu_61                ReLU                    DPU                                                         \n",
      "------------------------------------------------------------------------------------------------------------------------\n",
      "43/68       conv2d_73               Conv2D<linear>          DPU                                                         \n",
      "------------------------------------------------------------------------------------------------------------------------\n",
      "44/68       batch_normalization_73  BatchNormalization      DPU                                                         \n",
      "------------------------------------------------------------------------------------------------------------------------\n",
      "45/68       re_lu_62                ReLU                    DPU                                                         \n",
      "------------------------------------------------------------------------------------------------------------------------\n",
      "46/68       conv2d_74               Conv2D<linear>          DPU                                                         \n",
      "------------------------------------------------------------------------------------------------------------------------\n",
      "47/68       batch_normalization_74  BatchNormalization      DPU                                                         \n",
      "------------------------------------------------------------------------------------------------------------------------\n",
      "48/68       add_29                  Add                     DPU                                                         \n",
      "------------------------------------------------------------------------------------------------------------------------\n",
      "49/68       re_lu_63                ReLU                    DPU                                                         \n",
      "------------------------------------------------------------------------------------------------------------------------\n",
      "50/68       conv2d_76               Conv2D<linear>          DPU                                                         \n",
      "------------------------------------------------------------------------------------------------------------------------\n",
      "51/68       batch_normalization_76  BatchNormalization      DPU                                                         \n",
      "------------------------------------------------------------------------------------------------------------------------\n",
      "52/68       re_lu_64                ReLU                    DPU                                                         \n",
      "------------------------------------------------------------------------------------------------------------------------\n",
      "53/68       conv2d_77               Conv2D<linear>          DPU                                                         \n",
      "------------------------------------------------------------------------------------------------------------------------\n",
      "54/68       conv2d_75               Conv2D<linear>          DPU                                                         \n",
      "------------------------------------------------------------------------------------------------------------------------\n",
      "55/68       batch_normalization_77  BatchNormalization      DPU                                                         \n",
      "------------------------------------------------------------------------------------------------------------------------\n",
      "56/68       batch_normalization_75  BatchNormalization      DPU                                                         \n",
      "------------------------------------------------------------------------------------------------------------------------\n",
      "57/68       add_30                  Add                     DPU                                                         \n",
      "------------------------------------------------------------------------------------------------------------------------\n",
      "58/68       re_lu_65                ReLU                    DPU                                                         \n",
      "------------------------------------------------------------------------------------------------------------------------\n",
      "59/68       conv2d_78               Conv2D<linear>          DPU                                                         \n",
      "------------------------------------------------------------------------------------------------------------------------\n",
      "60/68       batch_normalization_78  BatchNormalization      DPU                                                         \n",
      "------------------------------------------------------------------------------------------------------------------------\n",
      "61/68       re_lu_66                ReLU                    DPU                                                         \n",
      "------------------------------------------------------------------------------------------------------------------------\n",
      "62/68       conv2d_79               Conv2D<linear>          DPU                                                         \n",
      "------------------------------------------------------------------------------------------------------------------------\n",
      "63/68       batch_normalization_79  BatchNormalization      DPU                                                         \n",
      "------------------------------------------------------------------------------------------------------------------------\n",
      "64/68       add_31                  Add                     DPU                                                         \n",
      "------------------------------------------------------------------------------------------------------------------------\n",
      "65/68       re_lu_67                ReLU                    DPU                                                         \n",
      "------------------------------------------------------------------------------------------------------------------------\n",
      "66/68       average_pooling2d_3     AveragePooling2D        DPU                                                         \n",
      "------------------------------------------------------------------------------------------------------------------------\n",
      "67/68       flatten_3               Flatten                 DPU                                                         \n",
      "------------------------------------------------------------------------------------------------------------------------\n",
      "68/68       dense_3                 Dense<softmax>          DPU+CPU     Seperate layer activation `softmax`; `softmax`  \n",
      "                                                                        is not supported by target                      \n",
      "------------------------------------------------------------------------------------------------------------------------\n",
      "========================================================================================================================\n",
      "[SUMMARY INFO]:\n",
      "- [Target Name]: DPUCZDX8G_ISA1_B4096\n",
      "- [Total Layers]: 69\n",
      "- [Layer Types]: InputLayer(1) Conv2D<linear>(20) BatchNormalization(20) ReLU(17) Add(8) AveragePooling2D(1) Flatten(1) Dense<softmax>(1) \n",
      "- [Partition Results]: INPUT(1) DPU(67) DPU+CPU(1) \n",
      "========================================================================================================================\n",
      "[NOTES INFO]:\n",
      "- [68/68] Layer dense_3 (Type:Dense<softmax>, Device:DPU+CPU):\n",
      "    * Seperate layer activation `softmax`\n",
      "    * `softmax` is not supported by target\n",
      "========================================================================================================================\n",
      "[VAI INFO] Start plotting model to inspect/model_plot.svg\n",
      "[VAI INFO] Inspected model has been plotted in: inspect/model_plot.svg.\n",
      "[VAI INFO] Start dumping inspected model to inspect/inspected_model.h5\n"
     ]
    },
    {
     "name": "stdout",
     "output_type": "stream",
     "text": [
      "[VAI INFO] Inspected model has been dumped in: inspect/inspected_model.h5.\n",
      "[VAI INFO] Start dumping inspected results to inspect/inspect_results.txt\n",
      "[VAI INFO] Inspected results has been dumped in: inspect/inspect_results.txt.\n",
      "[VAI INFO] Inspect Finished.\n"
     ]
    },
    {
     "data": {
      "text/plain": [
       "{<keras.engine.input_layer.InputLayer at 0x76b44727cfd0>: <tensorflow_model_optimization.python.core.quantization.keras.vitis.vitis_inspect.InspectResult at 0x76b445f1f550>,\n",
       " <keras.layers.convolutional.conv2d.Conv2D at 0x76b4472607f0>: <tensorflow_model_optimization.python.core.quantization.keras.vitis.vitis_inspect.InspectResult at 0x76b445f1f3d0>,\n",
       " <keras.layers.normalization.batch_normalization.BatchNormalization at 0x76b447260760>: <tensorflow_model_optimization.python.core.quantization.keras.vitis.vitis_inspect.InspectResult at 0x76b445fea4c0>,\n",
       " <keras.layers.activation.relu.ReLU at 0x76b447260310>: <tensorflow_model_optimization.python.core.quantization.keras.vitis.vitis_inspect.InspectResult at 0x76b445fba2b0>,\n",
       " <keras.layers.convolutional.conv2d.Conv2D at 0x76b447242ca0>: <tensorflow_model_optimization.python.core.quantization.keras.vitis.vitis_inspect.InspectResult at 0x76b445f79430>,\n",
       " <keras.layers.normalization.batch_normalization.BatchNormalization at 0x76b447242af0>: <tensorflow_model_optimization.python.core.quantization.keras.vitis.vitis_inspect.InspectResult at 0x76b445f46280>,\n",
       " <keras.layers.activation.relu.ReLU at 0x76b4df75f4f0>: <tensorflow_model_optimization.python.core.quantization.keras.vitis.vitis_inspect.InspectResult at 0x76b445f46220>,\n",
       " <keras.layers.convolutional.conv2d.Conv2D at 0x76b4472423d0>: <tensorflow_model_optimization.python.core.quantization.keras.vitis.vitis_inspect.InspectResult at 0x76b445f76a00>,\n",
       " <keras.layers.normalization.batch_normalization.BatchNormalization at 0x76b4472a4df0>: <tensorflow_model_optimization.python.core.quantization.keras.vitis.vitis_inspect.InspectResult at 0x76b445f769d0>,\n",
       " <keras.layers.merging.add.Add at 0x76b44b3730a0>: <tensorflow_model_optimization.python.core.quantization.keras.vitis.vitis_inspect.InspectResult at 0x76b445f04700>,\n",
       " <keras.layers.activation.relu.ReLU at 0x76b4472ba3d0>: <tensorflow_model_optimization.python.core.quantization.keras.vitis.vitis_inspect.InspectResult at 0x76b445f04e20>,\n",
       " <keras.layers.convolutional.conv2d.Conv2D at 0x76b4472ba610>: <tensorflow_model_optimization.python.core.quantization.keras.vitis.vitis_inspect.InspectResult at 0x76b445f04160>,\n",
       " <keras.layers.normalization.batch_normalization.BatchNormalization at 0x76b4472ba7c0>: <tensorflow_model_optimization.python.core.quantization.keras.vitis.vitis_inspect.InspectResult at 0x76b445f04100>,\n",
       " <keras.layers.activation.relu.ReLU at 0x76b4472bad90>: <tensorflow_model_optimization.python.core.quantization.keras.vitis.vitis_inspect.InspectResult at 0x76b445f04b80>,\n",
       " <keras.layers.convolutional.conv2d.Conv2D at 0x76b4472b7400>: <tensorflow_model_optimization.python.core.quantization.keras.vitis.vitis_inspect.InspectResult at 0x76b445f049d0>,\n",
       " <keras.layers.normalization.batch_normalization.BatchNormalization at 0x76b4472b75b0>: <tensorflow_model_optimization.python.core.quantization.keras.vitis.vitis_inspect.InspectResult at 0x76b4473ab2b0>,\n",
       " <keras.layers.merging.add.Add at 0x76b4472b7b80>: <tensorflow_model_optimization.python.core.quantization.keras.vitis.vitis_inspect.InspectResult at 0x76b4473ab280>,\n",
       " <keras.layers.activation.relu.ReLU at 0x76b4472bb220>: <tensorflow_model_optimization.python.core.quantization.keras.vitis.vitis_inspect.InspectResult at 0x76b4473ab310>,\n",
       " <keras.layers.convolutional.conv2d.Conv2D at 0x76b4472bb460>: <tensorflow_model_optimization.python.core.quantization.keras.vitis.vitis_inspect.InspectResult at 0x76b4473958b0>,\n",
       " <keras.layers.normalization.batch_normalization.BatchNormalization at 0x76b4472bb610>: <tensorflow_model_optimization.python.core.quantization.keras.vitis.vitis_inspect.InspectResult at 0x76b447395a00>,\n",
       " <keras.layers.activation.relu.ReLU at 0x76b4472bbbe0>: <tensorflow_model_optimization.python.core.quantization.keras.vitis.vitis_inspect.InspectResult at 0x76b4473956d0>,\n",
       " <keras.layers.convolutional.conv2d.Conv2D at 0x76b4472b9250>: <tensorflow_model_optimization.python.core.quantization.keras.vitis.vitis_inspect.InspectResult at 0x76b447395fd0>,\n",
       " <keras.layers.convolutional.conv2d.Conv2D at 0x76b4472b9400>: <tensorflow_model_optimization.python.core.quantization.keras.vitis.vitis_inspect.InspectResult at 0x76b4473957f0>,\n",
       " <keras.layers.normalization.batch_normalization.BatchNormalization at 0x76b4472b99d0>: <tensorflow_model_optimization.python.core.quantization.keras.vitis.vitis_inspect.InspectResult at 0x76b447cbbf10>,\n",
       " <keras.layers.normalization.batch_normalization.BatchNormalization at 0x76b4472b9fa0>: <tensorflow_model_optimization.python.core.quantization.keras.vitis.vitis_inspect.InspectResult at 0x76b4469366d0>,\n",
       " <keras.layers.merging.add.Add at 0x76b447250370>: <tensorflow_model_optimization.python.core.quantization.keras.vitis.vitis_inspect.InspectResult at 0x76b4469367c0>,\n",
       " <keras.layers.activation.relu.ReLU at 0x76b4472509d0>: <tensorflow_model_optimization.python.core.quantization.keras.vitis.vitis_inspect.InspectResult at 0x76b44691d1c0>,\n",
       " <keras.layers.convolutional.conv2d.Conv2D at 0x76b447250c10>: <tensorflow_model_optimization.python.core.quantization.keras.vitis.vitis_inspect.InspectResult at 0x76b446992f70>,\n",
       " <keras.layers.normalization.batch_normalization.BatchNormalization at 0x76b447250dc0>: <tensorflow_model_optimization.python.core.quantization.keras.vitis.vitis_inspect.InspectResult at 0x76b447c48f10>,\n",
       " <keras.layers.activation.relu.ReLU at 0x76b4472643d0>: <tensorflow_model_optimization.python.core.quantization.keras.vitis.vitis_inspect.InspectResult at 0x76b447c6efa0>,\n",
       " <keras.layers.convolutional.conv2d.Conv2D at 0x76b447264a00>: <tensorflow_model_optimization.python.core.quantization.keras.vitis.vitis_inspect.InspectResult at 0x76b445f02af0>,\n",
       " <keras.layers.normalization.batch_normalization.BatchNormalization at 0x76b447264bb0>: <tensorflow_model_optimization.python.core.quantization.keras.vitis.vitis_inspect.InspectResult at 0x76b445f02b20>,\n",
       " <keras.layers.merging.add.Add at 0x76b4472591c0>: <tensorflow_model_optimization.python.core.quantization.keras.vitis.vitis_inspect.InspectResult at 0x76b447315100>,\n",
       " <keras.layers.activation.relu.ReLU at 0x76b447259820>: <tensorflow_model_optimization.python.core.quantization.keras.vitis.vitis_inspect.InspectResult at 0x76b447315340>,\n",
       " <keras.layers.convolutional.conv2d.Conv2D at 0x76b447259a60>: <tensorflow_model_optimization.python.core.quantization.keras.vitis.vitis_inspect.InspectResult at 0x76b447315d30>,\n",
       " <keras.layers.normalization.batch_normalization.BatchNormalization at 0x76b447259c10>: <tensorflow_model_optimization.python.core.quantization.keras.vitis.vitis_inspect.InspectResult at 0x76b447315130>,\n",
       " <keras.layers.activation.relu.ReLU at 0x76b447253220>: <tensorflow_model_optimization.python.core.quantization.keras.vitis.vitis_inspect.InspectResult at 0x76b447315790>,\n",
       " <keras.layers.convolutional.conv2d.Conv2D at 0x76b447253880>: <tensorflow_model_optimization.python.core.quantization.keras.vitis.vitis_inspect.InspectResult at 0x76b4469a89d0>,\n",
       " <keras.layers.convolutional.conv2d.Conv2D at 0x76b447253a30>: <tensorflow_model_optimization.python.core.quantization.keras.vitis.vitis_inspect.InspectResult at 0x76b4469a8070>,\n",
       " <keras.layers.normalization.batch_normalization.BatchNormalization at 0x76b447253f40>: <tensorflow_model_optimization.python.core.quantization.keras.vitis.vitis_inspect.InspectResult at 0x76b4469a8340>,\n",
       " <keras.layers.normalization.batch_normalization.BatchNormalization at 0x76b447261610>: <tensorflow_model_optimization.python.core.quantization.keras.vitis.vitis_inspect.InspectResult at 0x76b4469a8a90>,\n",
       " <keras.layers.merging.add.Add at 0x76b447261bb0>: <tensorflow_model_optimization.python.core.quantization.keras.vitis.vitis_inspect.InspectResult at 0x76b445f0ddc0>,\n",
       " <keras.layers.activation.relu.ReLU at 0x76b447240250>: <tensorflow_model_optimization.python.core.quantization.keras.vitis.vitis_inspect.InspectResult at 0x76b445f0d2b0>,\n",
       " <keras.layers.convolutional.conv2d.Conv2D at 0x76b447240490>: <tensorflow_model_optimization.python.core.quantization.keras.vitis.vitis_inspect.InspectResult at 0x76b445f0d820>,\n",
       " <keras.layers.normalization.batch_normalization.BatchNormalization at 0x76b447240640>: <tensorflow_model_optimization.python.core.quantization.keras.vitis.vitis_inspect.InspectResult at 0x76b445f0de20>,\n",
       " <keras.layers.activation.relu.ReLU at 0x76b447240c10>: <tensorflow_model_optimization.python.core.quantization.keras.vitis.vitis_inspect.InspectResult at 0x76b445f0d970>,\n",
       " <keras.layers.convolutional.conv2d.Conv2D at 0x76b44724f280>: <tensorflow_model_optimization.python.core.quantization.keras.vitis.vitis_inspect.InspectResult at 0x76b445f0dac0>,\n",
       " <keras.layers.normalization.batch_normalization.BatchNormalization at 0x76b44724f430>: <tensorflow_model_optimization.python.core.quantization.keras.vitis.vitis_inspect.InspectResult at 0x76b445f0da30>,\n",
       " <keras.layers.merging.add.Add at 0x76b44724fa00>: <tensorflow_model_optimization.python.core.quantization.keras.vitis.vitis_inspect.InspectResult at 0x76b445f0d7c0>,\n",
       " <keras.layers.activation.relu.ReLU at 0x76b4472460a0>: <tensorflow_model_optimization.python.core.quantization.keras.vitis.vitis_inspect.InspectResult at 0x76b445f0d8b0>,\n",
       " <keras.layers.convolutional.conv2d.Conv2D at 0x76b4472462e0>: <tensorflow_model_optimization.python.core.quantization.keras.vitis.vitis_inspect.InspectResult at 0x76b445f0dbe0>,\n",
       " <keras.layers.normalization.batch_normalization.BatchNormalization at 0x76b447246490>: <tensorflow_model_optimization.python.core.quantization.keras.vitis.vitis_inspect.InspectResult at 0x76b445f0d040>,\n",
       " <keras.layers.activation.relu.ReLU at 0x76b447246a60>: <tensorflow_model_optimization.python.core.quantization.keras.vitis.vitis_inspect.InspectResult at 0x76b445f0dfa0>,\n",
       " <keras.layers.convolutional.conv2d.Conv2D at 0x76b447246b80>: <tensorflow_model_optimization.python.core.quantization.keras.vitis.vitis_inspect.InspectResult at 0x76b445f0dfd0>,\n",
       " <keras.layers.convolutional.conv2d.Conv2D at 0x76b4469d8c10>: <tensorflow_model_optimization.python.core.quantization.keras.vitis.vitis_inspect.InspectResult at 0x76b445f0db80>,\n",
       " <keras.layers.normalization.batch_normalization.BatchNormalization at 0x76b4469d8640>: <tensorflow_model_optimization.python.core.quantization.keras.vitis.vitis_inspect.InspectResult at 0x76b445f0d3d0>,\n",
       " <keras.layers.normalization.batch_normalization.BatchNormalization at 0x76b4469d81f0>: <tensorflow_model_optimization.python.core.quantization.keras.vitis.vitis_inspect.InspectResult at 0x76b447300df0>,\n",
       " <keras.layers.merging.add.Add at 0x76b4469f1400>: <tensorflow_model_optimization.python.core.quantization.keras.vitis.vitis_inspect.InspectResult at 0x76b447300a90>,\n",
       " <keras.layers.activation.relu.ReLU at 0x76b4469f1a60>: <tensorflow_model_optimization.python.core.quantization.keras.vitis.vitis_inspect.InspectResult at 0x76b447305640>,\n",
       " <keras.layers.convolutional.conv2d.Conv2D at 0x76b4469f1ca0>: <tensorflow_model_optimization.python.core.quantization.keras.vitis.vitis_inspect.InspectResult at 0x76b445ec46d0>,\n",
       " <keras.layers.normalization.batch_normalization.BatchNormalization at 0x76b4469f1e50>: <tensorflow_model_optimization.python.core.quantization.keras.vitis.vitis_inspect.InspectResult at 0x76b445ec4760>,\n",
       " <keras.layers.activation.relu.ReLU at 0x76b4469f2460>: <tensorflow_model_optimization.python.core.quantization.keras.vitis.vitis_inspect.InspectResult at 0x76b445ec48b0>,\n",
       " <keras.layers.convolutional.conv2d.Conv2D at 0x76b4469f2a90>: <tensorflow_model_optimization.python.core.quantization.keras.vitis.vitis_inspect.InspectResult at 0x76b4473b3eb0>,\n",
       " <keras.layers.normalization.batch_normalization.BatchNormalization at 0x76b4469f2c40>: <tensorflow_model_optimization.python.core.quantization.keras.vitis.vitis_inspect.InspectResult at 0x76b4468a9ca0>,\n",
       " <keras.layers.merging.add.Add at 0x76b4469e8250>: <tensorflow_model_optimization.python.core.quantization.keras.vitis.vitis_inspect.InspectResult at 0x76b4468a9b80>,\n",
       " <keras.layers.activation.relu.ReLU at 0x76b4469e88b0>: <tensorflow_model_optimization.python.core.quantization.keras.vitis.vitis_inspect.InspectResult at 0x76b4468a90a0>,\n",
       " <keras.layers.pooling.average_pooling2d.AveragePooling2D at 0x76b4469e8af0>: <tensorflow_model_optimization.python.core.quantization.keras.vitis.vitis_inspect.InspectResult at 0x76b4468a9910>,\n",
       " <keras.layers.reshaping.flatten.Flatten at 0x76b4469e8ee0>: <tensorflow_model_optimization.python.core.quantization.keras.vitis.vitis_inspect.InspectResult at 0x76b4468a9fa0>,\n",
       " <keras.layers.core.dense.Dense at 0x76b4469e8e50>: <tensorflow_model_optimization.python.core.quantization.keras.vitis.vitis_inspect.InspectResult at 0x76b4468a9610>}"
      ]
     },
     "execution_count": 5,
     "metadata": {},
     "output_type": "execute_result"
    }
   ],
   "source": [
    "target_dpu = 'DPUCZDX8G_ISA1_B4096'\n",
    "inspector = vitis_inspect.VitisInspector(target = target_dpu)\n",
    "\n",
    "if not os.path.exists(\"inspect\"):\n",
    "    os.makedirs(\"inspect\")\n",
    "\n",
    "inspector.inspect_model(model,\n",
    "                        input_shape = input_shape,\n",
    "                        dump_model = True,\n",
    "                        dump_model_file = \"inspect/inspected_model.h5\",\n",
    "                        plot = True,\n",
    "                        plot_file = \"inspect/model_plot.svg\",\n",
    "                        dump_results = True,\n",
    "                        dump_results_file = \"inspect/inspect_results.txt\",\n",
    "                        verbose = 0)"
   ]
  },
  {
   "cell_type": "markdown",
   "metadata": {},
   "source": [
    "# Quantize model"
   ]
  },
  {
   "cell_type": "code",
   "execution_count": 6,
   "metadata": {},
   "outputs": [
    {
     "name": "stdout",
     "output_type": "stream",
     "text": [
      "[VAI INFO] Using func format quantizer\n",
      "[VAI INFO] Start CrossLayerEqualization...\n",
      "10/10 [==============================] - 3s 322ms/step\n",
      "[VAI INFO] CrossLayerEqualization Done.\n",
      "[VAI INFO] Start Quantize Calibration...\n"
     ]
    },
    {
     "name": "stderr",
     "output_type": "stream",
     "text": [
      "2025-01-09 05:44:37.734404: I tensorflow/core/common_runtime/executor.cc:1197] [/device:CPU:0] (DEBUG INFO) Executor start aborting (this does not indicate an error and you can ignore this message): INVALID_ARGUMENT: You must feed a value for placeholder tensor 'Placeholder/_0' with dtype float and shape [100,32,32,3]\n",
      "\t [[{{node Placeholder/_0}}]]\n"
     ]
    },
    {
     "name": "stdout",
     "output_type": "stream",
     "text": [
      "100/100 [==============================] - 16s 101ms/step\n",
      "[VAI INFO] Quantize Calibration Done.\n",
      "[VAI INFO] Start Post-Quant Model Refinement...\n",
      "[VAI INFO] Start Quantize Position Ajustment...\n",
      "[VAI INFO] Quantize Position Ajustment Done.\n",
      "1/1 [==============================] - 1s 998ms/step\n",
      "[VAI INFO] Post-Quant Model Refninement Done.\n",
      "[VAI INFO] Start Model Finalization...\n",
      "[VAI INFO] Model Finalization Done.\n",
      "[VAI INFO] Quantization Finished.\n",
      "WARNING:tensorflow:Compiled the loaded model, but the compiled metrics have yet to be built. `model.compile_metrics` will be empty until you train or evaluate the model.\n",
      "Quantized model saved successfully.\n"
     ]
    }
   ],
   "source": [
    "target_dpu = 'DPUCZDX8G_ISA1_B4096'\n",
    "# target_dpu = \"default_optimized.json\"\n",
    "calib_data = train_images[:100]\n",
    "# Create a tf.data.Dataset and ensure batch dimension\n",
    "dataset = tf.data.Dataset.from_tensor_slices(calib_data) # convert 100,32,32,3 to a 100 item iterable/list\n",
    "\"\"\" for item in dataset:\n",
    "    print(item) \"\"\"\n",
    "# no need for data calibration because train_images was already calibrated earlier\n",
    "dataset = dataset.batch(1) # group 5 images each time to check activation and weight distribution\n",
    "\n",
    "# Inspect calibration data\n",
    "\"\"\" for sample in dataset.take(100):\n",
    "    print(\"Calibration sample shape:\", sample.shape)\n",
    "    print(\"Sample data range:\", sample.numpy().min(), sample.numpy().max()) \"\"\"\n",
    "\n",
    "# Quantization\n",
    "try:\n",
    "    quantizer = vitis_quantize.VitisQuantizer(model, target=target_dpu) #int8 accordiing to docs\n",
    "    q_model = quantizer.quantize_model(calib_dataset=dataset, \n",
    "                                       input_shape=input_shape, \n",
    "                                       calib_steps=None) #use all of the dataset\n",
    "    q_model.save(\"quantized_model.h5\")\n",
    "    print(\"Quantized model saved successfully.\")\n",
    "except Exception as e:\n",
    "    print(\"Error during quantization:\", e)"
   ]
  },
  {
   "cell_type": "markdown",
   "metadata": {},
   "source": [
    "# Recompile & evaluate quantized model"
   ]
  },
  {
   "cell_type": "code",
   "execution_count": 7,
   "metadata": {},
   "outputs": [
    {
     "name": "stdout",
     "output_type": "stream",
     "text": [
      "10000/10000 [==============================] - 178s 18ms/step - loss: 0.5071 - accuracy: 0.9232\n"
     ]
    },
    {
     "data": {
      "text/plain": [
       "[0.5070731043815613, 0.9232000112533569]"
      ]
     },
     "execution_count": 7,
     "metadata": {},
     "output_type": "execute_result"
    }
   ],
   "source": [
    "batch_size = 1\n",
    "#i dont think we need this - Zé \n",
    "\n",
    "#learning_rate = 0.0001\n",
    "#momentum = 0\n",
    "#epsilon = 1e-08\n",
    "\n",
    "\"\"\" q_model.compile(\n",
    "    optimizer = tf.keras.optimizers.RMSprop(\n",
    "        learning_rate = learning_rate,\n",
    "        momentum = momentum,\n",
    "        epsilon = epsilon),\n",
    "    loss = tf.keras.losses.CategoricalCrossentropy(reduction = tf.keras.losses.Reduction.SUM_OVER_BATCH_SIZE),\n",
    "    metrics = ['acc'])\n",
    " \"\"\"\n",
    "\n",
    "# Instead:\n",
    "#compile with a dummy optimizer, since we are not training \n",
    "q_model.compile(optimizer='sgd',\n",
    "                loss=tf.keras.losses.CategoricalCrossentropy(),\n",
    "                metrics=['accuracy'])\n",
    "\n",
    "q_model.evaluate(test_images, test_labels, batch_size=batch_size)"
   ]
  },
  {
   "cell_type": "markdown",
   "metadata": {},
   "source": [
    "# Compile the DPU"
   ]
  },
  {
   "cell_type": "code",
   "execution_count": 8,
   "metadata": {},
   "outputs": [
    {
     "name": "stdout",
     "output_type": "stream",
     "text": [
      "**************************************************\n",
      "* VITIS_AI Compilation - Xilinx Inc.\n",
      "**************************************************\n",
      "[INFO] Namespace(batchsize=1, inputs_shape=None, layout='NHWC', model_files=['./quantized_model.h5'], model_type='tensorflow2', named_inputs_shape=None, out_filename='/tmp/final_model_0x101000007010407_org.xmodel', proto=None)\n",
      "[INFO] tensorflow2 model: /workspace/amd-kria-running-CIFAR-10-vitis_optimization/amd-kria-running-CIFAR-10/quantized_model.h5\n",
      "[INFO] keras version: 2.12.0\n",
      "[INFO] Tensorflow Keras model type: functional\n",
      "[INFO] parse raw model     :100%|█| 51/51 [00:00<00:00, 33607.15it/s]           \n",
      "[INFO] infer shape (NHWC)  :100%|█| 83/83 [00:00<00:00, 15604.79it/s]           \n",
      "[INFO] perform level-0 opt :100%|█| 1/1 [00:00<00:00, 389.30it/s]               \n",
      "[INFO] perform level-1 opt :100%|█| 2/2 [00:00<00:00, 1479.21it/s]              \n",
      "[INFO] infer shape (NHWC)  :100%|█| 85/85 [00:00<00:00, 19633.01it/s]           \n",
      "[INFO] generate xmodel     :100%|█| 85/85 [00:00<00:00, 686.42it/s]             \n",
      "[INFO] dump xmodel: /tmp/final_model_0x101000007010407_org.xmodel\n",
      "[UNILOG][INFO] Compile mode: dpu\n",
      "[UNILOG][INFO] Debug mode: null\n",
      "[UNILOG][INFO] Target architecture: DPUCZDX8G_ISA1_B4096_0101000007010407\n",
      "[UNILOG][INFO] Graph name: model_3, with op num: 167\n",
      "[UNILOG][INFO] Begin to compile...\n",
      "[UNILOG][INFO] Total device subgraph number 3, DPU subgraph number 1\n",
      "[UNILOG][INFO] Compile done.\n",
      "[UNILOG][INFO] The meta json is saved to \"/workspace/amd-kria-running-CIFAR-10-vitis_optimization/amd-kria-running-CIFAR-10/xmodel/meta.json\"\n",
      "[UNILOG][INFO] The compiled xmodel is saved to \"/workspace/amd-kria-running-CIFAR-10-vitis_optimization/amd-kria-running-CIFAR-10/xmodel/final_model.xmodel\"\n",
      "[UNILOG][INFO] The compiled xmodel's md5sum is 80462467ca9646ba833eb520f218ab0f, and has been saved to \"/workspace/amd-kria-running-CIFAR-10-vitis_optimization/amd-kria-running-CIFAR-10/xmodel/md5sum.txt\"\n"
     ]
    }
   ],
   "source": [
    "!vai_c_tensorflow2 -m \"./quantized_model.h5\" -a \"arch.json\" -o \"xmodel\" -n final_model "
   ]
  },
  {
   "cell_type": "code",
   "execution_count": null,
   "metadata": {},
   "outputs": [],
   "source": []
  }
 ],
 "metadata": {
  "kernelspec": {
   "display_name": "Python 3 (ipykernel)",
   "language": "python",
   "name": "python3"
  },
  "language_info": {
   "codemirror_mode": {
    "name": "ipython",
    "version": 3
   },
   "file_extension": ".py",
   "mimetype": "text/x-python",
   "name": "python",
   "nbconvert_exporter": "python",
   "pygments_lexer": "ipython3",
   "version": "3.8.6"
  }
 },
 "nbformat": 4,
 "nbformat_minor": 2
}
